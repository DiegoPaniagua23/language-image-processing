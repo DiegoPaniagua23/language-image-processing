{
  "nbformat": 4,
  "nbformat_minor": 0,
  "metadata": {
    "colab": {
      "provenance": []
    },
    "kernelspec": {
      "name": "python3",
      "display_name": "Python 3"
    },
    "language_info": {
      "name": "python"
    },
    "widgets": {
      "application/vnd.jupyter.widget-state+json": {
        "0fe6e902bfcf4c12829e84f80ca4749f": {
          "model_module": "@jupyter-widgets/controls",
          "model_name": "HBoxModel",
          "model_module_version": "1.5.0",
          "state": {
            "_dom_classes": [],
            "_model_module": "@jupyter-widgets/controls",
            "_model_module_version": "1.5.0",
            "_model_name": "HBoxModel",
            "_view_count": null,
            "_view_module": "@jupyter-widgets/controls",
            "_view_module_version": "1.5.0",
            "_view_name": "HBoxView",
            "box_style": "",
            "children": [
              "IPY_MODEL_ae3341be919f4aa383f4a14ad2cc15db",
              "IPY_MODEL_ba49b51d44b5484f80eef45d4035ce1f",
              "IPY_MODEL_f480f78a76c5472194b3c6547c6363cb"
            ],
            "layout": "IPY_MODEL_2d6e3b03808a4e9985f4e5e8d4e8d1cd"
          }
        },
        "ae3341be919f4aa383f4a14ad2cc15db": {
          "model_module": "@jupyter-widgets/controls",
          "model_name": "HTMLModel",
          "model_module_version": "1.5.0",
          "state": {
            "_dom_classes": [],
            "_model_module": "@jupyter-widgets/controls",
            "_model_module_version": "1.5.0",
            "_model_name": "HTMLModel",
            "_view_count": null,
            "_view_module": "@jupyter-widgets/controls",
            "_view_module_version": "1.5.0",
            "_view_name": "HTMLView",
            "description": "",
            "description_tooltip": null,
            "layout": "IPY_MODEL_dc08742ca6584140b8eba1d339ff9aa3",
            "placeholder": "​",
            "style": "IPY_MODEL_ce9dbdc8ec734746a96d41547ad5eb60",
            "value": "tokenizer_config.json: 100%"
          }
        },
        "ba49b51d44b5484f80eef45d4035ce1f": {
          "model_module": "@jupyter-widgets/controls",
          "model_name": "FloatProgressModel",
          "model_module_version": "1.5.0",
          "state": {
            "_dom_classes": [],
            "_model_module": "@jupyter-widgets/controls",
            "_model_module_version": "1.5.0",
            "_model_name": "FloatProgressModel",
            "_view_count": null,
            "_view_module": "@jupyter-widgets/controls",
            "_view_module_version": "1.5.0",
            "_view_name": "ProgressView",
            "bar_style": "success",
            "description": "",
            "description_tooltip": null,
            "layout": "IPY_MODEL_a6213e3f04f74ccb81e2f7863abe2495",
            "max": 49,
            "min": 0,
            "orientation": "horizontal",
            "style": "IPY_MODEL_d9fe87340998499b8be78152990f468e",
            "value": 49
          }
        },
        "f480f78a76c5472194b3c6547c6363cb": {
          "model_module": "@jupyter-widgets/controls",
          "model_name": "HTMLModel",
          "model_module_version": "1.5.0",
          "state": {
            "_dom_classes": [],
            "_model_module": "@jupyter-widgets/controls",
            "_model_module_version": "1.5.0",
            "_model_name": "HTMLModel",
            "_view_count": null,
            "_view_module": "@jupyter-widgets/controls",
            "_view_module_version": "1.5.0",
            "_view_name": "HTMLView",
            "description": "",
            "description_tooltip": null,
            "layout": "IPY_MODEL_1c028670b91d45ad888b974e652701d4",
            "placeholder": "​",
            "style": "IPY_MODEL_8af3b8579bcc41538cb0456f9a6a78c4",
            "value": " 49.0/49.0 [00:00&lt;00:00, 3.43kB/s]"
          }
        },
        "2d6e3b03808a4e9985f4e5e8d4e8d1cd": {
          "model_module": "@jupyter-widgets/base",
          "model_name": "LayoutModel",
          "model_module_version": "1.2.0",
          "state": {
            "_model_module": "@jupyter-widgets/base",
            "_model_module_version": "1.2.0",
            "_model_name": "LayoutModel",
            "_view_count": null,
            "_view_module": "@jupyter-widgets/base",
            "_view_module_version": "1.2.0",
            "_view_name": "LayoutView",
            "align_content": null,
            "align_items": null,
            "align_self": null,
            "border": null,
            "bottom": null,
            "display": null,
            "flex": null,
            "flex_flow": null,
            "grid_area": null,
            "grid_auto_columns": null,
            "grid_auto_flow": null,
            "grid_auto_rows": null,
            "grid_column": null,
            "grid_gap": null,
            "grid_row": null,
            "grid_template_areas": null,
            "grid_template_columns": null,
            "grid_template_rows": null,
            "height": null,
            "justify_content": null,
            "justify_items": null,
            "left": null,
            "margin": null,
            "max_height": null,
            "max_width": null,
            "min_height": null,
            "min_width": null,
            "object_fit": null,
            "object_position": null,
            "order": null,
            "overflow": null,
            "overflow_x": null,
            "overflow_y": null,
            "padding": null,
            "right": null,
            "top": null,
            "visibility": null,
            "width": null
          }
        },
        "dc08742ca6584140b8eba1d339ff9aa3": {
          "model_module": "@jupyter-widgets/base",
          "model_name": "LayoutModel",
          "model_module_version": "1.2.0",
          "state": {
            "_model_module": "@jupyter-widgets/base",
            "_model_module_version": "1.2.0",
            "_model_name": "LayoutModel",
            "_view_count": null,
            "_view_module": "@jupyter-widgets/base",
            "_view_module_version": "1.2.0",
            "_view_name": "LayoutView",
            "align_content": null,
            "align_items": null,
            "align_self": null,
            "border": null,
            "bottom": null,
            "display": null,
            "flex": null,
            "flex_flow": null,
            "grid_area": null,
            "grid_auto_columns": null,
            "grid_auto_flow": null,
            "grid_auto_rows": null,
            "grid_column": null,
            "grid_gap": null,
            "grid_row": null,
            "grid_template_areas": null,
            "grid_template_columns": null,
            "grid_template_rows": null,
            "height": null,
            "justify_content": null,
            "justify_items": null,
            "left": null,
            "margin": null,
            "max_height": null,
            "max_width": null,
            "min_height": null,
            "min_width": null,
            "object_fit": null,
            "object_position": null,
            "order": null,
            "overflow": null,
            "overflow_x": null,
            "overflow_y": null,
            "padding": null,
            "right": null,
            "top": null,
            "visibility": null,
            "width": null
          }
        },
        "ce9dbdc8ec734746a96d41547ad5eb60": {
          "model_module": "@jupyter-widgets/controls",
          "model_name": "DescriptionStyleModel",
          "model_module_version": "1.5.0",
          "state": {
            "_model_module": "@jupyter-widgets/controls",
            "_model_module_version": "1.5.0",
            "_model_name": "DescriptionStyleModel",
            "_view_count": null,
            "_view_module": "@jupyter-widgets/base",
            "_view_module_version": "1.2.0",
            "_view_name": "StyleView",
            "description_width": ""
          }
        },
        "a6213e3f04f74ccb81e2f7863abe2495": {
          "model_module": "@jupyter-widgets/base",
          "model_name": "LayoutModel",
          "model_module_version": "1.2.0",
          "state": {
            "_model_module": "@jupyter-widgets/base",
            "_model_module_version": "1.2.0",
            "_model_name": "LayoutModel",
            "_view_count": null,
            "_view_module": "@jupyter-widgets/base",
            "_view_module_version": "1.2.0",
            "_view_name": "LayoutView",
            "align_content": null,
            "align_items": null,
            "align_self": null,
            "border": null,
            "bottom": null,
            "display": null,
            "flex": null,
            "flex_flow": null,
            "grid_area": null,
            "grid_auto_columns": null,
            "grid_auto_flow": null,
            "grid_auto_rows": null,
            "grid_column": null,
            "grid_gap": null,
            "grid_row": null,
            "grid_template_areas": null,
            "grid_template_columns": null,
            "grid_template_rows": null,
            "height": null,
            "justify_content": null,
            "justify_items": null,
            "left": null,
            "margin": null,
            "max_height": null,
            "max_width": null,
            "min_height": null,
            "min_width": null,
            "object_fit": null,
            "object_position": null,
            "order": null,
            "overflow": null,
            "overflow_x": null,
            "overflow_y": null,
            "padding": null,
            "right": null,
            "top": null,
            "visibility": null,
            "width": null
          }
        },
        "d9fe87340998499b8be78152990f468e": {
          "model_module": "@jupyter-widgets/controls",
          "model_name": "ProgressStyleModel",
          "model_module_version": "1.5.0",
          "state": {
            "_model_module": "@jupyter-widgets/controls",
            "_model_module_version": "1.5.0",
            "_model_name": "ProgressStyleModel",
            "_view_count": null,
            "_view_module": "@jupyter-widgets/base",
            "_view_module_version": "1.2.0",
            "_view_name": "StyleView",
            "bar_color": null,
            "description_width": ""
          }
        },
        "1c028670b91d45ad888b974e652701d4": {
          "model_module": "@jupyter-widgets/base",
          "model_name": "LayoutModel",
          "model_module_version": "1.2.0",
          "state": {
            "_model_module": "@jupyter-widgets/base",
            "_model_module_version": "1.2.0",
            "_model_name": "LayoutModel",
            "_view_count": null,
            "_view_module": "@jupyter-widgets/base",
            "_view_module_version": "1.2.0",
            "_view_name": "LayoutView",
            "align_content": null,
            "align_items": null,
            "align_self": null,
            "border": null,
            "bottom": null,
            "display": null,
            "flex": null,
            "flex_flow": null,
            "grid_area": null,
            "grid_auto_columns": null,
            "grid_auto_flow": null,
            "grid_auto_rows": null,
            "grid_column": null,
            "grid_gap": null,
            "grid_row": null,
            "grid_template_areas": null,
            "grid_template_columns": null,
            "grid_template_rows": null,
            "height": null,
            "justify_content": null,
            "justify_items": null,
            "left": null,
            "margin": null,
            "max_height": null,
            "max_width": null,
            "min_height": null,
            "min_width": null,
            "object_fit": null,
            "object_position": null,
            "order": null,
            "overflow": null,
            "overflow_x": null,
            "overflow_y": null,
            "padding": null,
            "right": null,
            "top": null,
            "visibility": null,
            "width": null
          }
        },
        "8af3b8579bcc41538cb0456f9a6a78c4": {
          "model_module": "@jupyter-widgets/controls",
          "model_name": "DescriptionStyleModel",
          "model_module_version": "1.5.0",
          "state": {
            "_model_module": "@jupyter-widgets/controls",
            "_model_module_version": "1.5.0",
            "_model_name": "DescriptionStyleModel",
            "_view_count": null,
            "_view_module": "@jupyter-widgets/base",
            "_view_module_version": "1.2.0",
            "_view_name": "StyleView",
            "description_width": ""
          }
        },
        "fea68c6214934a458aaf4a3c6d97f5f4": {
          "model_module": "@jupyter-widgets/controls",
          "model_name": "HBoxModel",
          "model_module_version": "1.5.0",
          "state": {
            "_dom_classes": [],
            "_model_module": "@jupyter-widgets/controls",
            "_model_module_version": "1.5.0",
            "_model_name": "HBoxModel",
            "_view_count": null,
            "_view_module": "@jupyter-widgets/controls",
            "_view_module_version": "1.5.0",
            "_view_name": "HBoxView",
            "box_style": "",
            "children": [
              "IPY_MODEL_2d36779671544ceaa0836b0db84526ed",
              "IPY_MODEL_ee2268773f4a45d89f9a57353344409a",
              "IPY_MODEL_f5f6e007b1af416cb0dba19fa45a8725"
            ],
            "layout": "IPY_MODEL_ad607140766848f9b6a655e9e2eef6f2"
          }
        },
        "2d36779671544ceaa0836b0db84526ed": {
          "model_module": "@jupyter-widgets/controls",
          "model_name": "HTMLModel",
          "model_module_version": "1.5.0",
          "state": {
            "_dom_classes": [],
            "_model_module": "@jupyter-widgets/controls",
            "_model_module_version": "1.5.0",
            "_model_name": "HTMLModel",
            "_view_count": null,
            "_view_module": "@jupyter-widgets/controls",
            "_view_module_version": "1.5.0",
            "_view_name": "HTMLView",
            "description": "",
            "description_tooltip": null,
            "layout": "IPY_MODEL_946d2b8a39aa4451b3350f63d6d40186",
            "placeholder": "​",
            "style": "IPY_MODEL_943756afe80642388e20dafa2f279bf3",
            "value": "vocab.txt: 100%"
          }
        },
        "ee2268773f4a45d89f9a57353344409a": {
          "model_module": "@jupyter-widgets/controls",
          "model_name": "FloatProgressModel",
          "model_module_version": "1.5.0",
          "state": {
            "_dom_classes": [],
            "_model_module": "@jupyter-widgets/controls",
            "_model_module_version": "1.5.0",
            "_model_name": "FloatProgressModel",
            "_view_count": null,
            "_view_module": "@jupyter-widgets/controls",
            "_view_module_version": "1.5.0",
            "_view_name": "ProgressView",
            "bar_style": "success",
            "description": "",
            "description_tooltip": null,
            "layout": "IPY_MODEL_a60d0fe124924e53ac1e7e1c905de95d",
            "max": 995526,
            "min": 0,
            "orientation": "horizontal",
            "style": "IPY_MODEL_85ccb683248043f9a7956f01410679af",
            "value": 995526
          }
        },
        "f5f6e007b1af416cb0dba19fa45a8725": {
          "model_module": "@jupyter-widgets/controls",
          "model_name": "HTMLModel",
          "model_module_version": "1.5.0",
          "state": {
            "_dom_classes": [],
            "_model_module": "@jupyter-widgets/controls",
            "_model_module_version": "1.5.0",
            "_model_name": "HTMLModel",
            "_view_count": null,
            "_view_module": "@jupyter-widgets/controls",
            "_view_module_version": "1.5.0",
            "_view_name": "HTMLView",
            "description": "",
            "description_tooltip": null,
            "layout": "IPY_MODEL_fed69a9ff4fa424c80868b78e5aea181",
            "placeholder": "​",
            "style": "IPY_MODEL_9f7f35901df84e8f8a6e7c40d23faa9c",
            "value": " 996k/996k [00:00&lt;00:00, 5.75MB/s]"
          }
        },
        "ad607140766848f9b6a655e9e2eef6f2": {
          "model_module": "@jupyter-widgets/base",
          "model_name": "LayoutModel",
          "model_module_version": "1.2.0",
          "state": {
            "_model_module": "@jupyter-widgets/base",
            "_model_module_version": "1.2.0",
            "_model_name": "LayoutModel",
            "_view_count": null,
            "_view_module": "@jupyter-widgets/base",
            "_view_module_version": "1.2.0",
            "_view_name": "LayoutView",
            "align_content": null,
            "align_items": null,
            "align_self": null,
            "border": null,
            "bottom": null,
            "display": null,
            "flex": null,
            "flex_flow": null,
            "grid_area": null,
            "grid_auto_columns": null,
            "grid_auto_flow": null,
            "grid_auto_rows": null,
            "grid_column": null,
            "grid_gap": null,
            "grid_row": null,
            "grid_template_areas": null,
            "grid_template_columns": null,
            "grid_template_rows": null,
            "height": null,
            "justify_content": null,
            "justify_items": null,
            "left": null,
            "margin": null,
            "max_height": null,
            "max_width": null,
            "min_height": null,
            "min_width": null,
            "object_fit": null,
            "object_position": null,
            "order": null,
            "overflow": null,
            "overflow_x": null,
            "overflow_y": null,
            "padding": null,
            "right": null,
            "top": null,
            "visibility": null,
            "width": null
          }
        },
        "946d2b8a39aa4451b3350f63d6d40186": {
          "model_module": "@jupyter-widgets/base",
          "model_name": "LayoutModel",
          "model_module_version": "1.2.0",
          "state": {
            "_model_module": "@jupyter-widgets/base",
            "_model_module_version": "1.2.0",
            "_model_name": "LayoutModel",
            "_view_count": null,
            "_view_module": "@jupyter-widgets/base",
            "_view_module_version": "1.2.0",
            "_view_name": "LayoutView",
            "align_content": null,
            "align_items": null,
            "align_self": null,
            "border": null,
            "bottom": null,
            "display": null,
            "flex": null,
            "flex_flow": null,
            "grid_area": null,
            "grid_auto_columns": null,
            "grid_auto_flow": null,
            "grid_auto_rows": null,
            "grid_column": null,
            "grid_gap": null,
            "grid_row": null,
            "grid_template_areas": null,
            "grid_template_columns": null,
            "grid_template_rows": null,
            "height": null,
            "justify_content": null,
            "justify_items": null,
            "left": null,
            "margin": null,
            "max_height": null,
            "max_width": null,
            "min_height": null,
            "min_width": null,
            "object_fit": null,
            "object_position": null,
            "order": null,
            "overflow": null,
            "overflow_x": null,
            "overflow_y": null,
            "padding": null,
            "right": null,
            "top": null,
            "visibility": null,
            "width": null
          }
        },
        "943756afe80642388e20dafa2f279bf3": {
          "model_module": "@jupyter-widgets/controls",
          "model_name": "DescriptionStyleModel",
          "model_module_version": "1.5.0",
          "state": {
            "_model_module": "@jupyter-widgets/controls",
            "_model_module_version": "1.5.0",
            "_model_name": "DescriptionStyleModel",
            "_view_count": null,
            "_view_module": "@jupyter-widgets/base",
            "_view_module_version": "1.2.0",
            "_view_name": "StyleView",
            "description_width": ""
          }
        },
        "a60d0fe124924e53ac1e7e1c905de95d": {
          "model_module": "@jupyter-widgets/base",
          "model_name": "LayoutModel",
          "model_module_version": "1.2.0",
          "state": {
            "_model_module": "@jupyter-widgets/base",
            "_model_module_version": "1.2.0",
            "_model_name": "LayoutModel",
            "_view_count": null,
            "_view_module": "@jupyter-widgets/base",
            "_view_module_version": "1.2.0",
            "_view_name": "LayoutView",
            "align_content": null,
            "align_items": null,
            "align_self": null,
            "border": null,
            "bottom": null,
            "display": null,
            "flex": null,
            "flex_flow": null,
            "grid_area": null,
            "grid_auto_columns": null,
            "grid_auto_flow": null,
            "grid_auto_rows": null,
            "grid_column": null,
            "grid_gap": null,
            "grid_row": null,
            "grid_template_areas": null,
            "grid_template_columns": null,
            "grid_template_rows": null,
            "height": null,
            "justify_content": null,
            "justify_items": null,
            "left": null,
            "margin": null,
            "max_height": null,
            "max_width": null,
            "min_height": null,
            "min_width": null,
            "object_fit": null,
            "object_position": null,
            "order": null,
            "overflow": null,
            "overflow_x": null,
            "overflow_y": null,
            "padding": null,
            "right": null,
            "top": null,
            "visibility": null,
            "width": null
          }
        },
        "85ccb683248043f9a7956f01410679af": {
          "model_module": "@jupyter-widgets/controls",
          "model_name": "ProgressStyleModel",
          "model_module_version": "1.5.0",
          "state": {
            "_model_module": "@jupyter-widgets/controls",
            "_model_module_version": "1.5.0",
            "_model_name": "ProgressStyleModel",
            "_view_count": null,
            "_view_module": "@jupyter-widgets/base",
            "_view_module_version": "1.2.0",
            "_view_name": "StyleView",
            "bar_color": null,
            "description_width": ""
          }
        },
        "fed69a9ff4fa424c80868b78e5aea181": {
          "model_module": "@jupyter-widgets/base",
          "model_name": "LayoutModel",
          "model_module_version": "1.2.0",
          "state": {
            "_model_module": "@jupyter-widgets/base",
            "_model_module_version": "1.2.0",
            "_model_name": "LayoutModel",
            "_view_count": null,
            "_view_module": "@jupyter-widgets/base",
            "_view_module_version": "1.2.0",
            "_view_name": "LayoutView",
            "align_content": null,
            "align_items": null,
            "align_self": null,
            "border": null,
            "bottom": null,
            "display": null,
            "flex": null,
            "flex_flow": null,
            "grid_area": null,
            "grid_auto_columns": null,
            "grid_auto_flow": null,
            "grid_auto_rows": null,
            "grid_column": null,
            "grid_gap": null,
            "grid_row": null,
            "grid_template_areas": null,
            "grid_template_columns": null,
            "grid_template_rows": null,
            "height": null,
            "justify_content": null,
            "justify_items": null,
            "left": null,
            "margin": null,
            "max_height": null,
            "max_width": null,
            "min_height": null,
            "min_width": null,
            "object_fit": null,
            "object_position": null,
            "order": null,
            "overflow": null,
            "overflow_x": null,
            "overflow_y": null,
            "padding": null,
            "right": null,
            "top": null,
            "visibility": null,
            "width": null
          }
        },
        "9f7f35901df84e8f8a6e7c40d23faa9c": {
          "model_module": "@jupyter-widgets/controls",
          "model_name": "DescriptionStyleModel",
          "model_module_version": "1.5.0",
          "state": {
            "_model_module": "@jupyter-widgets/controls",
            "_model_module_version": "1.5.0",
            "_model_name": "DescriptionStyleModel",
            "_view_count": null,
            "_view_module": "@jupyter-widgets/base",
            "_view_module_version": "1.2.0",
            "_view_name": "StyleView",
            "description_width": ""
          }
        },
        "f0479f0c2207492abba129e28e2837e7": {
          "model_module": "@jupyter-widgets/controls",
          "model_name": "HBoxModel",
          "model_module_version": "1.5.0",
          "state": {
            "_dom_classes": [],
            "_model_module": "@jupyter-widgets/controls",
            "_model_module_version": "1.5.0",
            "_model_name": "HBoxModel",
            "_view_count": null,
            "_view_module": "@jupyter-widgets/controls",
            "_view_module_version": "1.5.0",
            "_view_name": "HBoxView",
            "box_style": "",
            "children": [
              "IPY_MODEL_5ea9d4623d494c0c89fdd23adaec883a",
              "IPY_MODEL_a0444a368fb64c61bbd8c0e4308485ff",
              "IPY_MODEL_ba1edd28154c494b8e1066acbab86ef3"
            ],
            "layout": "IPY_MODEL_bf5f0d334de548ed9a2a6406eeede5dc"
          }
        },
        "5ea9d4623d494c0c89fdd23adaec883a": {
          "model_module": "@jupyter-widgets/controls",
          "model_name": "HTMLModel",
          "model_module_version": "1.5.0",
          "state": {
            "_dom_classes": [],
            "_model_module": "@jupyter-widgets/controls",
            "_model_module_version": "1.5.0",
            "_model_name": "HTMLModel",
            "_view_count": null,
            "_view_module": "@jupyter-widgets/controls",
            "_view_module_version": "1.5.0",
            "_view_name": "HTMLView",
            "description": "",
            "description_tooltip": null,
            "layout": "IPY_MODEL_fad1494c4ed84146b2e0bd68e0c6ee9a",
            "placeholder": "​",
            "style": "IPY_MODEL_ae845b608f8a4b1fbdb8d7d0ba65f14f",
            "value": "tokenizer.json: 100%"
          }
        },
        "a0444a368fb64c61bbd8c0e4308485ff": {
          "model_module": "@jupyter-widgets/controls",
          "model_name": "FloatProgressModel",
          "model_module_version": "1.5.0",
          "state": {
            "_dom_classes": [],
            "_model_module": "@jupyter-widgets/controls",
            "_model_module_version": "1.5.0",
            "_model_name": "FloatProgressModel",
            "_view_count": null,
            "_view_module": "@jupyter-widgets/controls",
            "_view_module_version": "1.5.0",
            "_view_name": "ProgressView",
            "bar_style": "success",
            "description": "",
            "description_tooltip": null,
            "layout": "IPY_MODEL_705c1459e8b943df904d6db6fc23bcc3",
            "max": 1961828,
            "min": 0,
            "orientation": "horizontal",
            "style": "IPY_MODEL_f429617ce174440386ee77d818d1f65f",
            "value": 1961828
          }
        },
        "ba1edd28154c494b8e1066acbab86ef3": {
          "model_module": "@jupyter-widgets/controls",
          "model_name": "HTMLModel",
          "model_module_version": "1.5.0",
          "state": {
            "_dom_classes": [],
            "_model_module": "@jupyter-widgets/controls",
            "_model_module_version": "1.5.0",
            "_model_name": "HTMLModel",
            "_view_count": null,
            "_view_module": "@jupyter-widgets/controls",
            "_view_module_version": "1.5.0",
            "_view_name": "HTMLView",
            "description": "",
            "description_tooltip": null,
            "layout": "IPY_MODEL_d223d1755b474118a77bbeac0de055ec",
            "placeholder": "​",
            "style": "IPY_MODEL_7a66ee10754e4eec8d74420884ce96ad",
            "value": " 1.96M/1.96M [00:00&lt;00:00, 2.85MB/s]"
          }
        },
        "bf5f0d334de548ed9a2a6406eeede5dc": {
          "model_module": "@jupyter-widgets/base",
          "model_name": "LayoutModel",
          "model_module_version": "1.2.0",
          "state": {
            "_model_module": "@jupyter-widgets/base",
            "_model_module_version": "1.2.0",
            "_model_name": "LayoutModel",
            "_view_count": null,
            "_view_module": "@jupyter-widgets/base",
            "_view_module_version": "1.2.0",
            "_view_name": "LayoutView",
            "align_content": null,
            "align_items": null,
            "align_self": null,
            "border": null,
            "bottom": null,
            "display": null,
            "flex": null,
            "flex_flow": null,
            "grid_area": null,
            "grid_auto_columns": null,
            "grid_auto_flow": null,
            "grid_auto_rows": null,
            "grid_column": null,
            "grid_gap": null,
            "grid_row": null,
            "grid_template_areas": null,
            "grid_template_columns": null,
            "grid_template_rows": null,
            "height": null,
            "justify_content": null,
            "justify_items": null,
            "left": null,
            "margin": null,
            "max_height": null,
            "max_width": null,
            "min_height": null,
            "min_width": null,
            "object_fit": null,
            "object_position": null,
            "order": null,
            "overflow": null,
            "overflow_x": null,
            "overflow_y": null,
            "padding": null,
            "right": null,
            "top": null,
            "visibility": null,
            "width": null
          }
        },
        "fad1494c4ed84146b2e0bd68e0c6ee9a": {
          "model_module": "@jupyter-widgets/base",
          "model_name": "LayoutModel",
          "model_module_version": "1.2.0",
          "state": {
            "_model_module": "@jupyter-widgets/base",
            "_model_module_version": "1.2.0",
            "_model_name": "LayoutModel",
            "_view_count": null,
            "_view_module": "@jupyter-widgets/base",
            "_view_module_version": "1.2.0",
            "_view_name": "LayoutView",
            "align_content": null,
            "align_items": null,
            "align_self": null,
            "border": null,
            "bottom": null,
            "display": null,
            "flex": null,
            "flex_flow": null,
            "grid_area": null,
            "grid_auto_columns": null,
            "grid_auto_flow": null,
            "grid_auto_rows": null,
            "grid_column": null,
            "grid_gap": null,
            "grid_row": null,
            "grid_template_areas": null,
            "grid_template_columns": null,
            "grid_template_rows": null,
            "height": null,
            "justify_content": null,
            "justify_items": null,
            "left": null,
            "margin": null,
            "max_height": null,
            "max_width": null,
            "min_height": null,
            "min_width": null,
            "object_fit": null,
            "object_position": null,
            "order": null,
            "overflow": null,
            "overflow_x": null,
            "overflow_y": null,
            "padding": null,
            "right": null,
            "top": null,
            "visibility": null,
            "width": null
          }
        },
        "ae845b608f8a4b1fbdb8d7d0ba65f14f": {
          "model_module": "@jupyter-widgets/controls",
          "model_name": "DescriptionStyleModel",
          "model_module_version": "1.5.0",
          "state": {
            "_model_module": "@jupyter-widgets/controls",
            "_model_module_version": "1.5.0",
            "_model_name": "DescriptionStyleModel",
            "_view_count": null,
            "_view_module": "@jupyter-widgets/base",
            "_view_module_version": "1.2.0",
            "_view_name": "StyleView",
            "description_width": ""
          }
        },
        "705c1459e8b943df904d6db6fc23bcc3": {
          "model_module": "@jupyter-widgets/base",
          "model_name": "LayoutModel",
          "model_module_version": "1.2.0",
          "state": {
            "_model_module": "@jupyter-widgets/base",
            "_model_module_version": "1.2.0",
            "_model_name": "LayoutModel",
            "_view_count": null,
            "_view_module": "@jupyter-widgets/base",
            "_view_module_version": "1.2.0",
            "_view_name": "LayoutView",
            "align_content": null,
            "align_items": null,
            "align_self": null,
            "border": null,
            "bottom": null,
            "display": null,
            "flex": null,
            "flex_flow": null,
            "grid_area": null,
            "grid_auto_columns": null,
            "grid_auto_flow": null,
            "grid_auto_rows": null,
            "grid_column": null,
            "grid_gap": null,
            "grid_row": null,
            "grid_template_areas": null,
            "grid_template_columns": null,
            "grid_template_rows": null,
            "height": null,
            "justify_content": null,
            "justify_items": null,
            "left": null,
            "margin": null,
            "max_height": null,
            "max_width": null,
            "min_height": null,
            "min_width": null,
            "object_fit": null,
            "object_position": null,
            "order": null,
            "overflow": null,
            "overflow_x": null,
            "overflow_y": null,
            "padding": null,
            "right": null,
            "top": null,
            "visibility": null,
            "width": null
          }
        },
        "f429617ce174440386ee77d818d1f65f": {
          "model_module": "@jupyter-widgets/controls",
          "model_name": "ProgressStyleModel",
          "model_module_version": "1.5.0",
          "state": {
            "_model_module": "@jupyter-widgets/controls",
            "_model_module_version": "1.5.0",
            "_model_name": "ProgressStyleModel",
            "_view_count": null,
            "_view_module": "@jupyter-widgets/base",
            "_view_module_version": "1.2.0",
            "_view_name": "StyleView",
            "bar_color": null,
            "description_width": ""
          }
        },
        "d223d1755b474118a77bbeac0de055ec": {
          "model_module": "@jupyter-widgets/base",
          "model_name": "LayoutModel",
          "model_module_version": "1.2.0",
          "state": {
            "_model_module": "@jupyter-widgets/base",
            "_model_module_version": "1.2.0",
            "_model_name": "LayoutModel",
            "_view_count": null,
            "_view_module": "@jupyter-widgets/base",
            "_view_module_version": "1.2.0",
            "_view_name": "LayoutView",
            "align_content": null,
            "align_items": null,
            "align_self": null,
            "border": null,
            "bottom": null,
            "display": null,
            "flex": null,
            "flex_flow": null,
            "grid_area": null,
            "grid_auto_columns": null,
            "grid_auto_flow": null,
            "grid_auto_rows": null,
            "grid_column": null,
            "grid_gap": null,
            "grid_row": null,
            "grid_template_areas": null,
            "grid_template_columns": null,
            "grid_template_rows": null,
            "height": null,
            "justify_content": null,
            "justify_items": null,
            "left": null,
            "margin": null,
            "max_height": null,
            "max_width": null,
            "min_height": null,
            "min_width": null,
            "object_fit": null,
            "object_position": null,
            "order": null,
            "overflow": null,
            "overflow_x": null,
            "overflow_y": null,
            "padding": null,
            "right": null,
            "top": null,
            "visibility": null,
            "width": null
          }
        },
        "7a66ee10754e4eec8d74420884ce96ad": {
          "model_module": "@jupyter-widgets/controls",
          "model_name": "DescriptionStyleModel",
          "model_module_version": "1.5.0",
          "state": {
            "_model_module": "@jupyter-widgets/controls",
            "_model_module_version": "1.5.0",
            "_model_name": "DescriptionStyleModel",
            "_view_count": null,
            "_view_module": "@jupyter-widgets/base",
            "_view_module_version": "1.2.0",
            "_view_name": "StyleView",
            "description_width": ""
          }
        },
        "ed014967647e4c37b86d8f6a26edb3b0": {
          "model_module": "@jupyter-widgets/controls",
          "model_name": "HBoxModel",
          "model_module_version": "1.5.0",
          "state": {
            "_dom_classes": [],
            "_model_module": "@jupyter-widgets/controls",
            "_model_module_version": "1.5.0",
            "_model_name": "HBoxModel",
            "_view_count": null,
            "_view_module": "@jupyter-widgets/controls",
            "_view_module_version": "1.5.0",
            "_view_name": "HBoxView",
            "box_style": "",
            "children": [
              "IPY_MODEL_09d642c9b15e4fabbd163622941fdba3",
              "IPY_MODEL_148143d6139e443888d3b34e820bede4",
              "IPY_MODEL_30124141e982473ab0a94c86f5a0a0e0"
            ],
            "layout": "IPY_MODEL_7961459d39e6423b82cc67abb212a5cf"
          }
        },
        "09d642c9b15e4fabbd163622941fdba3": {
          "model_module": "@jupyter-widgets/controls",
          "model_name": "HTMLModel",
          "model_module_version": "1.5.0",
          "state": {
            "_dom_classes": [],
            "_model_module": "@jupyter-widgets/controls",
            "_model_module_version": "1.5.0",
            "_model_name": "HTMLModel",
            "_view_count": null,
            "_view_module": "@jupyter-widgets/controls",
            "_view_module_version": "1.5.0",
            "_view_name": "HTMLView",
            "description": "",
            "description_tooltip": null,
            "layout": "IPY_MODEL_33da206fc9e3467ab8478739698775c4",
            "placeholder": "​",
            "style": "IPY_MODEL_fc01a81ec81f400a8c51fd5343e01f4e",
            "value": "config.json: 100%"
          }
        },
        "148143d6139e443888d3b34e820bede4": {
          "model_module": "@jupyter-widgets/controls",
          "model_name": "FloatProgressModel",
          "model_module_version": "1.5.0",
          "state": {
            "_dom_classes": [],
            "_model_module": "@jupyter-widgets/controls",
            "_model_module_version": "1.5.0",
            "_model_name": "FloatProgressModel",
            "_view_count": null,
            "_view_module": "@jupyter-widgets/controls",
            "_view_module_version": "1.5.0",
            "_view_name": "ProgressView",
            "bar_style": "success",
            "description": "",
            "description_tooltip": null,
            "layout": "IPY_MODEL_fcca11a3fec34b6485792598447b5bb8",
            "max": 625,
            "min": 0,
            "orientation": "horizontal",
            "style": "IPY_MODEL_24a2bbc6e4d94fb3a702719155f0079a",
            "value": 625
          }
        },
        "30124141e982473ab0a94c86f5a0a0e0": {
          "model_module": "@jupyter-widgets/controls",
          "model_name": "HTMLModel",
          "model_module_version": "1.5.0",
          "state": {
            "_dom_classes": [],
            "_model_module": "@jupyter-widgets/controls",
            "_model_module_version": "1.5.0",
            "_model_name": "HTMLModel",
            "_view_count": null,
            "_view_module": "@jupyter-widgets/controls",
            "_view_module_version": "1.5.0",
            "_view_name": "HTMLView",
            "description": "",
            "description_tooltip": null,
            "layout": "IPY_MODEL_b27d159291704ac3810306da1d709cca",
            "placeholder": "​",
            "style": "IPY_MODEL_79b44acaaabe4846aeb8bdbf324a9578",
            "value": " 625/625 [00:00&lt;00:00, 22.5kB/s]"
          }
        },
        "7961459d39e6423b82cc67abb212a5cf": {
          "model_module": "@jupyter-widgets/base",
          "model_name": "LayoutModel",
          "model_module_version": "1.2.0",
          "state": {
            "_model_module": "@jupyter-widgets/base",
            "_model_module_version": "1.2.0",
            "_model_name": "LayoutModel",
            "_view_count": null,
            "_view_module": "@jupyter-widgets/base",
            "_view_module_version": "1.2.0",
            "_view_name": "LayoutView",
            "align_content": null,
            "align_items": null,
            "align_self": null,
            "border": null,
            "bottom": null,
            "display": null,
            "flex": null,
            "flex_flow": null,
            "grid_area": null,
            "grid_auto_columns": null,
            "grid_auto_flow": null,
            "grid_auto_rows": null,
            "grid_column": null,
            "grid_gap": null,
            "grid_row": null,
            "grid_template_areas": null,
            "grid_template_columns": null,
            "grid_template_rows": null,
            "height": null,
            "justify_content": null,
            "justify_items": null,
            "left": null,
            "margin": null,
            "max_height": null,
            "max_width": null,
            "min_height": null,
            "min_width": null,
            "object_fit": null,
            "object_position": null,
            "order": null,
            "overflow": null,
            "overflow_x": null,
            "overflow_y": null,
            "padding": null,
            "right": null,
            "top": null,
            "visibility": null,
            "width": null
          }
        },
        "33da206fc9e3467ab8478739698775c4": {
          "model_module": "@jupyter-widgets/base",
          "model_name": "LayoutModel",
          "model_module_version": "1.2.0",
          "state": {
            "_model_module": "@jupyter-widgets/base",
            "_model_module_version": "1.2.0",
            "_model_name": "LayoutModel",
            "_view_count": null,
            "_view_module": "@jupyter-widgets/base",
            "_view_module_version": "1.2.0",
            "_view_name": "LayoutView",
            "align_content": null,
            "align_items": null,
            "align_self": null,
            "border": null,
            "bottom": null,
            "display": null,
            "flex": null,
            "flex_flow": null,
            "grid_area": null,
            "grid_auto_columns": null,
            "grid_auto_flow": null,
            "grid_auto_rows": null,
            "grid_column": null,
            "grid_gap": null,
            "grid_row": null,
            "grid_template_areas": null,
            "grid_template_columns": null,
            "grid_template_rows": null,
            "height": null,
            "justify_content": null,
            "justify_items": null,
            "left": null,
            "margin": null,
            "max_height": null,
            "max_width": null,
            "min_height": null,
            "min_width": null,
            "object_fit": null,
            "object_position": null,
            "order": null,
            "overflow": null,
            "overflow_x": null,
            "overflow_y": null,
            "padding": null,
            "right": null,
            "top": null,
            "visibility": null,
            "width": null
          }
        },
        "fc01a81ec81f400a8c51fd5343e01f4e": {
          "model_module": "@jupyter-widgets/controls",
          "model_name": "DescriptionStyleModel",
          "model_module_version": "1.5.0",
          "state": {
            "_model_module": "@jupyter-widgets/controls",
            "_model_module_version": "1.5.0",
            "_model_name": "DescriptionStyleModel",
            "_view_count": null,
            "_view_module": "@jupyter-widgets/base",
            "_view_module_version": "1.2.0",
            "_view_name": "StyleView",
            "description_width": ""
          }
        },
        "fcca11a3fec34b6485792598447b5bb8": {
          "model_module": "@jupyter-widgets/base",
          "model_name": "LayoutModel",
          "model_module_version": "1.2.0",
          "state": {
            "_model_module": "@jupyter-widgets/base",
            "_model_module_version": "1.2.0",
            "_model_name": "LayoutModel",
            "_view_count": null,
            "_view_module": "@jupyter-widgets/base",
            "_view_module_version": "1.2.0",
            "_view_name": "LayoutView",
            "align_content": null,
            "align_items": null,
            "align_self": null,
            "border": null,
            "bottom": null,
            "display": null,
            "flex": null,
            "flex_flow": null,
            "grid_area": null,
            "grid_auto_columns": null,
            "grid_auto_flow": null,
            "grid_auto_rows": null,
            "grid_column": null,
            "grid_gap": null,
            "grid_row": null,
            "grid_template_areas": null,
            "grid_template_columns": null,
            "grid_template_rows": null,
            "height": null,
            "justify_content": null,
            "justify_items": null,
            "left": null,
            "margin": null,
            "max_height": null,
            "max_width": null,
            "min_height": null,
            "min_width": null,
            "object_fit": null,
            "object_position": null,
            "order": null,
            "overflow": null,
            "overflow_x": null,
            "overflow_y": null,
            "padding": null,
            "right": null,
            "top": null,
            "visibility": null,
            "width": null
          }
        },
        "24a2bbc6e4d94fb3a702719155f0079a": {
          "model_module": "@jupyter-widgets/controls",
          "model_name": "ProgressStyleModel",
          "model_module_version": "1.5.0",
          "state": {
            "_model_module": "@jupyter-widgets/controls",
            "_model_module_version": "1.5.0",
            "_model_name": "ProgressStyleModel",
            "_view_count": null,
            "_view_module": "@jupyter-widgets/base",
            "_view_module_version": "1.2.0",
            "_view_name": "StyleView",
            "bar_color": null,
            "description_width": ""
          }
        },
        "b27d159291704ac3810306da1d709cca": {
          "model_module": "@jupyter-widgets/base",
          "model_name": "LayoutModel",
          "model_module_version": "1.2.0",
          "state": {
            "_model_module": "@jupyter-widgets/base",
            "_model_module_version": "1.2.0",
            "_model_name": "LayoutModel",
            "_view_count": null,
            "_view_module": "@jupyter-widgets/base",
            "_view_module_version": "1.2.0",
            "_view_name": "LayoutView",
            "align_content": null,
            "align_items": null,
            "align_self": null,
            "border": null,
            "bottom": null,
            "display": null,
            "flex": null,
            "flex_flow": null,
            "grid_area": null,
            "grid_auto_columns": null,
            "grid_auto_flow": null,
            "grid_auto_rows": null,
            "grid_column": null,
            "grid_gap": null,
            "grid_row": null,
            "grid_template_areas": null,
            "grid_template_columns": null,
            "grid_template_rows": null,
            "height": null,
            "justify_content": null,
            "justify_items": null,
            "left": null,
            "margin": null,
            "max_height": null,
            "max_width": null,
            "min_height": null,
            "min_width": null,
            "object_fit": null,
            "object_position": null,
            "order": null,
            "overflow": null,
            "overflow_x": null,
            "overflow_y": null,
            "padding": null,
            "right": null,
            "top": null,
            "visibility": null,
            "width": null
          }
        },
        "79b44acaaabe4846aeb8bdbf324a9578": {
          "model_module": "@jupyter-widgets/controls",
          "model_name": "DescriptionStyleModel",
          "model_module_version": "1.5.0",
          "state": {
            "_model_module": "@jupyter-widgets/controls",
            "_model_module_version": "1.5.0",
            "_model_name": "DescriptionStyleModel",
            "_view_count": null,
            "_view_module": "@jupyter-widgets/base",
            "_view_module_version": "1.2.0",
            "_view_name": "StyleView",
            "description_width": ""
          }
        }
      }
    }
  },
  "cells": [
    {
      "cell_type": "markdown",
      "source": [
        "<center>Procesamiento de Texto e Imágenes con deep learning<center>\n",
        "\n",
        "Sesión 2 - Embeddings\n",
        "\n",
        "Miguel Ángel Álvarez Carmona\n",
        "Investigador\n",
        "\n",
        "SECIHTI - CIMAT Mty\n",
        "\n",
        "miguel.alvarez@cimat.mx"
      ],
      "metadata": {
        "id": "6QY-x1J5gl_C"
      }
    },
    {
      "cell_type": "markdown",
      "source": [
        "---\n",
        "\n",
        "# 🔷 Modelos de lenguaje basados en probabilidad\n",
        "\n",
        "---\n",
        "\n",
        "## 📌 ¿Qué es un modelo de lenguaje?\n",
        "\n",
        "Un **modelo de lenguaje** (Language Model, LM) es una función que asigna una **probabilidad a una secuencia de palabras**.\n",
        "\n",
        "Formalmente, dada una secuencia de palabras $w_1, w_2, \\dots, w_T$, un modelo de lenguaje estima:\n",
        "\n",
        "$$\n",
        "P(w_1, w_2, \\dots, w_T)\n",
        "$$\n",
        "\n",
        "Este tipo de modelos permite:\n",
        "\n",
        "* Generar texto.\n",
        "* Corregir errores gramaticales.\n",
        "* Evaluar la fluidez de una oración.\n",
        "* Servir como base para tareas como traducción automática, resumen, reconocimiento de voz, etc.\n",
        "\n",
        "---\n",
        "\n",
        "## 📏 Probabilidad de una secuencia de palabras\n",
        "\n",
        "Aplicando la **regla de la cadena**:\n",
        "\n",
        "$$\n",
        "P(w_1, w_2, \\dots, w_T) = P(w_1) \\cdot P(w_2 \\mid w_1) \\cdot P(w_3 \\mid w_1, w_2) \\cdots P(w_T \\mid w_1, w_2, \\dots, w_{T-1})\n",
        "$$\n",
        "\n",
        "Este cálculo es **inviable** en la práctica por la explosión combinatoria del espacio de secuencias. Por ello, se hacen **simplificaciones**.\n",
        "\n",
        "---\n",
        "\n",
        "## 🔁 Modelos n-grama\n",
        "\n",
        "Los modelos **n-grama** suponen que la probabilidad de una palabra depende solo de las $n-1$ anteriores:\n",
        "\n",
        "$$\n",
        "P(w_T \\mid w_1, w_2, \\dots, w_{T-1}) \\approx P(w_T \\mid w_{T-n+1}, \\dots, w_{T-1})\n",
        "$$\n",
        "\n",
        "Ejemplos:\n",
        "\n",
        "* **Unigrama** (n = 1): $P(w_T)$\n",
        "* **Bigrama** (n = 2): $P(w_T \\mid w_{T-1})$\n",
        "* **Trigrama** (n = 3): $P(w_T \\mid w_{T-2}, w_{T-1})$\n",
        "\n",
        "### 📘 Ejemplo:\n",
        "\n",
        "$$\n",
        "P(\\text{\"la casa es blanca\"}) \\approx P(\\text{\"la\"}) \\cdot P(\\text{\"casa\"} \\mid \\text{\"la\"}) \\cdot P(\\text{\"es\"} \\mid \\text{\"casa\"}) \\cdot P(\\text{\"blanca\"} \\mid \\text{\"es\"})\n",
        "$$\n",
        "\n",
        "---\n",
        "\n",
        "## 🧠 Código: Modelo de bigramas en Python\n",
        "\n",
        "\n"
      ],
      "metadata": {
        "id": "h1_FTv_yguqU"
      }
    },
    {
      "cell_type": "code",
      "source": [
        "import re\n",
        "from collections import defaultdict, Counter\n",
        "\n",
        "# Corpus de ejemplo\n",
        "corpus = \"\"\"la casa es blanca y la casa es grande.\n",
        "la casa es resistente.\n",
        "La casa es blanca y la casa es grande.\n",
        "La casa es resistente y la casa es fuerte.\n",
        "La casa es tranquila cuando el sol aparece.\n",
        "La casa es vieja, pero la casa aún resiste.\n",
        "La casa tiene un techo rojo y paredes firmes.\n",
        "La casa tiene una puerta de madera y una ventana azul.\n",
        "La casa es grande, pero también acogedora.\n",
        "La casa es blanca y tiene un jardín hermoso.\n",
        "El jardín de la casa está lleno de flores.\n",
        "La casa está en una colina y desde allí se ve el valle.\n",
        "La casa es blanca cuando no llueve y es gris cuando está nublado.\n",
        "La casa se mantiene firme cuando el viento sopla fuerte.\n",
        "La casa es un refugio para quienes viven en ella.\n",
        "La casa protege del frío y resiste el calor del verano.\n",
        "La casa es blanca, la casa es grande, y la casa es segura.\n",
        "La casa fue construida con esfuerzo y con materiales sólidos.\n",
        "La casa se construyó sobre cimientos resistentes.\n",
        "La casa es vieja, pero la casa no se rompe.\n",
        "La casa es firme cuando tiembla la tierra.\n",
        "La casa es un lugar donde se escuchan risas.\n",
        "La casa es un lugar donde se vive y se sueña.\n",
        "La casa es más que un lugar: la casa es hogar.\n",
        "La casa siempre espera a quienes regresan.\n",
        "La casa es blanca y siempre será blanca.\n",
        "La casa es grande y siempre será grande.\n",
        "La casa es hogar.\n",
        "La casa es casa.\n",
        "La tierra es fertil\n",
        "\"\"\"\n",
        "\n",
        "# Preprocesamiento\n",
        "tokens = re.findall(r'\\b\\w+\\b', corpus.lower())\n",
        "\n",
        "# Construir bigramas\n",
        "bigrams = list(zip(tokens[:-1], tokens[1:]))\n",
        "\n",
        "# Frecuencias\n",
        "unigram_counts = Counter(tokens)\n",
        "bigram_counts = Counter(bigrams)\n",
        "\n",
        "# Probabilidades condicionales\n",
        "def bigram_prob(w1, w2):\n",
        "    return bigram_counts[(w1, w2)] / unigram_counts[w1]\n",
        "\n",
        "# Ejemplo\n",
        "print(\"P(casa | la) =\", bigram_prob(\"la\", \"casa\"))\n",
        "print(\"P(es | casa) =\", bigram_prob(\"casa\", \"es\"))\n",
        "\n",
        "\n",
        "print(\"P(tierra | la) =\", bigram_prob(\"la\", \"tierra\"))\n",
        "print(\"P(es | tierra) =\", bigram_prob(\"tierra\", \"es\"))\n",
        "\n",
        "print(\"P(tierra | el) =\", bigram_prob(\"el\", \"tierra\"))\n",
        "\n",
        "\n",
        "\n"
      ],
      "metadata": {
        "colab": {
          "base_uri": "https://localhost:8080/"
        },
        "id": "u-A-xcztzuhz",
        "outputId": "2b2008a4-21ab-4bc7-da76-07cc610c91f5"
      },
      "execution_count": null,
      "outputs": [
        {
          "output_type": "stream",
          "name": "stdout",
          "text": [
            "P(casa | la) = 0.9487179487179487\n",
            "P(es | casa) = 0.6842105263157895\n",
            "P(tierra | la) = 0.05128205128205128\n",
            "P(es | tierra) = 0.5\n",
            "P(tierra | el) = 0.0\n"
          ]
        }
      ]
    },
    {
      "cell_type": "markdown",
      "source": [
        "---\n",
        "\n",
        "## ⚠️ Limitaciones de los modelos n-grama\n",
        "\n",
        "### 1. **Sparsity** (dispersión):\n",
        "\n",
        "Muchas combinaciones posibles de palabras no aparecen en el corpus, lo que lleva a probabilidades cero.\n",
        "\n",
        "### 2. **Escalabilidad**:\n",
        "\n",
        "Los modelos con $n > 3$ crecen exponencialmente en requerimientos de memoria y datos para estimar adecuadamente.\n",
        "\n",
        "### 3. **Pérdida de contexto largo**:\n",
        "\n",
        "No se captura dependencia de largo alcance (por ejemplo, sujeto-verbo en diferentes oraciones).\n",
        "\n",
        "---\n",
        "\n",
        "## 🧪 Evaluación: Perplejidad\n",
        "\n",
        "La **perplejidad** mide qué tan bien un modelo predice un corpus. Se define como:\n",
        "\n",
        "$$\n",
        "\\text{PP}(W) = P(w_1, w_2, \\dots, w_T)^{-\\frac{1}{T}} = \\exp \\left( -\\frac{1}{T} \\sum_{t=1}^T \\log P(w_t \\mid w_{t-n+1}, \\dots, w_{t-1}) \\right)\n",
        "$$\n",
        "\n",
        "Donde:\n",
        "\n",
        "* $T$ es el número de tokens en el corpus.\n",
        "* $P(w_t \\mid \\cdot)$ es la probabilidad condicional estimada por el modelo.\n",
        "\n",
        "### Interpretación:\n",
        "\n",
        "* Perplejidad baja → mejor modelo.\n",
        "* Perplejidad alta → el modelo \"se sorprende\" más con los datos.\n",
        "\n",
        "---\n",
        "\n",
        "### 📘 Código: Cálculo de perplejidad para bigramas\n",
        "\n",
        "\n"
      ],
      "metadata": {
        "id": "1V4ky_yXzzU8"
      }
    },
    {
      "cell_type": "code",
      "source": [
        "import math\n",
        "\n",
        "def calculate_perplexity(tokens, bigram_counts, unigram_counts):\n",
        "    log_prob = 0\n",
        "    N = len(tokens) - 1\n",
        "    for i in range(1, len(tokens)):\n",
        "        w1, w2 = tokens[i-1], tokens[i]\n",
        "        prob = bigram_counts.get((w1, w2), 1e-6) / unigram_counts.get(w1, 1)\n",
        "        log_prob += math.log(prob)\n",
        "    return math.exp(-log_prob / N)\n",
        "\n",
        "# Evaluar el modelo\n",
        "pp = calculate_perplexity(tokens, bigram_counts, unigram_counts)\n",
        "print(\"Perplejidad del modelo de bigramas:\", pp)\n",
        "\n"
      ],
      "metadata": {
        "colab": {
          "base_uri": "https://localhost:8080/"
        },
        "id": "2EQG0BtK0P21",
        "outputId": "6acd3a73-3b92-4512-c1a3-60a9e9737f70"
      },
      "execution_count": null,
      "outputs": [
        {
          "output_type": "stream",
          "name": "stdout",
          "text": [
            "Perplejidad del modelo de bigramas: 2.436734250971542\n"
          ]
        }
      ]
    },
    {
      "cell_type": "markdown",
      "source": [
        "---\n",
        "\n",
        "## 📌 Resumen\n",
        "\n",
        "| Concepto           | Descripción                                             |\n",
        "| ------------------ | ------------------------------------------------------- |\n",
        "| Modelo de lenguaje | Asigna una probabilidad a una secuencia de palabras     |\n",
        "| Regla de la cadena | Descompone la probabilidad conjunta en condicionales    |\n",
        "| Modelo n-grama     | Aproximación que usa solo $n-1$ palabras previas        |\n",
        "| Sparsity           | Combinaciones ausentes generan probabilidad 0           |\n",
        "| Perplejidad        | Mide qué tan “sorprendido” está el modelo por un corpus |\n",
        "\n",
        "---\n"
      ],
      "metadata": {
        "id": "fOAKcxmX0TDP"
      }
    },
    {
      "cell_type": "markdown",
      "source": [
        "# 🔷 De n-gramas a representaciones distribuidas\n",
        "\n",
        "## 📌 Motivación: La necesidad de capturar el significado\n",
        "\n",
        "Los modelos de lenguaje basados en n-gramas representan las palabras y sus combinaciones **como secuencias simbólicas**. Estas representaciones son **esparsas**, **discretas** y **no generalizan** bien entre palabras similares.\n",
        "\n",
        "Por ejemplo:\n",
        "\n",
        "* Los vectores de `gato`, `felino` y `perro` no tendrán nada en común si no aparecen en contextos idénticos.\n",
        "* Las representaciones **one-hot** solo indican identidad, no similitud.\n",
        "\n",
        "Esto limita:\n",
        "\n",
        "* La **capacidad de generalización**.\n",
        "* El **almacenamiento y eficiencia computacional**.\n",
        "* El uso en tareas semánticas como inferencia, resumen o traducción.\n",
        "\n",
        "---\n",
        "\n",
        "## 📚 Limitaciones de las representaciones esparsas\n",
        "\n",
        "Supongamos un vocabulario de tamaño $V = 50{,}000$. Una palabra representada como un vector **one-hot** será:\n",
        "\n",
        "$$\n",
        "\\mathbf{w}_i = [0, 0, \\dots, 1, \\dots, 0] \\in \\mathbb{R}^{50{,}000}\n",
        "$$\n",
        "\n",
        "Estas representaciones tienen varios problemas:\n",
        "\n",
        "* **Altamente esparsas:** solo una entrada es 1.\n",
        "* **No capturan relaciones semánticas.**\n",
        "* **Memoria costosa** y no escalables para modelos grandes.\n",
        "* **Distancia semántica plana:** la distancia entre cualquier par de palabras diferentes es siempre la misma.\n",
        "\n",
        "---\n",
        "\n",
        "## 🧠 Principio de distribución semántica\n",
        "\n",
        "> “You shall know a word by the company it keeps.”\n",
        "> – **John Firth (1957)**\n",
        "\n",
        "Este principio inspira los **métodos de aprendizaje distribuido**, donde una palabra se representa por **su contexto de aparición**.\n",
        "\n",
        "### 💡 Idea central:\n",
        "\n",
        "Palabras que **ocurren en contextos similares** tienden a tener **significados similares**.\n",
        "\n",
        "---\n",
        "\n",
        "## 🔡 Matriz de coocurrencia\n",
        "\n",
        "A partir de un corpus, se puede construir una matriz $W \\in \\mathbb{R}^{V \\times V}$ donde:\n",
        "\n",
        "* Las filas son palabras objetivo.\n",
        "* Las columnas son palabras de contexto.\n",
        "* La celda $W_{ij}$ cuenta cuántas veces la palabra $w_j$ aparece en el contexto de $w_i$.\n",
        "\n",
        "Esta matriz suele ser:\n",
        "\n",
        "* **Muy grande**.\n",
        "* **Muy esparsa**.\n",
        "* Difícil de manejar directamente.\n",
        "\n",
        "---\n",
        "\n",
        "## 🔽 Reducción de dimensionalidad: LSA\n",
        "\n",
        "Para obtener vectores **densos**, se aplica **reducción de dimensionalidad** sobre la matriz de coocurrencia. Por ejemplo:\n",
        "\n",
        "### 🔢 Descomposición SVD:\n",
        "\n",
        "$$\n",
        "\\mathbf{W} \\approx \\mathbf{U}_k \\Sigma_k \\mathbf{V}_k^\\top\n",
        "$$\n",
        "\n",
        "Donde:\n",
        "\n",
        "* $\\mathbf{U}_k$ y $\\mathbf{V}_k$: matrices ortogonales.\n",
        "* $\\Sigma_k$: matriz diagonal con los $k$ valores singulares más grandes.\n",
        "\n",
        "Cada fila de $\\mathbf{U}_k \\Sigma_k$ representa una palabra en un espacio semántico de **k dimensiones**.\n",
        "\n",
        "Este enfoque se conoce como **Latent Semantic Analysis (LSA)**.\n",
        "\n",
        "---\n",
        "\n"
      ],
      "metadata": {
        "id": "uMSNp7rznuda"
      }
    },
    {
      "cell_type": "code",
      "source": [
        "# -*- coding: utf-8 -*-\n",
        "from collections import Counter\n",
        "import re\n",
        "import numpy as np\n",
        "from scipy.sparse import coo_matrix, csr_matrix\n",
        "from sklearn.decomposition import TruncatedSVD\n",
        "from sklearn.metrics.pairwise import cosine_similarity\n",
        "\n",
        "\n",
        "# -----------------------------\n",
        "# 1) Preprocesamiento y vocabulario\n",
        "# -----------------------------\n",
        "def tokenize(texto):\n",
        "    \"\"\"\n",
        "    Tokenización muy simple: minúsculas y palabras alfanuméricas (incluye tildes).\n",
        "    Ajusta esta función a tus necesidades.\n",
        "    \"\"\"\n",
        "    return re.findall(r\"\\b\\w+\\b\", texto.lower(), flags=re.UNICODE)\n",
        "\n",
        "def construir_vocab(corpus_tokens, min_count=1):\n",
        "    \"\"\"\n",
        "    Construye vocabulario a partir de una lista de listas de tokens.\n",
        "    min_count: frecuencia mínima para incluir palabra en el vocabulario.\n",
        "    \"\"\"\n",
        "    freqs = Counter()\n",
        "    for tokens in corpus_tokens:\n",
        "        freqs.update(tokens)\n",
        "    vocab = [w for w, c in freqs.items() if c >= min_count]\n",
        "    vocab.sort()  # orden estable\n",
        "    word2id = {w: i for i, w in enumerate(vocab)}\n",
        "    return vocab, word2id"
      ],
      "metadata": {
        "id": "l2J_89fJaiUS"
      },
      "execution_count": null,
      "outputs": []
    },
    {
      "cell_type": "code",
      "source": [
        "# -----------------------------\n",
        "# 2) Matriz de coocurrencia W\n",
        "# -----------------------------\n",
        "def matriz_coocurrencia(corpus, window_size=2, min_count=1, directed=True):\n",
        "    \"\"\"\n",
        "    Construye la matriz W (palabra objetivo x palabra contexto).\n",
        "    - window_size: tamaño de la ventana simétrica alrededor del target.\n",
        "    - directed=True: solo cuenta (i -> j). Si False, también suma (j -> i).\n",
        "    Devuelve: (W_csr, vocab, word2id)\n",
        "    \"\"\"\n",
        "    # Tokenizar corpus\n",
        "    corpus_tokens = [tokenize(doc) for doc in corpus]\n",
        "    # Vocabulario\n",
        "    vocab, word2id = construir_vocab(corpus_tokens, min_count=min_count)\n",
        "    V = len(vocab)\n",
        "\n",
        "    rows, cols, data = [], [], []\n",
        "\n",
        "    for tokens in corpus_tokens:\n",
        "        ids = [word2id[w] for w in tokens if w in word2id]\n",
        "        n = len(ids)\n",
        "        for i, wi in enumerate(ids):\n",
        "            # ventana [i-window_size, i+window_size], excluyendo i\n",
        "            left = max(0, i - window_size)\n",
        "            right = min(n, i + window_size + 1)\n",
        "            for j in range(left, right):\n",
        "                if i == j:\n",
        "                    continue\n",
        "                wj = ids[j]\n",
        "                # cuenta ocurrencia en el contexto\n",
        "                rows.append(wi)\n",
        "                cols.append(wj)\n",
        "                data.append(1.0)\n",
        "                # si quieres matriz estrictamente simétrica, puedes sumar también el espejo\n",
        "                if not directed:\n",
        "                    rows.append(wj)\n",
        "                    cols.append(wi)\n",
        "                    data.append(1.0)\n",
        "\n",
        "    if not rows:\n",
        "        # corpus vacío o vocabulario filtrado demasiado estricto\n",
        "        W = csr_matrix((V, V), dtype=np.float64)\n",
        "    else:\n",
        "        W = coo_matrix((np.array(data, dtype=np.float64),\n",
        "                        (np.array(rows), np.array(cols))), shape=(V, V)).tocsr()\n",
        "\n",
        "    return W, vocab, word2id\n",
        "\n",
        "\n"
      ],
      "metadata": {
        "id": "fjAT0IQrazUe"
      },
      "execution_count": null,
      "outputs": []
    },
    {
      "cell_type": "code",
      "source": [
        "# -----------------------------\n",
        "# 3) LSA vía SVD truncado\n",
        "# -----------------------------\n",
        "def lsa_embeddings(W, k=10, random_state=0):\n",
        "    \"\"\"\n",
        "    Aplica SVD truncado a W:\n",
        "        W ≈ U_k Σ_k V_k^T\n",
        "    TruncatedSVD.fit_transform(W) ≈ U_k Σ_k  (embeddings de filas/palabras objetivo)\n",
        "    Devuelve: X (V x k) con embeddings densos.\n",
        "    \"\"\"\n",
        "    k = min(k, min(W.shape) - 1)  # seguridad\n",
        "    svd = TruncatedSVD(n_components=k, random_state=random_state)\n",
        "    X = svd.fit_transform(W)  # U_k Σ_k\n",
        "    return X, svd\n",
        "\n",
        "\n"
      ],
      "metadata": {
        "id": "7Ccwcy4Ia4S1"
      },
      "execution_count": null,
      "outputs": []
    },
    {
      "cell_type": "code",
      "source": [
        "# -----------------------------\n",
        "# 4) Utilidades: similitud de palabras\n",
        "# -----------------------------\n",
        "def similitud_palabras(palabra, vocab, X, topk=10):\n",
        "    \"\"\"\n",
        "    Devuelve top-k palabras más similares (coseno) a 'palabra'\n",
        "    usando los embeddings X.\n",
        "    \"\"\"\n",
        "    if palabra not in vocab:\n",
        "        raise ValueError(f\"'{palabra}' no está en el vocabulario.\")\n",
        "    idx = vocab.index(palabra)\n",
        "    v = X[idx:idx+1]  # (1, k)\n",
        "    sims = cosine_similarity(v, X).flatten()  # (V,)\n",
        "    # ordenar por similitud decreciente; ignorar índice de la propia palabra\n",
        "    orden = np.argsort(-sims)\n",
        "    vecinos = [(vocab[i], float(sims[i])) for i in orden if i != idx][:topk]\n",
        "    return vecinos\n",
        "\n",
        "\n"
      ],
      "metadata": {
        "id": "4V1B7LdIa-ua"
      },
      "execution_count": null,
      "outputs": []
    },
    {
      "cell_type": "code",
      "source": [
        "# -----------------------------\n",
        "# 5) Ejemplo de uso\n",
        "# -----------------------------\n",
        "\n",
        "# Corpus pequeño de ejemplo (puedes reemplazarlo por el tuyo)\n",
        "corpus = [\n",
        "    \"el trabajo en equipo mejora el desempeño laboral\",\n",
        "    \"un buen entorno organizacional favorece el trabajo\",\n",
        "    \"la carga de trabajo excesiva reduce el bienestar\",\n",
        "    \"el liderazgo y el apoyo social influyen en el clima laboral\",\n",
        "    \"la formación adecuada mejora el desempeño y la productividad\",\n",
        "    \"un entorno saludable incrementa la satisfacción y el desempeño\"\n",
        "]\n",
        "\n",
        "# 1) Construir matriz de coocurrencia\n",
        "W, vocab, word2id = matriz_coocurrencia(\n",
        "    corpus,\n",
        "    window_size=2,   # contexto +/- 2 palabras\n",
        "    min_count=1,     # no filtrar por frecuencia mínima\n",
        "    directed=True    # matriz dirigida (objetivo->contexto)\n",
        ")\n",
        "\n",
        "print(f\"Vocab size: {len(vocab)}\")\n",
        "print(f\"Shape W: {W.shape}, nnz: {W.nnz}\")  # muy esparsa generalmente\n",
        "\n",
        "# 2) LSA (SVD truncado) para obtener embeddings densos de dimensión k\n",
        "k = 5\n",
        "X, svd = lsa_embeddings(W, k=k)\n",
        "print(f\"Embeddings shape: {X.shape}\")  # (V, k)\n",
        "\n",
        "\n"
      ],
      "metadata": {
        "colab": {
          "base_uri": "https://localhost:8080/"
        },
        "id": "nwx1kGNIbCtu",
        "outputId": "07bcb7cf-ad5d-4e0d-8668-8a2243ef15f4"
      },
      "execution_count": null,
      "outputs": [
        {
          "output_type": "stream",
          "name": "stdout",
          "text": [
            "Vocab size: 30\n",
            "Shape W: (30, 30), nnz: 144\n",
            "Embeddings shape: (30, 5)\n"
          ]
        }
      ]
    },
    {
      "cell_type": "code",
      "source": [
        "import pandas as pd\n",
        "df_embeddings = pd.DataFrame(\n",
        "    np.round(X, 3),   # redondeamos a 3 decimales para mayor legibilidad\n",
        "    index=vocab,      # palabras en filas\n",
        "    columns=[f\"dim_{i+1}\" for i in range(X.shape[1])]\n",
        ")\n",
        "\n",
        "print(\"\\n=== Embeddings LSA (U_k Σ_k) ===\")\n",
        "print(df_embeddings)"
      ],
      "metadata": {
        "colab": {
          "base_uri": "https://localhost:8080/"
        },
        "id": "LxvjJlK9d38N",
        "outputId": "aa3764d6-f271-45dc-bec3-14c66c532729"
      },
      "execution_count": null,
      "outputs": [
        {
          "output_type": "stream",
          "name": "stdout",
          "text": [
            "\n",
            "=== Embeddings LSA (U_k Σ_k) ===\n",
            "                dim_1  dim_2  dim_3  dim_4  dim_5\n",
            "adecuada        1.060  0.807  0.272 -0.408 -0.607\n",
            "apoyo           1.204  0.152 -0.196 -0.000 -0.464\n",
            "bienestar       0.693  0.675 -0.184  0.233  0.022\n",
            "buen            0.109 -0.081  0.946  0.887 -0.048\n",
            "carga           0.414  0.034  0.360  0.008 -0.324\n",
            "clima           0.975  0.400 -0.381  0.325  0.029\n",
            "de              0.501 -0.061  0.320  0.129 -0.302\n",
            "desempeño       3.404  1.086  0.090 -0.755 -2.063\n",
            "el              5.819 -4.724 -0.469  0.279  0.105\n",
            "en              2.070  0.913 -0.836  0.910 -0.718\n",
            "entorno         0.253 -0.243  1.851  1.364  0.182\n",
            "equipo          1.247  0.298 -0.491  0.603 -0.484\n",
            "excesiva        0.940  0.519 -0.204  0.576 -0.058\n",
            "favorece        0.891  0.496  0.387  0.994 -0.245\n",
            "formación       0.520 -0.063  0.363 -0.466 -0.566\n",
            "incrementa      0.340  0.123  1.353 -0.050 -0.062\n",
            "influyen        1.036  0.492 -0.470  0.430  0.235\n",
            "la              1.636 -1.226  1.594 -1.263  0.876\n",
            "laboral         1.639  1.238 -0.293  0.034  0.509\n",
            "liderazgo       1.588  1.040 -0.084 -0.155 -0.362\n",
            "mejora          2.388  0.828 -0.346 -0.083  1.757\n",
            "organizacional  0.724  0.708  0.648  0.936  0.002\n",
            "productividad   0.564 -0.239  0.520 -0.639 -0.548\n",
            "reduce          0.958  0.383 -0.301  0.598 -0.183\n",
            "saludable       0.237  0.200  1.494  0.289 -0.275\n",
            "satisfacción    1.194  0.477  0.731 -0.578 -0.560\n",
            "social          1.036  0.492 -0.470  0.430  0.235\n",
            "trabajo         1.909  1.068 -0.406  1.163  0.587\n",
            "un              0.087  0.057  1.466  1.037 -0.011\n",
            "y               3.878  2.760  0.588 -1.141  1.086\n"
          ]
        }
      ]
    },
    {
      "cell_type": "code",
      "source": [
        "# -------------------------------------------\n",
        "#    Asignar \"tópico\" dominante a cada palabra\n",
        "#    (tópico = dimensión latente con mayor carga)\n",
        "# -------------------------------------------\n",
        "# Usamos el embedding U_k Σ_k (X). Tomamos la dimensión con |carga| máxima.\n",
        "abs_X = np.abs(X)\n",
        "topic_id = abs_X.argmax(axis=1)  # índice de la dimensión dominante por palabra\n",
        "max_loading_signed = X[np.arange(X.shape[0]), topic_id]  # carga con signo\n",
        "\n",
        "df_topics = pd.DataFrame({\n",
        "    \"word\": vocab,\n",
        "    \"topic_id\": topic_id,\n",
        "    \"loading\": max_loading_signed,\n",
        "    \"abs_loading\": np.abs(max_loading_signed)\n",
        "}).sort_values([\"topic_id\", \"abs_loading\"], ascending=[True, False]).reset_index(drop=True)\n",
        "\n",
        "print(\"\\n=== Asignación de palabras a tópicos (dimensión dominante) ===\")\n",
        "print(df_topics.head(20))  # muestra las primeras 20 filas\n",
        "\n",
        "# -------------------------------------------\n",
        "#   Resumen: top-N palabras por cada tópico\n",
        "# -------------------------------------------\n",
        "TOP_N = 5  # cambia si quieres ver más/menos palabras por tópico\n",
        "print(f\"\\n=== Top {TOP_N} palabras por tópico (según |carga| en U_kΣ_k) ===\")\n",
        "for t in range(X.shape[1]):\n",
        "    sub = df_topics[df_topics[\"topic_id\"] == t].nlargest(TOP_N, \"abs_loading\")\n",
        "    palabras = [f\"{w} ({c:+.3f})\" for w, c in zip(sub[\"word\"], sub[\"loading\"])]\n",
        "    print(f\"Tópico {t+1}: \" + \", \".join(palabras))\n",
        "\n"
      ],
      "metadata": {
        "colab": {
          "base_uri": "https://localhost:8080/"
        },
        "id": "eXr1WHyieYlb",
        "outputId": "3c88cebd-bea9-4093-edbb-bcadcf76a1d2"
      },
      "execution_count": null,
      "outputs": [
        {
          "output_type": "stream",
          "name": "stdout",
          "text": [
            "\n",
            "=== Asignación de palabras a tópicos (dimensión dominante) ===\n",
            "            word  topic_id   loading  abs_loading\n",
            "0             el         0  5.818833     5.818833\n",
            "1              y         0  3.878399     3.878399\n",
            "2      desempeño         0  3.403587     3.403587\n",
            "3         mejora         0  2.388319     2.388319\n",
            "4             en         0  2.069839     2.069839\n",
            "5        trabajo         0  1.909055     1.909055\n",
            "6        laboral         0  1.638727     1.638727\n",
            "7             la         0  1.636241     1.636241\n",
            "8      liderazgo         0  1.587567     1.587567\n",
            "9         equipo         0  1.246848     1.246848\n",
            "10         apoyo         0  1.204285     1.204285\n",
            "11  satisfacción         0  1.194379     1.194379\n",
            "12      adecuada         0  1.060387     1.060387\n",
            "13      influyen         0  1.036413     1.036413\n",
            "14        social         0  1.036413     1.036413\n",
            "15         clima         0  0.974821     0.974821\n",
            "16        reduce         0  0.957821     0.957821\n",
            "17      excesiva         0  0.939992     0.939992\n",
            "18     bienestar         0  0.693371     0.693371\n",
            "19            de         0  0.501288     0.501288\n",
            "\n",
            "=== Top 5 palabras por tópico (según |carga| en U_kΣ_k) ===\n",
            "Tópico 1: el (+5.819), y (+3.878), desempeño (+3.404), mejora (+2.388), en (+2.070)\n",
            "Tópico 2: \n",
            "Tópico 3: entorno (+1.851), saludable (+1.494), un (+1.466), incrementa (+1.353), buen (+0.946)\n",
            "Tópico 4: favorece (+0.994), organizacional (+0.936), productividad (-0.639)\n",
            "Tópico 5: formación (-0.566)\n"
          ]
        }
      ]
    },
    {
      "cell_type": "code",
      "source": [
        "def similitudes_topk(palabra, vocab, X, topk=10):\n",
        "    \"\"\"\n",
        "    Devuelve top-k palabras más similares (coseno) a 'palabra'\n",
        "    usando los embeddings X.\n",
        "    \"\"\"\n",
        "    consulta = palabra if palabra in vocab else vocab[0]\n",
        "    vecinos = similitud_palabras(consulta, vocab, X, topk=10)\n",
        "    print(f\"\\nPalabras más similares a '{consulta}':\")\n",
        "    for w, s in vecinos:\n",
        "        print(f\"  {w:15s}  cos={s:.3f}\")\n",
        "\n",
        "# 3) Consultar palabras similares\n",
        "ws = [\"desempeño\", \"trabajo\", \"liderazgo\", \"entorno\", \"productividad\", \"social\", \"excesiva\"]\n",
        "for w in ws:\n",
        "    print(f\"\\n---\\nPalabra: {w}\")\n",
        "    similitudes_topk(w, vocab, X)\n"
      ],
      "metadata": {
        "colab": {
          "base_uri": "https://localhost:8080/"
        },
        "id": "0mUZW85bceID",
        "outputId": "1a06a6d4-8e51-4760-b636-4a3c5ea272a0"
      },
      "execution_count": null,
      "outputs": [
        {
          "output_type": "stream",
          "name": "stdout",
          "text": [
            "\n",
            "---\n",
            "Palabra: desempeño\n",
            "\n",
            "Palabras más similares a 'desempeño':\n",
            "  apoyo            cos=0.944\n",
            "  adecuada         cos=0.937\n",
            "  liderazgo        cos=0.908\n",
            "  satisfacción     cos=0.883\n",
            "  carga            cos=0.800\n",
            "  formación        cos=0.798\n",
            "  en               cos=0.780\n",
            "  de               cos=0.767\n",
            "  equipo           cos=0.767\n",
            "  y                cos=0.702\n",
            "\n",
            "---\n",
            "Palabra: trabajo\n",
            "\n",
            "Palabras más similares a 'trabajo':\n",
            "  influyen         cos=0.970\n",
            "  social           cos=0.970\n",
            "  excesiva         cos=0.962\n",
            "  clima            cos=0.943\n",
            "  bienestar        cos=0.921\n",
            "  reduce           cos=0.919\n",
            "  laboral          cos=0.891\n",
            "  en               cos=0.856\n",
            "  equipo           cos=0.816\n",
            "  mejora           cos=0.816\n",
            "\n",
            "---\n",
            "Palabra: liderazgo\n",
            "\n",
            "Palabras más similares a 'liderazgo':\n",
            "  adecuada         cos=0.929\n",
            "  desempeño        cos=0.908\n",
            "  bienestar        cos=0.903\n",
            "  laboral          cos=0.898\n",
            "  y                cos=0.895\n",
            "  apoyo            cos=0.884\n",
            "  clima            cos=0.854\n",
            "  en               cos=0.852\n",
            "  excesiva         cos=0.825\n",
            "  satisfacción     cos=0.803\n",
            "\n",
            "---\n",
            "Palabra: entorno\n",
            "\n",
            "Palabras más similares a 'entorno':\n",
            "  buen             cos=0.985\n",
            "  un               cos=0.985\n",
            "  saludable        cos=0.848\n",
            "  incrementa       cos=0.758\n",
            "  organizacional   cos=0.700\n",
            "  favorece         cos=0.611\n",
            "  de               cos=0.537\n",
            "  carga            cos=0.479\n",
            "  la               cos=0.299\n",
            "  trabajo          cos=0.194\n",
            "\n",
            "---\n",
            "Palabra: productividad\n",
            "\n",
            "Palabras más similares a 'productividad':\n",
            "  formación        cos=0.978\n",
            "  satisfacción     cos=0.825\n",
            "  carga            cos=0.788\n",
            "  de               cos=0.690\n",
            "  desempeño        cos=0.680\n",
            "  la               cos=0.676\n",
            "  adecuada         cos=0.635\n",
            "  incrementa       cos=0.571\n",
            "  apoyo            cos=0.520\n",
            "  saludable        cos=0.452\n",
            "\n",
            "---\n",
            "Palabra: social\n",
            "\n",
            "Palabras más similares a 'social':\n",
            "  influyen         cos=1.000\n",
            "  clima            cos=0.985\n",
            "  trabajo          cos=0.970\n",
            "  excesiva         cos=0.946\n",
            "  reduce           cos=0.927\n",
            "  bienestar        cos=0.921\n",
            "  laboral          cos=0.906\n",
            "  en               cos=0.900\n",
            "  equipo           cos=0.864\n",
            "  mejora           cos=0.828\n",
            "\n",
            "---\n",
            "Palabra: excesiva\n",
            "\n",
            "Palabras más similares a 'excesiva':\n",
            "  reduce           cos=0.986\n",
            "  trabajo          cos=0.962\n",
            "  clima            cos=0.961\n",
            "  en               cos=0.954\n",
            "  influyen         cos=0.946\n",
            "  social           cos=0.946\n",
            "  bienestar        cos=0.936\n",
            "  equipo           cos=0.925\n",
            "  favorece         cos=0.866\n",
            "  laboral          cos=0.845\n"
          ]
        }
      ]
    },
    {
      "cell_type": "markdown",
      "source": [
        "## 📦 Introducción a Word Embeddings\n",
        "\n",
        "Los **word embeddings** son representaciones densas y continuas en $\\mathbb{R}^d$, donde:\n",
        "\n",
        "* Palabras **semánticamente similares** están **cerca** en el espacio vectorial.\n",
        "* Capturan **sintaxis** y **semántica**.\n",
        "* Se entrenan con grandes corpus usando objetivos predictivos.\n",
        "\n",
        "### 🔍 Características clave:\n",
        "\n",
        "* Vectores de tamaño fijo, típicamente $d = 100 \\sim 300$.\n",
        "* Se aprenden por métodos basados en contexto (Skip-Gram, CBOW) o factoración.\n",
        "* Pueden ser preentrenados y usados en otros modelos.\n",
        "\n",
        "---\n",
        "\n",
        "## 🧮 Ejemplo: Generación de embeddings con Gensim\n",
        "\n"
      ],
      "metadata": {
        "id": "3SRF8i2MahGp"
      }
    },
    {
      "cell_type": "code",
      "source": [
        "!pip install gensim"
      ],
      "metadata": {
        "colab": {
          "base_uri": "https://localhost:8080/"
        },
        "id": "s6RURaFl1f46",
        "outputId": "b3afd4a1-0e6e-4a02-81f1-042bf5cec9d7"
      },
      "execution_count": null,
      "outputs": [
        {
          "output_type": "stream",
          "name": "stdout",
          "text": [
            "Requirement already satisfied: gensim in /usr/local/lib/python3.12/dist-packages (4.3.3)\n",
            "Requirement already satisfied: numpy<2.0,>=1.18.5 in /usr/local/lib/python3.12/dist-packages (from gensim) (1.26.4)\n",
            "Requirement already satisfied: scipy<1.14.0,>=1.7.0 in /usr/local/lib/python3.12/dist-packages (from gensim) (1.13.1)\n",
            "Requirement already satisfied: smart-open>=1.8.1 in /usr/local/lib/python3.12/dist-packages (from gensim) (7.3.0.post1)\n",
            "Requirement already satisfied: wrapt in /usr/local/lib/python3.12/dist-packages (from smart-open>=1.8.1->gensim) (1.17.3)\n"
          ]
        }
      ]
    },
    {
      "cell_type": "code",
      "source": [
        "import gensim\n",
        "from gensim.models import Word2Vec\n",
        "from nltk.tokenize import word_tokenize\n",
        "import nltk\n",
        "\n",
        "nltk.download('punkt_tab')\n",
        "\n",
        "# Corpus simple\n",
        "corpus = [\n",
        "    # --- Gatos ---\n",
        "    \"El gato se acuesta en la caja más pequeña de la casa\",\n",
        "    \"El gato persigue puntos de luz en la pared\",\n",
        "    \"El gato trepa al árbol sin ayuda\",\n",
        "    \"El gato se acicala con su lengua constantemente\",\n",
        "    \"El gato afila sus uñas en el sofá\",\n",
        "    \"El gato observa a los pájaros desde la ventana\",\n",
        "    \"El gato duerme en lugares altos como repisas y armarios\",\n",
        "    \"El gato se esconde en bolsas de papel\",\n",
        "    \"El gato se desliza silencioso entre los muebles\",\n",
        "    \"El gato ronronea cuando está cómodo\",\n",
        "    \"El gato da saltos grandes para alcanzar estantes\",\n",
        "    \"El gato bebe agua directamente del grifo\",\n",
        "    \"El gato juega con ovillos de lana\",\n",
        "    \"El gato camina sobre el teclado del ordenador\",\n",
        "    \"El gato se sienta encima de los libros que lees\",\n",
        "    \"El gato caza insectos dentro de la casa\",\n",
        "    \"El gato se enrosca para dormir en círculos perfectos\",\n",
        "    \"El gato mueve la cola cuando está molesto\",\n",
        "    \"El gato maúlla frente a la puerta cerrada\",\n",
        "    \"El gato derriba objetos de la mesa por diversión\",\n",
        "\n",
        "    # --- Perros ---\n",
        "    \"El perro corre tras la pelota en el parque\",\n",
        "    \"El perro ladra al cartero todas las mañanas\",\n",
        "    \"El perro mueve la cola cuando ve a su dueño\",\n",
        "    \"El perro entierra huesos en el jardín\",\n",
        "    \"El perro trae el periódico en la boca\",\n",
        "    \"El perro acompaña al dueño en paseos largos\",\n",
        "    \"El perro juega en la fuente del parque\",\n",
        "    \"El perro protege la casa cuando oye ruidos\",\n",
        "    \"El perro nada en el lago con entusiasmo\",\n",
        "    \"El perro sigue rastros con su olfato agudo\",\n",
        "    \"El perro se sienta cuando escucha la orden\",\n",
        "    \"El perro busca palos y los devuelve feliz\",\n",
        "    \"El perro ladra de emoción cuando llega alguien\",\n",
        "    \"El perro se revuelca en el césped\",\n",
        "    \"El perro corre junto a ciclistas en la calle\",\n",
        "    \"El perro acompaña a personas ciegas como guía\",\n",
        "    \"El perro se emociona al escuchar la correa\",\n",
        "    \"El perro ayuda a rescatar personas en emergencias\",\n",
        "    \"El perro espera pacientemente la comida de su dueño\",\n",
        "    \"El perro se tumba a los pies de la cama por la noche\"\n",
        "]\n",
        "\n",
        "\n",
        "# Tokenización\n",
        "tokenized_corpus = [word_tokenize(doc.lower()) for doc in corpus]\n",
        "\n",
        "# Entrenar modelo Word2Vec\n",
        "model = Word2Vec(sentences=tokenized_corpus, vector_size=20, window=2, min_count=1, sg=1)\n",
        "\n",
        "# Obtener vector de una palabra\n",
        "print(\"Vector para 'gato':\")\n",
        "print(model.wv['gato'])\n",
        "\n",
        "# Palabras similares\n",
        "print(\"Palabras similares a 'gato':\")\n",
        "print(model.wv.most_similar('gato'))\n",
        "\n",
        "print(\"\\n---\\n\")\n",
        "# Palabras similares\n",
        "print(\"Palabras similares a 'perro':\")\n",
        "print(model.wv.most_similar('perro'))\n",
        "\n",
        "print(\"\\n---\\n\")\n",
        "# Palabras similares\n",
        "print(\"Palabras similares a 'ladra':\")\n",
        "print(model.wv.most_similar('ladra'))"
      ],
      "metadata": {
        "colab": {
          "base_uri": "https://localhost:8080/"
        },
        "id": "HZYvuB9_1QZK",
        "outputId": "cccc11e8-9935-4483-fa1d-15cd6fa21968"
      },
      "execution_count": null,
      "outputs": [
        {
          "output_type": "stream",
          "name": "stderr",
          "text": [
            "[nltk_data] Downloading package punkt_tab to /root/nltk_data...\n",
            "[nltk_data]   Unzipping tokenizers/punkt_tab.zip.\n"
          ]
        },
        {
          "output_type": "stream",
          "name": "stdout",
          "text": [
            "Vector para 'gato':\n",
            "[ 0.03542569  0.0250673   0.03583939  0.0051895   0.03118607 -0.01722378\n",
            " -0.00510462  0.02956415 -0.03857352 -0.02065608 -0.03635783 -0.00587748\n",
            "  0.04821566 -0.03761366 -0.01205377 -0.00968536  0.04307564 -0.02992629\n",
            " -0.00100189 -0.02466279]\n",
            "Palabras similares a 'gato':\n",
            "[('que', 0.5777734518051147), ('persigue', 0.4733923375606537), ('puntos', 0.4660094082355499), ('largos', 0.44907253980636597), ('y', 0.4485686123371124), ('cómodo', 0.4381602704524994), ('directamente', 0.4084385335445404), ('lana', 0.4077344834804535), ('puerta', 0.35326090455055237), ('armarios', 0.3508860468864441)]\n",
            "\n",
            "---\n",
            "\n",
            "Palabras similares a 'perro':\n",
            "[('jardín', 0.5984469652175903), ('ve', 0.568004846572876), ('paseos', 0.5614729523658752), ('objetos', 0.5286793112754822), ('correa', 0.5170774459838867), ('grifo', 0.41406726837158203), ('afila', 0.41265782713890076), ('casa', 0.4056621491909027), ('rescatar', 0.38741031289100647), ('saltos', 0.3777446746826172)]\n",
            "\n",
            "---\n",
            "\n",
            "Palabras similares a 'ladra':\n",
            "[('mesa', 0.4727787375450134), ('con', 0.40882429480552673), ('afila', 0.40708932280540466), ('juega', 0.3762286901473999), ('papel', 0.367060124874115), ('cuando', 0.34099316596984863), ('paseos', 0.3334939777851105), ('lago', 0.330798864364624), ('grifo', 0.3258598744869232), ('escuchar', 0.324847012758255)]\n"
          ]
        }
      ]
    },
    {
      "cell_type": "markdown",
      "source": [
        "---\n",
        "\n",
        "## 📊 Visualización de embeddings\n",
        "\n"
      ],
      "metadata": {
        "id": "OiX5c-mI1WQu"
      }
    },
    {
      "cell_type": "code",
      "source": [
        "from sklearn.decomposition import PCA\n",
        "import matplotlib.pyplot as plt\n",
        "\n",
        "words = ['gato', 'perro', 'juega', 'ladra']\n",
        "vectors = [model.wv[w] for w in words]\n",
        "\n",
        "# PCA\n",
        "pca = PCA(n_components=2)\n",
        "result = pca.fit_transform(vectors)\n",
        "\n",
        "# Plot\n",
        "plt.figure(figsize=(8,6))\n",
        "for i, word in enumerate(words):\n",
        "    plt.scatter(result[i, 0], result[i, 1])\n",
        "    plt.text(result[i, 0]+0.001, result[i, 1]+0.001, word)\n",
        "plt.title(\"Proyección 2D de Word Embeddings\")\n",
        "plt.xlabel(\"PCA1\")\n",
        "plt.ylabel(\"PCA2\")\n",
        "plt.grid(True)\n",
        "plt.show()\n",
        "\n",
        "\n"
      ],
      "metadata": {
        "colab": {
          "base_uri": "https://localhost:8080/",
          "height": 565
        },
        "id": "4fC3GRQq1aJc",
        "outputId": "f1613ac9-e7c6-4a21-f3f1-c48079b8b7ac"
      },
      "execution_count": null,
      "outputs": [
        {
          "output_type": "display_data",
          "data": {
            "text/plain": [
              "<Figure size 800x600 with 1 Axes>"
            ],
            "image/png": "[encoded data removed]"
          },
          "metadata": {}
        }
      ]
    },
    {
      "cell_type": "markdown",
      "source": [
        "---\n",
        "\n",
        "## 🔍 Comparación: One-hot vs Embeddings\n",
        "\n",
        "| Característica        | One-hot          | Word Embedding      |\n",
        "| --------------------- | ---------------- | ------------------- |\n",
        "| Tipo                  | Esparso, binario | Denso, real-valuado |\n",
        "| Dimensión             | Igual a vocab.   | Típicamente 100-300 |\n",
        "| Captura semántica     | ❌                | ✅                   |\n",
        "| Similaridad semántica | ❌                | ✅                   |\n",
        "| Escalabilidad         | Mala             | Buena               |\n",
        "| Uso en modelos        | Poco práctico    | Estándar en DL      |\n",
        "\n",
        "---\n"
      ],
      "metadata": {
        "id": "CZyYIiV51dpz"
      }
    },
    {
      "cell_type": "markdown",
      "source": [
        "# 🔷 C.3 Word2Vec: CBOW y Skip-gram\n",
        "\n",
        "## 📌 Introducción\n",
        "\n",
        "**Word2Vec** es una técnica de representación distribuida de palabras propuesta por Mikolov et al. (2013). Introdujo dos arquitecturas fundamentales:\n",
        "\n",
        "* **CBOW**: predice una palabra dada su ventana de contexto.\n",
        "* **Skip-gram**: predice el contexto a partir de una palabra central.\n",
        "\n",
        "Estas técnicas permiten entrenar **word embeddings densos** que capturan propiedades sintácticas y semánticas del lenguaje.\n",
        "\n",
        "![w2v.png](data:image/png;base64,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)"
      ],
      "metadata": {
        "id": "oIJRH23yn494"
      }
    },
    {
      "cell_type": "markdown",
      "source": [
        "---\n",
        "\n",
        "## 🧩 Arquitectura CBOW (Continuous Bag of Words)\n",
        "\n",
        "En **CBOW**, dado un contexto de $2c$ palabras alrededor de una palabra objetivo $w_t$, se entrena un modelo para predecir $w_t$.\n",
        "\n",
        "$$\n",
        "P(w_t \\mid w_{t-c}, \\dots, w_{t-1}, w_{t+1}, \\dots, w_{t+c})\n",
        "$$\n",
        "\n",
        "### 🧠 Arquitectura:\n",
        "\n",
        "1. Entrada: vectores one-hot de $2c$ palabras.\n",
        "2. Promedio de embeddings del contexto.\n",
        "3. Capa de salida softmax sobre todo el vocabulario.\n",
        "\n",
        "### 🧮 Fórmula:\n",
        "\n",
        "Sea $V$ el vocabulario y $\\mathbf{W} \\in \\mathbb{R}^{d \\times V}$ la matriz de embeddings.\n",
        "\n",
        "$$\n",
        "\\mathbf{v}_\\text{contexto} = \\frac{1}{2c} \\sum_{-c \\leq j \\leq c, j \\neq 0} \\mathbf{W} \\cdot \\mathbf{one\\_hot}(w_{t+j})\n",
        "$$\n",
        "\n",
        "$$\n",
        "P(w_t \\mid \\text{contexto}) = \\frac{\\exp(\\mathbf{v}_{w_t}^\\top \\cdot \\mathbf{v}_\\text{contexto})}{\\sum_{w' \\in V} \\exp(\\mathbf{v}_{w'}^\\top \\cdot \\mathbf{v}_\\text{contexto})}\n",
        "$$\n",
        "\n",
        "\n",
        "\n"
      ],
      "metadata": {
        "id": "rfdjQJAe6D4R"
      }
    },
    {
      "cell_type": "markdown",
      "source": [
        "# 🧠 Ejemplo CBOW en NumPy\n",
        "\n",
        "Este es un ejemplo sencillo para ilustrar el modelo **CBOW** con softmax.\n",
        "\n",
        "## 📌 Paso 1: Definir vocabulario y embeddings\n",
        "\n",
        "Tenemos un vocabulario pequeño de 5 palabras:\n",
        "\n",
        "- el  \n",
        "- gato  \n",
        "- duerme  \n",
        "- en  \n",
        "- cama  \n",
        "\n",
        "Y una matriz de embeddings $( W \\in \\mathbb{R}^{2 \\times 5} )$ de dimensión 2:\n",
        "\n",
        "$$\n",
        "W=\n",
        "\\begin{bmatrix}\n",
        "1.0 & 0.5 & -0.5 & 0.3 & 0.1 \\\\\n",
        "0.0 & 0.2 & 0.4  & -0.3 & 0.7\n",
        "\\end{bmatrix}\n",
        "$$\n",
        "\n",
        "Cada **columna** corresponde al embedding de una palabra.\n",
        "\n",
        "---\n",
        "\n",
        "## 📌 Paso 2: Contexto y target\n",
        "\n",
        "Oración: “… **gato** duerme **en** …”  \n",
        "- Target: `duerme`  \n",
        "- Contexto: {`gato`, `en`}  \n",
        "\n",
        "---\n",
        "\n",
        "## 📌 Paso 3: Calcular vector de contexto\n",
        "\n",
        "Promediamos los embeddings de “gato” y “en”:\n",
        "\n",
        "$$\n",
        "v_\\text{contexto} = \\tfrac{1}{2}\\big(v_\\text{gato} + v_\\text{en}\\big)\n",
        "= \\tfrac{1}{2}([0.5, 0.2] + [0.3, -0.3])\n",
        "= [0.4, -0.05]\n",
        "$$\n",
        "\n",
        "---\n",
        "\n",
        "## 📌 Paso 4: Puntajes para cada palabra\n",
        "\n",
        "Producto punto entre cada embedding y el vector de contexto:\n",
        "\n",
        "$$\n",
        "s_w = v_w^\\top v_\\text{contexto}\n",
        "$$\n",
        "\n",
        "- el → 0.400  \n",
        "- gato → 0.190  \n",
        "- duerme → -0.220  \n",
        "- en → 0.135  \n",
        "- cama → 0.005  \n",
        "\n",
        "---\n",
        "\n",
        "## 📌 Paso 5: Softmax\n",
        "\n",
        "Convertimos los puntajes en probabilidades:\n",
        "\n",
        "$$\n",
        "P(w \\mid contexto) = \\frac{e^{s_w}}{\\sum_{u} e^{s_u}}\n",
        "$$\n",
        "\n",
        "- P(el | contexto) ≈ 0.264  \n",
        "- P(gato | contexto) ≈ 0.214  \n",
        "- P(duerme | contexto) ≈ 0.142  \n",
        "- P(en | contexto) ≈ 0.203  \n",
        "- P(cama | contexto) ≈ 0.178  \n",
        "\n",
        "---\n",
        "\n",
        "## 📌 Paso 6: Interpretación\n",
        "\n",
        "El modelo aún no está entrenado, por eso la probabilidad correcta para **“duerme”** es solo **0.142**.  \n",
        "Durante el entrenamiento, los parámetros de $( W )$ se ajustan para que esa probabilidad aumente.\n",
        "\n"
      ],
      "metadata": {
        "id": "LqB2iUX3xOrQ"
      }
    },
    {
      "cell_type": "code",
      "source": [
        "import numpy as np\n",
        "\n",
        "# ===============================\n",
        "# Mini ejemplo CBOW en NumPy\n",
        "# ===============================\n",
        "\n",
        "# Vocabulario\n",
        "vocab = [\"el\", \"gato\", \"duerme\", \"en\", \"cama\"]\n",
        "V = len(vocab)\n",
        "d = 2  # dimensión de embeddings\n",
        "\n",
        "# Matriz de embeddings (columnas = palabras)\n",
        "W = np.array([\n",
        "    [1.0,  0.5, -0.5,  0.3,  0.1],\n",
        "    [0.0,  0.2,  0.4, -0.3,  0.7]\n",
        "])\n",
        "\n",
        "# Palabras objetivo y contexto\n",
        "target_word = \"duerme\"\n",
        "context_words = [\"gato\", \"en\"]\n",
        "\n",
        "# Mapear vocabulario a índices\n",
        "w2i = {w:i for i, w in enumerate(vocab)}\n",
        "\n",
        "# 1) Embeddings de las palabras de contexto y promedio\n",
        "context_vecs = [W[:, w2i[w]] for w in context_words]\n",
        "v_contexto = np.mean(context_vecs, axis=0)\n",
        "\n",
        "print(\"Vector de contexto:\", v_contexto)\n",
        "\n",
        "# 2) Puntajes = producto punto con cada palabra del vocabulario\n",
        "scores = W.T @ v_contexto   # (V,)\n",
        "print(\"\\nPuntajes (scores):\")\n",
        "for w, s in zip(vocab, scores):\n",
        "    print(f\"{w:>7}: {s:.3f}\")\n",
        "\n",
        "# 3) Softmax para obtener probabilidades\n",
        "exp_scores = np.exp(scores)\n",
        "probs = exp_scores / np.sum(exp_scores)\n",
        "\n",
        "print(\"\\nProbabilidades (softmax):\")\n",
        "for w, p in zip(vocab, probs):\n",
        "    print(f\"P({w:>7} | contexto) = {p:.3f}\")\n",
        "\n",
        "print(\"\\nProbabilidad correcta para 'duerme':\", probs[w2i[target_word]])\n"
      ],
      "metadata": {
        "colab": {
          "base_uri": "https://localhost:8080/"
        },
        "id": "X8vYXu2TxIOu",
        "outputId": "9820978f-e368-4424-97b9-584e2da5833f"
      },
      "execution_count": null,
      "outputs": [
        {
          "output_type": "stream",
          "name": "stdout",
          "text": [
            "Vector de contexto: [ 0.4  -0.05]\n",
            "\n",
            "Puntajes (scores):\n",
            "     el: 0.400\n",
            "   gato: 0.190\n",
            " duerme: -0.220\n",
            "     en: 0.135\n",
            "   cama: 0.005\n",
            "\n",
            "Probabilidades (softmax):\n",
            "P(     el | contexto) = 0.264\n",
            "P(   gato | contexto) = 0.214\n",
            "P( duerme | contexto) = 0.142\n",
            "P(     en | contexto) = 0.202\n",
            "P(   cama | contexto) = 0.178\n",
            "\n",
            "Probabilidad correcta para 'duerme': 0.14195977058342515\n"
          ]
        }
      ]
    },
    {
      "cell_type": "markdown",
      "source": [
        "---\n",
        "\n",
        "## 🔄 Arquitectura Skip-gram\n",
        "\n",
        "A diferencia de CBOW, **Skip-gram** trata de predecir el contexto de una palabra central $w_t$.\n",
        "\n",
        "$$\n",
        "P(w_{t-c}, \\dots, w_{t+c} \\mid w_t)\n",
        "$$\n",
        "\n",
        "Es decir, maximiza:\n",
        "\n",
        "$$\n",
        "\\prod_{-c \\leq j \\leq c, j \\neq 0} P(w_{t+j} \\mid w_t)\n",
        "$$\n",
        "\n",
        "### 🧠 Arquitectura:\n",
        "\n",
        "1. Entrada: vector one-hot de una sola palabra central.\n",
        "2. Salida: probabilidad para cada palabra del vocabulario.\n",
        "3. Optimización: se puede hacer para cada palabra del contexto de forma independiente.\n",
        "\n",
        "### 🧮 Fórmula:\n",
        "\n",
        "$$\n",
        "P(w_o \\mid w_i) = \\frac{\\exp(\\mathbf{v}_{w_o}^\\top \\cdot \\mathbf{v}_{w_i})}{\\sum_{w' \\in V} \\exp(\\mathbf{v}_{w'}^\\top \\cdot \\mathbf{v}_{w_i})}\n",
        "$$\n",
        "\n",
        "donde:\n",
        "\n",
        "* $w_i$: palabra central.\n",
        "* $w_o$: palabra de contexto.\n",
        "* $\\mathbf{v}_{w}$: embedding aprendido.\n",
        "\n",
        "---\n",
        "\n"
      ],
      "metadata": {
        "id": "-u2Qd9WDxCg7"
      }
    },
    {
      "cell_type": "markdown",
      "source": [
        "## 📌 Ejemplo numérico\n",
        "\n",
        "- Vocabulario: {el, gato, duerme, en, cama}  \n",
        "- Dimensión de embeddings: $(d = 2)$  \n",
        "- Matriz de embeddings (para simplificar, la misma en entrada y salida):\n",
        "\n",
        "$$\n",
        "W =\n",
        "\\begin{bmatrix}\n",
        "1.0 & 0.5 & -0.5 & 0.3 & 0.1 \\\\\n",
        "0.0 & 0.2 & \\ \\ 0.4 & -0.3 & 0.7\n",
        "\\end{bmatrix}\n",
        "$$\n",
        "\n",
        "Columnas = {el, gato, duerme, en, cama}.\n",
        "\n",
        "---\n",
        "\n",
        "### Ejemplo: “gato **duerme** en”\n",
        "\n",
        "- Palabra central: **duerme** → vector = $([-0.5, 0.4])$  \n",
        "- Contexto real: {gato, en}\n",
        "\n",
        "1. **Puntajes (producto punto)**\n",
        "\n",
        "- el → -0.50  \n",
        "- gato → -0.17  \n",
        "- duerme → 0.41  \n",
        "- en → -0.27  \n",
        "- cama → 0.23  \n",
        "\n",
        "2. **Softmax (probabilidades)**\n",
        "\n",
        "- P(el | duerme) ≈ 0.122  \n",
        "- P(gato | duerme) ≈ 0.169 ✅ contexto  \n",
        "- P(duerme | duerme) ≈ 0.302  \n",
        "- P(en | duerme) ≈ 0.153 ✅ contexto  \n",
        "- P(cama | duerme) ≈ 0.253  \n",
        "\n",
        "3. **Log-verosimilitud del contexto**\n",
        "\n",
        "$$\n",
        "\\log P(\\text{gato}\\mid\\text{duerme}) + \\log P(\\text{en}\\mid\\text{duerme})\n",
        "\\approx -3.659\n",
        "$$\n",
        "\n",
        "---\n"
      ],
      "metadata": {
        "id": "eTF6mozt1wsA"
      }
    },
    {
      "cell_type": "code",
      "source": [
        "import numpy as np\n",
        "\n",
        "# ----- Vocabulario y embeddings -----\n",
        "vocab = [\"el\", \"gato\", \"duerme\", \"en\", \"cama\"]\n",
        "V = len(vocab)\n",
        "d = 2\n",
        "\n",
        "# Para simplicidad, usamos la misma matriz para W_in y W_out\n",
        "W = np.array([\n",
        "    [1.0,  0.5, -0.5,  0.3,  0.1],\n",
        "    [0.0,  0.2,  0.4, -0.3,  0.7]\n",
        "])  # shape: (d, V)\n",
        "\n",
        "w2i = {w:i for i,w in enumerate(vocab)}\n",
        "\n",
        "# ----- Configuración del ejemplo -----\n",
        "center = \"duerme\"\n",
        "context = [\"gato\", \"en\"]\n",
        "\n",
        "v_in_center = W[:, w2i[center]]  # (d,)\n",
        "\n",
        "# Logits s_w' = (v_out_w')^T v_in_center\n",
        "scores = W.T @ v_in_center  # (V,)\n",
        "\n",
        "# Softmax\n",
        "exp_scores = np.exp(scores - np.max(scores))  # estabilidad numérica\n",
        "probs = exp_scores / exp_scores.sum()\n",
        "\n",
        "# Mostrar probabilidades\n",
        "print(\"Probabilidades P(w_o | 'duerme'):\")\n",
        "for w, p in zip(vocab, probs):\n",
        "    print(f\"  {w:7s}: {p:.3f}\")\n",
        "\n",
        "# Pérdida (neg log-like) para contexto verdadero\n",
        "ctx_idx = [w2i[w] for w in context]\n",
        "loss = -np.sum(np.log(probs[ctx_idx] + 1e-12))\n",
        "print(f\"\\nContexto verdadero: {context}\")\n",
        "print(f\"Pérdida (neg log-like) = {loss:.4f}\")\n"
      ],
      "metadata": {
        "colab": {
          "base_uri": "https://localhost:8080/"
        },
        "id": "ALWPosEf1d9_",
        "outputId": "a54c5a73-758a-47e1-b6d0-5ced3acd20a3"
      },
      "execution_count": null,
      "outputs": [
        {
          "output_type": "stream",
          "name": "stdout",
          "text": [
            "Probabilidades P(w_o | 'duerme'):\n",
            "  el     : 0.122\n",
            "  gato   : 0.169\n",
            "  duerme : 0.303\n",
            "  en     : 0.153\n",
            "  cama   : 0.253\n",
            "\n",
            "Contexto verdadero: ['gato', 'en']\n",
            "Pérdida (neg log-like) = 3.6505\n"
          ]
        }
      ]
    },
    {
      "cell_type": "markdown",
      "source": [
        "## 📏 Comparación entre CBOW y Skip-gram\n",
        "\n",
        "| Característica | CBOW                      | Skip-gram                  |\n",
        "| -------------- | ------------------------- | -------------------------- |\n",
        "| Predice        | Palabra central           | Palabras del contexto      |\n",
        "| Velocidad      | Más rápido                | Más lento                  |\n",
        "| Rendimiento    | Bueno para corpus grandes | Bueno para corpus pequeños |\n",
        "| Palabras raras | Pobre representación      | Mejor rendimiento          |\n",
        "| Objetivo       | Determinista (promedio)   | Estocástico (por pares)    |\n",
        "\n",
        "---\n",
        "\n",
        "## 🎯 Entrenamiento con ventanas de contexto\n",
        "\n",
        "El parámetro **window** controla el tamaño del contexto $c$. Por ejemplo, con `window=2`, el contexto de `w_t` incluye:\n",
        "\n",
        "$$\n",
        "[w_{t-2}, w_{t-1}, w_{t+1}, w_{t+2}]\n",
        "$$\n",
        "\n",
        "### 🔧 Implementación:\n",
        "\n"
      ],
      "metadata": {
        "id": "Q_ubyjvp0j1t"
      }
    },
    {
      "cell_type": "code",
      "source": [
        "from gensim.models import Word2Vec\n",
        "from nltk.tokenize import word_tokenize\n",
        "import nltk\n",
        "nltk.download('punkt')\n",
        "\n",
        "corpus = [\n",
        "    # Comer en la casa\n",
        "    \"El perro come en la casa\",\n",
        "    \"El gato come en la casa\",\n",
        "    \"El niño come en la casa\",\n",
        "    \"El señor come en la casa\",\n",
        "\n",
        "    # Dormir en el jardín\n",
        "    \"El perro duerme en el jardín\",\n",
        "    \"El gato duerme en el jardín\",\n",
        "    \"El niño duerme en el jardín\",\n",
        "    \"El señor duerme en el jardín\",\n",
        "\n",
        "    # Jugar en el parque\n",
        "    \"El perro juega en el parque\",\n",
        "    \"El gato juega en el parque\",\n",
        "    \"El niño juega en el parque\",\n",
        "    \"El señor juega en el parque\",\n",
        "\n",
        "    # Correr por el campo\n",
        "    \"El perro corre por el campo\",\n",
        "    \"El gato corre por el campo\",\n",
        "    \"El niño corre por el campo\",\n",
        "    \"El señor corre por el campo\",\n",
        "\n",
        "    # Saltar en la cama\n",
        "    \"El perro salta en la cama\",\n",
        "    \"El gato salta en la cama\",\n",
        "    \"El niño salta en la cama\",\n",
        "    \"El señor salta en la cama\",\n",
        "\n",
        "    # Beber agua en la casa\n",
        "    \"El perro bebe agua en la casa\",\n",
        "    \"El gato bebe agua en la casa\",\n",
        "    \"El niño bebe agua en la casa\",\n",
        "    \"El señor bebe agua en la casa\",\n",
        "\n",
        "    # Mirar al otro\n",
        "    \"El niño mira al gato\",\n",
        "    \"El niño mira al perro\",\n",
        "    \"El señor mira al gato\",\n",
        "    \"El señor mira al perro\",\n",
        "\n",
        "    \"El gato mira al niño\",\n",
        "    \"El gato mira al señor\",\n",
        "    \"El perro mira al niño\",\n",
        "    \"El perro mira al señor\"\n",
        "]\n",
        "\n",
        "\n",
        "\n",
        "tokenized_corpus = [word_tokenize(doc.lower()) for doc in corpus]\n",
        "\n",
        "# Entrenar modelo Skip-gram\n",
        "skipgram_model = Word2Vec(sentences=tokenized_corpus, vector_size=10, window=2, min_count=1, sg=1)\n",
        "\n",
        "# Entrenar modelo CBOW\n",
        "cbow_model = Word2Vec(sentences=tokenized_corpus, vector_size=10, window=2, min_count=1, sg=0)\n",
        "\n",
        "\n"
      ],
      "metadata": {
        "colab": {
          "base_uri": "https://localhost:8080/"
        },
        "id": "0DCa3Dn686kq",
        "outputId": "4ed9983e-8f48-4fe3-ddad-746a850e2000"
      },
      "execution_count": null,
      "outputs": [
        {
          "output_type": "stream",
          "name": "stderr",
          "text": [
            "[nltk_data] Downloading package punkt to /root/nltk_data...\n",
            "[nltk_data]   Unzipping tokenizers/punkt.zip.\n"
          ]
        }
      ]
    },
    {
      "cell_type": "markdown",
      "source": [
        "* `sg=1`: Skip-gram\n",
        "* `sg=0`: CBOW\n",
        "\n",
        "---\n",
        "\n",
        "## ⚙️ Técnicas de optimización\n",
        "\n",
        "### 🔸 1. Negative Sampling\n",
        "\n",
        "Evita el cálculo de softmax completo (muy costoso para vocabularios grandes). En lugar de calcular la probabilidad sobre todo $V$, se elige un pequeño número $k$ de palabras \"negativas\".\n",
        "\n",
        "#### 📐 Función objetivo:\n",
        "\n",
        "Para cada par positivo $(w_i, w_o)$ y $k$ pares negativos $(w_i, w_{neg})$:\n",
        "\n",
        "$$\n",
        "\\log \\sigma(\\mathbf{v}_{w_o}^\\top \\cdot \\mathbf{v}_{w_i}) + \\sum_{j=1}^k \\mathbb{E}_{w_{neg}} [\\log \\sigma(-\\mathbf{v}_{w_{neg}}^\\top \\cdot \\mathbf{v}_{w_i})]\n",
        "$$\n",
        "\n",
        "\n",
        "---\n",
        "\n",
        "## 🔍 Visualización de embeddings\n",
        "\n",
        "https://jalammar.github.io/illustrated-word2vec/\n",
        "\n",
        "### 🔸 Vectores y similitud\n",
        "\n"
      ],
      "metadata": {
        "id": "ywJPuXWm8_lt"
      }
    },
    {
      "cell_type": "code",
      "source": [
        "vector_gato = skipgram_model.wv['gato']\n",
        "similar_words = skipgram_model.wv.most_similar('gato')\n",
        "print(similar_words)\n",
        "\n"
      ],
      "metadata": {
        "colab": {
          "base_uri": "https://localhost:8080/"
        },
        "id": "FBmXFxz69YE9",
        "outputId": "a94b9e6a-a8ba-4fea-9739-5eab2f0b8eee"
      },
      "execution_count": null,
      "outputs": [
        {
          "output_type": "stream",
          "name": "stdout",
          "text": [
            "[('señor', 0.6142504811286926), ('agua', 0.39182791113853455), ('salta', 0.3430858254432678), ('niño', 0.25068002939224243), ('duerme', 0.14338283240795135), ('corre', 0.11130852997303009), ('al', 0.04287023842334747), ('juega', 0.027962833642959595), ('parque', -0.06528641283512115), ('bebe', -0.07879900187253952)]\n"
          ]
        }
      ]
    },
    {
      "cell_type": "markdown",
      "source": [
        "### 🔸 Analogías vectoriales"
      ],
      "metadata": {
        "id": "zXHOZIp09e5A"
      }
    },
    {
      "cell_type": "code",
      "source": [
        "result = skipgram_model.wv.most_similar(positive=['perro', 'come'], negative=['bebe'])\n",
        "print(\"Analogy:\", result)\n",
        "\n",
        "\n",
        "\n"
      ],
      "metadata": {
        "colab": {
          "base_uri": "https://localhost:8080/"
        },
        "id": "WiDzAEDZ9cND",
        "outputId": "db3e9b55-5c06-42ef-8f0e-906880f8810e"
      },
      "execution_count": null,
      "outputs": [
        {
          "output_type": "stream",
          "name": "stdout",
          "text": [
            "Analogy: [('campo', 0.5261618494987488), ('casa', 0.3713880479335785), ('señor', 0.3506588339805603), ('duerme', 0.32427969574928284), ('jardín', 0.3069121837615967), ('por', 0.2900807559490204), ('el', 0.2596660852432251), ('corre', 0.2309991717338562), ('mira', 0.22621291875839233), ('parque', 0.2223101109266281)]\n"
          ]
        }
      ]
    },
    {
      "cell_type": "markdown",
      "source": [
        "### 🔸 Proyección 2D con PCA"
      ],
      "metadata": {
        "id": "FCOqNU5A9kdL"
      }
    },
    {
      "cell_type": "code",
      "source": [
        "import matplotlib.pyplot as plt\n",
        "from sklearn.decomposition import PCA\n",
        "\n",
        "words = ['gato', 'perro', 'niño', 'señor', 'jardín']\n",
        "vectors = [skipgram_model.wv[w] for w in words]\n",
        "\n",
        "pca = PCA(n_components=2)\n",
        "coords = pca.fit_transform(vectors)\n",
        "\n",
        "plt.figure(figsize=(8, 6))\n",
        "for i, word in enumerate(words):\n",
        "    plt.scatter(coords[i, 0], coords[i, 1])\n",
        "    plt.text(coords[i, 0]+0.001, coords[i, 1]+0.001, word, fontsize=12)\n",
        "plt.title(\"Proyección PCA de Word Embeddings\")\n",
        "plt.grid(True)\n",
        "plt.show()\n",
        "\n",
        "\n"
      ],
      "metadata": {
        "colab": {
          "base_uri": "https://localhost:8080/",
          "height": 545
        },
        "id": "us708Bej9iXH",
        "outputId": "c979d920-fc9b-4597-c47f-f0ef20e289b7"
      },
      "execution_count": null,
      "outputs": [
        {
          "output_type": "display_data",
          "data": {
            "text/plain": [
              "<Figure size 800x600 with 1 Axes>"
            ],
            "image/png": "[encoded data removed]"
          },
          "metadata": {}
        }
      ]
    },
    {
      "cell_type": "markdown",
      "source": [
        "---\n",
        "\n",
        "## 🧪 Observaciones clave\n",
        "\n",
        "* Word2Vec **no necesita etiquetado**: es un método auto-supervisado.\n",
        "* Los vectores aprenden **relaciones semánticas y sintácticas**.\n",
        "* Los embeddings **preentrenados** (como los de Google News o fastText) pueden usarse como insumo para tareas de clasificación, traducción o resumen.\n",
        "* La estructura geométrica de los embeddings refleja **analogías** y relaciones semánticas.\n",
        "\n",
        "---\n",
        "\n"
      ],
      "metadata": {
        "id": "DIi_-w7S9oOY"
      }
    },
    {
      "cell_type": "markdown",
      "source": [
        "# 🔷 GloVe: Global Vectors for Word Representation\n",
        "\n",
        "## 📌 Motivación\n",
        "\n",
        "Aunque **Word2Vec** aprende representaciones de palabras eficaces utilizando **contextos locales**, **no utiliza información estadística global** del corpus. **GloVe** (Pennington, Socher y Manning, 2014) propone una solución que combina la eficiencia de Word2Vec con la solidez de los conteos globales, mejorando la **coherencia semántica de los vectores**.\n",
        "\n",
        "---\n",
        "\n",
        "## 🔄 Diferencias entre Word2Vec y GloVe\n",
        "\n",
        "| Característica        | Word2Vec                    | GloVe                                        |\n",
        "| --------------------- | --------------------------- | -------------------------------------------- |\n",
        "| Basado en             | Predicción (contexto local) | Factorización (conteo global)                |\n",
        "| Información utilizada | Ventanas locales            | Matriz global de coocurrencia                |\n",
        "| Modelo                | Red neuronal        | Optimización directa de una función objetivo |\n",
        "| Interpretabilidad     | Menor                       | Mayor                                        |\n",
        "\n",
        "---\n",
        "\n",
        "## 🧮 Matriz de coocurrencia global\n",
        "\n",
        "GloVe comienza construyendo una **matriz de coocurrencia** $X \\in \\mathbb{R}^{|V| \\times |V|}$, donde $X_{ij}$ es el número de veces que la palabra $j$ aparece en el contexto de la palabra $i$.\n",
        "\n",
        "A partir de esta matriz, se define:\n",
        "\n",
        "$$\n",
        "P_{ij} = \\frac{X_{ij}}{\\sum_k X_{ik}} = \\text{probabilidad de que } j \\text{ aparezca en el contexto de } i\n",
        "$$\n",
        "\n",
        "---\n",
        "\n",
        "## 🔧 Objetivo de GloVe\n",
        "\n",
        "Se busca que la diferencia entre embeddings de palabras refleje **proporciones semánticas**. Por ejemplo:\n",
        "\n",
        "$$\n",
        "\\frac{P_{ik}}{P_{jk}} \\approx \\frac{X_{ik}}{X_{jk}}\n",
        "$$\n",
        "\n",
        "Se define una función objetivo basada en la diferencia logarítmica de los conteos de coocurrencia:\n",
        "\n",
        "$$\n",
        "J = \\sum_{i,j=1}^{|V|} f(X_{ij}) \\left( \\mathbf{w}_i^\\top \\tilde{\\mathbf{w}}_j + b_i + \\tilde{b}_j - \\log X_{ij} \\right)^2\n",
        "$$\n",
        "\n",
        "* $\\mathbf{w}_i$: embedding de la palabra $i$\n",
        "* $\\tilde{\\mathbf{w}}_j$: embedding del contexto de la palabra $j$\n",
        "* $b_i, \\tilde{b}_j$: sesgos\n",
        "* $f(X_{ij})$: función de ponderación\n",
        "\n",
        "### 📉 Función de ponderación\n",
        "\n",
        "La función $f(x)$ se define como:\n",
        "\n",
        "$$\n",
        "f(x) = \\begin{cases}\n",
        "\\left( \\frac{x}{x_{\\text{max}}} \\right)^\\alpha & \\text{si } x < x_{\\text{max}} \\\\\n",
        "1 & \\text{en otro caso}\n",
        "\\end{cases}\n",
        "$$\n",
        "\n",
        "Con valores típicos: $\\alpha = 0.75$, $x_{\\text{max}} = 100$\n",
        "\n",
        "---\n",
        "\n",
        "## 🧠 Interpretación semántica\n",
        "\n",
        "GloVe busca que **las relaciones semánticas** se expresen como **diferencias vectoriales**:\n",
        "\n",
        "* $\\text{vec}(\\text{Rey}) - \\text{vec}(\\text{Hombre}) + \\text{vec}(\\text{Mujer}) \\approx \\text{vec}(\\text{Reina})$\n",
        "\n",
        "Gracias al uso de conteos globales, GloVe logra que vectores similares compartan contexto **a lo largo de todo el corpus**, no sólo en ventanas cercanas.\n",
        "\n",
        "---\n",
        "\n",
        "## 🧪 Ejemplo en Python: Cargar embeddings preentrenados de GloVe\n",
        "\n",
        "### 1. Descargar e importar embeddings\n",
        "\n"
      ],
      "metadata": {
        "id": "Oi_av6kgM-pe"
      }
    },
    {
      "cell_type": "code",
      "source": [
        "#!pip install gensim\n",
        "import numpy as np\n",
        "\n",
        "import gensim.downloader as api\n",
        "import matplotlib.pyplot as plt\n",
        "from sklearn.decomposition import PCA\n",
        "from sklearn.cluster import KMeans\n",
        "import seaborn as sns\n",
        "\n",
        "print(list(api.info()['models'].keys()))"
      ],
      "metadata": {
        "colab": {
          "base_uri": "https://localhost:8080/"
        },
        "id": "FUV5yLFyCF_n",
        "outputId": "e7e2c84c-9e59-4532-b2d6-b56fc53e896b"
      },
      "execution_count": null,
      "outputs": [
        {
          "output_type": "stream",
          "name": "stdout",
          "text": [
            "['fasttext-wiki-news-subwords-300', 'conceptnet-numberbatch-17-06-300', 'word2vec-ruscorpora-300', 'word2vec-google-news-300', 'glove-wiki-gigaword-50', 'glove-wiki-gigaword-100', 'glove-wiki-gigaword-200', 'glove-wiki-gigaword-300', 'glove-twitter-25', 'glove-twitter-50', 'glove-twitter-100', 'glove-twitter-200', '__testing_word2vec-matrix-synopsis']\n"
          ]
        }
      ]
    },
    {
      "cell_type": "code",
      "source": [
        "# --- 📌 Descargar el Modelo Word2Vec Preentrenado en Español ---\n",
        "print(\"Descargando embeddings preentrenados...\")\n",
        "model = api.load(\"glove-wiki-gigaword-200\")  # Modelo en español de 200 dimensiones\n",
        "\n",
        "# --- 📌 Verificar Dimensiones del Modelo ---\n",
        "print(f\"\\nDimensiones del embedding: {model.vector_size}\")  # Debe ser 200\n",
        "print(f\"Número total de palabras en el vocabulario: {len(model.key_to_index)}\")\n",
        "\n"
      ],
      "metadata": {
        "colab": {
          "base_uri": "https://localhost:8080/"
        },
        "id": "XDnX5tMBHe_F",
        "outputId": "e9cc351f-6395-42f7-b9c7-78d24ed8a419"
      },
      "execution_count": null,
      "outputs": [
        {
          "output_type": "stream",
          "name": "stdout",
          "text": [
            "Descargando embeddings preentrenados...\n",
            "[==================================================] 100.0% 252.1/252.1MB downloaded\n",
            "\n",
            "Dimensiones del embedding: 200\n",
            "Número total de palabras en el vocabulario: 400000\n"
          ]
        }
      ]
    },
    {
      "cell_type": "code",
      "source": [
        "model.word_vec('woman')"
      ],
      "metadata": {
        "colab": {
          "base_uri": "https://localhost:8080/"
        },
        "id": "vh73yx1BHjE9",
        "outputId": "33d492c3-12d2-4597-fbfa-7ca37a33cf15"
      },
      "execution_count": null,
      "outputs": [
        {
          "output_type": "stream",
          "name": "stderr",
          "text": [
            "/tmp/ipython-input-3355326174.py:1: DeprecationWarning: Call to deprecated `word_vec` (Use get_vector instead).\n",
            "  model.word_vec('woman')\n"
          ]
        },
        {
          "output_type": "execute_result",
          "data": {
            "text/plain": [
              "array([ 5.2487e-01, -1.1941e-01, -2.0242e-01, -6.2393e-01, -1.5380e-01,\n",
              "       -6.6337e-02, -3.6850e-01,  2.8649e-02,  1.3795e-01, -5.8782e-01,\n",
              "        6.0209e-01,  2.6054e-02,  7.0789e-01,  1.2033e-01, -1.7431e-02,\n",
              "        4.0336e-01, -3.1968e-01, -2.5061e-01,  1.6089e-01,  2.4765e-01,\n",
              "        7.7936e-01,  2.7407e+00,  1.1959e-01, -2.6753e-01, -3.8281e-01,\n",
              "       -3.3658e-01,  1.4104e-01, -4.6548e-01, -8.9208e-02,  2.2254e-01,\n",
              "       -3.6074e-02, -7.1014e-02,  6.2320e-01,  3.2277e-01,  4.1565e-01,\n",
              "       -3.6853e-02, -5.8286e-01, -6.2651e-01, -3.2617e-02,  2.7479e-01,\n",
              "       -2.6695e-01,  5.2769e-02, -1.0950e+00, -1.9976e-03, -7.4939e-01,\n",
              "       -1.9000e-02, -1.8762e-01, -5.1933e-01,  1.7159e-01,  4.4069e-01,\n",
              "        1.9079e-01, -4.5734e-02, -2.4307e-02,  2.3271e-01,  1.0218e-01,\n",
              "       -6.0279e-02, -2.6368e-01, -1.4909e-01,  4.3389e-01, -8.5142e-02,\n",
              "       -6.6142e-01, -6.2338e-02, -1.3792e-01,  4.5408e-01, -1.5140e-01,\n",
              "        1.1493e-01,  5.4865e-01,  2.8237e-01, -2.5513e-01,  1.1115e-01,\n",
              "       -8.4748e-02, -9.6632e-02,  4.8820e-01,  7.4807e-01, -6.7491e-01,\n",
              "        3.2195e-01, -8.9881e-01, -3.5816e-01,  8.5464e-02, -1.6739e-01,\n",
              "       -1.6011e-01, -1.0635e-01, -2.9665e-01, -3.0339e-01,  2.2931e-01,\n",
              "        6.5158e-02,  1.7036e-01, -2.0804e-01, -1.1293e-01, -1.5840e-01,\n",
              "       -1.8871e-01,  5.3869e-01, -3.5805e-02,  3.2677e-01, -3.1886e-01,\n",
              "        2.0108e-02, -1.1521e-01, -3.6740e-02,  5.9751e-02,  9.0983e-01,\n",
              "        1.5542e-01,  1.6394e-01,  3.5750e-01, -4.7579e-01, -3.5352e-02,\n",
              "       -1.3073e+00,  2.4032e-01,  1.2417e+00,  4.6318e-01, -2.9002e-02,\n",
              "        6.6379e-01, -2.2013e-01,  6.5741e-01, -2.3421e-01, -7.4354e-01,\n",
              "        8.9503e-02, -1.4127e-01,  3.5486e-01, -6.8705e-01, -9.5303e-02,\n",
              "       -1.5972e-01, -4.3602e-02,  5.3951e-02, -1.3318e-01,  4.4753e-01,\n",
              "        1.4129e-01,  2.7112e-02,  1.1818e-01,  2.0242e-01, -5.9818e-01,\n",
              "       -6.8347e-02, -1.5815e-01,  2.4293e-01,  8.8819e-02, -1.1622e-01,\n",
              "       -3.8268e-01,  1.3065e-01, -3.0062e-01, -8.4693e-01,  1.9016e-02,\n",
              "        6.4101e-01, -8.4244e-02,  7.8368e-01, -2.6366e-01,  1.9884e+00,\n",
              "       -7.3806e-02,  7.2197e-01,  4.8474e-02,  1.6207e-01,  3.4084e-01,\n",
              "       -1.8529e-01,  2.8566e-01, -2.3544e-01, -2.6994e-01, -5.2724e-01,\n",
              "        2.7486e-01,  6.5693e-01,  2.2057e-01, -6.8039e-01,  3.5910e-01,\n",
              "        2.5143e-01,  7.2440e-02,  2.5869e-01,  3.2251e-01,  3.5724e-02,\n",
              "       -3.8820e-01,  1.1889e-01, -2.9001e-01, -6.3223e-01, -1.4852e-01,\n",
              "       -1.2104e-01, -1.7406e-01,  2.4868e-01,  4.7454e-01, -2.5071e-01,\n",
              "       -5.2368e-01, -1.8273e-01, -8.3053e-01,  6.1511e-01, -3.8462e-01,\n",
              "        9.7492e-01,  4.4951e-01, -5.4256e-01, -3.1834e-01, -5.0781e-01,\n",
              "       -2.7374e-02, -1.2638e-01,  5.4248e-01,  4.8549e-01,  8.5529e-02,\n",
              "       -1.4251e-01,  8.7785e-02,  2.4719e-01, -2.3849e-01,  6.1457e-02,\n",
              "       -4.2313e-02,  3.5747e-01,  9.7392e-02, -3.5850e-01,  1.7027e-01],\n",
              "      dtype=float32)"
            ]
          },
          "metadata": {},
          "execution_count": 21
        }
      ]
    },
    {
      "cell_type": "code",
      "source": [
        "# --- 📌 Función para Realizar Aritmética de Palabras ---\n",
        "def aritmetica_palabras(palabra1, palabra2, palabra3, top = 1):\n",
        "    try:\n",
        "        resultado = model.most_similar(positive=[palabra1, palabra3], negative=[palabra2], topn=top)\n",
        "        #print(resultado)\n",
        "        print(f\"\\n{palabra1} - {palabra2} + {palabra3} = {resultado[0][0]} (Similitud: {resultado[0][1]:.4f})\")\n",
        "    except KeyError as e:\n",
        "        print(f\"Error: {e}\")\n",
        "\n",
        "# --- 📌 Ejemplos de Aritmética de Palabras ---\n",
        "aritmetica_palabras(\"king\", \"man\", \"woman\")  # Debería ser \"reina\"\n",
        "\n"
      ],
      "metadata": {
        "colab": {
          "base_uri": "https://localhost:8080/"
        },
        "id": "UUO9VH7iHm15",
        "outputId": "fa37e144-b35f-4a27-bd99-5f7fc75a9027"
      },
      "execution_count": null,
      "outputs": [
        {
          "output_type": "stream",
          "name": "stdout",
          "text": [
            "\n",
            "king - man + woman = queen (Similitud: 0.6979)\n"
          ]
        }
      ]
    },
    {
      "cell_type": "code",
      "source": [
        "aritmetica_palabras(\"madrid\", \"spain\", \"france\")\n",
        "aritmetica_palabras(\"gentleman\", \"man\", \"woman\", top=5)"
      ],
      "metadata": {
        "colab": {
          "base_uri": "https://localhost:8080/"
        },
        "id": "IeVqpvQHHrdi",
        "outputId": "91050627-9b4a-4f9f-e0a6-e42fd27304c9"
      },
      "execution_count": null,
      "outputs": [
        {
          "output_type": "stream",
          "name": "stdout",
          "text": [
            "\n",
            "madrid - spain + france = paris (Similitud: 0.7957)\n",
            "\n",
            "gentleman - man + woman = ladies (Similitud: 0.5190)\n"
          ]
        }
      ]
    },
    {
      "cell_type": "code",
      "source": [
        "model.most_similar('senegal', topn=5)"
      ],
      "metadata": {
        "colab": {
          "base_uri": "https://localhost:8080/"
        },
        "id": "biU64cEVHvXw",
        "outputId": "841c28ef-e46d-45db-ef3b-15d2db0c8694"
      },
      "execution_count": null,
      "outputs": [
        {
          "output_type": "execute_result",
          "data": {
            "text/plain": [
              "[('gambia', 0.7297487854957581),\n",
              " ('mali', 0.720116376876831),\n",
              " ('gabon', 0.7091537117958069),\n",
              " ('ghana', 0.6818678379058838),\n",
              " ('togo', 0.6796621084213257)]"
            ]
          },
          "metadata": {},
          "execution_count": 24
        }
      ]
    },
    {
      "cell_type": "code",
      "source": [
        "aritmetica_palabras(\"adults\", \"university\", \"schools\")"
      ],
      "metadata": {
        "colab": {
          "base_uri": "https://localhost:8080/"
        },
        "id": "RZjBSBs4vpnf",
        "outputId": "b5fc5790-ba85-4ead-a2bb-e3b6d2e7bac3"
      },
      "execution_count": null,
      "outputs": [
        {
          "output_type": "stream",
          "name": "stdout",
          "text": [
            "\n",
            "adults - university + schools = adolescents (Similitud: 0.6462)\n"
          ]
        }
      ]
    },
    {
      "cell_type": "markdown",
      "source": [
        "## 🔭 Visualización con PCA\n",
        "\n"
      ],
      "metadata": {
        "id": "_m2cCQ40CS_j"
      }
    },
    {
      "cell_type": "code",
      "source": [
        "# --- 📌 Seleccionar Palabras ---\n",
        "palabras_interesantes = [\"king\", \"queen\", \"prince\", \"madrid\", \"spain\", \"paris\", \"france\", \"italy\", \"rome\", \"botswana\", \"tokyo\", \"japan\", \"tobago\",\n",
        "                        \"car\", \"bus\", \"train\",\"cat\", \"dog\", \"bogota\", \"colombia\" ]\n",
        "\n",
        "\n",
        "# Obtener vectores\n",
        "vectores = np.array([model[word] for word in palabras_interesantes])\n",
        "\n",
        "\n",
        "\n",
        "\n"
      ],
      "metadata": {
        "id": "qQYxY8nrCV7V"
      },
      "execution_count": null,
      "outputs": []
    },
    {
      "cell_type": "code",
      "source": [
        "# --- 📌 Aplicar PCA ---\n",
        "pca = PCA(n_components=2)\n",
        "vectores_2d = pca.fit_transform(vectores)\n",
        "\n",
        "# --- 📌 Aplicar KMeans ---\n",
        "num_clusters = 4\n",
        "kmeans = KMeans(n_clusters=num_clusters, random_state=42)\n",
        "labels = kmeans.fit_predict(vectores)\n",
        "\n",
        "# --- 📌 Visualización ---\n",
        "plt.figure(figsize=(10, 7))\n",
        "sns.scatterplot(x=vectores_2d[:, 0], y=vectores_2d[:, 1], hue=labels, palette=\"viridis\", s=100)\n",
        "\n",
        "# Añadir etiquetas\n",
        "for i, word in enumerate(palabras_interesantes):\n",
        "    plt.text(vectores_2d[i, 0], vectores_2d[i, 1], word, fontsize=12, ha='right')\n",
        "\n",
        "plt.title(\"Visualización de Word2Vec con PCA y Clustering\")\n",
        "plt.xlabel(\"Componente Principal 1\")\n",
        "plt.ylabel(\"Componente Principal 2\")\n",
        "plt.legend(title=\"Cluster\")\n",
        "plt.show()\n"
      ],
      "metadata": {
        "colab": {
          "base_uri": "https://localhost:8080/",
          "height": 642
        },
        "id": "z82jdOisH47W",
        "outputId": "5dc8291e-e81c-4a1f-b1e6-d33ec8f02311"
      },
      "execution_count": null,
      "outputs": [
        {
          "output_type": "display_data",
          "data": {
            "text/plain": [
              "<Figure size 1000x700 with 1 Axes>"
            ],
            "image/png": "[encoded data removed]"
          },
          "metadata": {}
        }
      ]
    },
    {
      "cell_type": "markdown",
      "source": [
        "---\n",
        "\n",
        "## 📚 Conclusiones\n",
        "\n",
        "* GloVe modela explícitamente las **relaciones globales** de coocurrencia entre palabras.\n",
        "* Utiliza una **función de pérdida convexa**, lo que facilita su optimización eficiente.\n",
        "* Produce representaciones semánticas ricas, incluso para **analogías complejas**.\n",
        "* Puede combinarse con modelos clásicos o redes neuronales como input fijo (embeddings estáticos).\n",
        "\n",
        "---\n"
      ],
      "metadata": {
        "id": "o01IZjJSCgGD"
      }
    },
    {
      "cell_type": "markdown",
      "source": [
        "# 🔷 Embeddings fuera de vocabulario y soluciones\n",
        "\n",
        "Uno de los mayores desafíos en los modelos de lenguaje tradicionales basados en palabras completas es cómo manejar palabras **desconocidas o poco frecuentes**, es decir, **fuera de vocabulario (OOV, *Out-Of-Vocabulary*)**.\n",
        "\n",
        "---\n",
        "\n",
        "## 🔹 1. Palabras desconocidas (OOV)\n",
        "\n",
        "### ❓¿Qué es una palabra OOV?\n",
        "\n",
        "Una palabra OOV es aquella que no fue vista durante el entrenamiento del modelo de embeddings. Esto impide obtener una representación vectorial directamente, lo que puede causar fallos en el procesamiento.\n",
        "\n",
        "### 📉 Problemas de los modelos clásicos\n",
        "\n",
        "* `Word2Vec` y `GloVe` no pueden representar palabras no presentes en su vocabulario.\n",
        "* Los textos con errores tipográficos, neologismos, nombres raros o palabras técnicas suelen generar tokens OOV.\n",
        "\n",
        "**Ejemplo**:\n",
        "\n"
      ],
      "metadata": {
        "id": "rI9xmQv0P42L"
      }
    },
    {
      "cell_type": "code",
      "source": [
        "print(\"president\" in model)  # True\n",
        "print(\"presidentx\" in model)  # False\n"
      ],
      "metadata": {
        "colab": {
          "base_uri": "https://localhost:8080/"
        },
        "id": "Ohp4Xx5dEtsB",
        "outputId": "70cb76a7-8a9c-4f70-d46a-a91f665ef702"
      },
      "execution_count": null,
      "outputs": [
        {
          "output_type": "stream",
          "name": "stdout",
          "text": [
            "True\n",
            "False\n"
          ]
        }
      ]
    },
    {
      "cell_type": "markdown",
      "source": [
        "---\n",
        "\n",
        "## 🔹 2. Representación por caracteres\n",
        "\n",
        "Una solución es representar palabras no como unidades completas, sino a partir de sus **caracteres**.\n",
        "\n",
        "### 🧠 Idea:\n",
        "\n",
        "* Toda palabra se descompone en caracteres.\n",
        "* Se usan redes neuronales o modelos tipo RNN/CNN para combinar esos caracteres.\n",
        "\n",
        "### 📦 Implementaciones:\n",
        "\n",
        "* Char-CNN (Convolutional Neural Networks sobre caracteres).\n",
        "* ELMo usa caracteres como entrada.\n",
        "\n",
        "---\n",
        "\n",
        "## 🔹 3. Subword embeddings: FastText\n",
        "\n",
        "**FastText**, desarrollado por Facebook AI, extiende Word2Vec al incorporar **sub-palabras** (n-gramas de caracteres). Esto permite representar palabras no vistas.\n",
        "\n",
        "### 🔧 ¿Cómo funciona?\n",
        "\n",
        "* Cada palabra se representa como un conjunto de **n-gramas de caracteres**.\n",
        "* El embedding de la palabra es la suma o promedio de los vectores de sus subcomponentes.\n",
        "\n",
        "### 🧮 Fórmula general:\n",
        "\n",
        "$$\n",
        "\\vec{w} = \\frac{1}{|G(w)|} \\sum_{g \\in G(w)} \\vec{g}\n",
        "$$\n",
        "\n",
        "Donde:\n",
        "\n",
        "* $G(w)$: conjunto de n-gramas de la palabra $w$\n",
        "* $\\vec{g}$: vector asociado al n-grama\n",
        "\n",
        "### 🧪 Ejemplo en Python con `fasttext`:\n",
        "\n"
      ],
      "metadata": {
        "id": "wKUkhrjrE3En"
      }
    },
    {
      "cell_type": "code",
      "source": [
        "!pip install fasttext"
      ],
      "metadata": {
        "colab": {
          "base_uri": "https://localhost:8080/"
        },
        "id": "gGjca5RIJrMo",
        "outputId": "0c142dc6-cdc8-4469-e777-4728e1f4ef7d"
      },
      "execution_count": null,
      "outputs": [
        {
          "output_type": "stream",
          "name": "stdout",
          "text": [
            "Collecting fasttext\n",
            "  Downloading fasttext-0.9.3.tar.gz (73 kB)\n",
            "\u001b[?25l     \u001b[90m━━━━━━━━━━━━━━━━━━━━━━━━━━━━━━━━━━━━━━━━\u001b[0m \u001b[32m0.0/73.4 kB\u001b[0m \u001b[31m?\u001b[0m eta \u001b[36m-:--:--\u001b[0m\r\u001b[2K     \u001b[90m━━━━━━━━━━━━━━━━━━━━━━━━━━━━━━━━━━━━━━━━\u001b[0m \u001b[32m73.4/73.4 kB\u001b[0m \u001b[31m3.6 MB/s\u001b[0m eta \u001b[36m0:00:00\u001b[0m\n",
            "\u001b[?25h  Installing build dependencies ... \u001b[?25l\u001b[?25hdone\n",
            "  Getting requirements to build wheel ... \u001b[?25l\u001b[?25hdone\n",
            "  Preparing metadata (pyproject.toml) ... \u001b[?25l\u001b[?25hdone\n",
            "Collecting pybind11>=2.2 (from fasttext)\n",
            "  Using cached pybind11-3.0.0-py3-none-any.whl.metadata (10.0 kB)\n",
            "Requirement already satisfied: setuptools>=0.7.0 in /usr/local/lib/python3.12/dist-packages (from fasttext) (75.2.0)\n",
            "Requirement already satisfied: numpy in /usr/local/lib/python3.12/dist-packages (from fasttext) (1.26.4)\n",
            "Using cached pybind11-3.0.0-py3-none-any.whl (292 kB)\n",
            "Building wheels for collected packages: fasttext\n",
            "  Building wheel for fasttext (pyproject.toml) ... \u001b[?25l\u001b[?25hdone\n",
            "  Created wheel for fasttext: filename=fasttext-0.9.3-cp312-cp312-linux_x86_64.whl size=4487341 sha256=2d36120016973438a7fa5f896e2c0e09cac94be3cd4a69f5a940af0b96b0d2c4\n",
            "  Stored in directory: /root/.cache/pip/wheels/20/27/95/a7baf1b435f1cbde017cabdf1e9688526d2b0e929255a359c6\n",
            "Successfully built fasttext\n",
            "Installing collected packages: pybind11, fasttext\n",
            "Successfully installed fasttext-0.9.3 pybind11-3.0.0\n"
          ]
        }
      ]
    },
    {
      "cell_type": "code",
      "source": [
        "from google.colab import drive\n",
        "drive.mount('/content/drive')"
      ],
      "metadata": {
        "colab": {
          "base_uri": "https://localhost:8080/"
        },
        "id": "wD1-zN7AKjmZ",
        "outputId": "c02db5a8-a382-4522-b30a-e63f92ff80e2"
      },
      "execution_count": null,
      "outputs": [
        {
          "output_type": "stream",
          "name": "stdout",
          "text": [
            "Mounted at /content/drive\n"
          ]
        }
      ]
    },
    {
      "cell_type": "code",
      "source": [
        "import fasttext\n",
        "\n",
        "# Entrenamiento (opcional, o carga uno preentrenado)\n",
        "corpus_txt = 'drive/MyDrive/MeIA_2025/corpus.txt'\n",
        "model_FT = fasttext.train_unsupervised(corpus_txt, model='skipgram')\n",
        "\n",
        "# Consulta de palabra\n",
        "print(model_FT.get_word_vector(\"perro\"))  # Vector de 100 dimensiones\n",
        "print(model_FT.get_word_vector(\"perro4gato\"))  # También funciona\n",
        "\n"
      ],
      "metadata": {
        "colab": {
          "base_uri": "https://localhost:8080/"
        },
        "id": "lm2Gca-jFVQC",
        "outputId": "ae7f54d9-64cf-4a23-aa27-124c3f3c1038"
      },
      "execution_count": null,
      "outputs": [
        {
          "output_type": "stream",
          "name": "stdout",
          "text": [
            "[-1.31381315e-03 -1.85330934e-03  8.92043288e-04  3.95236420e-04\n",
            "  3.94629518e-04  6.40534039e-04 -1.63647556e-03  1.02996675e-03\n",
            " -5.16343396e-04 -8.83262488e-04 -1.34862377e-03 -6.54703123e-04\n",
            " -2.06399578e-04 -1.21608807e-03  1.44948310e-04  4.60332871e-04\n",
            "  5.41268557e-04  2.09121878e-04  2.38222608e-04 -6.83833205e-04\n",
            "  7.02670659e-04 -8.31721001e-04 -2.34182648e-04 -1.09656787e-04\n",
            " -3.44393397e-04  1.25402724e-03  3.56601726e-04  1.44749379e-03\n",
            " -4.76421410e-05  1.07433851e-04 -8.41150759e-04 -9.87821491e-04\n",
            " -1.34522765e-04 -6.71343587e-04  1.99622882e-04  2.66307325e-04\n",
            "  3.25747853e-04  7.23151607e-04 -4.93727384e-06 -2.22537012e-04\n",
            " -9.30814247e-04 -7.74699030e-04  1.15686504e-04 -9.19089885e-04\n",
            " -5.09540725e-04 -3.46241344e-04  1.03381975e-03 -2.29862751e-04\n",
            "  8.19100358e-04 -1.73792825e-03  4.57301445e-04 -1.13526406e-03\n",
            "  4.21012432e-04 -5.91773773e-04 -5.29835743e-05  9.36926153e-05\n",
            "  1.51512714e-03 -2.31141763e-04  1.50127773e-04  2.06862853e-04\n",
            "  9.42412589e-04  2.48263765e-04 -6.18855935e-04  1.55191283e-05\n",
            " -1.06259517e-03 -7.21987599e-05 -3.64662817e-04  6.20562234e-04\n",
            " -9.52055329e-04 -7.87141093e-04 -7.08544248e-05 -6.68166147e-04\n",
            " -3.15327867e-04 -7.98596360e-04 -7.97609973e-04 -1.00187038e-03\n",
            "  1.04462041e-03  1.01783051e-04  6.02315122e-04  5.70422970e-04\n",
            "  3.45940614e-04  4.23603924e-04  1.69299426e-03 -9.47937253e-04\n",
            "  2.80525535e-04  1.56752736e-04  5.05075091e-04 -6.38680067e-05\n",
            "  4.75882960e-04  3.48808739e-04  6.71102607e-04  4.64253884e-04\n",
            "  8.27802054e-04  3.39595106e-04 -2.98539642e-04  3.35236400e-04\n",
            "  1.16746442e-03  7.98903173e-04  6.56041375e-04 -5.28542267e-04]\n",
            "[-3.05940077e-04 -8.93970602e-04  6.41049410e-04  3.11635667e-04\n",
            "  3.62175982e-04  9.38579251e-05 -4.66402416e-04  5.55355335e-04\n",
            "  3.73167131e-05 -4.33378678e-04 -5.03127056e-04 -3.68300127e-04\n",
            " -2.33165483e-04 -5.93623961e-04  2.43071554e-04  1.19794022e-04\n",
            "  5.12435625e-04  2.06966579e-04 -1.48537190e-04 -3.15831712e-04\n",
            "  1.43651952e-04 -5.06376498e-04  8.28083794e-05  8.15940220e-05\n",
            " -4.26351646e-04  4.38321498e-04  1.53831752e-05  7.90798920e-04\n",
            "  1.09902103e-04 -1.07665626e-04 -5.49349934e-04 -1.85162702e-04\n",
            " -2.23804484e-04 -4.50800551e-04  3.05337511e-04  3.85452178e-04\n",
            " -2.28745284e-05  1.27915351e-04 -2.89865100e-04 -1.64428391e-04\n",
            " -1.68080558e-04 -5.35163330e-04 -2.16286688e-04 -4.81864263e-04\n",
            "  6.89627122e-05 -2.80502194e-04  1.96236040e-04 -8.19491324e-05\n",
            "  3.14936362e-04 -4.71034698e-04  2.91758508e-04 -6.32592710e-04\n",
            "  4.34180780e-04 -3.93006369e-04  2.56370084e-04  1.87108744e-04\n",
            "  6.62635954e-04  1.17281124e-04  3.01413733e-04 -1.29653214e-04\n",
            "  1.68099883e-04  1.30045053e-04 -1.04009283e-04  1.13727940e-04\n",
            " -5.58194122e-04  2.22400660e-04 -4.70488412e-05  1.52842622e-04\n",
            " -2.87421717e-04 -1.70085128e-04 -7.90746271e-05 -3.66797642e-04\n",
            " -1.12953472e-04 -3.27049522e-04 -1.37554307e-04 -3.19790619e-04\n",
            "  4.45004436e-04  2.46146024e-04  4.42921242e-04  2.42046444e-04\n",
            "  6.44587781e-05  2.87370058e-04  7.01823796e-04 -5.64014190e-04\n",
            "  2.90263240e-04 -7.07557119e-05  4.98176232e-05  4.68909420e-05\n",
            " -3.64651969e-05  2.03590622e-04  4.75210865e-04  3.01516760e-04\n",
            "  2.88624811e-04  2.79775151e-04 -1.68575338e-04  2.14819273e-04\n",
            "  1.97757166e-04  6.03797613e-04  1.74765417e-04 -5.28664168e-05]\n"
          ]
        }
      ]
    },
    {
      "cell_type": "markdown",
      "source": [
        "📌 *Incluso una palabra inventada tiene representación si sus n-gramas fueron vistos.*\n",
        "\n",
        "---\n",
        "\n",
        "## 🔹 4. Byte Pair Encoding (BPE)\n",
        "\n",
        "### 🧠 ¿Qué es BPE?\n",
        "\n",
        "Es una técnica de **segmentación basada en frecuencias**, originalmente usada para compresión, adaptada al PLN para tokenización robusta.\n",
        "\n",
        "### ⚙️ Funcionamiento:\n",
        "\n",
        "1. Inicialmente cada palabra se representa como una secuencia de caracteres.\n",
        "2. Iterativamente se combinan los pares de caracteres (o subpalabras) más frecuentes.\n",
        "3. Se construye un **vocabulario de subunidades óptimo**.\n",
        "\n",
        "### ✨ Ventaja:\n",
        "\n",
        "* Maneja palabras raras dividiéndolas en fragmentos comunes.\n",
        "* Permite vocabularios más pequeños con mayor cobertura.\n",
        "\n",
        "### 🧪 Ejemplo con `tokenizers` (HuggingFace):\n",
        "\n"
      ],
      "metadata": {
        "id": "KXvWA-V_FZ8Y"
      }
    },
    {
      "cell_type": "code",
      "source": [
        "from tokenizers import Tokenizer, models, pre_tokenizers, trainers\n",
        "\n",
        "tokenizer = Tokenizer(models.BPE())\n",
        "tokenizer.pre_tokenizer = pre_tokenizers.Whitespace()\n",
        "trainer = trainers.BpeTrainer(vocab_size=1000)\n",
        "\n",
        "corpus = [\"El gato duerme tranquilo\", \"Desinformación masiva en redes\"]\n",
        "tokenizer.train_from_iterator(corpus, trainer)\n",
        "\n",
        "print(tokenizer.encode(\"desinformación\").tokens)\n",
        "# Ejemplo de salida: ['des', 'información']\n",
        "\n",
        "\n"
      ],
      "metadata": {
        "colab": {
          "base_uri": "https://localhost:8080/"
        },
        "id": "XFns9JOtFeic",
        "outputId": "bb485189-7e75-49f8-cccc-4c26b59fddb6"
      },
      "execution_count": null,
      "outputs": [
        {
          "output_type": "stream",
          "name": "stdout",
          "text": [
            "['des', 'in', 'forma', 'ción']\n"
          ]
        }
      ]
    },
    {
      "cell_type": "markdown",
      "source": [
        "---\n",
        "\n",
        "## 🔹 5. Tokenización y vocabularios dinámicos\n",
        "\n",
        "Las técnicas modernas (como BPE, WordPiece y SentencePiece) permiten que el **vocabulario se adapte** a corpus más amplios o personalizados.\n",
        "\n",
        "### 📚 Ejemplos de tokenizadores:\n",
        "\n",
        "* **WordPiece** → usado por BERT.\n",
        "* **SentencePiece** → usado por T5, mBART, GPT-J.\n",
        "* **Byte-Level BPE** → usado por GPT-2 y GPT-3.\n",
        "\n",
        "### 🧪 Código: Tokenización tipo BERT\n",
        "\n"
      ],
      "metadata": {
        "id": "W9MCyVMHFvR_"
      }
    },
    {
      "cell_type": "code",
      "source": [
        "from transformers import BertTokenizer\n",
        "\n",
        "tokenizer = BertTokenizer.from_pretrained(\"bert-base-multilingual-cased\")\n",
        "tokens = tokenizer.tokenize(\"Desinformación tecnológica\")\n",
        "print(tokens)\n",
        "\n",
        "\n"
      ],
      "metadata": {
        "colab": {
          "base_uri": "https://localhost:8080/",
          "height": 286,
          "referenced_widgets": [
            "0fe6e902bfcf4c12829e84f80ca4749f",
            "ae3341be919f4aa383f4a14ad2cc15db",
            "ba49b51d44b5484f80eef45d4035ce1f",
            "f480f78a76c5472194b3c6547c6363cb",
            "2d6e3b03808a4e9985f4e5e8d4e8d1cd",
            "dc08742ca6584140b8eba1d339ff9aa3",
            "ce9dbdc8ec734746a96d41547ad5eb60",
            "a6213e3f04f74ccb81e2f7863abe2495",
            "d9fe87340998499b8be78152990f468e",
            "1c028670b91d45ad888b974e652701d4",
            "8af3b8579bcc41538cb0456f9a6a78c4",
            "fea68c6214934a458aaf4a3c6d97f5f4",
            "2d36779671544ceaa0836b0db84526ed",
            "ee2268773f4a45d89f9a57353344409a",
            "f5f6e007b1af416cb0dba19fa45a8725",
            "ad607140766848f9b6a655e9e2eef6f2",
            "946d2b8a39aa4451b3350f63d6d40186",
            "943756afe80642388e20dafa2f279bf3",
            "a60d0fe124924e53ac1e7e1c905de95d",
            "85ccb683248043f9a7956f01410679af",
            "fed69a9ff4fa424c80868b78e5aea181",
            "9f7f35901df84e8f8a6e7c40d23faa9c",
            "f0479f0c2207492abba129e28e2837e7",
            "5ea9d4623d494c0c89fdd23adaec883a",
            "a0444a368fb64c61bbd8c0e4308485ff",
            "ba1edd28154c494b8e1066acbab86ef3",
            "bf5f0d334de548ed9a2a6406eeede5dc",
            "fad1494c4ed84146b2e0bd68e0c6ee9a",
            "ae845b608f8a4b1fbdb8d7d0ba65f14f",
            "705c1459e8b943df904d6db6fc23bcc3",
            "f429617ce174440386ee77d818d1f65f",
            "d223d1755b474118a77bbeac0de055ec",
            "7a66ee10754e4eec8d74420884ce96ad",
            "ed014967647e4c37b86d8f6a26edb3b0",
            "09d642c9b15e4fabbd163622941fdba3",
            "148143d6139e443888d3b34e820bede4",
            "30124141e982473ab0a94c86f5a0a0e0",
            "7961459d39e6423b82cc67abb212a5cf",
            "33da206fc9e3467ab8478739698775c4",
            "fc01a81ec81f400a8c51fd5343e01f4e",
            "fcca11a3fec34b6485792598447b5bb8",
            "24a2bbc6e4d94fb3a702719155f0079a",
            "b27d159291704ac3810306da1d709cca",
            "79b44acaaabe4846aeb8bdbf324a9578"
          ]
        },
        "id": "KoRp-FSWFy2x",
        "outputId": "1df5955a-f07d-425b-db15-0b2ed7cc088c"
      },
      "execution_count": null,
      "outputs": [
        {
          "output_type": "stream",
          "name": "stderr",
          "text": [
            "/usr/local/lib/python3.11/dist-packages/huggingface_hub/utils/_auth.py:94: UserWarning: \n",
            "The secret `HF_TOKEN` does not exist in your Colab secrets.\n",
            "To authenticate with the Hugging Face Hub, create a token in your settings tab (https://huggingface.co/settings/tokens), set it as secret in your Google Colab and restart your session.\n",
            "You will be able to reuse this secret in all of your notebooks.\n",
            "Please note that authentication is recommended but still optional to access public models or datasets.\n",
            "  warnings.warn(\n"
          ]
        },
        {
          "output_type": "display_data",
          "data": {
            "text/plain": [
              "tokenizer_config.json:   0%|          | 0.00/49.0 [00:00<?, ?B/s]"
            ],
            "application/vnd.jupyter.widget-view+json": {
              "version_major": 2,
              "version_minor": 0,
              "model_id": "0fe6e902bfcf4c12829e84f80ca4749f"
            }
          },
          "metadata": {}
        },
        {
          "output_type": "display_data",
          "data": {
            "text/plain": [
              "vocab.txt:   0%|          | 0.00/996k [00:00<?, ?B/s]"
            ],
            "application/vnd.jupyter.widget-view+json": {
              "version_major": 2,
              "version_minor": 0,
              "model_id": "fea68c6214934a458aaf4a3c6d97f5f4"
            }
          },
          "metadata": {}
        },
        {
          "output_type": "display_data",
          "data": {
            "text/plain": [
              "tokenizer.json:   0%|          | 0.00/1.96M [00:00<?, ?B/s]"
            ],
            "application/vnd.jupyter.widget-view+json": {
              "version_major": 2,
              "version_minor": 0,
              "model_id": "f0479f0c2207492abba129e28e2837e7"
            }
          },
          "metadata": {}
        },
        {
          "output_type": "display_data",
          "data": {
            "text/plain": [
              "config.json:   0%|          | 0.00/625 [00:00<?, ?B/s]"
            ],
            "application/vnd.jupyter.widget-view+json": {
              "version_major": 2,
              "version_minor": 0,
              "model_id": "ed014967647e4c37b86d8f6a26edb3b0"
            }
          },
          "metadata": {}
        },
        {
          "output_type": "stream",
          "name": "stdout",
          "text": [
            "['Des', '##in', '##forma', '##ción', 'te', '##c', '##nol', '##ógica']\n"
          ]
        }
      ]
    },
    {
      "cell_type": "markdown",
      "source": [
        "💡 El prefijo `##` indica fragmento unido a una raíz anterior.\n",
        "\n",
        "---\n",
        "\n",
        "## 📌 Conclusiones\n",
        "\n",
        "* Los embeddings clásicos fallan ante OOVs, especialmente en dominios abiertos.\n",
        "* FastText y BPE solucionan el problema mediante subpalabras.\n",
        "* Tokenización basada en unidades subléxicas permite modelos más robustos y generalizables.\n",
        "* Hoy en día, todos los modelos modernos utilizan alguna forma de **tokenización dinámica**.\n",
        "\n",
        "---\n"
      ],
      "metadata": {
        "id": "_0OXmevrF14h"
      }
    },
    {
      "cell_type": "markdown",
      "source": [
        "# 🔷 Embeddings contextuales (introducción conceptual)\n",
        "\n",
        "A medida que las tareas de Procesamiento de Lenguaje Natural (PLN) se han vuelto más complejas, surgió la necesidad de contar con representaciones más **contextuales** del lenguaje. Esta sección introduce el salto conceptual de los **embeddings estáticos** hacia los **embeddings dinámicos o contextuales**, como los generados por modelos tipo ELMo o BERT.\n",
        "\n",
        "---\n",
        "\n",
        "## 🔹 1. Embeddings estáticos vs contextuales\n",
        "\n",
        "| Característica             | Embeddings estáticos (Word2Vec, GloVe)                   | Embeddings contextuales (ELMo, BERT) |\n",
        "| -------------------------- | -------------------------------------------------------- | ------------------------------------ |\n",
        "| Representación por palabra | Única, fija para cada palabra                            | Variable según el contexto           |\n",
        "| Tamaño del vocabulario     | Limitado, fijo                                           | Más flexible (tokenización dinámica) |\n",
        "| Tratamiento del contexto   | No se considera                                          | Se modela explícitamente             |\n",
        "| Ejemplo de “banco”         | Mismo vector para “banco de dinero” y “banco del parque” | Vectores distintos según el uso      |\n",
        "\n",
        "---\n",
        "\n",
        "## 🔹 2. Limitaciones de Word2Vec y GloVe\n",
        "\n",
        "Los modelos como **Word2Vec** o **GloVe** representan cada palabra con un solo vector, sin importar dónde o cómo se usa:\n",
        "\n"
      ],
      "metadata": {
        "id": "28RkgXr7SD7X"
      }
    },
    {
      "cell_type": "code",
      "source": [
        "print(model[\"bank\"])  # Mismo vector para todos los contextos"
      ],
      "metadata": {
        "colab": {
          "base_uri": "https://localhost:8080/"
        },
        "id": "odc40IGVM_C5",
        "outputId": "2d87f23c-4839-4ac8-8e8f-e8601a40c069"
      },
      "execution_count": null,
      "outputs": [
        {
          "output_type": "stream",
          "name": "stdout",
          "text": [
            "[ 7.2956e-01  3.5777e-01  5.5383e-01 -3.5752e-01 -3.2615e-01  3.6247e-01\n",
            "  2.9063e-01 -6.3978e-01 -1.7506e-01  1.5504e-01  1.0415e-01 -5.1271e-01\n",
            "  9.3202e-01 -1.2262e-01  9.8649e-01 -1.2122e-01  3.3762e-01 -3.9356e-01\n",
            "  1.5375e-01 -7.9463e-01 -1.1161e+00  2.9704e+00  2.9807e-02 -7.2030e-01\n",
            " -9.1919e-01 -2.2316e-01 -1.4792e-01  3.2724e-01 -3.7910e-01 -3.8252e-04\n",
            " -6.1861e-02 -1.9998e-01 -3.7516e-01 -3.1042e-01 -3.4928e-01  2.6917e-01\n",
            " -1.2687e+00 -4.0969e-01 -4.6101e-01 -2.1521e-02  1.7466e-01 -1.6865e-01\n",
            " -3.5862e-02  8.2123e-01 -1.5955e-01  3.1934e-01  2.1998e-01  3.3535e-01\n",
            " -5.6627e-02 -1.5819e-01 -3.5589e-01  1.4230e-01  6.2255e-01 -4.9974e-01\n",
            " -8.3606e-02 -2.6989e-01 -8.9952e-01 -4.6342e-02  3.2022e-02  1.0327e-01\n",
            "  3.3622e-01  2.0475e-01 -6.2853e-01  4.4842e-01  3.5278e-01 -1.9815e-01\n",
            "  6.4779e-01  5.8458e-01 -9.4399e-01  6.8133e-01  4.8901e-01 -9.8351e-02\n",
            "  5.3331e-02  6.3175e-01  4.1265e-01  1.8172e+00  3.1897e-01  5.9285e-01\n",
            "  7.1838e-01 -3.3949e-01 -3.5445e-01 -2.2761e-01  2.6428e-02  3.4921e-01\n",
            " -1.1478e+00  2.9047e-02 -3.9800e-01  1.0707e-01  5.4653e-01 -6.0054e-01\n",
            "  2.3572e-01  3.6921e-01 -5.4320e-01  1.7516e-01 -6.2876e-01  2.8101e-01\n",
            " -3.4113e-01 -7.0628e-01 -7.2481e-01 -6.5666e-01 -5.0750e-02 -2.6249e-01\n",
            "  6.0736e-01  9.5152e-02 -6.9452e-01  1.0780e-01 -6.7303e-01  1.1250e+00\n",
            "  1.5607e-01 -3.8808e-01 -5.6541e-01  1.3791e-01  5.0549e-03  8.1202e-01\n",
            " -1.0848e-01  1.8366e-01  7.1187e-01  8.6590e-01  8.3279e-03  3.7724e-01\n",
            "  4.8941e-01  2.9336e-01  7.0003e-01  1.2272e+00 -3.2868e-01 -5.6278e-01\n",
            "  1.1576e-01  7.7891e-01 -1.7701e-01 -4.2701e-01 -4.1402e-01 -5.5757e-01\n",
            "  2.1388e-01  1.8901e-01  2.0436e-02  5.2384e-01  5.7053e-02 -8.0505e-01\n",
            "  2.7159e-01 -1.6246e-02  6.5233e-01 -3.6072e-01 -1.8977e-01  2.3141e-01\n",
            "  9.6372e-01  6.8573e-01  8.9752e-01 -5.8609e-01 -2.7969e-02 -1.8141e-01\n",
            " -1.0592e-01 -6.5116e-01  9.7129e-01  1.7987e-01  4.2711e-01  2.7691e-01\n",
            " -2.3611e-01  2.0082e-02  2.4910e-01 -9.5747e-01 -3.3507e-01 -3.3410e-01\n",
            " -1.9679e-01  3.8206e-01 -7.4201e-02  2.6827e-01  8.8637e-01 -3.0589e-01\n",
            "  2.1128e-01  5.5454e-01  3.6651e-01 -8.3144e-03 -2.7322e-01 -8.5839e-01\n",
            "  4.7052e-01 -1.2011e-01 -5.2408e-01  2.2528e-01  2.1515e-01  8.1623e-02\n",
            "  8.3006e-01  5.6337e-01  6.8428e-02  3.5617e-01  4.6650e-01  6.9120e-01\n",
            " -4.2063e-01  2.4326e-01  8.6751e-01 -5.0475e-01  3.2937e-01  6.2420e-01\n",
            "  4.2423e-01 -5.0745e-01  5.3341e-01  1.1197e+00  2.5187e-01  4.9687e-01\n",
            "  7.1164e-03  4.8892e-01]\n"
          ]
        }
      ]
    },
    {
      "cell_type": "markdown",
      "source": [
        "### ❌ Problemas:\n",
        "\n",
        "* Ambigüedad léxica no resuelta.\n",
        "* No distingue entre significados múltiples (\"banco\", \"pico\", \"ratón\").\n",
        "* No captura relaciones a largo plazo en la oración.\n",
        "\n",
        "---\n",
        "\n",
        "## 🔹 3. Motivación para embeddings dinámicos\n",
        "\n",
        "El objetivo es que **una palabra adquiera diferente representación** dependiendo del contexto en el que aparece:\n",
        "\n",
        "> 📌 *\"You shall know a word by the company it keeps\"*\n",
        "\n",
        "### ✅ Ejemplos:\n",
        "\n",
        "* “El **banco** aprobó el préstamo.” → sentido financiero\n",
        "* “Nos sentamos en el **banco** del parque.” → sentido físico\n",
        "\n",
        "Un modelo contextual debería capturar estas diferencias.\n",
        "\n",
        "---\n",
        "\n",
        "## 🔹 4. Primer paso: ELMo\n",
        "\n",
        "**ELMo (Embeddings from Language Models)** fue el primer gran modelo en generar representaciones **contextualizadas** mediante una arquitectura basada en LSTM bidireccionales.\n",
        "\n",
        "### 🧠 Arquitectura:\n",
        "\n",
        "* Usa una red LSTM entrenada como modelo de lenguaje bidireccional.\n",
        "* Combina representaciones de múltiples capas (word-level + context).\n",
        "\n",
        "### 🧮 Fórmula básica:\n",
        "\n",
        "$$\n",
        "\\text{ELMo}_k = \\gamma \\sum_{j=0}^{L} s_j \\cdot h_{k,j}\n",
        "$$\n",
        "\n",
        "* $h_{k,j}$: representación de la palabra $k$ en la capa $j$\n",
        "* $s_j$: ponderaciones aprendibles por capa\n",
        "* $\\gamma$: escalar de ajuste\n",
        "\n",
        "---\n",
        "\n",
        "## 🔹 5. Anticipando a BERT y Transformers\n",
        "\n",
        "### 📍BERT (Bidirectional Encoder Representations from Transformers)\n",
        "\n",
        "* Entrenado con **Masked Language Modeling**, lo cual le permite entender el contexto **a izquierda y derecha** de una palabra.\n",
        "* Utiliza **autoatención** (self-attention), no secuencias recurrentes como LSTM.\n",
        "\n",
        "### ⚠️ A diferencia de ELMo:\n",
        "\n",
        "* BERT entrena de forma más paralelizable.\n",
        "* No requiere recorrer la oración palabra por palabra.\n",
        "* Permite obtener embeddings **tokenizados y contextualizados**.\n",
        "\n",
        "---\n",
        "\n",
        "## 🔸 Ejemplo comparativo ilustrativo\n",
        "\n",
        "```text\n",
        "Frase 1: \"El banco está cerrado por reformas.\"\n",
        "Frase 2: \"Caminamos hasta el banco junto al lago.\"\n",
        "```\n",
        "\n",
        "| Modelo   | banco (F1)              | banco (F2)               |\n",
        "| -------- | ----------------------- | ------------------------ |\n",
        "| Word2Vec | \\[0.23, -0.54, 0.31, …] | \\[0.23, -0.54, 0.31, …]  |\n",
        "| ELMo     | \\[0.12, 0.05, -0.87, …] | \\[0.67, -0.34, 0.11, …]  |\n",
        "| BERT     | \\[0.19, -0.12, 0.45, …] | \\[0.71, -0.43, -0.05, …] |\n",
        "\n",
        "🧠 *Se observa cómo los embeddings contextuales son sensibles a la oración completa.*\n",
        "\n",
        "---\n",
        "\n",
        "## 🔹 6. Beneficios de los embeddings contextuales\n",
        "\n",
        "* 📈 Mejoran en casi todas las tareas de PLN.\n",
        "* 🧠 Capturan ambigüedad y relaciones semánticas complejas.\n",
        "* 💡 Son base para tareas como respuesta a preguntas, inferencia, análisis de sentimientos, etc.\n",
        "\n",
        "---\n",
        "\n"
      ],
      "metadata": {
        "id": "k_LUQSazNpks"
      }
    }
  ]
}