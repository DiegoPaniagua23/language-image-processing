{
 "cells": [
  {
   "cell_type": "markdown",
   "id": "792ae35f",
   "metadata": {},
   "source": [
    "## 1. Descripción del corpus"
   ]
  },
  {
   "cell_type": "markdown",
   "id": "037d3195",
   "metadata": {},
   "source": [
    "Librerias"
   ]
  },
  {
   "cell_type": "code",
   "execution_count": null,
   "id": "29a2d53f",
   "metadata": {},
   "outputs": [],
   "source": [
    "import os\n",
    "import re\n",
    "import nltk\n",
    "import ftfy\n",
    "import spacy\n",
    "import numpy as np\n",
    "import pandas as pd\n",
    "import seaborn as sns\n",
    "import matplotlib.pyplot as plt\n",
    "\n",
    "from sklearn.feature_extraction.text import CountVectorizer, TfidfVectorizer\n",
    "from sklearn.metrics import accuracy_score, f1_score, classification_report\n",
    "from sklearn.feature_selection import chi2, mutual_info_classif\n",
    "from sklearn.model_selection import train_test_split\n",
    "from sklearn.linear_model import LogisticRegression\n",
    "from sklearn.decomposition import TruncatedSVD\n",
    "from sklearn.preprocessing import LabelEncoder\n",
    "from collections import Counter, defaultdict\n",
    "from gensim.models import Word2Vec\n",
    "from sklearn.cluster import KMeans\n",
    "from sklearn.svm import LinearSVC\n",
    "from nltk.corpus import stopwords\n"
   ]
  },
  {
   "cell_type": "code",
   "execution_count": null,
   "id": "dc451d68",
   "metadata": {},
   "outputs": [
    {
     "ename": "",
     "evalue": "",
     "output_type": "error",
     "traceback": [
      "\u001b[1;31mnotebook controller is DISPOSED. \n",
      "\u001b[1;31mView Jupyter <a href='command:jupyter.viewOutput'>log</a> for further details."
     ]
    }
   ],
   "source": [
    "#nltk.download(\"stopwords\")"
   ]
  },
  {
   "cell_type": "markdown",
   "id": "d3bc98d5",
   "metadata": {},
   "source": [
    "Número de documentos, tokens y vocabulario."
   ]
  },
  {
   "cell_type": "code",
   "execution_count": 2,
   "id": "7fc810a4",
   "metadata": {},
   "outputs": [
    {
     "name": "stdout",
     "output_type": "stream",
     "text": [
      "Columnas disponibles: ['Review', 'Polarity', 'Town', 'Region', 'Type']\n",
      "Número de documentos: 5000\n"
     ]
    },
    {
     "data": {
      "application/vnd.microsoft.datawrangler.viewer.v0+json": {
       "columns": [
        {
         "name": "index",
         "rawType": "int64",
         "type": "integer"
        },
        {
         "name": "Review",
         "rawType": "object",
         "type": "string"
        },
        {
         "name": "Polarity",
         "rawType": "float64",
         "type": "float"
        },
        {
         "name": "Town",
         "rawType": "object",
         "type": "string"
        },
        {
         "name": "Region",
         "rawType": "object",
         "type": "string"
        },
        {
         "name": "Type",
         "rawType": "object",
         "type": "string"
        }
       ],
       "ref": "040db59a-f9b5-4ba1-82b2-771e86268f19",
       "rows": [
        [
         "0",
         "Un Restaurante te invita por su ambiente tan alegre,.pero al sentarte los meseros te apuran al tomar tu orden, y luego al llevarte tu orden se olvidan de ti.\r\nLa comida esta buena.\r\nHay estacionamiento.\r\nY no estaba lleno y aun asi nos descuidaron mucho....Más",
         "2.0",
         "Tlaquepaque",
         "Jalisco",
         "Restaurant"
        ],
        [
         "1",
         "Pagamos 25 pesos por la entrada y no es gran cosa. Lo único bueno es que no habia nadie, pero hay lugares mucho mas bonitos para bañarse en la laguna que son gratuitos.",
         "3.0",
         "Bacalar",
         "QuintanaRoo",
         "Attractive"
        ],
        [
         "2",
         "Mi esposa y yo nos alojamos en el Dreams por 4 días en enero de 2016. Primero tengo que decir que el complejo era muy agradable y las instalaciones parecía muy bien cuidados. Teníamos una habitación con vistas al océano, que era agradable. La zona de gimnasio también estaba bien, tenían unas cuantas cintas y algunas pesas. Probamos a la orden tarde noche servicio de habitación varias veces y no podíamos conseguir que nadie contesta el teléfono que era frustrante.  Comida: yo estaba bastante decepcionado con la comida aquí. La comida en la piscina parecía que estaban camino a largo y no le importaba. Tuvimos un par de buenas comidas tacos/burritos, pero en general no me impresionó. Yo estaba frustrado con el código de vestimenta, tengo un tanque superior y que no me asiento pero",
         "3.0",
         "Tulum",
         "QuintanaRoo",
         "Hotel"
        ],
        [
         "3",
         "La única decepción puede no ser José Cuervo, pero fue realmente una mala experiencia para nosotros. Resultó que conseguimos blue vs acanalado elástico u otro medio para ceñir púrpura, y sólo la cintura blye puede hacer la degustación en la bodega y el comedor. De hecho reservamos la excursión por el conserje en el hotel Riu, y fue confirmado por el conserje durante la reserva que la prueba está incluido. Sin embargo, con toda la emoción con ganas de la cata, nos dijeron que fuera de la bodega al final del tour de la fábrica que compramos el grado inferior tour y no nos permitieron hacer la degustación. Queríamos volver pero fue rechazada. Lo que empeoró las cosas era, nos hicieron desde fuera la bodega viendo otros disfrutando de la degustación como un \"favor\" para nosotros. Estamos bastante seguros había graciosas negocios entre el conserje y los operadores turísticos. Pero Josr Cuervo debería haber nos informó que la diferencia whistband antes de que el tour comenzó, no justo antes de que la sesión de degustación. Una muy mala experiencia de tequila.",
         "2.0",
         "Tequila",
         "Jalisco",
         "Attractive"
        ],
        [
         "4",
         "Cuando leí los comentarios sobre cómo son las cosas, grosero ellos creen que el personal de este hotel son súper antipático e incluso grosero. Eres una molestia para ellos simplemente estar allí, olvídate si tienes que pedir algo tan sencillo como llamar a un taxi o necesita una toalla o simplemente saludando, que nunca están contentos de verte! Hay gente que vive en este hotel, se podía ver en las habitaciones y apartamentos tienen completo con mucha animales vivos dentro, me encanta los animales, pero no esperaba que ellos corriendo por los pasillos. El desayuno estaba incluido, pero no muy bueno. Puedes conseguir en Internet, pero sólo cerca de la oficina, no en la habitación. Estancia aquí! !",
         "1.0",
         "Isla_Mujeres",
         "QuintanaRoo",
         "Hotel"
        ]
       ],
       "shape": {
        "columns": 5,
        "rows": 5
       }
      },
      "text/html": [
       "<div>\n",
       "<style scoped>\n",
       "    .dataframe tbody tr th:only-of-type {\n",
       "        vertical-align: middle;\n",
       "    }\n",
       "\n",
       "    .dataframe tbody tr th {\n",
       "        vertical-align: top;\n",
       "    }\n",
       "\n",
       "    .dataframe thead th {\n",
       "        text-align: right;\n",
       "    }\n",
       "</style>\n",
       "<table border=\"1\" class=\"dataframe\">\n",
       "  <thead>\n",
       "    <tr style=\"text-align: right;\">\n",
       "      <th></th>\n",
       "      <th>Review</th>\n",
       "      <th>Polarity</th>\n",
       "      <th>Town</th>\n",
       "      <th>Region</th>\n",
       "      <th>Type</th>\n",
       "    </tr>\n",
       "  </thead>\n",
       "  <tbody>\n",
       "    <tr>\n",
       "      <th>0</th>\n",
       "      <td>Un Restaurante te invita por su ambiente tan a...</td>\n",
       "      <td>2.0</td>\n",
       "      <td>Tlaquepaque</td>\n",
       "      <td>Jalisco</td>\n",
       "      <td>Restaurant</td>\n",
       "    </tr>\n",
       "    <tr>\n",
       "      <th>1</th>\n",
       "      <td>Pagamos 25 pesos por la entrada y no es gran c...</td>\n",
       "      <td>3.0</td>\n",
       "      <td>Bacalar</td>\n",
       "      <td>QuintanaRoo</td>\n",
       "      <td>Attractive</td>\n",
       "    </tr>\n",
       "    <tr>\n",
       "      <th>2</th>\n",
       "      <td>Mi esposa y yo nos alojamos en el Dreams por 4...</td>\n",
       "      <td>3.0</td>\n",
       "      <td>Tulum</td>\n",
       "      <td>QuintanaRoo</td>\n",
       "      <td>Hotel</td>\n",
       "    </tr>\n",
       "    <tr>\n",
       "      <th>3</th>\n",
       "      <td>La única decepción puede no ser José Cuervo, p...</td>\n",
       "      <td>2.0</td>\n",
       "      <td>Tequila</td>\n",
       "      <td>Jalisco</td>\n",
       "      <td>Attractive</td>\n",
       "    </tr>\n",
       "    <tr>\n",
       "      <th>4</th>\n",
       "      <td>Cuando leí los comentarios sobre cómo son las ...</td>\n",
       "      <td>1.0</td>\n",
       "      <td>Isla_Mujeres</td>\n",
       "      <td>QuintanaRoo</td>\n",
       "      <td>Hotel</td>\n",
       "    </tr>\n",
       "  </tbody>\n",
       "</table>\n",
       "</div>"
      ],
      "text/plain": [
       "                                              Review  Polarity          Town  \\\n",
       "0  Un Restaurante te invita por su ambiente tan a...       2.0   Tlaquepaque   \n",
       "1  Pagamos 25 pesos por la entrada y no es gran c...       3.0       Bacalar   \n",
       "2  Mi esposa y yo nos alojamos en el Dreams por 4...       3.0         Tulum   \n",
       "3  La única decepción puede no ser José Cuervo, p...       2.0       Tequila   \n",
       "4  Cuando leí los comentarios sobre cómo son las ...       1.0  Isla_Mujeres   \n",
       "\n",
       "        Region        Type  \n",
       "0      Jalisco  Restaurant  \n",
       "1  QuintanaRoo  Attractive  \n",
       "2  QuintanaRoo       Hotel  \n",
       "3      Jalisco  Attractive  \n",
       "4  QuintanaRoo       Hotel  "
      ]
     },
     "execution_count": 2,
     "metadata": {},
     "output_type": "execute_result"
    }
   ],
   "source": [
    "# Configuracion\n",
    "csv_path = \"../data/raw/MeIA_2025_train.csv\"\n",
    "text_col = \"Review\"\n",
    "classes = [\"Polarity\", \"Town\", \"Region\", \"Type\"]\n",
    "\n",
    "# Cargamos el dataset y elegimos codificacion\n",
    "df = pd.read_csv(csv_path, encoding='utf-8')\n",
    "\n",
    "# Limpiamos un poco\n",
    "df = df.dropna(subset=[text_col])                 # Elimina valores NaN\n",
    "df = df[df[text_col].str.strip().ne(\"\")]          # Elimina strings vacios\n",
    "df.reset_index(drop=True, inplace=True)\n",
    "\n",
    "# Imprimimos resultados\n",
    "print(\"Columnas disponibles:\", df.columns.tolist())\n",
    "print(\"Número de documentos:\", len(df))\n",
    "\n",
    "# Visualizamos el df\n",
    "df.head()"
   ]
  },
  {
   "cell_type": "code",
   "execution_count": null,
   "id": "bc24bddf",
   "metadata": {},
   "outputs": [
    {
     "name": "stdout",
     "output_type": "stream",
     "text": [
      "\n",
      "Polarity:\n",
      "[2. 3. 1. 4. 5.]\n",
      "Total únicos: 5\n",
      "\n",
      "Town:\n",
      "['Tlaquepaque' 'Bacalar' 'Tulum' 'Tequila' 'Isla_Mujeres' 'Atlixco'\n",
      " 'San_Cristobal_de_las_Casas' 'Tepoztlan' 'Taxco' 'Sayulita' 'Teotihuacan'\n",
      " 'Ajijic' 'Valle_de_Bravo' 'TodosSantos' 'Huasca_de_Ocampo' 'Zacatlan'\n",
      " 'Valladolid' 'Patzcuaro' 'Cuetzalan' 'Tepotzotlan' 'Cholula' 'Palenque'\n",
      " 'Loreto' 'Malinalco' 'Tequisquiapan' 'Orizaba' 'Chiapa_de_Corzo' 'Parras'\n",
      " 'Bernal' 'Mazunte' 'Ixtapan_de_la_Sal' 'Cuatro_Cienegas' 'Xilitla'\n",
      " 'Creel' 'Izamal' 'Tapalpa' 'Metepec' 'Coatepec' 'Dolores_Hidalgo'\n",
      " 'Real_de_Catorce']\n",
      "Total únicos: 40\n",
      "\n",
      "Region:\n",
      "['Jalisco' 'QuintanaRoo' 'Puebla' 'Chiapas' 'Morelos' 'Guerrero' 'Nayarit'\n",
      " 'Estado_de_Mexico' 'Baja_CaliforniaSur' 'Hidalgo' 'Yucatan' 'Michoacan'\n",
      " 'Queretaro' 'Veracruz' 'Coahuila' 'Oaxaca' 'San_Luis_Potosi' 'Chihuahua'\n",
      " 'Guanajuato']\n",
      "Total únicos: 19\n",
      "\n",
      "Type:\n",
      "['Restaurant' 'Attractive' 'Hotel']\n",
      "Total únicos: 3\n"
     ]
    }
   ],
   "source": [
    "# Clases por variable\n",
    "for col in [\"Polarity\", \"Town\", \"Region\", \"Type\"]:\n",
    "    if col in df.columns:\n",
    "        print(f\"\\n{col}:\")\n",
    "        print(df[col].unique()[:41])   # muestra hasta 40 valores únicos\n",
    "        print(\"Total únicos:\", df[col].nunique(dropna=False))\n"
   ]
  },
  {
   "cell_type": "code",
   "execution_count": 4,
   "id": "3def602a",
   "metadata": {},
   "outputs": [
    {
     "name": "stdout",
     "output_type": "stream",
     "text": [
      "Número de 'Ã' antes de ftfy: 731\n",
      "Número de 'Ã' después de ftfy: 0\n",
      "Ejemplos de artefactos restantes después de limpiar: 3\n"
     ]
    }
   ],
   "source": [
    "# Contamos los mojibakes \"Ã\"\n",
    "count_before = df[text_col].astype(str).str.count(\"Ã\").sum()\n",
    "print(f\"Número de 'Ã' antes de ftfy: {count_before}\")\n",
    "\n",
    "# Aplicamos ftfy\n",
    "df[\"Review_clean\"] = df[text_col].apply(ftfy.fix_text)\n",
    "\n",
    "# Contamos de nuevo después\n",
    "count_after = df[\"Review_clean\"].astype(str).str.count(\"Ã\").sum()\n",
    "print(f\"Número de 'Ã' después de ftfy: {count_after}\")\n",
    "\n",
    "# Removemos casos tipo \"...Mas\" al final del texto por scrapeo\n",
    "def remove_scrape_artifacts(text: str):\n",
    "    if not isinstance(text, str):\n",
    "        return text\n",
    "    return re.sub(r\"Más[\\s\\W]*$\", \"\", text)\n",
    "# Aplicamos\n",
    "df[\"Review_clean\"] = df[\"Review_clean\"].apply(remove_scrape_artifacts)\n",
    "\n",
    "# Verificamos\n",
    "examples_after = df[df[\"Review_clean\"].str.contains(r\"\\.\\.\\..*Mas\", na=False)]\n",
    "print(\"Ejemplos de artefactos restantes después de limpiar:\", len(examples_after))"
   ]
  },
  {
   "cell_type": "code",
   "execution_count": 5,
   "id": "da2634d0",
   "metadata": {},
   "outputs": [
    {
     "name": "stdout",
     "output_type": "stream",
     "text": [
      "Total de tokens en el corpus: 348935\n",
      "Tamaño del vocabulario: 19517\n"
     ]
    }
   ],
   "source": [
    "# Creamos una expresion regular para tokenizar palabras en español\n",
    "WORD_RE = re.compile(r\"[A-Za-zÁÉÍÓÚÜÑáéíóúüñ]+(?:[-'][A-Za-zÁÉÍÓÚÜÑáéíóúüñ]+)?\")\n",
    "\n",
    "# Realizamos la tokenizacion\n",
    "def tokenize(text: str):\n",
    "    if not isinstance(text, str):\n",
    "        return []\n",
    "    text = text.lower()  # Pasamos a minúsculas\n",
    "    return WORD_RE.findall(text)\n",
    "\n",
    "# Aplicamos tokenización sobre la columna limpia\n",
    "df[\"tokens\"] = df[\"Review_clean\"].apply(tokenize)\n",
    "df[\"n_tokens\"] = df[\"tokens\"].apply(len)\n",
    "\n",
    "# Contamos tokens en todo el corpus\n",
    "token_counts = Counter()\n",
    "for toks in df[\"tokens\"]:\n",
    "    token_counts.update(toks)\n",
    "\n",
    "# Total de tokens (con repeticiones)\n",
    "total_tokens = sum(token_counts.values())\n",
    "\n",
    "# Vocabulario (palabras únicas)\n",
    "vocab_size = len(token_counts)\n",
    "\n",
    "print(f\"Total de tokens en el corpus: {total_tokens}\")\n",
    "print(f\"Tamaño del vocabulario: {vocab_size}\")"
   ]
  },
  {
   "cell_type": "markdown",
   "id": "ec237d9a",
   "metadata": {},
   "source": [
    "Hapax legomena y su proporción."
   ]
  },
  {
   "cell_type": "code",
   "execution_count": 6,
   "id": "43de9836",
   "metadata": {},
   "outputs": [
    {
     "name": "stdout",
     "output_type": "stream",
     "text": [
      "Hapax (freq=1): 9957\n",
      "Proporción hapax / vocabulario: 0.5102\n",
      "Proporción hapax / tokens: 0.0285\n"
     ]
    },
    {
     "data": {
      "application/vnd.microsoft.datawrangler.viewer.v0+json": {
       "columns": [
        {
         "name": "index",
         "rawType": "int64",
         "type": "integer"
        },
        {
         "name": "Ejemplos de hapax (20)",
         "rawType": "object",
         "type": "string"
        }
       ],
       "ref": "c154dc86-cb4c-42c5-b5b7-97d9acef0a47",
       "rows": [
        [
         "0",
         "apuran"
        ],
        [
         "1",
         "descuidaron"
        ],
        [
         "2",
         "pesas"
        ],
        [
         "3",
         "frustrado"
        ],
        [
         "4",
         "acanalado"
        ],
        [
         "5",
         "elástico"
        ],
        [
         "6",
         "ceñir"
        ],
        [
         "7",
         "púrpura"
        ],
        [
         "8",
         "cintura"
        ],
        [
         "9",
         "blye"
        ],
        [
         "10",
         "rechazada"
        ],
        [
         "11",
         "josr"
        ],
        [
         "12",
         "whistband"
        ],
        [
         "13",
         "sesión"
        ],
        [
         "14",
         "verte"
        ],
        [
         "15",
         "cofradia"
        ],
        [
         "16",
         "reposa"
        ],
        [
         "17",
         "resguardar"
        ],
        [
         "18",
         "temrinabamos"
        ],
        [
         "19",
         "vacia"
        ]
       ],
       "shape": {
        "columns": 1,
        "rows": 20
       }
      },
      "text/html": [
       "<div>\n",
       "<style scoped>\n",
       "    .dataframe tbody tr th:only-of-type {\n",
       "        vertical-align: middle;\n",
       "    }\n",
       "\n",
       "    .dataframe tbody tr th {\n",
       "        vertical-align: top;\n",
       "    }\n",
       "\n",
       "    .dataframe thead th {\n",
       "        text-align: right;\n",
       "    }\n",
       "</style>\n",
       "<table border=\"1\" class=\"dataframe\">\n",
       "  <thead>\n",
       "    <tr style=\"text-align: right;\">\n",
       "      <th></th>\n",
       "      <th>Ejemplos de hapax (20)</th>\n",
       "    </tr>\n",
       "  </thead>\n",
       "  <tbody>\n",
       "    <tr>\n",
       "      <th>0</th>\n",
       "      <td>apuran</td>\n",
       "    </tr>\n",
       "    <tr>\n",
       "      <th>1</th>\n",
       "      <td>descuidaron</td>\n",
       "    </tr>\n",
       "    <tr>\n",
       "      <th>2</th>\n",
       "      <td>pesas</td>\n",
       "    </tr>\n",
       "    <tr>\n",
       "      <th>3</th>\n",
       "      <td>frustrado</td>\n",
       "    </tr>\n",
       "    <tr>\n",
       "      <th>4</th>\n",
       "      <td>acanalado</td>\n",
       "    </tr>\n",
       "    <tr>\n",
       "      <th>5</th>\n",
       "      <td>elástico</td>\n",
       "    </tr>\n",
       "    <tr>\n",
       "      <th>6</th>\n",
       "      <td>ceñir</td>\n",
       "    </tr>\n",
       "    <tr>\n",
       "      <th>7</th>\n",
       "      <td>púrpura</td>\n",
       "    </tr>\n",
       "    <tr>\n",
       "      <th>8</th>\n",
       "      <td>cintura</td>\n",
       "    </tr>\n",
       "    <tr>\n",
       "      <th>9</th>\n",
       "      <td>blye</td>\n",
       "    </tr>\n",
       "    <tr>\n",
       "      <th>10</th>\n",
       "      <td>rechazada</td>\n",
       "    </tr>\n",
       "    <tr>\n",
       "      <th>11</th>\n",
       "      <td>josr</td>\n",
       "    </tr>\n",
       "    <tr>\n",
       "      <th>12</th>\n",
       "      <td>whistband</td>\n",
       "    </tr>\n",
       "    <tr>\n",
       "      <th>13</th>\n",
       "      <td>sesión</td>\n",
       "    </tr>\n",
       "    <tr>\n",
       "      <th>14</th>\n",
       "      <td>verte</td>\n",
       "    </tr>\n",
       "    <tr>\n",
       "      <th>15</th>\n",
       "      <td>cofradia</td>\n",
       "    </tr>\n",
       "    <tr>\n",
       "      <th>16</th>\n",
       "      <td>reposa</td>\n",
       "    </tr>\n",
       "    <tr>\n",
       "      <th>17</th>\n",
       "      <td>resguardar</td>\n",
       "    </tr>\n",
       "    <tr>\n",
       "      <th>18</th>\n",
       "      <td>temrinabamos</td>\n",
       "    </tr>\n",
       "    <tr>\n",
       "      <th>19</th>\n",
       "      <td>vacia</td>\n",
       "    </tr>\n",
       "  </tbody>\n",
       "</table>\n",
       "</div>"
      ],
      "text/plain": [
       "   Ejemplos de hapax (20)\n",
       "0                  apuran\n",
       "1             descuidaron\n",
       "2                   pesas\n",
       "3               frustrado\n",
       "4               acanalado\n",
       "5                elástico\n",
       "6                   ceñir\n",
       "7                 púrpura\n",
       "8                 cintura\n",
       "9                    blye\n",
       "10              rechazada\n",
       "11                   josr\n",
       "12              whistband\n",
       "13                 sesión\n",
       "14                  verte\n",
       "15               cofradia\n",
       "16                 reposa\n",
       "17             resguardar\n",
       "18           temrinabamos\n",
       "19                  vacia"
      ]
     },
     "execution_count": 6,
     "metadata": {},
     "output_type": "execute_result"
    }
   ],
   "source": [
    "# Hapax = términos con frecuencia 1\n",
    "hapax_list = [t for t, c in token_counts.items() if c == 1]\n",
    "hapax_count = len(hapax_list)\n",
    "\n",
    "# Proporción de hapax sobre vocabulario (qué fracción del vocab son hapax)\n",
    "hapax_prop_over_vocab = hapax_count / max(len(token_counts), 1)\n",
    "\n",
    "# Proporción de hapax sobre tokens (qué fracción de todos los tokens son hapax)\n",
    "hapax_prop_over_tokens = hapax_count / max(total_tokens, 1)\n",
    "\n",
    "print(f\"Hapax (freq=1): {hapax_count}\")\n",
    "print(f\"Proporción hapax / vocabulario: {hapax_prop_over_vocab:.4f}\")\n",
    "print(f\"Proporción hapax / tokens: {hapax_prop_over_tokens:.4f}\")\n",
    "\n",
    "# (Opcional) Ver algunos ejemplos de hapax\n",
    "pd.Series(hapax_list[:20], name=\"Ejemplos de hapax (20)\").to_frame()"
   ]
  },
  {
   "cell_type": "markdown",
   "id": "9efe4ccb",
   "metadata": {},
   "source": [
    "Porcentaje de stopwords."
   ]
  },
  {
   "cell_type": "code",
   "execution_count": 7,
   "id": "33cc4be9",
   "metadata": {},
   "outputs": [
    {
     "name": "stdout",
     "output_type": "stream",
     "text": [
      "Total de stopwords en el corpus: 175571\n",
      "Porcentaje de stopwords sobre tokens: 50.32%\n"
     ]
    }
   ],
   "source": [
    "# Lista de stopwords en español\n",
    "stopwords_es = set(stopwords.words(\"spanish\"))\n",
    "\n",
    "# Función para detectar stopwords\n",
    "def is_stopword(tok: str):\n",
    "    return tok in stopwords_es\n",
    "\n",
    "# Contamos stopwords en cada documento\n",
    "df[\"stop_tokens\"] = df[\"tokens\"].apply(lambda toks: [t for t in toks if is_stopword(t)])\n",
    "df[\"n_stop\"] = df[\"stop_tokens\"].apply(len)\n",
    "\n",
    "# Totales\n",
    "total_stop = df[\"n_stop\"].sum()\n",
    "stopword_pct = (total_stop / total_tokens) * 100\n",
    "\n",
    "print(f\"Total de stopwords en el corpus: {total_stop}\")\n",
    "print(f\"Porcentaje de stopwords sobre tokens: {stopword_pct:.2f}%\")\n"
   ]
  },
  {
   "cell_type": "markdown",
   "id": "c58065be",
   "metadata": {},
   "source": [
    "Estadı́sticas por clase (número de documentos, tokens y vocabulario)."
   ]
  },
  {
   "cell_type": "code",
   "execution_count": 8,
   "id": "0876092e",
   "metadata": {},
   "outputs": [
    {
     "data": {
      "application/vnd.microsoft.datawrangler.viewer.v0+json": {
       "columns": [
        {
         "name": "index",
         "rawType": "int64",
         "type": "integer"
        },
        {
         "name": "class_col",
         "rawType": "object",
         "type": "string"
        },
        {
         "name": "class_value",
         "rawType": "object",
         "type": "unknown"
        },
        {
         "name": "n_docs",
         "rawType": "int64",
         "type": "integer"
        },
        {
         "name": "n_tokens",
         "rawType": "int64",
         "type": "integer"
        },
        {
         "name": "vocab_size",
         "rawType": "int64",
         "type": "integer"
        }
       ],
       "ref": "a01d9868-2edd-4cec-86dd-aac11e7f0df3",
       "rows": [
        [
         "0",
         "Polarity",
         "1.0",
         "800",
         "61908",
         "7670"
        ],
        [
         "1",
         "Polarity",
         "2.0",
         "900",
         "74973",
         "8421"
        ],
        [
         "2",
         "Polarity",
         "3.0",
         "1000",
         "69431",
         "7594"
        ],
        [
         "3",
         "Polarity",
         "4.0",
         "1100",
         "68641",
         "7319"
        ],
        [
         "4",
         "Polarity",
         "5.0",
         "1200",
         "73982",
         "8304"
        ],
        [
         "5",
         "Town",
         "Ajijic",
         "102",
         "7361",
         "1900"
        ],
        [
         "6",
         "Town",
         "Atlixco",
         "48",
         "3355",
         "1172"
        ],
        [
         "7",
         "Town",
         "Bacalar",
         "250",
         "13449",
         "2685"
        ],
        [
         "8",
         "Town",
         "Bernal",
         "58",
         "3055",
         "1013"
        ],
        [
         "9",
         "Town",
         "Chiapa_de_Corzo",
         "30",
         "2243",
         "818"
        ],
        [
         "10",
         "Town",
         "Cholula",
         "73",
         "4259",
         "1297"
        ],
        [
         "11",
         "Town",
         "Coatepec",
         "16",
         "790",
         "379"
        ],
        [
         "12",
         "Town",
         "Creel",
         "50",
         "3028",
         "1051"
        ],
        [
         "13",
         "Town",
         "Cuatro_Cienegas",
         "26",
         "1231",
         "506"
        ],
        [
         "14",
         "Town",
         "Cuetzalan",
         "25",
         "1476",
         "610"
        ],
        [
         "15",
         "Town",
         "Dolores_Hidalgo",
         "29",
         "1729",
         "722"
        ],
        [
         "16",
         "Town",
         "Huasca_de_Ocampo",
         "51",
         "2907",
         "1027"
        ],
        [
         "17",
         "Town",
         "Isla_Mujeres",
         "646",
         "54902",
         "6319"
        ],
        [
         "18",
         "Town",
         "Ixtapan_de_la_Sal",
         "65",
         "5132",
         "1475"
        ],
        [
         "19",
         "Town",
         "Izamal",
         "47",
         "2927",
         "1004"
        ],
        [
         "20",
         "Town",
         "Loreto",
         "110",
         "7424",
         "2044"
        ],
        [
         "21",
         "Town",
         "Malinalco",
         "24",
         "1133",
         "499"
        ],
        [
         "22",
         "Town",
         "Mazunte",
         "30",
         "1547",
         "641"
        ],
        [
         "23",
         "Town",
         "Metepec",
         "77",
         "3410",
         "1101"
        ],
        [
         "24",
         "Town",
         "Orizaba",
         "74",
         "4070",
         "1333"
        ],
        [
         "25",
         "Town",
         "Palenque",
         "222",
         "16285",
         "3149"
        ],
        [
         "26",
         "Town",
         "Parras",
         "30",
         "1597",
         "638"
        ],
        [
         "27",
         "Town",
         "Patzcuaro",
         "110",
         "6402",
         "1857"
        ],
        [
         "28",
         "Town",
         "Real_de_Catorce",
         "13",
         "564",
         "298"
        ],
        [
         "29",
         "Town",
         "San_Cristobal_de_las_Casas",
         "321",
         "19267",
         "3586"
        ],
        [
         "30",
         "Town",
         "Sayulita",
         "207",
         "14750",
         "3032"
        ],
        [
         "31",
         "Town",
         "Tapalpa",
         "21",
         "1455",
         "591"
        ],
        [
         "32",
         "Town",
         "Taxco",
         "118",
         "8113",
         "2100"
        ],
        [
         "33",
         "Town",
         "Teotihuacan",
         "104",
         "7388",
         "1830"
        ],
        [
         "34",
         "Town",
         "Tepotzotlan",
         "39",
         "2187",
         "854"
        ],
        [
         "35",
         "Town",
         "Tepoztlan",
         "107",
         "6558",
         "1787"
        ],
        [
         "36",
         "Town",
         "Tequila",
         "74",
         "4835",
         "1494"
        ],
        [
         "37",
         "Town",
         "Tequisquiapan",
         "114",
         "5637",
         "1615"
        ],
        [
         "38",
         "Town",
         "Tlaquepaque",
         "147",
         "8569",
         "2121"
        ],
        [
         "39",
         "Town",
         "TodosSantos",
         "99",
         "8116",
         "2111"
        ],
        [
         "40",
         "Town",
         "Tulum",
         "961",
         "79697",
         "8102"
        ],
        [
         "41",
         "Town",
         "Valladolid",
         "269",
         "18130",
         "3420"
        ],
        [
         "42",
         "Town",
         "Valle_de_Bravo",
         "153",
         "10373",
         "2380"
        ],
        [
         "43",
         "Town",
         "Xilitla",
         "24",
         "1364",
         "573"
        ],
        [
         "44",
         "Town",
         "Zacatlan",
         "36",
         "2220",
         "831"
        ],
        [
         "45",
         "Region",
         "Baja_CaliforniaSur",
         "209",
         "15540",
         "3287"
        ],
        [
         "46",
         "Region",
         "Chiapas",
         "573",
         "37795",
         "5385"
        ],
        [
         "47",
         "Region",
         "Chihuahua",
         "50",
         "3028",
         "1051"
        ],
        [
         "48",
         "Region",
         "Coahuila",
         "56",
         "2828",
         "962"
        ],
        [
         "49",
         "Region",
         "Estado_de_Mexico",
         "462",
         "29623",
         "4813"
        ]
       ],
       "shape": {
        "columns": 5,
        "rows": 67
       }
      },
      "text/html": [
       "<div>\n",
       "<style scoped>\n",
       "    .dataframe tbody tr th:only-of-type {\n",
       "        vertical-align: middle;\n",
       "    }\n",
       "\n",
       "    .dataframe tbody tr th {\n",
       "        vertical-align: top;\n",
       "    }\n",
       "\n",
       "    .dataframe thead th {\n",
       "        text-align: right;\n",
       "    }\n",
       "</style>\n",
       "<table border=\"1\" class=\"dataframe\">\n",
       "  <thead>\n",
       "    <tr style=\"text-align: right;\">\n",
       "      <th></th>\n",
       "      <th>class_col</th>\n",
       "      <th>class_value</th>\n",
       "      <th>n_docs</th>\n",
       "      <th>n_tokens</th>\n",
       "      <th>vocab_size</th>\n",
       "    </tr>\n",
       "  </thead>\n",
       "  <tbody>\n",
       "    <tr>\n",
       "      <th>0</th>\n",
       "      <td>Polarity</td>\n",
       "      <td>1.0</td>\n",
       "      <td>800</td>\n",
       "      <td>61908</td>\n",
       "      <td>7670</td>\n",
       "    </tr>\n",
       "    <tr>\n",
       "      <th>1</th>\n",
       "      <td>Polarity</td>\n",
       "      <td>2.0</td>\n",
       "      <td>900</td>\n",
       "      <td>74973</td>\n",
       "      <td>8421</td>\n",
       "    </tr>\n",
       "    <tr>\n",
       "      <th>2</th>\n",
       "      <td>Polarity</td>\n",
       "      <td>3.0</td>\n",
       "      <td>1000</td>\n",
       "      <td>69431</td>\n",
       "      <td>7594</td>\n",
       "    </tr>\n",
       "    <tr>\n",
       "      <th>3</th>\n",
       "      <td>Polarity</td>\n",
       "      <td>4.0</td>\n",
       "      <td>1100</td>\n",
       "      <td>68641</td>\n",
       "      <td>7319</td>\n",
       "    </tr>\n",
       "    <tr>\n",
       "      <th>4</th>\n",
       "      <td>Polarity</td>\n",
       "      <td>5.0</td>\n",
       "      <td>1200</td>\n",
       "      <td>73982</td>\n",
       "      <td>8304</td>\n",
       "    </tr>\n",
       "    <tr>\n",
       "      <th>...</th>\n",
       "      <td>...</td>\n",
       "      <td>...</td>\n",
       "      <td>...</td>\n",
       "      <td>...</td>\n",
       "      <td>...</td>\n",
       "    </tr>\n",
       "    <tr>\n",
       "      <th>62</th>\n",
       "      <td>Region</td>\n",
       "      <td>Veracruz</td>\n",
       "      <td>90</td>\n",
       "      <td>4860</td>\n",
       "      <td>1500</td>\n",
       "    </tr>\n",
       "    <tr>\n",
       "      <th>63</th>\n",
       "      <td>Region</td>\n",
       "      <td>Yucatan</td>\n",
       "      <td>316</td>\n",
       "      <td>21057</td>\n",
       "      <td>3723</td>\n",
       "    </tr>\n",
       "    <tr>\n",
       "      <th>64</th>\n",
       "      <td>Type</td>\n",
       "      <td>Attractive</td>\n",
       "      <td>1452</td>\n",
       "      <td>100791</td>\n",
       "      <td>9911</td>\n",
       "    </tr>\n",
       "    <tr>\n",
       "      <th>65</th>\n",
       "      <td>Type</td>\n",
       "      <td>Hotel</td>\n",
       "      <td>1511</td>\n",
       "      <td>140736</td>\n",
       "      <td>11057</td>\n",
       "    </tr>\n",
       "    <tr>\n",
       "      <th>66</th>\n",
       "      <td>Type</td>\n",
       "      <td>Restaurant</td>\n",
       "      <td>2037</td>\n",
       "      <td>107408</td>\n",
       "      <td>9300</td>\n",
       "    </tr>\n",
       "  </tbody>\n",
       "</table>\n",
       "<p>67 rows × 5 columns</p>\n",
       "</div>"
      ],
      "text/plain": [
       "   class_col class_value  n_docs  n_tokens  vocab_size\n",
       "0   Polarity         1.0     800     61908        7670\n",
       "1   Polarity         2.0     900     74973        8421\n",
       "2   Polarity         3.0    1000     69431        7594\n",
       "3   Polarity         4.0    1100     68641        7319\n",
       "4   Polarity         5.0    1200     73982        8304\n",
       "..       ...         ...     ...       ...         ...\n",
       "62    Region    Veracruz      90      4860        1500\n",
       "63    Region     Yucatan     316     21057        3723\n",
       "64      Type  Attractive    1452    100791        9911\n",
       "65      Type       Hotel    1511    140736       11057\n",
       "66      Type  Restaurant    2037    107408        9300\n",
       "\n",
       "[67 rows x 5 columns]"
      ]
     },
     "execution_count": 8,
     "metadata": {},
     "output_type": "execute_result"
    }
   ],
   "source": [
    "present_cols = [c for c in [\"Polarity\",\"Town\",\"Region\",\"Type\"] if c in df.columns]\n",
    "\n",
    "def per_group_stats(group_df: pd.DataFrame) -> pd.Series:\n",
    "    # n_docs\n",
    "    n_docs = len(group_df)\n",
    "    # n_tokens y vocab del grupo\n",
    "    counter = Counter()\n",
    "    for toks in group_df[\"tokens\"]:\n",
    "        counter.update(toks)\n",
    "    n_tokens = sum(counter.values())\n",
    "    vocab_size = len(counter)\n",
    "    return pd.Series({\"n_docs\": n_docs, \"n_tokens\": n_tokens, \"vocab_size\": vocab_size})\n",
    "\n",
    "# Aplicar a cada columna de clase presente\n",
    "stats_list = []\n",
    "for col in present_cols:\n",
    "    stats = (\n",
    "        df.groupby(col, dropna=False)\n",
    "          .apply(per_group_stats, include_groups=False)\n",
    "          .reset_index()\n",
    "          .rename(columns={col: \"class_value\"})\n",
    "          .assign(class_col=col)  # para saber de qué columna viene\n",
    "          .loc[:, [\"class_col\", \"class_value\", \"n_docs\", \"n_tokens\", \"vocab_size\"]]\n",
    "    )\n",
    "    stats_list.append(stats)\n",
    "\n",
    "stats_per_class = pd.concat(stats_list, ignore_index=True)\n",
    "\n",
    "# Mostrar resultados\n",
    "stats_per_class.head(100)\n"
   ]
  },
  {
   "cell_type": "code",
   "execution_count": 9,
   "id": "17b8e8ec",
   "metadata": {},
   "outputs": [
    {
     "name": "stdout",
     "output_type": "stream",
     "text": [
      "Archivo guardado en: ../data/processed/stats_per_class.csv\n"
     ]
    }
   ],
   "source": [
    "# Guardamos estadísticas por clase en processed\n",
    "output_path = \"../data/processed/stats_per_class.csv\"\n",
    "stats_per_class.to_csv(output_path, index=False)\n",
    "print(f\"Archivo guardado en: {output_path}\")"
   ]
  },
  {
   "cell_type": "markdown",
   "id": "4617a3cf",
   "metadata": {},
   "source": [
    "## 2. Ley de Zipf "
   ]
  },
  {
   "cell_type": "markdown",
   "id": "90890a76",
   "metadata": {},
   "source": [
    " Calcula la frecuencia absoluta $f(w)$ de cada palabra $w$ en el corpus y ordénalas de mayor a menor. A cada palabra asi ordenada se le asigna un rango $r$, donde $r = 1$ corresponde a la palabra más frecuente, $r = 2$ a la segunda, y asi sucesivamente."
   ]
  },
  {
   "cell_type": "code",
   "execution_count": 10,
   "id": "3528a069",
   "metadata": {},
   "outputs": [
    {
     "data": {
      "application/vnd.microsoft.datawrangler.viewer.v0+json": {
       "columns": [
        {
         "name": "index",
         "rawType": "int64",
         "type": "integer"
        },
        {
         "name": "token",
         "rawType": "object",
         "type": "string"
        },
        {
         "name": "freq",
         "rawType": "int64",
         "type": "integer"
        },
        {
         "name": "rank",
         "rawType": "int64",
         "type": "integer"
        },
        {
         "name": "log_rank",
         "rawType": "float64",
         "type": "float"
        },
        {
         "name": "log_freq",
         "rawType": "float64",
         "type": "float"
        }
       ],
       "ref": "52d312ec-1c9e-449a-9759-78873d987f1f",
       "rows": [
        [
         "0",
         "de",
         "15254",
         "1",
         "0.0",
         "9.632597042724184"
        ],
        [
         "1",
         "y",
         "12492",
         "2",
         "0.6931471805599453",
         "9.43284371840297"
        ],
        [
         "2",
         "la",
         "12429",
         "3",
         "1.0986122886681098",
         "9.42778773074551"
        ],
        [
         "3",
         "el",
         "10444",
         "4",
         "1.3862943611198906",
         "9.25378292981902"
        ],
        [
         "4",
         "que",
         "10297",
         "5",
         "1.6094379124341003",
         "9.239607869656751"
        ],
        [
         "5",
         "en",
         "8436",
         "6",
         "1.791759469228055",
         "9.040263541598666"
        ],
        [
         "6",
         "es",
         "5972",
         "7",
         "1.9459101490553132",
         "8.69483715865908"
        ],
        [
         "7",
         "no",
         "5930",
         "8",
         "2.0794415416798357",
         "8.68777949199177"
        ],
        [
         "8",
         "a",
         "5512",
         "9",
         "2.1972245773362196",
         "8.614682812693495"
        ],
        [
         "9",
         "un",
         "5441",
         "10",
         "2.302585092994046",
         "8.601718146485926"
        ],
        [
         "10",
         "muy",
         "4067",
         "11",
         "2.3978952727983707",
         "8.310660905907225"
        ],
        [
         "11",
         "una",
         "4056",
         "12",
         "2.4849066497880004",
         "8.30795254527102"
        ],
        [
         "12",
         "para",
         "3863",
         "13",
         "2.5649493574615367",
         "8.259199362666282"
        ],
        [
         "13",
         "las",
         "3594",
         "14",
         "2.6390573296152584",
         "8.187021067343505"
        ],
        [
         "14",
         "los",
         "3524",
         "15",
         "2.70805020110221",
         "8.16735198705607"
        ],
        [
         "15",
         "con",
         "3448",
         "16",
         "2.772588722239781",
         "8.145549631783584"
        ],
        [
         "16",
         "por",
         "2947",
         "17",
         "2.833213344056216",
         "7.988542982737695"
        ],
        [
         "17",
         "pero",
         "2775",
         "18",
         "2.8903717578961645",
         "7.928406026180535"
        ],
        [
         "18",
         "lo",
         "2561",
         "19",
         "2.9444389791664403",
         "7.848153086199526"
        ],
        [
         "19",
         "nos",
         "2337",
         "20",
         "2.995732273553991",
         "7.756623334538858"
        ]
       ],
       "shape": {
        "columns": 5,
        "rows": 20
       }
      },
      "text/html": [
       "<div>\n",
       "<style scoped>\n",
       "    .dataframe tbody tr th:only-of-type {\n",
       "        vertical-align: middle;\n",
       "    }\n",
       "\n",
       "    .dataframe tbody tr th {\n",
       "        vertical-align: top;\n",
       "    }\n",
       "\n",
       "    .dataframe thead th {\n",
       "        text-align: right;\n",
       "    }\n",
       "</style>\n",
       "<table border=\"1\" class=\"dataframe\">\n",
       "  <thead>\n",
       "    <tr style=\"text-align: right;\">\n",
       "      <th></th>\n",
       "      <th>token</th>\n",
       "      <th>freq</th>\n",
       "      <th>rank</th>\n",
       "      <th>log_rank</th>\n",
       "      <th>log_freq</th>\n",
       "    </tr>\n",
       "  </thead>\n",
       "  <tbody>\n",
       "    <tr>\n",
       "      <th>0</th>\n",
       "      <td>de</td>\n",
       "      <td>15254</td>\n",
       "      <td>1</td>\n",
       "      <td>0.000000</td>\n",
       "      <td>9.632597</td>\n",
       "    </tr>\n",
       "    <tr>\n",
       "      <th>1</th>\n",
       "      <td>y</td>\n",
       "      <td>12492</td>\n",
       "      <td>2</td>\n",
       "      <td>0.693147</td>\n",
       "      <td>9.432844</td>\n",
       "    </tr>\n",
       "    <tr>\n",
       "      <th>2</th>\n",
       "      <td>la</td>\n",
       "      <td>12429</td>\n",
       "      <td>3</td>\n",
       "      <td>1.098612</td>\n",
       "      <td>9.427788</td>\n",
       "    </tr>\n",
       "    <tr>\n",
       "      <th>3</th>\n",
       "      <td>el</td>\n",
       "      <td>10444</td>\n",
       "      <td>4</td>\n",
       "      <td>1.386294</td>\n",
       "      <td>9.253783</td>\n",
       "    </tr>\n",
       "    <tr>\n",
       "      <th>4</th>\n",
       "      <td>que</td>\n",
       "      <td>10297</td>\n",
       "      <td>5</td>\n",
       "      <td>1.609438</td>\n",
       "      <td>9.239608</td>\n",
       "    </tr>\n",
       "    <tr>\n",
       "      <th>5</th>\n",
       "      <td>en</td>\n",
       "      <td>8436</td>\n",
       "      <td>6</td>\n",
       "      <td>1.791759</td>\n",
       "      <td>9.040264</td>\n",
       "    </tr>\n",
       "    <tr>\n",
       "      <th>6</th>\n",
       "      <td>es</td>\n",
       "      <td>5972</td>\n",
       "      <td>7</td>\n",
       "      <td>1.945910</td>\n",
       "      <td>8.694837</td>\n",
       "    </tr>\n",
       "    <tr>\n",
       "      <th>7</th>\n",
       "      <td>no</td>\n",
       "      <td>5930</td>\n",
       "      <td>8</td>\n",
       "      <td>2.079442</td>\n",
       "      <td>8.687779</td>\n",
       "    </tr>\n",
       "    <tr>\n",
       "      <th>8</th>\n",
       "      <td>a</td>\n",
       "      <td>5512</td>\n",
       "      <td>9</td>\n",
       "      <td>2.197225</td>\n",
       "      <td>8.614683</td>\n",
       "    </tr>\n",
       "    <tr>\n",
       "      <th>9</th>\n",
       "      <td>un</td>\n",
       "      <td>5441</td>\n",
       "      <td>10</td>\n",
       "      <td>2.302585</td>\n",
       "      <td>8.601718</td>\n",
       "    </tr>\n",
       "    <tr>\n",
       "      <th>10</th>\n",
       "      <td>muy</td>\n",
       "      <td>4067</td>\n",
       "      <td>11</td>\n",
       "      <td>2.397895</td>\n",
       "      <td>8.310661</td>\n",
       "    </tr>\n",
       "    <tr>\n",
       "      <th>11</th>\n",
       "      <td>una</td>\n",
       "      <td>4056</td>\n",
       "      <td>12</td>\n",
       "      <td>2.484907</td>\n",
       "      <td>8.307953</td>\n",
       "    </tr>\n",
       "    <tr>\n",
       "      <th>12</th>\n",
       "      <td>para</td>\n",
       "      <td>3863</td>\n",
       "      <td>13</td>\n",
       "      <td>2.564949</td>\n",
       "      <td>8.259199</td>\n",
       "    </tr>\n",
       "    <tr>\n",
       "      <th>13</th>\n",
       "      <td>las</td>\n",
       "      <td>3594</td>\n",
       "      <td>14</td>\n",
       "      <td>2.639057</td>\n",
       "      <td>8.187021</td>\n",
       "    </tr>\n",
       "    <tr>\n",
       "      <th>14</th>\n",
       "      <td>los</td>\n",
       "      <td>3524</td>\n",
       "      <td>15</td>\n",
       "      <td>2.708050</td>\n",
       "      <td>8.167352</td>\n",
       "    </tr>\n",
       "    <tr>\n",
       "      <th>15</th>\n",
       "      <td>con</td>\n",
       "      <td>3448</td>\n",
       "      <td>16</td>\n",
       "      <td>2.772589</td>\n",
       "      <td>8.145550</td>\n",
       "    </tr>\n",
       "    <tr>\n",
       "      <th>16</th>\n",
       "      <td>por</td>\n",
       "      <td>2947</td>\n",
       "      <td>17</td>\n",
       "      <td>2.833213</td>\n",
       "      <td>7.988543</td>\n",
       "    </tr>\n",
       "    <tr>\n",
       "      <th>17</th>\n",
       "      <td>pero</td>\n",
       "      <td>2775</td>\n",
       "      <td>18</td>\n",
       "      <td>2.890372</td>\n",
       "      <td>7.928406</td>\n",
       "    </tr>\n",
       "    <tr>\n",
       "      <th>18</th>\n",
       "      <td>lo</td>\n",
       "      <td>2561</td>\n",
       "      <td>19</td>\n",
       "      <td>2.944439</td>\n",
       "      <td>7.848153</td>\n",
       "    </tr>\n",
       "    <tr>\n",
       "      <th>19</th>\n",
       "      <td>nos</td>\n",
       "      <td>2337</td>\n",
       "      <td>20</td>\n",
       "      <td>2.995732</td>\n",
       "      <td>7.756623</td>\n",
       "    </tr>\n",
       "  </tbody>\n",
       "</table>\n",
       "</div>"
      ],
      "text/plain": [
       "   token   freq  rank  log_rank  log_freq\n",
       "0     de  15254     1  0.000000  9.632597\n",
       "1      y  12492     2  0.693147  9.432844\n",
       "2     la  12429     3  1.098612  9.427788\n",
       "3     el  10444     4  1.386294  9.253783\n",
       "4    que  10297     5  1.609438  9.239608\n",
       "5     en   8436     6  1.791759  9.040264\n",
       "6     es   5972     7  1.945910  8.694837\n",
       "7     no   5930     8  2.079442  8.687779\n",
       "8      a   5512     9  2.197225  8.614683\n",
       "9     un   5441    10  2.302585  8.601718\n",
       "10   muy   4067    11  2.397895  8.310661\n",
       "11   una   4056    12  2.484907  8.307953\n",
       "12  para   3863    13  2.564949  8.259199\n",
       "13   las   3594    14  2.639057  8.187021\n",
       "14   los   3524    15  2.708050  8.167352\n",
       "15   con   3448    16  2.772589  8.145550\n",
       "16   por   2947    17  2.833213  7.988543\n",
       "17  pero   2775    18  2.890372  7.928406\n",
       "18    lo   2561    19  2.944439  7.848153\n",
       "19   nos   2337    20  2.995732  7.756623"
      ]
     },
     "execution_count": 10,
     "metadata": {},
     "output_type": "execute_result"
    }
   ],
   "source": [
    "# Contamos frecuencias absolutas f(w)\n",
    "token_counts = Counter()\n",
    "for toks in df[\"tokens\"]:\n",
    "    token_counts.update(toks)\n",
    "\n",
    "# Pasamos a un df y ordenamos de mayor a menor\n",
    "freq_df = (\n",
    "    pd.DataFrame(token_counts.items(), columns=[\"token\", \"freq\"])\n",
    "      .sort_values([\"freq\", \"token\"], ascending=[False, True])  # Desempate alfabético\n",
    "      .reset_index(drop=True)\n",
    ")\n",
    "\n",
    "# Asignamos rango r (1 = más frecuente)\n",
    "freq_df[\"rank\"] = np.arange(1, len(freq_df) + 1)\n",
    "\n",
    "# Agregamos columnas log\n",
    "freq_df[\"log_rank\"] = np.log(freq_df[\"rank\"])\n",
    "freq_df[\"log_freq\"] = np.log(freq_df[\"freq\"])\n",
    "\n",
    "# Mostramos lo obtenido\n",
    "freq_df.head(20)"
   ]
  },
  {
   "cell_type": "markdown",
   "id": "46004369",
   "metadata": {},
   "source": [
    "Representa gráficamente la relación entre log-rango y log-frecuencia. Es decir, para cada palabra graficar el punto $(\\log r, \\log f (w))$. La Ley de Zipf predice que los puntos deberı́an aproximarse a una lı́nea recta decreciente."
   ]
  },
  {
   "cell_type": "code",
   "execution_count": 11,
   "id": "82b335e5",
   "metadata": {},
   "outputs": [
    {
     "data": {
      "image/png": "[encoded data removed]",
      "text/plain": [
       "<Figure size 750x600 with 1 Axes>"
      ]
     },
     "metadata": {},
     "output_type": "display_data"
    }
   ],
   "source": [
    "# Asegura carpeta de salida\n",
    "os.makedirs(\"../data/processed\", exist_ok=True)\n",
    "\n",
    "# Dispersión completa\n",
    "plt.figure(figsize=(7.5, 6))\n",
    "plt.scatter(\n",
    "    freq_df[\"log_rank\"].values,\n",
    "    freq_df[\"log_freq\"].values,\n",
    "    s=2, alpha=0.5, rasterized=True\n",
    ")\n",
    "plt.xlabel(\"log(rango)\")\n",
    "plt.ylabel(\"log(frecuencia)\")\n",
    "plt.title(\"log(r) vs log(f(w))\")\n",
    "plt.tight_layout()\n",
    "plt.savefig(\"../reports/figures/zipf_loglog_scatter.png\", dpi=200)\n",
    "plt.show()"
   ]
  },
  {
   "cell_type": "markdown",
   "id": "8ad0b4af",
   "metadata": {},
   "source": [
    "Ajusta una recta mediante regresión lineal sobre los puntos $(\\log r, \\log f(w))$, de la forma:\n",
    "\n",
    "$$ \\log f(r) = \\log C - s \\cdot \\log r, $$\n",
    "\n",
    "lo cual equivale al modelo Zipfiano $f(r) \\approx \\frac{C}{r^{s}}$."
   ]
  },
  {
   "cell_type": "code",
   "execution_count": null,
   "id": "3bab71f4",
   "metadata": {},
   "outputs": [
    {
     "name": "stdout",
     "output_type": "stream",
     "text": [
      "Ajuste (FULL):\n",
      "  s = 1.2706\n",
      "  C = 1.9739e+05\n",
      "  R^2 = 0.9729\n"
     ]
    },
    {
     "data": {
      "image/png": "[encoded data removed]",
      "text/plain": [
       "<Figure size 750x600 with 1 Axes>"
      ]
     },
     "metadata": {},
     "output_type": "display_data"
    }
   ],
   "source": [
    "# Seleccionamos las columnas\n",
    "x = freq_df[\"log_rank\"].values\n",
    "y = freq_df[\"log_freq\"].values\n",
    "\n",
    "def linfit_and_report(x, y):\n",
    "    # Ajuste lineal: y = a x + b\n",
    "    a, b = np.polyfit(x, y, deg=1)\n",
    "    y_hat = a * x + b\n",
    "    ss_res = np.sum((y - y_hat)**2)\n",
    "    ss_tot = np.sum((y - y.mean())**2)\n",
    "    r2 = 1 - ss_res/ss_tot\n",
    "\n",
    "    # Parámetros de Zipf\n",
    "    s = -a                   # Pendiente negativa => s > 0\n",
    "    C = float(np.exp(b))     # log C = b\n",
    "\n",
    "    return dict(a=float(a), b=float(b), s=float(s), C=C, r2=float(r2)), y_hat\n",
    "\n",
    "# Full fit\n",
    "full_stats, y_full = linfit_and_report(x, y)\n",
    "print(\"Ajuste (FULL):\")\n",
    "print(f\"  s = {full_stats['s']:.4f}\")\n",
    "print(f\"  C = {full_stats['C']:.4e}\")\n",
    "print(f\"  R^2 = {full_stats['r2']:.4f}\")\n",
    "\n",
    "plt.figure(figsize=(7.5, 6))\n",
    "plt.scatter(x, y, s=2, alpha=0.45, rasterized=True)\n",
    "idx = np.argsort(x)\n",
    "plt.plot(x[idx], np.array(y_full)[idx], linewidth=2)\n",
    "plt.xlabel(\"log(rango)\")\n",
    "plt.ylabel(\"log(frecuencia)\")\n",
    "plt.title(\"Ley de Zipf — Ajuste lineal\")\n",
    "plt.tight_layout()\n",
    "fig_full_path = \"../reports/figures/zipf_fit_full.png\"\n",
    "plt.savefig(fig_full_path, dpi=200)\n",
    "plt.show()"
   ]
  },
  {
   "cell_type": "markdown",
   "id": "bae9e502",
   "metadata": {},
   "source": [
    "En esta formulación:\n",
    "\n",
    "* $C$ es una **constante de normalización** que se aproxima a la frecuencia de la palabra más común ($f(1) \\approx C$). \n",
    "* $s$ es el **exponente de Zipf**, que controla la rapidez con que decrecen las frecuencias conforme aumenta el rango. Valores cercanos a $s \\approx 1$ son típicos en lenguajes naturales. "
   ]
  },
  {
   "cell_type": "code",
   "execution_count": null,
   "id": "04a66ad6",
   "metadata": {},
   "outputs": [
    {
     "name": "stdout",
     "output_type": "stream",
     "text": [
      "\n",
      "[FULL]\n",
      "  s (pendiente con signo cambiado) = 1.2706\n",
      "  C (exp(intercept))              = 197393.45\n",
      "  R^2 del ajuste                  = 0.9729\n",
      "  f(1) real (token más frecuente) = 15254\n",
      "  |C - f(1)|                      = 182139.45  (1194.04%)\n",
      "\n",
      "[MIDDLE 5–95%]\n",
      "  s (pendiente con signo cambiado) = 1.3373\n",
      "  C (exp(intercept))              = 353496.22\n",
      "  R^2 del ajuste                  = 0.9586\n",
      "  f(1) real (token más frecuente) = 15254\n",
      "  |C - f(1)|                      = 338242.22  (2217.40%)\n"
     ]
    }
   ],
   "source": [
    "# Resumen de los resultados\n",
    "def resumen_zipf(nombre, stats, freq_df):\n",
    "    s = stats[\"s\"]\n",
    "    C = stats[\"C\"]\n",
    "    r2 = stats[\"r2\"]\n",
    "\n",
    "    # Frecuencia de la palabra más común (r=1)\n",
    "    f1 = int(freq_df.loc[0, \"freq\"])\n",
    "    err_abs = abs(C - f1)\n",
    "    err_rel = err_abs / f1 * 100\n",
    "\n",
    "    print(f\"\\n[{nombre}]\")\n",
    "    print(f\"  s (pendiente con signo cambiado) = {s:.4f}\")\n",
    "    print(f\"  C (exp(intercept))              = {C:.2f}\")\n",
    "    print(f\"  R^2 del ajuste                  = {r2:.4f}\")\n",
    "    print(f\"  f(1) real (token más frecuente) = {f1}\")\n",
    "    print(f\"  |C - f(1)|                      = {err_abs:.2f}  ({err_rel:.2f}%)\")\n",
    "\n",
    "resumen_zipf(\"FULL\", full_stats, freq_df)"
   ]
  },
  {
   "cell_type": "markdown",
   "id": "39ece5d3",
   "metadata": {},
   "source": [
    "## 3. Palabras importantes por clase"
   ]
  },
  {
   "cell_type": "markdown",
   "id": "e73088dd",
   "metadata": {},
   "source": [
    "Elimina palabras vacı́as y normaliza el texto."
   ]
  },
  {
   "cell_type": "code",
   "execution_count": 15,
   "id": "4157525d",
   "metadata": {},
   "outputs": [
    {
     "data": {
      "application/vnd.microsoft.datawrangler.viewer.v0+json": {
       "columns": [
        {
         "name": "index",
         "rawType": "int64",
         "type": "integer"
        },
        {
         "name": "tokens",
         "rawType": "object",
         "type": "unknown"
        },
        {
         "name": "tokens_clean",
         "rawType": "object",
         "type": "unknown"
        },
        {
         "name": "n_tokens",
         "rawType": "int64",
         "type": "integer"
        },
        {
         "name": "n_tokens_clean",
         "rawType": "int64",
         "type": "integer"
        }
       ],
       "ref": "dafb85da-5655-4a56-bf6f-29e50709b5d1",
       "rows": [
        [
         "0",
         "['un', 'restaurante', 'te', 'invita', 'por', 'su', 'ambiente', 'tan', 'alegre', 'pero', 'al', 'sentarte', 'los', 'meseros', 'te', 'apuran', 'al', 'tomar', 'tu', 'orden', 'y', 'luego', 'al', 'llevarte', 'tu', 'orden', 'se', 'olvidan', 'de', 'ti', 'la', 'comida', 'esta', 'buena', 'hay', 'estacionamiento', 'y', 'no', 'estaba', 'lleno', 'y', 'aun', 'asi', 'nos', 'descuidaron', 'mucho']",
         "['restaurante', 'invita', 'ambiente', 'tan', 'alegre', 'sentarte', 'meseros', 'apuran', 'tomar', 'orden', 'luego', 'llevarte', 'orden', 'olvidan', 'comida', 'buena', 'estacionamiento', 'lleno', 'aun', 'asi', 'descuidaron']",
         "46",
         "21"
        ],
        [
         "1",
         "['pagamos', 'pesos', 'por', 'la', 'entrada', 'y', 'no', 'es', 'gran', 'cosa', 'lo', 'único', 'bueno', 'es', 'que', 'no', 'habia', 'nadie', 'pero', 'hay', 'lugares', 'mucho', 'mas', 'bonitos', 'para', 'bañarse', 'en', 'la', 'laguna', 'que', 'son', 'gratuitos']",
         "['pagamos', 'pesos', 'entrada', 'gran', 'cosa', 'único', 'bueno', 'habia', 'nadie', 'lugares', 'mas', 'bonitos', 'bañarse', 'laguna', 'gratuitos']",
         "32",
         "15"
        ],
        [
         "2",
         "['mi', 'esposa', 'y', 'yo', 'nos', 'alojamos', 'en', 'el', 'dreams', 'por', 'días', 'en', 'enero', 'de', 'primero', 'tengo', 'que', 'decir', 'que', 'el', 'complejo', 'era', 'muy', 'agradable', 'y', 'las', 'instalaciones', 'parecía', 'muy', 'bien', 'cuidados', 'teníamos', 'una', 'habitación', 'con', 'vistas', 'al', 'océano', 'que', 'era', 'agradable', 'la', 'zona', 'de', 'gimnasio', 'también', 'estaba', 'bien', 'tenían', 'unas', 'cuantas', 'cintas', 'y', 'algunas', 'pesas', 'probamos', 'a', 'la', 'orden', 'tarde', 'noche', 'servicio', 'de', 'habitación', 'varias', 'veces', 'y', 'no', 'podíamos', 'conseguir', 'que', 'nadie', 'contesta', 'el', 'teléfono', 'que', 'era', 'frustrante', 'comida', 'yo', 'estaba', 'bastante', 'decepcionado', 'con', 'la', 'comida', 'aquí', 'la', 'comida', 'en', 'la', 'piscina', 'parecía', 'que', 'estaban', 'camino', 'a', 'largo', 'y', 'no', 'le', 'importaba', 'tuvimos', 'un', 'par', 'de', 'buenas', 'comidas', 'tacos', 'burritos', 'pero', 'en', 'general', 'no', 'me', 'impresionó', 'yo', 'estaba', 'frustrado', 'con', 'el', 'código', 'de', 'vestimenta', 'tengo', 'un', 'tanque', 'superior', 'y', 'que', 'no', 'me', 'asiento', 'pero']",
         "['esposa', 'alojamos', 'dreams', 'días', 'enero', 'primero', 'decir', 'complejo', 'agradable', 'instalaciones', 'parecía', 'bien', 'cuidados', 'habitación', 'vistas', 'océano', 'agradable', 'zona', 'gimnasio', 'bien', 'unas', 'cuantas', 'cintas', 'pesas', 'probamos', 'orden', 'tarde', 'noche', 'servicio', 'habitación', 'varias', 'veces', 'podíamos', 'conseguir', 'nadie', 'contesta', 'teléfono', 'frustrante', 'comida', 'bastante', 'decepcionado', 'comida', 'aquí', 'comida', 'piscina', 'parecía', 'camino', 'largo', 'importaba', 'par', 'buenas', 'comidas', 'tacos', 'burritos', 'general', 'impresionó', 'frustrado', 'código', 'vestimenta', 'tanque', 'superior', 'asiento']",
         "134",
         "62"
        ],
        [
         "3",
         "['la', 'única', 'decepción', 'puede', 'no', 'ser', 'josé', 'cuervo', 'pero', 'fue', 'realmente', 'una', 'mala', 'experiencia', 'para', 'nosotros', 'resultó', 'que', 'conseguimos', 'blue', 'vs', 'acanalado', 'elástico', 'u', 'otro', 'medio', 'para', 'ceñir', 'púrpura', 'y', 'sólo', 'la', 'cintura', 'blye', 'puede', 'hacer', 'la', 'degustación', 'en', 'la', 'bodega', 'y', 'el', 'comedor', 'de', 'hecho', 'reservamos', 'la', 'excursión', 'por', 'el', 'conserje', 'en', 'el', 'hotel', 'riu', 'y', 'fue', 'confirmado', 'por', 'el', 'conserje', 'durante', 'la', 'reserva', 'que', 'la', 'prueba', 'está', 'incluido', 'sin', 'embargo', 'con', 'toda', 'la', 'emoción', 'con', 'ganas', 'de', 'la', 'cata', 'nos', 'dijeron', 'que', 'fuera', 'de', 'la', 'bodega', 'al', 'final', 'del', 'tour', 'de', 'la', 'fábrica', 'que', 'compramos', 'el', 'grado', 'inferior', 'tour', 'y', 'no', 'nos', 'permitieron', 'hacer', 'la', 'degustación', 'queríamos', 'volver', 'pero', 'fue', 'rechazada', 'lo', 'que', 'empeoró', 'las', 'cosas', 'era', 'nos', 'hicieron', 'desde', 'fuera', 'la', 'bodega', 'viendo', 'otros', 'disfrutando', 'de', 'la', 'degustación', 'como', 'un', 'favor', 'para', 'nosotros', 'estamos', 'bastante', 'seguros', 'había', 'graciosas', 'negocios', 'entre', 'el', 'conserje', 'y', 'los', 'operadores', 'turísticos', 'pero', 'josr', 'cuervo', 'debería', 'haber', 'nos', 'informó', 'que', 'la', 'diferencia', 'whistband', 'antes', 'de', 'que', 'el', 'tour', 'comenzó', 'no', 'justo', 'antes', 'de', 'que', 'la', 'sesión', 'de', 'degustación', 'una', 'muy', 'mala', 'experiencia', 'de', 'tequila']",
         "['única', 'decepción', 'puede', 'ser', 'josé', 'cuervo', 'realmente', 'mala', 'experiencia', 'resultó', 'conseguimos', 'blue', 'vs', 'acanalado', 'elástico', 'u', 'medio', 'ceñir', 'púrpura', 'sólo', 'cintura', 'blye', 'puede', 'hacer', 'degustación', 'bodega', 'comedor', 'hecho', 'reservamos', 'excursión', 'conserje', 'hotel', 'riu', 'confirmado', 'conserje', 'reserva', 'prueba', 'incluido', 'embargo', 'toda', 'emoción', 'ganas', 'cata', 'dijeron', 'bodega', 'final', 'tour', 'fábrica', 'compramos', 'grado', 'inferior', 'tour', 'permitieron', 'hacer', 'degustación', 'queríamos', 'volver', 'rechazada', 'empeoró', 'cosas', 'hicieron', 'bodega', 'viendo', 'disfrutando', 'degustación', 'favor', 'bastante', 'seguros', 'graciosas', 'negocios', 'conserje', 'operadores', 'turísticos', 'josr', 'cuervo', 'debería', 'haber', 'informó', 'diferencia', 'whistband', 'tour', 'comenzó', 'justo', 'sesión', 'degustación', 'mala', 'experiencia', 'tequila']",
         "181",
         "88"
        ],
        [
         "4",
         "['cuando', 'leí', 'los', 'comentarios', 'sobre', 'cómo', 'son', 'las', 'cosas', 'grosero', 'ellos', 'creen', 'que', 'el', 'personal', 'de', 'este', 'hotel', 'son', 'súper', 'antipático', 'e', 'incluso', 'grosero', 'eres', 'una', 'molestia', 'para', 'ellos', 'simplemente', 'estar', 'allí', 'olvídate', 'si', 'tienes', 'que', 'pedir', 'algo', 'tan', 'sencillo', 'como', 'llamar', 'a', 'un', 'taxi', 'o', 'necesita', 'una', 'toalla', 'o', 'simplemente', 'saludando', 'que', 'nunca', 'están', 'contentos', 'de', 'verte', 'hay', 'gente', 'que', 'vive', 'en', 'este', 'hotel', 'se', 'podía', 'ver', 'en', 'las', 'habitaciones', 'y', 'apartamentos', 'tienen', 'completo', 'con', 'mucha', 'animales', 'vivos', 'dentro', 'me', 'encanta', 'los', 'animales', 'pero', 'no', 'esperaba', 'que', 'ellos', 'corriendo', 'por', 'los', 'pasillos', 'el', 'desayuno', 'estaba', 'incluido', 'pero', 'no', 'muy', 'bueno', 'puedes', 'conseguir', 'en', 'internet', 'pero', 'sólo', 'cerca', 'de', 'la', 'oficina', 'no', 'en', 'la', 'habitación', 'estancia', 'aquí']",
         "['leí', 'comentarios', 'cómo', 'cosas', 'grosero', 'creen', 'personal', 'hotel', 'súper', 'antipático', 'incluso', 'grosero', 'molestia', 'simplemente', 'allí', 'olvídate', 'si', 'pedir', 'tan', 'sencillo', 'llamar', 'taxi', 'necesita', 'toalla', 'simplemente', 'saludando', 'nunca', 'contentos', 'verte', 'gente', 'vive', 'hotel', 'podía', 'ver', 'habitaciones', 'apartamentos', 'completo', 'mucha', 'animales', 'vivos', 'dentro', 'encanta', 'animales', 'esperaba', 'corriendo', 'pasillos', 'desayuno', 'incluido', 'bueno', 'puedes', 'conseguir', 'internet', 'sólo', 'cerca', 'oficina', 'habitación', 'estancia', 'aquí']",
         "117",
         "58"
        ],
        [
         "5",
         "['durante', 'la', 'cata', 'compre', 'una', 'botella', 'de', 'tequila', 'la', 'cofradia', 'reposa', 'en', 'pesos', 'la', 'guía', 'se', 'ofreció', 'a', 'resguardar', 'la', 'botella', 'mientras', 'temrinabamos', 'la', 'cata', 'al', 'dia', 'de', 'dejar', 'el', 'hotel', 'pase', 'por', 'mi', 'botella', 'y', 'me', 'la', 'entregaron', 'vacia', 'y', 'rota', 'nadie', 'se', 'hizo', 'responsable', 'muy', 'buena', 'experiencia', 'pero', 'muy', 'mal', 'que', 'no', 'se', 'hagan', 'responsables']",
         "['cata', 'compre', 'botella', 'tequila', 'cofradia', 'reposa', 'pesos', 'guía', 'ofreció', 'resguardar', 'botella', 'mientras', 'temrinabamos', 'cata', 'dia', 'dejar', 'hotel', 'pase', 'botella', 'entregaron', 'vacia', 'rota', 'nadie', 'hizo', 'responsable', 'buena', 'experiencia', 'mal', 'hagan', 'responsables']",
         "57",
         "30"
        ],
        [
         "6",
         "['la', 'verdad', 'muy', 'costosa', 'la', 'entrada', 'pesos', 'mexicanos', 'por', 'persona', 'mucho', 'mejor', 'el', 'cenote', 'azul', 'en', 'bacalar', 'donde', 'solo', 'se', 'pagan', 'pesos', 'por', 'ingresar', 'es', 'mucho', 'más', 'cómodo', 'en', 'todos', 'los', 'sentidos', 'la', 'verdad', 'no', 'lo', 'recomiendo', 'en', 'absoluto', 'adicionalmente', 'se', 'aglomeran', 'muchas', 'personas', 'y', 'ahorita', 'en', 'tiempos', 'de', 'pandemia', 'se', 'debe', 'tener', 'en', 'cuenta']",
         "['verdad', 'costosa', 'entrada', 'pesos', 'mexicanos', 'persona', 'mejor', 'cenote', 'azul', 'bacalar', 'solo', 'pagan', 'pesos', 'ingresar', 'cómodo', 'verdad', 'recomiendo', 'absoluto', 'adicionalmente', 'aglomeran', 'muchas', 'personas', 'ahorita', 'tiempos', 'pandemia', 'debe', 'tener', 'cuenta']",
         "55",
         "28"
        ],
        [
         "7",
         "['el', 'lugar', 'está', 'decorado', 'muy', 'bonito', 'tiene', 'mesas', 'al', 'interior', 'y', 'afuera', 'van', 'cambiando', 'el', 'menú', 'cada', 'semana', 'pero', 'lo', 'que', 'nos', 'tocó', 'a', 'nosotros', 'nada', 'rico', 'los', 'niños', 'pidieron', 'un', 'ribeye', 'y', 'estaba', 'duro', 'incomible', 'no', 'se', 'podía', 'ni', 'partir', 'el', 'servicio', 'muy', 'bueno']",
         "['lugar', 'decorado', 'bonito', 'mesas', 'interior', 'afuera', 'van', 'cambiando', 'menú', 'cada', 'semana', 'tocó', 'rico', 'niños', 'pidieron', 'ribeye', 'duro', 'incomible', 'podía', 'partir', 'servicio', 'bueno']",
         "45",
         "22"
        ],
        [
         "8",
         "['hace', 'tiempo', 'que', 'fui', 'al', 'restaurante', 'de', 'este', 'hotel', 'que', 'es', 'muy', 'bonito', 'y', 'agradable', 'el', 'servicio', 'fue', 'bueno', 'pero', 'los', 'platillos', 'no', 'fueron', 'los', 'mejores', 'el', 'pollo', 'que', 'pedí', 'estaba', 'muy', 'seco', 'la', 'salsa', 'que', 'servician', 'con', 'macadamia', 'estaba', 'muy', 'buena', 'que', 'fue', 'lo']",
         "['hace', 'tiempo', 'restaurante', 'hotel', 'bonito', 'agradable', 'servicio', 'bueno', 'platillos', 'mejores', 'pollo', 'pedí', 'seco', 'salsa', 'servician', 'macadamia', 'buena']",
         "45",
         "17"
        ],
        [
         "9",
         "['primero', 'de', 'todo', 'el', 'hotel', 'está', 'situado', 'en', 'una', 'buena', 'ubicación', 'el', 'personal', 'es', 'muy', 'amable', 'y', 'servicial', 'el', 'restaurante', 'sirve', 'muy', 'buena', 'comida', 'y', 'el', 'servicio', 'es', 'fantástico', 'nos', 'quedamos', 'sólo', 'una', 'noche', 'volvimos', 'dos', 'veces', 'para', 'comer', 'nos', 'dieron', 'una', 'suite', 'junior', 'de', 'nivel', 'superior', 'espaciosas', 'un', 'gran', 'balcón', 'con', 'vistas', 'al', 'mar', 'no', 'hay', 'armario', 'ropero', 'sólo', 'un', 'bar', 'en', 'la', 'pared', 'con', 'pocos', 'hanger-abrigo', 'la', 'habitación', 'está', 'llena', 'de', 'luz', 'debido', 'a', 'la', 'gran', 'ventana', 'delantera', 'y', 'la', 'parte', 'trasera', 'de', 'ventana', 'y', 'sí', 'va', 'a', 'ser', 'muy', 'caliente', 'el', 'pequeño', 'ruidoso', 'ventilador', 'encima', 'de', 'la', 'cama', 'no', 'ayuda', 'mucho', 'nos', 'las', 'arreglamos', 'para', 'dejar', 'las', 'ventanas', 'abiertas', 'sus', 'puertas', 'a', 'pesar', 'de', 'que', 'era', 'bastante', 'viento', 'en', 'la', 'parte', 'de', 'arriba', 'de', 'que', 'tenemos', 'un', 'problema', 'con', 'el', 'baño', 'que', 'necesitaba', 'ser', 'reemplazado', 'el', 'día']",
         "['primero', 'hotel', 'situado', 'buena', 'ubicación', 'personal', 'amable', 'servicial', 'restaurante', 'sirve', 'buena', 'comida', 'servicio', 'fantástico', 'quedamos', 'sólo', 'noche', 'volvimos', 'dos', 'veces', 'comer', 'dieron', 'suite', 'junior', 'nivel', 'superior', 'espaciosas', 'gran', 'balcón', 'vistas', 'mar', 'armario', 'ropero', 'sólo', 'bar', 'pared', 'pocos', 'hanger-abrigo', 'habitación', 'llena', 'luz', 'debido', 'gran', 'ventana', 'delantera', 'parte', 'trasera', 'ventana', 'va', 'ser', 'caliente', 'pequeño', 'ruidoso', 'ventilador', 'encima', 'cama', 'ayuda', 'arreglamos', 'dejar', 'ventanas', 'abiertas', 'puertas', 'pesar', 'bastante', 'viento', 'parte', 'arriba', 'problema', 'baño', 'necesitaba', 'ser', 'reemplazado', 'día']",
         "140",
         "73"
        ]
       ],
       "shape": {
        "columns": 4,
        "rows": 10
       }
      },
      "text/html": [
       "<div>\n",
       "<style scoped>\n",
       "    .dataframe tbody tr th:only-of-type {\n",
       "        vertical-align: middle;\n",
       "    }\n",
       "\n",
       "    .dataframe tbody tr th {\n",
       "        vertical-align: top;\n",
       "    }\n",
       "\n",
       "    .dataframe thead th {\n",
       "        text-align: right;\n",
       "    }\n",
       "</style>\n",
       "<table border=\"1\" class=\"dataframe\">\n",
       "  <thead>\n",
       "    <tr style=\"text-align: right;\">\n",
       "      <th></th>\n",
       "      <th>tokens</th>\n",
       "      <th>tokens_clean</th>\n",
       "      <th>n_tokens</th>\n",
       "      <th>n_tokens_clean</th>\n",
       "    </tr>\n",
       "  </thead>\n",
       "  <tbody>\n",
       "    <tr>\n",
       "      <th>0</th>\n",
       "      <td>[un, restaurante, te, invita, por, su, ambient...</td>\n",
       "      <td>[restaurante, invita, ambiente, tan, alegre, s...</td>\n",
       "      <td>46</td>\n",
       "      <td>21</td>\n",
       "    </tr>\n",
       "    <tr>\n",
       "      <th>1</th>\n",
       "      <td>[pagamos, pesos, por, la, entrada, y, no, es, ...</td>\n",
       "      <td>[pagamos, pesos, entrada, gran, cosa, único, b...</td>\n",
       "      <td>32</td>\n",
       "      <td>15</td>\n",
       "    </tr>\n",
       "    <tr>\n",
       "      <th>2</th>\n",
       "      <td>[mi, esposa, y, yo, nos, alojamos, en, el, dre...</td>\n",
       "      <td>[esposa, alojamos, dreams, días, enero, primer...</td>\n",
       "      <td>134</td>\n",
       "      <td>62</td>\n",
       "    </tr>\n",
       "    <tr>\n",
       "      <th>3</th>\n",
       "      <td>[la, única, decepción, puede, no, ser, josé, c...</td>\n",
       "      <td>[única, decepción, puede, ser, josé, cuervo, r...</td>\n",
       "      <td>181</td>\n",
       "      <td>88</td>\n",
       "    </tr>\n",
       "    <tr>\n",
       "      <th>4</th>\n",
       "      <td>[cuando, leí, los, comentarios, sobre, cómo, s...</td>\n",
       "      <td>[leí, comentarios, cómo, cosas, grosero, creen...</td>\n",
       "      <td>117</td>\n",
       "      <td>58</td>\n",
       "    </tr>\n",
       "    <tr>\n",
       "      <th>5</th>\n",
       "      <td>[durante, la, cata, compre, una, botella, de, ...</td>\n",
       "      <td>[cata, compre, botella, tequila, cofradia, rep...</td>\n",
       "      <td>57</td>\n",
       "      <td>30</td>\n",
       "    </tr>\n",
       "    <tr>\n",
       "      <th>6</th>\n",
       "      <td>[la, verdad, muy, costosa, la, entrada, pesos,...</td>\n",
       "      <td>[verdad, costosa, entrada, pesos, mexicanos, p...</td>\n",
       "      <td>55</td>\n",
       "      <td>28</td>\n",
       "    </tr>\n",
       "    <tr>\n",
       "      <th>7</th>\n",
       "      <td>[el, lugar, está, decorado, muy, bonito, tiene...</td>\n",
       "      <td>[lugar, decorado, bonito, mesas, interior, afu...</td>\n",
       "      <td>45</td>\n",
       "      <td>22</td>\n",
       "    </tr>\n",
       "    <tr>\n",
       "      <th>8</th>\n",
       "      <td>[hace, tiempo, que, fui, al, restaurante, de, ...</td>\n",
       "      <td>[hace, tiempo, restaurante, hotel, bonito, agr...</td>\n",
       "      <td>45</td>\n",
       "      <td>17</td>\n",
       "    </tr>\n",
       "    <tr>\n",
       "      <th>9</th>\n",
       "      <td>[primero, de, todo, el, hotel, está, situado, ...</td>\n",
       "      <td>[primero, hotel, situado, buena, ubicación, pe...</td>\n",
       "      <td>140</td>\n",
       "      <td>73</td>\n",
       "    </tr>\n",
       "  </tbody>\n",
       "</table>\n",
       "</div>"
      ],
      "text/plain": [
       "                                              tokens  \\\n",
       "0  [un, restaurante, te, invita, por, su, ambient...   \n",
       "1  [pagamos, pesos, por, la, entrada, y, no, es, ...   \n",
       "2  [mi, esposa, y, yo, nos, alojamos, en, el, dre...   \n",
       "3  [la, única, decepción, puede, no, ser, josé, c...   \n",
       "4  [cuando, leí, los, comentarios, sobre, cómo, s...   \n",
       "5  [durante, la, cata, compre, una, botella, de, ...   \n",
       "6  [la, verdad, muy, costosa, la, entrada, pesos,...   \n",
       "7  [el, lugar, está, decorado, muy, bonito, tiene...   \n",
       "8  [hace, tiempo, que, fui, al, restaurante, de, ...   \n",
       "9  [primero, de, todo, el, hotel, está, situado, ...   \n",
       "\n",
       "                                        tokens_clean  n_tokens  n_tokens_clean  \n",
       "0  [restaurante, invita, ambiente, tan, alegre, s...        46              21  \n",
       "1  [pagamos, pesos, entrada, gran, cosa, único, b...        32              15  \n",
       "2  [esposa, alojamos, dreams, días, enero, primer...       134              62  \n",
       "3  [única, decepción, puede, ser, josé, cuervo, r...       181              88  \n",
       "4  [leí, comentarios, cómo, cosas, grosero, creen...       117              58  \n",
       "5  [cata, compre, botella, tequila, cofradia, rep...        57              30  \n",
       "6  [verdad, costosa, entrada, pesos, mexicanos, p...        55              28  \n",
       "7  [lugar, decorado, bonito, mesas, interior, afu...        45              22  \n",
       "8  [hace, tiempo, restaurante, hotel, bonito, agr...        45              17  \n",
       "9  [primero, hotel, situado, buena, ubicación, pe...       140              73  "
      ]
     },
     "execution_count": 15,
     "metadata": {},
     "output_type": "execute_result"
    }
   ],
   "source": [
    "# Usamos la lista de stopwords que ya definimos con nltk\n",
    "def clean_tokens(toks):\n",
    "    return [t for t in toks if t not in stopwords_es]\n",
    "\n",
    "# Nueva columna: tokens normalizados\n",
    "df[\"tokens_clean\"] = df[\"tokens\"].apply(clean_tokens)\n",
    "df[\"n_tokens_clean\"] = df[\"tokens_clean\"].apply(len)\n",
    "\n",
    "# Ejemplo: primeras reseñas antes y después\n",
    "df[[\"tokens\", \"tokens_clean\", \"n_tokens\", \"n_tokens_clean\"]].head(10)"
   ]
  },
  {
   "cell_type": "markdown",
   "id": "3629f06a",
   "metadata": {},
   "source": [
    "Identifica las palabras más frecuentes en cada clase."
   ]
  },
  {
   "cell_type": "code",
   "execution_count": 16,
   "id": "4bbffecc",
   "metadata": {},
   "outputs": [],
   "source": [
    "def top_words_per_class(df, class_col, k=20):\n",
    "    \"\"\"\n",
    "    Regresa un DataFrame con las k palabras más frecuentes por cada valor\n",
    "    de `class_col`, usando la columna df['tokens_clean'].\n",
    "    \"\"\"\n",
    "    if class_col not in df.columns:\n",
    "        raise ValueError(f\"No existe la columna de clase: {class_col}\")\n",
    "    if \"tokens_clean\" not in df.columns:\n",
    "        raise ValueError(\"Falta la columna 'tokens_clean'. Ejecute la limpieza primero.\")\n",
    "\n",
    "    frames = []\n",
    "    for val, g in df.groupby(class_col, dropna=False):\n",
    "        c = Counter()\n",
    "        for toks in g[\"tokens_clean\"]:\n",
    "            c.update(toks)\n",
    "        # top-k de esta clase\n",
    "        topk = c.most_common(k)\n",
    "        tmp = pd.DataFrame(topk, columns=[\"token\", \"freq\"])\n",
    "        tmp.insert(0, \"class_col\", class_col)\n",
    "        tmp.insert(1, \"class_value\", val)\n",
    "        tmp[\"rank\"] = range(1, len(tmp) + 1)\n",
    "        frames.append(tmp)\n",
    "\n",
    "    out = pd.concat(frames, ignore_index=True)\n",
    "    return out[[\"class_col\", \"class_value\", \"rank\", \"token\", \"freq\"]]"
   ]
  },
  {
   "cell_type": "code",
   "execution_count": null,
   "id": "de18d881",
   "metadata": {},
   "outputs": [
    {
     "name": "stdout",
     "output_type": "stream",
     "text": [
      "\n",
      "==== Top palabras por clase: Polarity ====\n"
     ]
    },
    {
     "data": {
      "application/vnd.microsoft.datawrangler.viewer.v0+json": {
       "columns": [
        {
         "name": "index",
         "rawType": "int64",
         "type": "integer"
        },
        {
         "name": "class_col",
         "rawType": "object",
         "type": "string"
        },
        {
         "name": "class_value",
         "rawType": "float64",
         "type": "float"
        },
        {
         "name": "rank",
         "rawType": "int64",
         "type": "integer"
        },
        {
         "name": "token",
         "rawType": "object",
         "type": "string"
        },
        {
         "name": "freq",
         "rawType": "int64",
         "type": "integer"
        }
       ],
       "ref": "4b4aea01-0084-46ca-bc3c-1d77304fc70d",
       "rows": [
        [
         "0",
         "Polarity",
         "1.0",
         "1",
         "hotel",
         "385"
        ],
        [
         "1",
         "Polarity",
         "1.0",
         "2",
         "lugar",
         "328"
        ],
        [
         "2",
         "Polarity",
         "1.0",
         "3",
         "servicio",
         "284"
        ],
        [
         "3",
         "Polarity",
         "1.0",
         "4",
         "comida",
         "262"
        ],
        [
         "4",
         "Polarity",
         "1.0",
         "5",
         "habitación",
         "250"
        ],
        [
         "5",
         "Polarity",
         "1.0",
         "6",
         "si",
         "247"
        ],
        [
         "6",
         "Polarity",
         "1.0",
         "7",
         "personal",
         "144"
        ],
        [
         "7",
         "Polarity",
         "1.0",
         "8",
         "restaurante",
         "136"
        ],
        [
         "8",
         "Polarity",
         "1.0",
         "9",
         "solo",
         "135"
        ],
        [
         "9",
         "Polarity",
         "1.0",
         "10",
         "mal",
         "121"
        ],
        [
         "10",
         "Polarity",
         "1.0",
         "11",
         "así",
         "120"
        ],
        [
         "11",
         "Polarity",
         "1.0",
         "12",
         "agua",
         "116"
        ],
        [
         "12",
         "Polarity",
         "1.0",
         "13",
         "dos",
         "113"
        ],
        [
         "13",
         "Polarity",
         "1.0",
         "14",
         "después",
         "112"
        ],
        [
         "14",
         "Polarity",
         "1.0",
         "15",
         "bien",
         "110"
        ],
        [
         "15",
         "Polarity",
         "1.0",
         "16",
         "mala",
         "109"
        ],
        [
         "16",
         "Polarity",
         "1.0",
         "17",
         "noche",
         "108"
        ],
        [
         "17",
         "Polarity",
         "1.0",
         "18",
         "nunca",
         "106"
        ],
        [
         "18",
         "Polarity",
         "1.0",
         "19",
         "habitaciones",
         "106"
        ],
        [
         "19",
         "Polarity",
         "1.0",
         "20",
         "experiencia",
         "97"
        ],
        [
         "20",
         "Polarity",
         "2.0",
         "1",
         "hotel",
         "452"
        ],
        [
         "21",
         "Polarity",
         "2.0",
         "2",
         "lugar",
         "373"
        ],
        [
         "22",
         "Polarity",
         "2.0",
         "3",
         "comida",
         "369"
        ],
        [
         "23",
         "Polarity",
         "2.0",
         "4",
         "si",
         "287"
        ],
        [
         "24",
         "Polarity",
         "2.0",
         "5",
         "habitación",
         "279"
        ],
        [
         "25",
         "Polarity",
         "2.0",
         "6",
         "servicio",
         "277"
        ],
        [
         "26",
         "Polarity",
         "2.0",
         "7",
         "bien",
         "191"
        ],
        [
         "27",
         "Polarity",
         "2.0",
         "8",
         "personal",
         "177"
        ],
        [
         "28",
         "Polarity",
         "2.0",
         "9",
         "restaurante",
         "172"
        ],
        [
         "29",
         "Polarity",
         "2.0",
         "10",
         "así",
         "170"
        ],
        [
         "30",
         "Polarity",
         "2.0",
         "11",
         "habitaciones",
         "165"
        ],
        [
         "31",
         "Polarity",
         "2.0",
         "12",
         "playa",
         "156"
        ],
        [
         "32",
         "Polarity",
         "2.0",
         "13",
         "mejor",
         "155"
        ],
        [
         "33",
         "Polarity",
         "2.0",
         "14",
         "buena",
         "142"
        ],
        [
         "34",
         "Polarity",
         "2.0",
         "15",
         "mal",
         "135"
        ],
        [
         "35",
         "Polarity",
         "2.0",
         "16",
         "dos",
         "132"
        ],
        [
         "36",
         "Polarity",
         "2.0",
         "17",
         "ser",
         "127"
        ],
        [
         "37",
         "Polarity",
         "2.0",
         "18",
         "bueno",
         "127"
        ],
        [
         "38",
         "Polarity",
         "2.0",
         "19",
         "noche",
         "126"
        ],
        [
         "39",
         "Polarity",
         "2.0",
         "20",
         "agua",
         "118"
        ],
        [
         "40",
         "Polarity",
         "3.0",
         "1",
         "lugar",
         "397"
        ],
        [
         "41",
         "Polarity",
         "3.0",
         "2",
         "comida",
         "396"
        ],
        [
         "42",
         "Polarity",
         "3.0",
         "3",
         "hotel",
         "351"
        ],
        [
         "43",
         "Polarity",
         "3.0",
         "4",
         "si",
         "286"
        ],
        [
         "44",
         "Polarity",
         "3.0",
         "5",
         "bien",
         "269"
        ],
        [
         "45",
         "Polarity",
         "3.0",
         "6",
         "servicio",
         "264"
        ],
        [
         "46",
         "Polarity",
         "3.0",
         "7",
         "buena",
         "238"
        ],
        [
         "47",
         "Polarity",
         "3.0",
         "8",
         "playa",
         "223"
        ],
        [
         "48",
         "Polarity",
         "3.0",
         "9",
         "habitación",
         "214"
        ],
        [
         "49",
         "Polarity",
         "3.0",
         "10",
         "restaurante",
         "171"
        ]
       ],
       "shape": {
        "columns": 5,
        "rows": 100
       }
      },
      "text/html": [
       "<div>\n",
       "<style scoped>\n",
       "    .dataframe tbody tr th:only-of-type {\n",
       "        vertical-align: middle;\n",
       "    }\n",
       "\n",
       "    .dataframe tbody tr th {\n",
       "        vertical-align: top;\n",
       "    }\n",
       "\n",
       "    .dataframe thead th {\n",
       "        text-align: right;\n",
       "    }\n",
       "</style>\n",
       "<table border=\"1\" class=\"dataframe\">\n",
       "  <thead>\n",
       "    <tr style=\"text-align: right;\">\n",
       "      <th></th>\n",
       "      <th>class_col</th>\n",
       "      <th>class_value</th>\n",
       "      <th>rank</th>\n",
       "      <th>token</th>\n",
       "      <th>freq</th>\n",
       "    </tr>\n",
       "  </thead>\n",
       "  <tbody>\n",
       "    <tr>\n",
       "      <th>0</th>\n",
       "      <td>Polarity</td>\n",
       "      <td>1.0</td>\n",
       "      <td>1</td>\n",
       "      <td>hotel</td>\n",
       "      <td>385</td>\n",
       "    </tr>\n",
       "    <tr>\n",
       "      <th>1</th>\n",
       "      <td>Polarity</td>\n",
       "      <td>1.0</td>\n",
       "      <td>2</td>\n",
       "      <td>lugar</td>\n",
       "      <td>328</td>\n",
       "    </tr>\n",
       "    <tr>\n",
       "      <th>2</th>\n",
       "      <td>Polarity</td>\n",
       "      <td>1.0</td>\n",
       "      <td>3</td>\n",
       "      <td>servicio</td>\n",
       "      <td>284</td>\n",
       "    </tr>\n",
       "    <tr>\n",
       "      <th>3</th>\n",
       "      <td>Polarity</td>\n",
       "      <td>1.0</td>\n",
       "      <td>4</td>\n",
       "      <td>comida</td>\n",
       "      <td>262</td>\n",
       "    </tr>\n",
       "    <tr>\n",
       "      <th>4</th>\n",
       "      <td>Polarity</td>\n",
       "      <td>1.0</td>\n",
       "      <td>5</td>\n",
       "      <td>habitación</td>\n",
       "      <td>250</td>\n",
       "    </tr>\n",
       "    <tr>\n",
       "      <th>...</th>\n",
       "      <td>...</td>\n",
       "      <td>...</td>\n",
       "      <td>...</td>\n",
       "      <td>...</td>\n",
       "      <td>...</td>\n",
       "    </tr>\n",
       "    <tr>\n",
       "      <th>95</th>\n",
       "      <td>Polarity</td>\n",
       "      <td>5.0</td>\n",
       "      <td>16</td>\n",
       "      <td>atención</td>\n",
       "      <td>135</td>\n",
       "    </tr>\n",
       "    <tr>\n",
       "      <th>96</th>\n",
       "      <td>Polarity</td>\n",
       "      <td>5.0</td>\n",
       "      <td>17</td>\n",
       "      <td>recomiendo</td>\n",
       "      <td>133</td>\n",
       "    </tr>\n",
       "    <tr>\n",
       "      <th>97</th>\n",
       "      <td>Polarity</td>\n",
       "      <td>5.0</td>\n",
       "      <td>18</td>\n",
       "      <td>buen</td>\n",
       "      <td>131</td>\n",
       "    </tr>\n",
       "    <tr>\n",
       "      <th>98</th>\n",
       "      <td>Polarity</td>\n",
       "      <td>5.0</td>\n",
       "      <td>19</td>\n",
       "      <td>experiencia</td>\n",
       "      <td>131</td>\n",
       "    </tr>\n",
       "    <tr>\n",
       "      <th>99</th>\n",
       "      <td>Polarity</td>\n",
       "      <td>5.0</td>\n",
       "      <td>20</td>\n",
       "      <td>así</td>\n",
       "      <td>129</td>\n",
       "    </tr>\n",
       "  </tbody>\n",
       "</table>\n",
       "<p>100 rows × 5 columns</p>\n",
       "</div>"
      ],
      "text/plain": [
       "   class_col  class_value  rank        token  freq\n",
       "0   Polarity          1.0     1        hotel   385\n",
       "1   Polarity          1.0     2        lugar   328\n",
       "2   Polarity          1.0     3     servicio   284\n",
       "3   Polarity          1.0     4       comida   262\n",
       "4   Polarity          1.0     5   habitación   250\n",
       "..       ...          ...   ...          ...   ...\n",
       "95  Polarity          5.0    16     atención   135\n",
       "96  Polarity          5.0    17   recomiendo   133\n",
       "97  Polarity          5.0    18         buen   131\n",
       "98  Polarity          5.0    19  experiencia   131\n",
       "99  Polarity          5.0    20          así   129\n",
       "\n",
       "[100 rows x 5 columns]"
      ]
     },
     "metadata": {},
     "output_type": "display_data"
    },
    {
     "name": "stdout",
     "output_type": "stream",
     "text": [
      "\n",
      "==== Top palabras por clase: Town ====\n"
     ]
    },
    {
     "data": {
      "application/vnd.microsoft.datawrangler.viewer.v0+json": {
       "columns": [
        {
         "name": "index",
         "rawType": "int64",
         "type": "integer"
        },
        {
         "name": "class_col",
         "rawType": "object",
         "type": "string"
        },
        {
         "name": "class_value",
         "rawType": "object",
         "type": "string"
        },
        {
         "name": "rank",
         "rawType": "int64",
         "type": "integer"
        },
        {
         "name": "token",
         "rawType": "object",
         "type": "string"
        },
        {
         "name": "freq",
         "rawType": "int64",
         "type": "integer"
        }
       ],
       "ref": "eabca342-1175-45ba-9ee3-5e09a40575ae",
       "rows": [
        [
         "0",
         "Town",
         "Ajijic",
         "1",
         "comida",
         "55"
        ],
        [
         "1",
         "Town",
         "Ajijic",
         "2",
         "lugar",
         "42"
        ],
        [
         "2",
         "Town",
         "Ajijic",
         "3",
         "servicio",
         "33"
        ],
        [
         "3",
         "Town",
         "Ajijic",
         "4",
         "restaurante",
         "30"
        ],
        [
         "4",
         "Town",
         "Ajijic",
         "5",
         "buena",
         "25"
        ],
        [
         "5",
         "Town",
         "Ajijic",
         "6",
         "hotel",
         "24"
        ],
        [
         "6",
         "Town",
         "Ajijic",
         "7",
         "bien",
         "22"
        ],
        [
         "7",
         "Town",
         "Ajijic",
         "8",
         "bueno",
         "20"
        ],
        [
         "8",
         "Town",
         "Ajijic",
         "9",
         "ajijic",
         "20"
        ],
        [
         "9",
         "Town",
         "Ajijic",
         "10",
         "si",
         "19"
        ],
        [
         "10",
         "Town",
         "Ajijic",
         "11",
         "mejor",
         "19"
        ],
        [
         "11",
         "Town",
         "Ajijic",
         "12",
         "personal",
         "18"
        ],
        [
         "12",
         "Town",
         "Ajijic",
         "13",
         "excelente",
         "15"
        ],
        [
         "13",
         "Town",
         "Ajijic",
         "14",
         "agradable",
         "14"
        ],
        [
         "14",
         "Town",
         "Ajijic",
         "15",
         "aquí",
         "14"
        ],
        [
         "15",
         "Town",
         "Ajijic",
         "16",
         "gran",
         "14"
        ],
        [
         "16",
         "Town",
         "Ajijic",
         "17",
         "así",
         "14"
        ],
        [
         "17",
         "Town",
         "Ajijic",
         "18",
         "mesa",
         "13"
        ],
        [
         "18",
         "Town",
         "Ajijic",
         "19",
         "comer",
         "13"
        ],
        [
         "19",
         "Town",
         "Ajijic",
         "20",
         "nunca",
         "13"
        ],
        [
         "20",
         "Town",
         "Atlixco",
         "1",
         "servicio",
         "20"
        ],
        [
         "21",
         "Town",
         "Atlixco",
         "2",
         "lugar",
         "18"
        ],
        [
         "22",
         "Town",
         "Atlixco",
         "3",
         "comida",
         "16"
        ],
        [
         "23",
         "Town",
         "Atlixco",
         "4",
         "restaurante",
         "14"
        ],
        [
         "24",
         "Town",
         "Atlixco",
         "5",
         "si",
         "14"
        ],
        [
         "25",
         "Town",
         "Atlixco",
         "6",
         "atlixco",
         "10"
        ],
        [
         "26",
         "Town",
         "Atlixco",
         "7",
         "buena",
         "10"
        ],
        [
         "27",
         "Town",
         "Atlixco",
         "8",
         "dos",
         "10"
        ],
        [
         "28",
         "Town",
         "Atlixco",
         "9",
         "habitación",
         "9"
        ],
        [
         "29",
         "Town",
         "Atlixco",
         "10",
         "mejor",
         "8"
        ],
        [
         "30",
         "Town",
         "Atlixco",
         "11",
         "recomiendo",
         "8"
        ],
        [
         "31",
         "Town",
         "Atlixco",
         "12",
         "solo",
         "8"
        ],
        [
         "32",
         "Town",
         "Atlixco",
         "13",
         "agradable",
         "8"
        ],
        [
         "33",
         "Town",
         "Atlixco",
         "14",
         "así",
         "8"
        ],
        [
         "34",
         "Town",
         "Atlixco",
         "15",
         "comer",
         "8"
        ],
        [
         "35",
         "Town",
         "Atlixco",
         "16",
         "atención",
         "7"
        ],
        [
         "36",
         "Town",
         "Atlixco",
         "17",
         "hotel",
         "7"
        ],
        [
         "37",
         "Town",
         "Atlixco",
         "18",
         "tiempo",
         "7"
        ],
        [
         "38",
         "Town",
         "Atlixco",
         "19",
         "bonito",
         "6"
        ],
        [
         "39",
         "Town",
         "Atlixco",
         "20",
         "menú",
         "6"
        ],
        [
         "40",
         "Town",
         "Bacalar",
         "1",
         "lugar",
         "139"
        ],
        [
         "41",
         "Town",
         "Bacalar",
         "2",
         "laguna",
         "89"
        ],
        [
         "42",
         "Town",
         "Bacalar",
         "3",
         "comida",
         "88"
        ],
        [
         "43",
         "Town",
         "Bacalar",
         "4",
         "hotel",
         "75"
        ],
        [
         "44",
         "Town",
         "Bacalar",
         "5",
         "servicio",
         "66"
        ],
        [
         "45",
         "Town",
         "Bacalar",
         "6",
         "buena",
         "55"
        ],
        [
         "46",
         "Town",
         "Bacalar",
         "7",
         "si",
         "54"
        ],
        [
         "47",
         "Town",
         "Bacalar",
         "8",
         "vista",
         "52"
        ],
        [
         "48",
         "Town",
         "Bacalar",
         "9",
         "bacalar",
         "51"
        ],
        [
         "49",
         "Town",
         "Bacalar",
         "10",
         "bien",
         "45"
        ]
       ],
       "shape": {
        "columns": 5,
        "rows": 800
       }
      },
      "text/html": [
       "<div>\n",
       "<style scoped>\n",
       "    .dataframe tbody tr th:only-of-type {\n",
       "        vertical-align: middle;\n",
       "    }\n",
       "\n",
       "    .dataframe tbody tr th {\n",
       "        vertical-align: top;\n",
       "    }\n",
       "\n",
       "    .dataframe thead th {\n",
       "        text-align: right;\n",
       "    }\n",
       "</style>\n",
       "<table border=\"1\" class=\"dataframe\">\n",
       "  <thead>\n",
       "    <tr style=\"text-align: right;\">\n",
       "      <th></th>\n",
       "      <th>class_col</th>\n",
       "      <th>class_value</th>\n",
       "      <th>rank</th>\n",
       "      <th>token</th>\n",
       "      <th>freq</th>\n",
       "    </tr>\n",
       "  </thead>\n",
       "  <tbody>\n",
       "    <tr>\n",
       "      <th>0</th>\n",
       "      <td>Town</td>\n",
       "      <td>Ajijic</td>\n",
       "      <td>1</td>\n",
       "      <td>comida</td>\n",
       "      <td>55</td>\n",
       "    </tr>\n",
       "    <tr>\n",
       "      <th>1</th>\n",
       "      <td>Town</td>\n",
       "      <td>Ajijic</td>\n",
       "      <td>2</td>\n",
       "      <td>lugar</td>\n",
       "      <td>42</td>\n",
       "    </tr>\n",
       "    <tr>\n",
       "      <th>2</th>\n",
       "      <td>Town</td>\n",
       "      <td>Ajijic</td>\n",
       "      <td>3</td>\n",
       "      <td>servicio</td>\n",
       "      <td>33</td>\n",
       "    </tr>\n",
       "    <tr>\n",
       "      <th>3</th>\n",
       "      <td>Town</td>\n",
       "      <td>Ajijic</td>\n",
       "      <td>4</td>\n",
       "      <td>restaurante</td>\n",
       "      <td>30</td>\n",
       "    </tr>\n",
       "    <tr>\n",
       "      <th>4</th>\n",
       "      <td>Town</td>\n",
       "      <td>Ajijic</td>\n",
       "      <td>5</td>\n",
       "      <td>buena</td>\n",
       "      <td>25</td>\n",
       "    </tr>\n",
       "    <tr>\n",
       "      <th>...</th>\n",
       "      <td>...</td>\n",
       "      <td>...</td>\n",
       "      <td>...</td>\n",
       "      <td>...</td>\n",
       "      <td>...</td>\n",
       "    </tr>\n",
       "    <tr>\n",
       "      <th>795</th>\n",
       "      <td>Town</td>\n",
       "      <td>Zacatlan</td>\n",
       "      <td>16</td>\n",
       "      <td>menos</td>\n",
       "      <td>6</td>\n",
       "    </tr>\n",
       "    <tr>\n",
       "      <th>796</th>\n",
       "      <td>Town</td>\n",
       "      <td>Zacatlan</td>\n",
       "      <td>17</td>\n",
       "      <td>cuenta</td>\n",
       "      <td>6</td>\n",
       "    </tr>\n",
       "    <tr>\n",
       "      <th>797</th>\n",
       "      <td>Town</td>\n",
       "      <td>Zacatlan</td>\n",
       "      <td>18</td>\n",
       "      <td>q</td>\n",
       "      <td>6</td>\n",
       "    </tr>\n",
       "    <tr>\n",
       "      <th>798</th>\n",
       "      <td>Town</td>\n",
       "      <td>Zacatlan</td>\n",
       "      <td>19</td>\n",
       "      <td>parque</td>\n",
       "      <td>5</td>\n",
       "    </tr>\n",
       "    <tr>\n",
       "      <th>799</th>\n",
       "      <td>Town</td>\n",
       "      <td>Zacatlan</td>\n",
       "      <td>20</td>\n",
       "      <td>ir</td>\n",
       "      <td>5</td>\n",
       "    </tr>\n",
       "  </tbody>\n",
       "</table>\n",
       "<p>800 rows × 5 columns</p>\n",
       "</div>"
      ],
      "text/plain": [
       "    class_col class_value  rank        token  freq\n",
       "0        Town      Ajijic     1       comida    55\n",
       "1        Town      Ajijic     2        lugar    42\n",
       "2        Town      Ajijic     3     servicio    33\n",
       "3        Town      Ajijic     4  restaurante    30\n",
       "4        Town      Ajijic     5        buena    25\n",
       "..        ...         ...   ...          ...   ...\n",
       "795      Town    Zacatlan    16        menos     6\n",
       "796      Town    Zacatlan    17       cuenta     6\n",
       "797      Town    Zacatlan    18            q     6\n",
       "798      Town    Zacatlan    19       parque     5\n",
       "799      Town    Zacatlan    20           ir     5\n",
       "\n",
       "[800 rows x 5 columns]"
      ]
     },
     "metadata": {},
     "output_type": "display_data"
    },
    {
     "name": "stdout",
     "output_type": "stream",
     "text": [
      "\n",
      "==== Top palabras por clase: Region ====\n"
     ]
    },
    {
     "data": {
      "application/vnd.microsoft.datawrangler.viewer.v0+json": {
       "columns": [
        {
         "name": "index",
         "rawType": "int64",
         "type": "integer"
        },
        {
         "name": "class_col",
         "rawType": "object",
         "type": "string"
        },
        {
         "name": "class_value",
         "rawType": "object",
         "type": "string"
        },
        {
         "name": "rank",
         "rawType": "int64",
         "type": "integer"
        },
        {
         "name": "token",
         "rawType": "object",
         "type": "string"
        },
        {
         "name": "freq",
         "rawType": "int64",
         "type": "integer"
        }
       ],
       "ref": "2d50a836-47f9-4288-a007-13d9471617bc",
       "rows": [
        [
         "0",
         "Region",
         "Baja_CaliforniaSur",
         "1",
         "comida",
         "95"
        ],
        [
         "1",
         "Region",
         "Baja_CaliforniaSur",
         "2",
         "lugar",
         "92"
        ],
        [
         "2",
         "Region",
         "Baja_CaliforniaSur",
         "3",
         "servicio",
         "60"
        ],
        [
         "3",
         "Region",
         "Baja_CaliforniaSur",
         "4",
         "hotel",
         "50"
        ],
        [
         "4",
         "Region",
         "Baja_CaliforniaSur",
         "5",
         "buena",
         "47"
        ],
        [
         "5",
         "Region",
         "Baja_CaliforniaSur",
         "6",
         "si",
         "46"
        ],
        [
         "6",
         "Region",
         "Baja_CaliforniaSur",
         "7",
         "restaurante",
         "41"
        ],
        [
         "7",
         "Region",
         "Baja_CaliforniaSur",
         "8",
         "bien",
         "41"
        ],
        [
         "8",
         "Region",
         "Baja_CaliforniaSur",
         "9",
         "así",
         "37"
        ],
        [
         "9",
         "Region",
         "Baja_CaliforniaSur",
         "10",
         "mejor",
         "33"
        ],
        [
         "10",
         "Region",
         "Baja_CaliforniaSur",
         "11",
         "playa",
         "32"
        ],
        [
         "11",
         "Region",
         "Baja_CaliforniaSur",
         "12",
         "santos",
         "30"
        ],
        [
         "12",
         "Region",
         "Baja_CaliforniaSur",
         "13",
         "loreto",
         "29"
        ],
        [
         "13",
         "Region",
         "Baja_CaliforniaSur",
         "14",
         "allí",
         "29"
        ],
        [
         "14",
         "Region",
         "Baja_CaliforniaSur",
         "15",
         "día",
         "29"
        ],
        [
         "15",
         "Region",
         "Baja_CaliforniaSur",
         "16",
         "noche",
         "29"
        ],
        [
         "16",
         "Region",
         "Baja_CaliforniaSur",
         "17",
         "agradable",
         "29"
        ],
        [
         "17",
         "Region",
         "Baja_CaliforniaSur",
         "18",
         "personal",
         "28"
        ],
        [
         "18",
         "Region",
         "Baja_CaliforniaSur",
         "19",
         "pescado",
         "28"
        ],
        [
         "19",
         "Region",
         "Baja_CaliforniaSur",
         "20",
         "aquí",
         "27"
        ],
        [
         "20",
         "Region",
         "Chiapas",
         "1",
         "hotel",
         "301"
        ],
        [
         "21",
         "Region",
         "Chiapas",
         "2",
         "lugar",
         "189"
        ],
        [
         "22",
         "Region",
         "Chiapas",
         "3",
         "comida",
         "158"
        ],
        [
         "23",
         "Region",
         "Chiapas",
         "4",
         "bien",
         "149"
        ],
        [
         "24",
         "Region",
         "Chiapas",
         "5",
         "habitación",
         "146"
        ],
        [
         "25",
         "Region",
         "Chiapas",
         "6",
         "servicio",
         "143"
        ],
        [
         "26",
         "Region",
         "Chiapas",
         "7",
         "si",
         "140"
        ],
        [
         "27",
         "Region",
         "Chiapas",
         "8",
         "habitaciones",
         "130"
        ],
        [
         "28",
         "Region",
         "Chiapas",
         "9",
         "restaurante",
         "105"
        ],
        [
         "29",
         "Region",
         "Chiapas",
         "10",
         "personal",
         "105"
        ],
        [
         "30",
         "Region",
         "Chiapas",
         "11",
         "buena",
         "100"
        ],
        [
         "31",
         "Region",
         "Chiapas",
         "12",
         "así",
         "76"
        ],
        [
         "32",
         "Region",
         "Chiapas",
         "13",
         "agua",
         "73"
        ],
        [
         "33",
         "Region",
         "Chiapas",
         "14",
         "bueno",
         "71"
        ],
        [
         "34",
         "Region",
         "Chiapas",
         "15",
         "excelente",
         "70"
        ],
        [
         "35",
         "Region",
         "Chiapas",
         "16",
         "desayuno",
         "69"
        ],
        [
         "36",
         "Region",
         "Chiapas",
         "17",
         "noche",
         "67"
        ],
        [
         "37",
         "Region",
         "Chiapas",
         "18",
         "mejor",
         "66"
        ],
        [
         "38",
         "Region",
         "Chiapas",
         "19",
         "san",
         "66"
        ],
        [
         "39",
         "Region",
         "Chiapas",
         "20",
         "atención",
         "64"
        ],
        [
         "40",
         "Region",
         "Chihuahua",
         "1",
         "hotel",
         "34"
        ],
        [
         "41",
         "Region",
         "Chihuahua",
         "2",
         "lugar",
         "17"
        ],
        [
         "42",
         "Region",
         "Chihuahua",
         "3",
         "servicio",
         "14"
        ],
        [
         "43",
         "Region",
         "Chihuahua",
         "4",
         "creel",
         "13"
        ],
        [
         "44",
         "Region",
         "Chihuahua",
         "5",
         "habitación",
         "13"
        ],
        [
         "45",
         "Region",
         "Chihuahua",
         "6",
         "comida",
         "12"
        ],
        [
         "46",
         "Region",
         "Chihuahua",
         "7",
         "restaurante",
         "11"
        ],
        [
         "47",
         "Region",
         "Chihuahua",
         "8",
         "bien",
         "9"
        ],
        [
         "48",
         "Region",
         "Chihuahua",
         "9",
         "personal",
         "9"
        ],
        [
         "49",
         "Region",
         "Chihuahua",
         "10",
         "habitaciones",
         "9"
        ]
       ],
       "shape": {
        "columns": 5,
        "rows": 380
       }
      },
      "text/html": [
       "<div>\n",
       "<style scoped>\n",
       "    .dataframe tbody tr th:only-of-type {\n",
       "        vertical-align: middle;\n",
       "    }\n",
       "\n",
       "    .dataframe tbody tr th {\n",
       "        vertical-align: top;\n",
       "    }\n",
       "\n",
       "    .dataframe thead th {\n",
       "        text-align: right;\n",
       "    }\n",
       "</style>\n",
       "<table border=\"1\" class=\"dataframe\">\n",
       "  <thead>\n",
       "    <tr style=\"text-align: right;\">\n",
       "      <th></th>\n",
       "      <th>class_col</th>\n",
       "      <th>class_value</th>\n",
       "      <th>rank</th>\n",
       "      <th>token</th>\n",
       "      <th>freq</th>\n",
       "    </tr>\n",
       "  </thead>\n",
       "  <tbody>\n",
       "    <tr>\n",
       "      <th>0</th>\n",
       "      <td>Region</td>\n",
       "      <td>Baja_CaliforniaSur</td>\n",
       "      <td>1</td>\n",
       "      <td>comida</td>\n",
       "      <td>95</td>\n",
       "    </tr>\n",
       "    <tr>\n",
       "      <th>1</th>\n",
       "      <td>Region</td>\n",
       "      <td>Baja_CaliforniaSur</td>\n",
       "      <td>2</td>\n",
       "      <td>lugar</td>\n",
       "      <td>92</td>\n",
       "    </tr>\n",
       "    <tr>\n",
       "      <th>2</th>\n",
       "      <td>Region</td>\n",
       "      <td>Baja_CaliforniaSur</td>\n",
       "      <td>3</td>\n",
       "      <td>servicio</td>\n",
       "      <td>60</td>\n",
       "    </tr>\n",
       "    <tr>\n",
       "      <th>3</th>\n",
       "      <td>Region</td>\n",
       "      <td>Baja_CaliforniaSur</td>\n",
       "      <td>4</td>\n",
       "      <td>hotel</td>\n",
       "      <td>50</td>\n",
       "    </tr>\n",
       "    <tr>\n",
       "      <th>4</th>\n",
       "      <td>Region</td>\n",
       "      <td>Baja_CaliforniaSur</td>\n",
       "      <td>5</td>\n",
       "      <td>buena</td>\n",
       "      <td>47</td>\n",
       "    </tr>\n",
       "    <tr>\n",
       "      <th>...</th>\n",
       "      <td>...</td>\n",
       "      <td>...</td>\n",
       "      <td>...</td>\n",
       "      <td>...</td>\n",
       "      <td>...</td>\n",
       "    </tr>\n",
       "    <tr>\n",
       "      <th>375</th>\n",
       "      <td>Region</td>\n",
       "      <td>Yucatan</td>\n",
       "      <td>16</td>\n",
       "      <td>así</td>\n",
       "      <td>41</td>\n",
       "    </tr>\n",
       "    <tr>\n",
       "      <th>376</th>\n",
       "      <td>Region</td>\n",
       "      <td>Yucatan</td>\n",
       "      <td>17</td>\n",
       "      <td>noche</td>\n",
       "      <td>41</td>\n",
       "    </tr>\n",
       "    <tr>\n",
       "      <th>377</th>\n",
       "      <td>Region</td>\n",
       "      <td>Yucatan</td>\n",
       "      <td>18</td>\n",
       "      <td>habitaciones</td>\n",
       "      <td>40</td>\n",
       "    </tr>\n",
       "    <tr>\n",
       "      <th>378</th>\n",
       "      <td>Region</td>\n",
       "      <td>Yucatan</td>\n",
       "      <td>19</td>\n",
       "      <td>excelente</td>\n",
       "      <td>39</td>\n",
       "    </tr>\n",
       "    <tr>\n",
       "      <th>379</th>\n",
       "      <td>Region</td>\n",
       "      <td>Yucatan</td>\n",
       "      <td>20</td>\n",
       "      <td>ciudad</td>\n",
       "      <td>39</td>\n",
       "    </tr>\n",
       "  </tbody>\n",
       "</table>\n",
       "<p>380 rows × 5 columns</p>\n",
       "</div>"
      ],
      "text/plain": [
       "    class_col         class_value  rank         token  freq\n",
       "0      Region  Baja_CaliforniaSur     1        comida    95\n",
       "1      Region  Baja_CaliforniaSur     2         lugar    92\n",
       "2      Region  Baja_CaliforniaSur     3      servicio    60\n",
       "3      Region  Baja_CaliforniaSur     4         hotel    50\n",
       "4      Region  Baja_CaliforniaSur     5         buena    47\n",
       "..        ...                 ...   ...           ...   ...\n",
       "375    Region             Yucatan    16           así    41\n",
       "376    Region             Yucatan    17         noche    41\n",
       "377    Region             Yucatan    18  habitaciones    40\n",
       "378    Region             Yucatan    19     excelente    39\n",
       "379    Region             Yucatan    20        ciudad    39\n",
       "\n",
       "[380 rows x 5 columns]"
      ]
     },
     "metadata": {},
     "output_type": "display_data"
    },
    {
     "name": "stdout",
     "output_type": "stream",
     "text": [
      "\n",
      "==== Top palabras por clase: Type ====\n"
     ]
    },
    {
     "data": {
      "application/vnd.microsoft.datawrangler.viewer.v0+json": {
       "columns": [
        {
         "name": "index",
         "rawType": "int64",
         "type": "integer"
        },
        {
         "name": "class_col",
         "rawType": "object",
         "type": "string"
        },
        {
         "name": "class_value",
         "rawType": "object",
         "type": "string"
        },
        {
         "name": "rank",
         "rawType": "int64",
         "type": "integer"
        },
        {
         "name": "token",
         "rawType": "object",
         "type": "string"
        },
        {
         "name": "freq",
         "rawType": "int64",
         "type": "integer"
        }
       ],
       "ref": "e303f20f-d69b-44dc-aba0-56a00d9a4a4b",
       "rows": [
        [
         "0",
         "Type",
         "Attractive",
         "1",
         "lugar",
         "649"
        ],
        [
         "1",
         "Type",
         "Attractive",
         "2",
         "playa",
         "512"
        ],
        [
         "2",
         "Type",
         "Attractive",
         "3",
         "si",
         "498"
        ],
        [
         "3",
         "Type",
         "Attractive",
         "4",
         "agua",
         "350"
        ],
        [
         "4",
         "Type",
         "Attractive",
         "5",
         "ruinas",
         "327"
        ],
        [
         "5",
         "Type",
         "Attractive",
         "6",
         "ver",
         "275"
        ],
        [
         "6",
         "Type",
         "Attractive",
         "7",
         "pena",
         "236"
        ],
        [
         "7",
         "Type",
         "Attractive",
         "8",
         "cenote",
         "230"
        ],
        [
         "8",
         "Type",
         "Attractive",
         "9",
         "así",
         "227"
        ],
        [
         "9",
         "Type",
         "Attractive",
         "10",
         "ir",
         "227"
        ],
        [
         "10",
         "Type",
         "Attractive",
         "11",
         "bien",
         "218"
        ],
        [
         "11",
         "Type",
         "Attractive",
         "12",
         "entrada",
         "217"
        ],
        [
         "12",
         "Type",
         "Attractive",
         "13",
         "gente",
         "211"
        ],
        [
         "13",
         "Type",
         "Attractive",
         "14",
         "día",
         "192"
        ],
        [
         "14",
         "Type",
         "Attractive",
         "15",
         "puede",
         "181"
        ],
        [
         "15",
         "Type",
         "Attractive",
         "16",
         "guía",
         "179"
        ],
        [
         "16",
         "Type",
         "Attractive",
         "17",
         "vale",
         "173"
        ],
        [
         "17",
         "Type",
         "Attractive",
         "18",
         "visita",
         "173"
        ],
        [
         "18",
         "Type",
         "Attractive",
         "19",
         "pesos",
         "171"
        ],
        [
         "19",
         "Type",
         "Attractive",
         "20",
         "tulum",
         "170"
        ],
        [
         "20",
         "Type",
         "Hotel",
         "1",
         "hotel",
         "1564"
        ],
        [
         "21",
         "Type",
         "Hotel",
         "2",
         "habitación",
         "924"
        ],
        [
         "22",
         "Type",
         "Hotel",
         "3",
         "habitaciones",
         "601"
        ],
        [
         "23",
         "Type",
         "Hotel",
         "4",
         "servicio",
         "545"
        ],
        [
         "24",
         "Type",
         "Hotel",
         "5",
         "personal",
         "538"
        ],
        [
         "25",
         "Type",
         "Hotel",
         "6",
         "si",
         "498"
        ],
        [
         "26",
         "Type",
         "Hotel",
         "7",
         "lugar",
         "481"
        ],
        [
         "27",
         "Type",
         "Hotel",
         "8",
         "comida",
         "463"
        ],
        [
         "28",
         "Type",
         "Hotel",
         "9",
         "bien",
         "441"
        ],
        [
         "29",
         "Type",
         "Hotel",
         "10",
         "playa",
         "373"
        ],
        [
         "30",
         "Type",
         "Hotel",
         "11",
         "noche",
         "353"
        ],
        [
         "31",
         "Type",
         "Hotel",
         "12",
         "restaurante",
         "334"
        ],
        [
         "32",
         "Type",
         "Hotel",
         "13",
         "desayuno",
         "299"
        ],
        [
         "33",
         "Type",
         "Hotel",
         "14",
         "agua",
         "292"
        ],
        [
         "34",
         "Type",
         "Hotel",
         "15",
         "así",
         "280"
        ],
        [
         "35",
         "Type",
         "Hotel",
         "16",
         "buena",
         "277"
        ],
        [
         "36",
         "Type",
         "Hotel",
         "17",
         "recepción",
         "250"
        ],
        [
         "37",
         "Type",
         "Hotel",
         "18",
         "mejor",
         "243"
        ],
        [
         "38",
         "Type",
         "Hotel",
         "19",
         "dos",
         "237"
        ],
        [
         "39",
         "Type",
         "Hotel",
         "20",
         "baño",
         "233"
        ],
        [
         "40",
         "Type",
         "Restaurant",
         "1",
         "comida",
         "1230"
        ],
        [
         "41",
         "Type",
         "Restaurant",
         "2",
         "lugar",
         "993"
        ],
        [
         "42",
         "Type",
         "Restaurant",
         "3",
         "servicio",
         "736"
        ],
        [
         "43",
         "Type",
         "Restaurant",
         "4",
         "buena",
         "460"
        ],
        [
         "44",
         "Type",
         "Restaurant",
         "5",
         "restaurante",
         "455"
        ],
        [
         "45",
         "Type",
         "Restaurant",
         "6",
         "bien",
         "361"
        ],
        [
         "46",
         "Type",
         "Restaurant",
         "7",
         "si",
         "344"
        ],
        [
         "47",
         "Type",
         "Restaurant",
         "8",
         "mejor",
         "303"
        ],
        [
         "48",
         "Type",
         "Restaurant",
         "9",
         "buen",
         "272"
        ],
        [
         "49",
         "Type",
         "Restaurant",
         "10",
         "excelente",
         "272"
        ]
       ],
       "shape": {
        "columns": 5,
        "rows": 60
       }
      },
      "text/html": [
       "<div>\n",
       "<style scoped>\n",
       "    .dataframe tbody tr th:only-of-type {\n",
       "        vertical-align: middle;\n",
       "    }\n",
       "\n",
       "    .dataframe tbody tr th {\n",
       "        vertical-align: top;\n",
       "    }\n",
       "\n",
       "    .dataframe thead th {\n",
       "        text-align: right;\n",
       "    }\n",
       "</style>\n",
       "<table border=\"1\" class=\"dataframe\">\n",
       "  <thead>\n",
       "    <tr style=\"text-align: right;\">\n",
       "      <th></th>\n",
       "      <th>class_col</th>\n",
       "      <th>class_value</th>\n",
       "      <th>rank</th>\n",
       "      <th>token</th>\n",
       "      <th>freq</th>\n",
       "    </tr>\n",
       "  </thead>\n",
       "  <tbody>\n",
       "    <tr>\n",
       "      <th>0</th>\n",
       "      <td>Type</td>\n",
       "      <td>Attractive</td>\n",
       "      <td>1</td>\n",
       "      <td>lugar</td>\n",
       "      <td>649</td>\n",
       "    </tr>\n",
       "    <tr>\n",
       "      <th>1</th>\n",
       "      <td>Type</td>\n",
       "      <td>Attractive</td>\n",
       "      <td>2</td>\n",
       "      <td>playa</td>\n",
       "      <td>512</td>\n",
       "    </tr>\n",
       "    <tr>\n",
       "      <th>2</th>\n",
       "      <td>Type</td>\n",
       "      <td>Attractive</td>\n",
       "      <td>3</td>\n",
       "      <td>si</td>\n",
       "      <td>498</td>\n",
       "    </tr>\n",
       "    <tr>\n",
       "      <th>3</th>\n",
       "      <td>Type</td>\n",
       "      <td>Attractive</td>\n",
       "      <td>4</td>\n",
       "      <td>agua</td>\n",
       "      <td>350</td>\n",
       "    </tr>\n",
       "    <tr>\n",
       "      <th>4</th>\n",
       "      <td>Type</td>\n",
       "      <td>Attractive</td>\n",
       "      <td>5</td>\n",
       "      <td>ruinas</td>\n",
       "      <td>327</td>\n",
       "    </tr>\n",
       "    <tr>\n",
       "      <th>5</th>\n",
       "      <td>Type</td>\n",
       "      <td>Attractive</td>\n",
       "      <td>6</td>\n",
       "      <td>ver</td>\n",
       "      <td>275</td>\n",
       "    </tr>\n",
       "    <tr>\n",
       "      <th>6</th>\n",
       "      <td>Type</td>\n",
       "      <td>Attractive</td>\n",
       "      <td>7</td>\n",
       "      <td>pena</td>\n",
       "      <td>236</td>\n",
       "    </tr>\n",
       "    <tr>\n",
       "      <th>7</th>\n",
       "      <td>Type</td>\n",
       "      <td>Attractive</td>\n",
       "      <td>8</td>\n",
       "      <td>cenote</td>\n",
       "      <td>230</td>\n",
       "    </tr>\n",
       "    <tr>\n",
       "      <th>8</th>\n",
       "      <td>Type</td>\n",
       "      <td>Attractive</td>\n",
       "      <td>9</td>\n",
       "      <td>así</td>\n",
       "      <td>227</td>\n",
       "    </tr>\n",
       "    <tr>\n",
       "      <th>9</th>\n",
       "      <td>Type</td>\n",
       "      <td>Attractive</td>\n",
       "      <td>10</td>\n",
       "      <td>ir</td>\n",
       "      <td>227</td>\n",
       "    </tr>\n",
       "    <tr>\n",
       "      <th>10</th>\n",
       "      <td>Type</td>\n",
       "      <td>Attractive</td>\n",
       "      <td>11</td>\n",
       "      <td>bien</td>\n",
       "      <td>218</td>\n",
       "    </tr>\n",
       "    <tr>\n",
       "      <th>11</th>\n",
       "      <td>Type</td>\n",
       "      <td>Attractive</td>\n",
       "      <td>12</td>\n",
       "      <td>entrada</td>\n",
       "      <td>217</td>\n",
       "    </tr>\n",
       "    <tr>\n",
       "      <th>12</th>\n",
       "      <td>Type</td>\n",
       "      <td>Attractive</td>\n",
       "      <td>13</td>\n",
       "      <td>gente</td>\n",
       "      <td>211</td>\n",
       "    </tr>\n",
       "    <tr>\n",
       "      <th>13</th>\n",
       "      <td>Type</td>\n",
       "      <td>Attractive</td>\n",
       "      <td>14</td>\n",
       "      <td>día</td>\n",
       "      <td>192</td>\n",
       "    </tr>\n",
       "    <tr>\n",
       "      <th>14</th>\n",
       "      <td>Type</td>\n",
       "      <td>Attractive</td>\n",
       "      <td>15</td>\n",
       "      <td>puede</td>\n",
       "      <td>181</td>\n",
       "    </tr>\n",
       "    <tr>\n",
       "      <th>15</th>\n",
       "      <td>Type</td>\n",
       "      <td>Attractive</td>\n",
       "      <td>16</td>\n",
       "      <td>guía</td>\n",
       "      <td>179</td>\n",
       "    </tr>\n",
       "    <tr>\n",
       "      <th>16</th>\n",
       "      <td>Type</td>\n",
       "      <td>Attractive</td>\n",
       "      <td>17</td>\n",
       "      <td>vale</td>\n",
       "      <td>173</td>\n",
       "    </tr>\n",
       "    <tr>\n",
       "      <th>17</th>\n",
       "      <td>Type</td>\n",
       "      <td>Attractive</td>\n",
       "      <td>18</td>\n",
       "      <td>visita</td>\n",
       "      <td>173</td>\n",
       "    </tr>\n",
       "    <tr>\n",
       "      <th>18</th>\n",
       "      <td>Type</td>\n",
       "      <td>Attractive</td>\n",
       "      <td>19</td>\n",
       "      <td>pesos</td>\n",
       "      <td>171</td>\n",
       "    </tr>\n",
       "    <tr>\n",
       "      <th>19</th>\n",
       "      <td>Type</td>\n",
       "      <td>Attractive</td>\n",
       "      <td>20</td>\n",
       "      <td>tulum</td>\n",
       "      <td>170</td>\n",
       "    </tr>\n",
       "    <tr>\n",
       "      <th>20</th>\n",
       "      <td>Type</td>\n",
       "      <td>Hotel</td>\n",
       "      <td>1</td>\n",
       "      <td>hotel</td>\n",
       "      <td>1564</td>\n",
       "    </tr>\n",
       "    <tr>\n",
       "      <th>21</th>\n",
       "      <td>Type</td>\n",
       "      <td>Hotel</td>\n",
       "      <td>2</td>\n",
       "      <td>habitación</td>\n",
       "      <td>924</td>\n",
       "    </tr>\n",
       "    <tr>\n",
       "      <th>22</th>\n",
       "      <td>Type</td>\n",
       "      <td>Hotel</td>\n",
       "      <td>3</td>\n",
       "      <td>habitaciones</td>\n",
       "      <td>601</td>\n",
       "    </tr>\n",
       "    <tr>\n",
       "      <th>23</th>\n",
       "      <td>Type</td>\n",
       "      <td>Hotel</td>\n",
       "      <td>4</td>\n",
       "      <td>servicio</td>\n",
       "      <td>545</td>\n",
       "    </tr>\n",
       "    <tr>\n",
       "      <th>24</th>\n",
       "      <td>Type</td>\n",
       "      <td>Hotel</td>\n",
       "      <td>5</td>\n",
       "      <td>personal</td>\n",
       "      <td>538</td>\n",
       "    </tr>\n",
       "    <tr>\n",
       "      <th>25</th>\n",
       "      <td>Type</td>\n",
       "      <td>Hotel</td>\n",
       "      <td>6</td>\n",
       "      <td>si</td>\n",
       "      <td>498</td>\n",
       "    </tr>\n",
       "    <tr>\n",
       "      <th>26</th>\n",
       "      <td>Type</td>\n",
       "      <td>Hotel</td>\n",
       "      <td>7</td>\n",
       "      <td>lugar</td>\n",
       "      <td>481</td>\n",
       "    </tr>\n",
       "    <tr>\n",
       "      <th>27</th>\n",
       "      <td>Type</td>\n",
       "      <td>Hotel</td>\n",
       "      <td>8</td>\n",
       "      <td>comida</td>\n",
       "      <td>463</td>\n",
       "    </tr>\n",
       "    <tr>\n",
       "      <th>28</th>\n",
       "      <td>Type</td>\n",
       "      <td>Hotel</td>\n",
       "      <td>9</td>\n",
       "      <td>bien</td>\n",
       "      <td>441</td>\n",
       "    </tr>\n",
       "    <tr>\n",
       "      <th>29</th>\n",
       "      <td>Type</td>\n",
       "      <td>Hotel</td>\n",
       "      <td>10</td>\n",
       "      <td>playa</td>\n",
       "      <td>373</td>\n",
       "    </tr>\n",
       "    <tr>\n",
       "      <th>30</th>\n",
       "      <td>Type</td>\n",
       "      <td>Hotel</td>\n",
       "      <td>11</td>\n",
       "      <td>noche</td>\n",
       "      <td>353</td>\n",
       "    </tr>\n",
       "    <tr>\n",
       "      <th>31</th>\n",
       "      <td>Type</td>\n",
       "      <td>Hotel</td>\n",
       "      <td>12</td>\n",
       "      <td>restaurante</td>\n",
       "      <td>334</td>\n",
       "    </tr>\n",
       "    <tr>\n",
       "      <th>32</th>\n",
       "      <td>Type</td>\n",
       "      <td>Hotel</td>\n",
       "      <td>13</td>\n",
       "      <td>desayuno</td>\n",
       "      <td>299</td>\n",
       "    </tr>\n",
       "    <tr>\n",
       "      <th>33</th>\n",
       "      <td>Type</td>\n",
       "      <td>Hotel</td>\n",
       "      <td>14</td>\n",
       "      <td>agua</td>\n",
       "      <td>292</td>\n",
       "    </tr>\n",
       "    <tr>\n",
       "      <th>34</th>\n",
       "      <td>Type</td>\n",
       "      <td>Hotel</td>\n",
       "      <td>15</td>\n",
       "      <td>así</td>\n",
       "      <td>280</td>\n",
       "    </tr>\n",
       "    <tr>\n",
       "      <th>35</th>\n",
       "      <td>Type</td>\n",
       "      <td>Hotel</td>\n",
       "      <td>16</td>\n",
       "      <td>buena</td>\n",
       "      <td>277</td>\n",
       "    </tr>\n",
       "    <tr>\n",
       "      <th>36</th>\n",
       "      <td>Type</td>\n",
       "      <td>Hotel</td>\n",
       "      <td>17</td>\n",
       "      <td>recepción</td>\n",
       "      <td>250</td>\n",
       "    </tr>\n",
       "    <tr>\n",
       "      <th>37</th>\n",
       "      <td>Type</td>\n",
       "      <td>Hotel</td>\n",
       "      <td>18</td>\n",
       "      <td>mejor</td>\n",
       "      <td>243</td>\n",
       "    </tr>\n",
       "    <tr>\n",
       "      <th>38</th>\n",
       "      <td>Type</td>\n",
       "      <td>Hotel</td>\n",
       "      <td>19</td>\n",
       "      <td>dos</td>\n",
       "      <td>237</td>\n",
       "    </tr>\n",
       "    <tr>\n",
       "      <th>39</th>\n",
       "      <td>Type</td>\n",
       "      <td>Hotel</td>\n",
       "      <td>20</td>\n",
       "      <td>baño</td>\n",
       "      <td>233</td>\n",
       "    </tr>\n",
       "    <tr>\n",
       "      <th>40</th>\n",
       "      <td>Type</td>\n",
       "      <td>Restaurant</td>\n",
       "      <td>1</td>\n",
       "      <td>comida</td>\n",
       "      <td>1230</td>\n",
       "    </tr>\n",
       "    <tr>\n",
       "      <th>41</th>\n",
       "      <td>Type</td>\n",
       "      <td>Restaurant</td>\n",
       "      <td>2</td>\n",
       "      <td>lugar</td>\n",
       "      <td>993</td>\n",
       "    </tr>\n",
       "    <tr>\n",
       "      <th>42</th>\n",
       "      <td>Type</td>\n",
       "      <td>Restaurant</td>\n",
       "      <td>3</td>\n",
       "      <td>servicio</td>\n",
       "      <td>736</td>\n",
       "    </tr>\n",
       "    <tr>\n",
       "      <th>43</th>\n",
       "      <td>Type</td>\n",
       "      <td>Restaurant</td>\n",
       "      <td>4</td>\n",
       "      <td>buena</td>\n",
       "      <td>460</td>\n",
       "    </tr>\n",
       "    <tr>\n",
       "      <th>44</th>\n",
       "      <td>Type</td>\n",
       "      <td>Restaurant</td>\n",
       "      <td>5</td>\n",
       "      <td>restaurante</td>\n",
       "      <td>455</td>\n",
       "    </tr>\n",
       "    <tr>\n",
       "      <th>45</th>\n",
       "      <td>Type</td>\n",
       "      <td>Restaurant</td>\n",
       "      <td>6</td>\n",
       "      <td>bien</td>\n",
       "      <td>361</td>\n",
       "    </tr>\n",
       "    <tr>\n",
       "      <th>46</th>\n",
       "      <td>Type</td>\n",
       "      <td>Restaurant</td>\n",
       "      <td>7</td>\n",
       "      <td>si</td>\n",
       "      <td>344</td>\n",
       "    </tr>\n",
       "    <tr>\n",
       "      <th>47</th>\n",
       "      <td>Type</td>\n",
       "      <td>Restaurant</td>\n",
       "      <td>8</td>\n",
       "      <td>mejor</td>\n",
       "      <td>303</td>\n",
       "    </tr>\n",
       "    <tr>\n",
       "      <th>48</th>\n",
       "      <td>Type</td>\n",
       "      <td>Restaurant</td>\n",
       "      <td>9</td>\n",
       "      <td>buen</td>\n",
       "      <td>272</td>\n",
       "    </tr>\n",
       "    <tr>\n",
       "      <th>49</th>\n",
       "      <td>Type</td>\n",
       "      <td>Restaurant</td>\n",
       "      <td>10</td>\n",
       "      <td>excelente</td>\n",
       "      <td>272</td>\n",
       "    </tr>\n",
       "    <tr>\n",
       "      <th>50</th>\n",
       "      <td>Type</td>\n",
       "      <td>Restaurant</td>\n",
       "      <td>11</td>\n",
       "      <td>bueno</td>\n",
       "      <td>253</td>\n",
       "    </tr>\n",
       "    <tr>\n",
       "      <th>51</th>\n",
       "      <td>Type</td>\n",
       "      <td>Restaurant</td>\n",
       "      <td>12</td>\n",
       "      <td>comer</td>\n",
       "      <td>247</td>\n",
       "    </tr>\n",
       "    <tr>\n",
       "      <th>52</th>\n",
       "      <td>Type</td>\n",
       "      <td>Restaurant</td>\n",
       "      <td>13</td>\n",
       "      <td>agradable</td>\n",
       "      <td>242</td>\n",
       "    </tr>\n",
       "    <tr>\n",
       "      <th>53</th>\n",
       "      <td>Type</td>\n",
       "      <td>Restaurant</td>\n",
       "      <td>14</td>\n",
       "      <td>así</td>\n",
       "      <td>231</td>\n",
       "    </tr>\n",
       "    <tr>\n",
       "      <th>54</th>\n",
       "      <td>Type</td>\n",
       "      <td>Restaurant</td>\n",
       "      <td>15</td>\n",
       "      <td>ambiente</td>\n",
       "      <td>215</td>\n",
       "    </tr>\n",
       "    <tr>\n",
       "      <th>55</th>\n",
       "      <td>Type</td>\n",
       "      <td>Restaurant</td>\n",
       "      <td>16</td>\n",
       "      <td>atención</td>\n",
       "      <td>212</td>\n",
       "    </tr>\n",
       "    <tr>\n",
       "      <th>56</th>\n",
       "      <td>Type</td>\n",
       "      <td>Restaurant</td>\n",
       "      <td>17</td>\n",
       "      <td>pedimos</td>\n",
       "      <td>204</td>\n",
       "    </tr>\n",
       "    <tr>\n",
       "      <th>57</th>\n",
       "      <td>Type</td>\n",
       "      <td>Restaurant</td>\n",
       "      <td>18</td>\n",
       "      <td>sabor</td>\n",
       "      <td>194</td>\n",
       "    </tr>\n",
       "    <tr>\n",
       "      <th>58</th>\n",
       "      <td>Type</td>\n",
       "      <td>Restaurant</td>\n",
       "      <td>19</td>\n",
       "      <td>menú</td>\n",
       "      <td>182</td>\n",
       "    </tr>\n",
       "    <tr>\n",
       "      <th>59</th>\n",
       "      <td>Type</td>\n",
       "      <td>Restaurant</td>\n",
       "      <td>20</td>\n",
       "      <td>mesa</td>\n",
       "      <td>178</td>\n",
       "    </tr>\n",
       "  </tbody>\n",
       "</table>\n",
       "</div>"
      ],
      "text/plain": [
       "   class_col class_value  rank         token  freq\n",
       "0       Type  Attractive     1         lugar   649\n",
       "1       Type  Attractive     2         playa   512\n",
       "2       Type  Attractive     3            si   498\n",
       "3       Type  Attractive     4          agua   350\n",
       "4       Type  Attractive     5        ruinas   327\n",
       "5       Type  Attractive     6           ver   275\n",
       "6       Type  Attractive     7          pena   236\n",
       "7       Type  Attractive     8        cenote   230\n",
       "8       Type  Attractive     9           así   227\n",
       "9       Type  Attractive    10            ir   227\n",
       "10      Type  Attractive    11          bien   218\n",
       "11      Type  Attractive    12       entrada   217\n",
       "12      Type  Attractive    13         gente   211\n",
       "13      Type  Attractive    14           día   192\n",
       "14      Type  Attractive    15         puede   181\n",
       "15      Type  Attractive    16          guía   179\n",
       "16      Type  Attractive    17          vale   173\n",
       "17      Type  Attractive    18        visita   173\n",
       "18      Type  Attractive    19         pesos   171\n",
       "19      Type  Attractive    20         tulum   170\n",
       "20      Type       Hotel     1         hotel  1564\n",
       "21      Type       Hotel     2    habitación   924\n",
       "22      Type       Hotel     3  habitaciones   601\n",
       "23      Type       Hotel     4      servicio   545\n",
       "24      Type       Hotel     5      personal   538\n",
       "25      Type       Hotel     6            si   498\n",
       "26      Type       Hotel     7         lugar   481\n",
       "27      Type       Hotel     8        comida   463\n",
       "28      Type       Hotel     9          bien   441\n",
       "29      Type       Hotel    10         playa   373\n",
       "30      Type       Hotel    11         noche   353\n",
       "31      Type       Hotel    12   restaurante   334\n",
       "32      Type       Hotel    13      desayuno   299\n",
       "33      Type       Hotel    14          agua   292\n",
       "34      Type       Hotel    15           así   280\n",
       "35      Type       Hotel    16         buena   277\n",
       "36      Type       Hotel    17     recepción   250\n",
       "37      Type       Hotel    18         mejor   243\n",
       "38      Type       Hotel    19           dos   237\n",
       "39      Type       Hotel    20          baño   233\n",
       "40      Type  Restaurant     1        comida  1230\n",
       "41      Type  Restaurant     2         lugar   993\n",
       "42      Type  Restaurant     3      servicio   736\n",
       "43      Type  Restaurant     4         buena   460\n",
       "44      Type  Restaurant     5   restaurante   455\n",
       "45      Type  Restaurant     6          bien   361\n",
       "46      Type  Restaurant     7            si   344\n",
       "47      Type  Restaurant     8         mejor   303\n",
       "48      Type  Restaurant     9          buen   272\n",
       "49      Type  Restaurant    10     excelente   272\n",
       "50      Type  Restaurant    11         bueno   253\n",
       "51      Type  Restaurant    12         comer   247\n",
       "52      Type  Restaurant    13     agradable   242\n",
       "53      Type  Restaurant    14           así   231\n",
       "54      Type  Restaurant    15      ambiente   215\n",
       "55      Type  Restaurant    16      atención   212\n",
       "56      Type  Restaurant    17       pedimos   204\n",
       "57      Type  Restaurant    18         sabor   194\n",
       "58      Type  Restaurant    19          menú   182\n",
       "59      Type  Restaurant    20          mesa   178"
      ]
     },
     "metadata": {},
     "output_type": "display_data"
    }
   ],
   "source": [
    "# Escoge la(s) columna(s) de clase presentes\n",
    "candidatas = [\"Polarity\", \"Town\", \"Region\", \"Type\"]\n",
    "presentes = [c for c in candidatas if c in df.columns]\n",
    "\n",
    "# Resultados para todas las clases presentes\n",
    "tablas_por_clase = {c: top_words_per_class(df, c, k=20) for c in presentes}\n",
    "for c, tabla in tablas_por_clase.items():\n",
    "    print(f\"\\n==== Top palabras por clase: {c} ====\")\n",
    "    display(tabla.head(1000))\n"
   ]
  },
  {
   "cell_type": "markdown",
   "id": "6096a32f",
   "metadata": {},
   "source": [
    "Reflexiona si las palabras más repetidas son realmente discriminativas."
   ]
  },
  {
   "cell_type": "markdown",
   "id": "64171a58",
   "metadata": {},
   "source": [
    "## 4. Patrones gramaticales (POS 4-gramas)"
   ]
  },
  {
   "cell_type": "markdown",
   "id": "87a0288c",
   "metadata": {},
   "source": [
    "Etiqueta con POS cada documento."
   ]
  },
  {
   "cell_type": "code",
   "execution_count": null,
   "id": "c7b5dfbf",
   "metadata": {},
   "outputs": [
    {
     "name": "stdout",
     "output_type": "stream",
     "text": [
      "\n",
      "Doc 0:\n",
      "Texto: Un Restaurante te invita por su ambiente tan alegre,.pero al sentarte los meseros te apuran al tomar tu orden, y luego al llevarte tu orden se olvidan de ti.\n",
      "La comida esta buena.\n",
      "Hay estacionamiento. ...\n",
      "POS: ['DET', 'PROPN', 'PRON', 'VERB', 'ADP', 'DET', 'NOUN', 'ADV', 'PROPN', 'ADP', 'NOUN', 'DET', 'NOUN', 'PRON', 'VERB', 'ADP', 'VERB', 'DET', 'NOUN', 'PUNCT']\n",
      "\n",
      "Doc 1:\n",
      "Texto: Pagamos 25 pesos por la entrada y no es gran cosa. Lo único bueno es que no habia nadie, pero hay lugares mucho mas bonitos para bañarse en la laguna que son gratuitos. ...\n",
      "POS: ['VERB', 'NUM', 'NOUN', 'ADP', 'DET', 'NOUN', 'CCONJ', 'ADV', 'AUX', 'ADJ', 'NOUN', 'PUNCT', 'PRON', 'ADJ', 'ADJ', 'AUX', 'SCONJ', 'ADV', 'VERB', 'PRON']\n",
      "\n",
      "Doc 2:\n",
      "Texto: Mi esposa y yo nos alojamos en el Dreams por 4 días en enero de 2016. Primero tengo que decir que el complejo era muy agradable y las instalaciones parecía muy bien cuidados. Teníamos una habitación c ...\n",
      "POS: ['DET', 'NOUN', 'CCONJ', 'PRON', 'PRON', 'VERB', 'ADP', 'DET', 'PROPN', 'ADP', 'NUM', 'NOUN', 'ADP', 'NOUN', 'ADP', 'NUM', 'PUNCT', 'ADV', 'VERB', 'SCONJ']\n"
     ]
    }
   ],
   "source": [
    "# Carga del modelo de español\n",
    "nlp = spacy.load(\"es_core_news_sm\")\n",
    "\n",
    "def get_pos_tags(text):\n",
    "    if not isinstance(text, str):\n",
    "        return []\n",
    "    doc = nlp(text)\n",
    "    return [token.pos_ for token in doc]\n",
    "\n",
    "# Nueva columna con secuencia de POS por documento\n",
    "df[\"pos_seq\"] = df[\"Review_clean\"].apply(get_pos_tags)\n",
    "\n",
    "# Ejemplo de las primeras reseñas con sus POS\n",
    "for i in range(3):\n",
    "    print(f\"\\nDoc {i}:\")\n",
    "    print(\"Texto:\", df[\"Review_clean\"].iloc[i][:200], \"...\")\n",
    "    print(\"POS:\", df[\"pos_seq\"].iloc[i][:20])"
   ]
  },
  {
   "cell_type": "markdown",
   "id": "bc175995",
   "metadata": {},
   "source": [
    "Extrae las secuencias gramaticales más frecuentes de longitud 4 en cada clase."
   ]
  },
  {
   "cell_type": "code",
   "execution_count": null,
   "id": "d72591c5",
   "metadata": {},
   "outputs": [
    {
     "name": "stdout",
     "output_type": "stream",
     "text": [
      "Guardado: ../reports/tables/top_pos4grams_polarity.csv\n"
     ]
    },
    {
     "data": {
      "application/vnd.microsoft.datawrangler.viewer.v0+json": {
       "columns": [
        {
         "name": "index",
         "rawType": "int64",
         "type": "integer"
        },
        {
         "name": "class_col",
         "rawType": "object",
         "type": "string"
        },
        {
         "name": "class_value",
         "rawType": "float64",
         "type": "float"
        },
        {
         "name": "pos_4gram",
         "rawType": "object",
         "type": "unknown"
        },
        {
         "name": "freq",
         "rawType": "int64",
         "type": "integer"
        },
        {
         "name": "rank",
         "rawType": "int64",
         "type": "integer"
        }
       ],
       "ref": "031e9914-a334-4ba4-8c3c-4d02e35cf51e",
       "rows": [
        [
         "0",
         "Polarity",
         "1.0",
         "('NOUN', 'ADP', 'DET', 'NOUN')",
         "830",
         "1"
        ],
        [
         "1",
         "Polarity",
         "1.0",
         "('ADP', 'DET', 'NOUN', 'PUNCT')",
         "770",
         "2"
        ],
        [
         "2",
         "Polarity",
         "1.0",
         "('DET', 'NOUN', 'ADP', 'NOUN')",
         "690",
         "3"
        ],
        [
         "3",
         "Polarity",
         "1.0",
         "('VERB', 'ADP', 'DET', 'NOUN')",
         "671",
         "4"
        ],
        [
         "4",
         "Polarity",
         "1.0",
         "('ADP', 'DET', 'NOUN', 'ADP')",
         "527",
         "5"
        ],
        [
         "5",
         "Polarity",
         "1.0",
         "('VERB', 'DET', 'NOUN', 'ADP')",
         "500",
         "6"
        ],
        [
         "6",
         "Polarity",
         "1.0",
         "('DET', 'NOUN', 'ADP', 'DET')",
         "492",
         "7"
        ],
        [
         "7",
         "Polarity",
         "1.0",
         "('NOUN', 'ADP', 'NOUN', 'PUNCT')",
         "410",
         "8"
        ],
        [
         "8",
         "Polarity",
         "1.0",
         "('NOUN', 'PUNCT', 'DET', 'NOUN')",
         "398",
         "9"
        ],
        [
         "9",
         "Polarity",
         "1.0",
         "('PRON', 'VERB', 'DET', 'NOUN')",
         "343",
         "10"
        ],
        [
         "10",
         "Polarity",
         "1.0",
         "('VERB', 'DET', 'NOUN', 'PUNCT')",
         "321",
         "11"
        ],
        [
         "11",
         "Polarity",
         "1.0",
         "('DET', 'NOUN', 'PRON', 'VERB')",
         "287",
         "12"
        ],
        [
         "12",
         "Polarity",
         "1.0",
         "('ADJ', 'ADP', 'DET', 'NOUN')",
         "277",
         "13"
        ],
        [
         "13",
         "Polarity",
         "1.0",
         "('DET', 'NOUN', 'AUX', 'ADJ')",
         "274",
         "14"
        ],
        [
         "14",
         "Polarity",
         "1.0",
         "('NOUN', 'ADP', 'NOUN', 'ADP')",
         "268",
         "15"
        ],
        [
         "15",
         "Polarity",
         "1.0",
         "('ADP', 'DET', 'NOUN', 'CCONJ')",
         "252",
         "16"
        ],
        [
         "16",
         "Polarity",
         "1.0",
         "('PUNCT', 'DET', 'NOUN', 'AUX')",
         "247",
         "17"
        ],
        [
         "17",
         "Polarity",
         "1.0",
         "('PRON', 'VERB', 'ADP', 'DET')",
         "245",
         "18"
        ],
        [
         "18",
         "Polarity",
         "1.0",
         "('ADJ', 'PUNCT', 'DET', 'NOUN')",
         "234",
         "19"
        ],
        [
         "19",
         "Polarity",
         "1.0",
         "('ADP', 'VERB', 'DET', 'NOUN')",
         "230",
         "20"
        ]
       ],
       "shape": {
        "columns": 5,
        "rows": 20
       }
      },
      "text/html": [
       "<div>\n",
       "<style scoped>\n",
       "    .dataframe tbody tr th:only-of-type {\n",
       "        vertical-align: middle;\n",
       "    }\n",
       "\n",
       "    .dataframe tbody tr th {\n",
       "        vertical-align: top;\n",
       "    }\n",
       "\n",
       "    .dataframe thead th {\n",
       "        text-align: right;\n",
       "    }\n",
       "</style>\n",
       "<table border=\"1\" class=\"dataframe\">\n",
       "  <thead>\n",
       "    <tr style=\"text-align: right;\">\n",
       "      <th></th>\n",
       "      <th>class_col</th>\n",
       "      <th>class_value</th>\n",
       "      <th>pos_4gram</th>\n",
       "      <th>freq</th>\n",
       "      <th>rank</th>\n",
       "    </tr>\n",
       "  </thead>\n",
       "  <tbody>\n",
       "    <tr>\n",
       "      <th>0</th>\n",
       "      <td>Polarity</td>\n",
       "      <td>1.0</td>\n",
       "      <td>(NOUN, ADP, DET, NOUN)</td>\n",
       "      <td>830</td>\n",
       "      <td>1</td>\n",
       "    </tr>\n",
       "    <tr>\n",
       "      <th>1</th>\n",
       "      <td>Polarity</td>\n",
       "      <td>1.0</td>\n",
       "      <td>(ADP, DET, NOUN, PUNCT)</td>\n",
       "      <td>770</td>\n",
       "      <td>2</td>\n",
       "    </tr>\n",
       "    <tr>\n",
       "      <th>2</th>\n",
       "      <td>Polarity</td>\n",
       "      <td>1.0</td>\n",
       "      <td>(DET, NOUN, ADP, NOUN)</td>\n",
       "      <td>690</td>\n",
       "      <td>3</td>\n",
       "    </tr>\n",
       "    <tr>\n",
       "      <th>3</th>\n",
       "      <td>Polarity</td>\n",
       "      <td>1.0</td>\n",
       "      <td>(VERB, ADP, DET, NOUN)</td>\n",
       "      <td>671</td>\n",
       "      <td>4</td>\n",
       "    </tr>\n",
       "    <tr>\n",
       "      <th>4</th>\n",
       "      <td>Polarity</td>\n",
       "      <td>1.0</td>\n",
       "      <td>(ADP, DET, NOUN, ADP)</td>\n",
       "      <td>527</td>\n",
       "      <td>5</td>\n",
       "    </tr>\n",
       "    <tr>\n",
       "      <th>5</th>\n",
       "      <td>Polarity</td>\n",
       "      <td>1.0</td>\n",
       "      <td>(VERB, DET, NOUN, ADP)</td>\n",
       "      <td>500</td>\n",
       "      <td>6</td>\n",
       "    </tr>\n",
       "    <tr>\n",
       "      <th>6</th>\n",
       "      <td>Polarity</td>\n",
       "      <td>1.0</td>\n",
       "      <td>(DET, NOUN, ADP, DET)</td>\n",
       "      <td>492</td>\n",
       "      <td>7</td>\n",
       "    </tr>\n",
       "    <tr>\n",
       "      <th>7</th>\n",
       "      <td>Polarity</td>\n",
       "      <td>1.0</td>\n",
       "      <td>(NOUN, ADP, NOUN, PUNCT)</td>\n",
       "      <td>410</td>\n",
       "      <td>8</td>\n",
       "    </tr>\n",
       "    <tr>\n",
       "      <th>8</th>\n",
       "      <td>Polarity</td>\n",
       "      <td>1.0</td>\n",
       "      <td>(NOUN, PUNCT, DET, NOUN)</td>\n",
       "      <td>398</td>\n",
       "      <td>9</td>\n",
       "    </tr>\n",
       "    <tr>\n",
       "      <th>9</th>\n",
       "      <td>Polarity</td>\n",
       "      <td>1.0</td>\n",
       "      <td>(PRON, VERB, DET, NOUN)</td>\n",
       "      <td>343</td>\n",
       "      <td>10</td>\n",
       "    </tr>\n",
       "    <tr>\n",
       "      <th>10</th>\n",
       "      <td>Polarity</td>\n",
       "      <td>1.0</td>\n",
       "      <td>(VERB, DET, NOUN, PUNCT)</td>\n",
       "      <td>321</td>\n",
       "      <td>11</td>\n",
       "    </tr>\n",
       "    <tr>\n",
       "      <th>11</th>\n",
       "      <td>Polarity</td>\n",
       "      <td>1.0</td>\n",
       "      <td>(DET, NOUN, PRON, VERB)</td>\n",
       "      <td>287</td>\n",
       "      <td>12</td>\n",
       "    </tr>\n",
       "    <tr>\n",
       "      <th>12</th>\n",
       "      <td>Polarity</td>\n",
       "      <td>1.0</td>\n",
       "      <td>(ADJ, ADP, DET, NOUN)</td>\n",
       "      <td>277</td>\n",
       "      <td>13</td>\n",
       "    </tr>\n",
       "    <tr>\n",
       "      <th>13</th>\n",
       "      <td>Polarity</td>\n",
       "      <td>1.0</td>\n",
       "      <td>(DET, NOUN, AUX, ADJ)</td>\n",
       "      <td>274</td>\n",
       "      <td>14</td>\n",
       "    </tr>\n",
       "    <tr>\n",
       "      <th>14</th>\n",
       "      <td>Polarity</td>\n",
       "      <td>1.0</td>\n",
       "      <td>(NOUN, ADP, NOUN, ADP)</td>\n",
       "      <td>268</td>\n",
       "      <td>15</td>\n",
       "    </tr>\n",
       "    <tr>\n",
       "      <th>15</th>\n",
       "      <td>Polarity</td>\n",
       "      <td>1.0</td>\n",
       "      <td>(ADP, DET, NOUN, CCONJ)</td>\n",
       "      <td>252</td>\n",
       "      <td>16</td>\n",
       "    </tr>\n",
       "    <tr>\n",
       "      <th>16</th>\n",
       "      <td>Polarity</td>\n",
       "      <td>1.0</td>\n",
       "      <td>(PUNCT, DET, NOUN, AUX)</td>\n",
       "      <td>247</td>\n",
       "      <td>17</td>\n",
       "    </tr>\n",
       "    <tr>\n",
       "      <th>17</th>\n",
       "      <td>Polarity</td>\n",
       "      <td>1.0</td>\n",
       "      <td>(PRON, VERB, ADP, DET)</td>\n",
       "      <td>245</td>\n",
       "      <td>18</td>\n",
       "    </tr>\n",
       "    <tr>\n",
       "      <th>18</th>\n",
       "      <td>Polarity</td>\n",
       "      <td>1.0</td>\n",
       "      <td>(ADJ, PUNCT, DET, NOUN)</td>\n",
       "      <td>234</td>\n",
       "      <td>19</td>\n",
       "    </tr>\n",
       "    <tr>\n",
       "      <th>19</th>\n",
       "      <td>Polarity</td>\n",
       "      <td>1.0</td>\n",
       "      <td>(ADP, VERB, DET, NOUN)</td>\n",
       "      <td>230</td>\n",
       "      <td>20</td>\n",
       "    </tr>\n",
       "  </tbody>\n",
       "</table>\n",
       "</div>"
      ],
      "text/plain": [
       "   class_col  class_value                 pos_4gram  freq  rank\n",
       "0   Polarity          1.0    (NOUN, ADP, DET, NOUN)   830     1\n",
       "1   Polarity          1.0   (ADP, DET, NOUN, PUNCT)   770     2\n",
       "2   Polarity          1.0    (DET, NOUN, ADP, NOUN)   690     3\n",
       "3   Polarity          1.0    (VERB, ADP, DET, NOUN)   671     4\n",
       "4   Polarity          1.0     (ADP, DET, NOUN, ADP)   527     5\n",
       "5   Polarity          1.0    (VERB, DET, NOUN, ADP)   500     6\n",
       "6   Polarity          1.0     (DET, NOUN, ADP, DET)   492     7\n",
       "7   Polarity          1.0  (NOUN, ADP, NOUN, PUNCT)   410     8\n",
       "8   Polarity          1.0  (NOUN, PUNCT, DET, NOUN)   398     9\n",
       "9   Polarity          1.0   (PRON, VERB, DET, NOUN)   343    10\n",
       "10  Polarity          1.0  (VERB, DET, NOUN, PUNCT)   321    11\n",
       "11  Polarity          1.0   (DET, NOUN, PRON, VERB)   287    12\n",
       "12  Polarity          1.0     (ADJ, ADP, DET, NOUN)   277    13\n",
       "13  Polarity          1.0     (DET, NOUN, AUX, ADJ)   274    14\n",
       "14  Polarity          1.0    (NOUN, ADP, NOUN, ADP)   268    15\n",
       "15  Polarity          1.0   (ADP, DET, NOUN, CCONJ)   252    16\n",
       "16  Polarity          1.0   (PUNCT, DET, NOUN, AUX)   247    17\n",
       "17  Polarity          1.0    (PRON, VERB, ADP, DET)   245    18\n",
       "18  Polarity          1.0   (ADJ, PUNCT, DET, NOUN)   234    19\n",
       "19  Polarity          1.0    (ADP, VERB, DET, NOUN)   230    20"
      ]
     },
     "metadata": {},
     "output_type": "display_data"
    },
    {
     "name": "stdout",
     "output_type": "stream",
     "text": [
      "Guardado: ../reports/tables/top_pos4grams_town.csv\n"
     ]
    },
    {
     "data": {
      "application/vnd.microsoft.datawrangler.viewer.v0+json": {
       "columns": [
        {
         "name": "index",
         "rawType": "int64",
         "type": "integer"
        },
        {
         "name": "class_col",
         "rawType": "object",
         "type": "string"
        },
        {
         "name": "class_value",
         "rawType": "object",
         "type": "string"
        },
        {
         "name": "pos_4gram",
         "rawType": "object",
         "type": "unknown"
        },
        {
         "name": "freq",
         "rawType": "int64",
         "type": "integer"
        },
        {
         "name": "rank",
         "rawType": "int64",
         "type": "integer"
        }
       ],
       "ref": "f702e4c8-cf2c-4737-9860-27aedc2a00fd",
       "rows": [
        [
         "0",
         "Town",
         "Ajijic",
         "('ADP', 'DET', 'NOUN', 'PUNCT')",
         "110",
         "1"
        ],
        [
         "1",
         "Town",
         "Ajijic",
         "('NOUN', 'ADP', 'DET', 'NOUN')",
         "99",
         "2"
        ],
        [
         "2",
         "Town",
         "Ajijic",
         "('DET', 'NOUN', 'ADP', 'NOUN')",
         "91",
         "3"
        ],
        [
         "3",
         "Town",
         "Ajijic",
         "('VERB', 'ADP', 'DET', 'NOUN')",
         "72",
         "4"
        ],
        [
         "4",
         "Town",
         "Ajijic",
         "('DET', 'NOUN', 'ADP', 'DET')",
         "67",
         "5"
        ],
        [
         "5",
         "Town",
         "Ajijic",
         "('NOUN', 'PUNCT', 'DET', 'NOUN')",
         "59",
         "6"
        ],
        [
         "6",
         "Town",
         "Ajijic",
         "('ADJ', 'PUNCT', 'DET', 'NOUN')",
         "57",
         "7"
        ],
        [
         "7",
         "Town",
         "Ajijic",
         "('ADP', 'DET', 'NOUN', 'ADP')",
         "56",
         "8"
        ],
        [
         "8",
         "Town",
         "Ajijic",
         "('PUNCT', 'DET', 'NOUN', 'AUX')",
         "56",
         "9"
        ],
        [
         "9",
         "Town",
         "Ajijic",
         "('DET', 'NOUN', 'AUX', 'ADJ')",
         "56",
         "10"
        ],
        [
         "10",
         "Town",
         "Ajijic",
         "('VERB', 'DET', 'NOUN', 'ADP')",
         "54",
         "11"
        ],
        [
         "11",
         "Town",
         "Ajijic",
         "('DET', 'NOUN', 'ADJ', 'PUNCT')",
         "44",
         "12"
        ],
        [
         "12",
         "Town",
         "Ajijic",
         "('NOUN', 'AUX', 'ADJ', 'PUNCT')",
         "40",
         "13"
        ],
        [
         "13",
         "Town",
         "Ajijic",
         "('PUNCT', 'DET', 'NOUN', 'ADP')",
         "39",
         "14"
        ],
        [
         "14",
         "Town",
         "Ajijic",
         "('NOUN', 'ADP', 'NOUN', 'PUNCT')",
         "39",
         "15"
        ],
        [
         "15",
         "Town",
         "Ajijic",
         "('PRON', 'VERB', 'DET', 'NOUN')",
         "38",
         "16"
        ],
        [
         "16",
         "Town",
         "Ajijic",
         "('ADJ', 'ADP', 'DET', 'NOUN')",
         "35",
         "17"
        ],
        [
         "17",
         "Town",
         "Ajijic",
         "('DET', 'NOUN', 'AUX', 'ADV')",
         "34",
         "18"
        ],
        [
         "18",
         "Town",
         "Ajijic",
         "('ADP', 'DET', 'NOUN', 'CCONJ')",
         "32",
         "19"
        ],
        [
         "19",
         "Town",
         "Ajijic",
         "('VERB', 'DET', 'NOUN', 'PUNCT')",
         "32",
         "20"
        ]
       ],
       "shape": {
        "columns": 5,
        "rows": 20
       }
      },
      "text/html": [
       "<div>\n",
       "<style scoped>\n",
       "    .dataframe tbody tr th:only-of-type {\n",
       "        vertical-align: middle;\n",
       "    }\n",
       "\n",
       "    .dataframe tbody tr th {\n",
       "        vertical-align: top;\n",
       "    }\n",
       "\n",
       "    .dataframe thead th {\n",
       "        text-align: right;\n",
       "    }\n",
       "</style>\n",
       "<table border=\"1\" class=\"dataframe\">\n",
       "  <thead>\n",
       "    <tr style=\"text-align: right;\">\n",
       "      <th></th>\n",
       "      <th>class_col</th>\n",
       "      <th>class_value</th>\n",
       "      <th>pos_4gram</th>\n",
       "      <th>freq</th>\n",
       "      <th>rank</th>\n",
       "    </tr>\n",
       "  </thead>\n",
       "  <tbody>\n",
       "    <tr>\n",
       "      <th>0</th>\n",
       "      <td>Town</td>\n",
       "      <td>Ajijic</td>\n",
       "      <td>(ADP, DET, NOUN, PUNCT)</td>\n",
       "      <td>110</td>\n",
       "      <td>1</td>\n",
       "    </tr>\n",
       "    <tr>\n",
       "      <th>1</th>\n",
       "      <td>Town</td>\n",
       "      <td>Ajijic</td>\n",
       "      <td>(NOUN, ADP, DET, NOUN)</td>\n",
       "      <td>99</td>\n",
       "      <td>2</td>\n",
       "    </tr>\n",
       "    <tr>\n",
       "      <th>2</th>\n",
       "      <td>Town</td>\n",
       "      <td>Ajijic</td>\n",
       "      <td>(DET, NOUN, ADP, NOUN)</td>\n",
       "      <td>91</td>\n",
       "      <td>3</td>\n",
       "    </tr>\n",
       "    <tr>\n",
       "      <th>3</th>\n",
       "      <td>Town</td>\n",
       "      <td>Ajijic</td>\n",
       "      <td>(VERB, ADP, DET, NOUN)</td>\n",
       "      <td>72</td>\n",
       "      <td>4</td>\n",
       "    </tr>\n",
       "    <tr>\n",
       "      <th>4</th>\n",
       "      <td>Town</td>\n",
       "      <td>Ajijic</td>\n",
       "      <td>(DET, NOUN, ADP, DET)</td>\n",
       "      <td>67</td>\n",
       "      <td>5</td>\n",
       "    </tr>\n",
       "    <tr>\n",
       "      <th>5</th>\n",
       "      <td>Town</td>\n",
       "      <td>Ajijic</td>\n",
       "      <td>(NOUN, PUNCT, DET, NOUN)</td>\n",
       "      <td>59</td>\n",
       "      <td>6</td>\n",
       "    </tr>\n",
       "    <tr>\n",
       "      <th>6</th>\n",
       "      <td>Town</td>\n",
       "      <td>Ajijic</td>\n",
       "      <td>(ADJ, PUNCT, DET, NOUN)</td>\n",
       "      <td>57</td>\n",
       "      <td>7</td>\n",
       "    </tr>\n",
       "    <tr>\n",
       "      <th>7</th>\n",
       "      <td>Town</td>\n",
       "      <td>Ajijic</td>\n",
       "      <td>(ADP, DET, NOUN, ADP)</td>\n",
       "      <td>56</td>\n",
       "      <td>8</td>\n",
       "    </tr>\n",
       "    <tr>\n",
       "      <th>8</th>\n",
       "      <td>Town</td>\n",
       "      <td>Ajijic</td>\n",
       "      <td>(PUNCT, DET, NOUN, AUX)</td>\n",
       "      <td>56</td>\n",
       "      <td>9</td>\n",
       "    </tr>\n",
       "    <tr>\n",
       "      <th>9</th>\n",
       "      <td>Town</td>\n",
       "      <td>Ajijic</td>\n",
       "      <td>(DET, NOUN, AUX, ADJ)</td>\n",
       "      <td>56</td>\n",
       "      <td>10</td>\n",
       "    </tr>\n",
       "    <tr>\n",
       "      <th>10</th>\n",
       "      <td>Town</td>\n",
       "      <td>Ajijic</td>\n",
       "      <td>(VERB, DET, NOUN, ADP)</td>\n",
       "      <td>54</td>\n",
       "      <td>11</td>\n",
       "    </tr>\n",
       "    <tr>\n",
       "      <th>11</th>\n",
       "      <td>Town</td>\n",
       "      <td>Ajijic</td>\n",
       "      <td>(DET, NOUN, ADJ, PUNCT)</td>\n",
       "      <td>44</td>\n",
       "      <td>12</td>\n",
       "    </tr>\n",
       "    <tr>\n",
       "      <th>12</th>\n",
       "      <td>Town</td>\n",
       "      <td>Ajijic</td>\n",
       "      <td>(NOUN, AUX, ADJ, PUNCT)</td>\n",
       "      <td>40</td>\n",
       "      <td>13</td>\n",
       "    </tr>\n",
       "    <tr>\n",
       "      <th>13</th>\n",
       "      <td>Town</td>\n",
       "      <td>Ajijic</td>\n",
       "      <td>(PUNCT, DET, NOUN, ADP)</td>\n",
       "      <td>39</td>\n",
       "      <td>14</td>\n",
       "    </tr>\n",
       "    <tr>\n",
       "      <th>14</th>\n",
       "      <td>Town</td>\n",
       "      <td>Ajijic</td>\n",
       "      <td>(NOUN, ADP, NOUN, PUNCT)</td>\n",
       "      <td>39</td>\n",
       "      <td>15</td>\n",
       "    </tr>\n",
       "    <tr>\n",
       "      <th>15</th>\n",
       "      <td>Town</td>\n",
       "      <td>Ajijic</td>\n",
       "      <td>(PRON, VERB, DET, NOUN)</td>\n",
       "      <td>38</td>\n",
       "      <td>16</td>\n",
       "    </tr>\n",
       "    <tr>\n",
       "      <th>16</th>\n",
       "      <td>Town</td>\n",
       "      <td>Ajijic</td>\n",
       "      <td>(ADJ, ADP, DET, NOUN)</td>\n",
       "      <td>35</td>\n",
       "      <td>17</td>\n",
       "    </tr>\n",
       "    <tr>\n",
       "      <th>17</th>\n",
       "      <td>Town</td>\n",
       "      <td>Ajijic</td>\n",
       "      <td>(DET, NOUN, AUX, ADV)</td>\n",
       "      <td>34</td>\n",
       "      <td>18</td>\n",
       "    </tr>\n",
       "    <tr>\n",
       "      <th>18</th>\n",
       "      <td>Town</td>\n",
       "      <td>Ajijic</td>\n",
       "      <td>(ADP, DET, NOUN, CCONJ)</td>\n",
       "      <td>32</td>\n",
       "      <td>19</td>\n",
       "    </tr>\n",
       "    <tr>\n",
       "      <th>19</th>\n",
       "      <td>Town</td>\n",
       "      <td>Ajijic</td>\n",
       "      <td>(VERB, DET, NOUN, PUNCT)</td>\n",
       "      <td>32</td>\n",
       "      <td>20</td>\n",
       "    </tr>\n",
       "  </tbody>\n",
       "</table>\n",
       "</div>"
      ],
      "text/plain": [
       "   class_col class_value                 pos_4gram  freq  rank\n",
       "0       Town      Ajijic   (ADP, DET, NOUN, PUNCT)   110     1\n",
       "1       Town      Ajijic    (NOUN, ADP, DET, NOUN)    99     2\n",
       "2       Town      Ajijic    (DET, NOUN, ADP, NOUN)    91     3\n",
       "3       Town      Ajijic    (VERB, ADP, DET, NOUN)    72     4\n",
       "4       Town      Ajijic     (DET, NOUN, ADP, DET)    67     5\n",
       "5       Town      Ajijic  (NOUN, PUNCT, DET, NOUN)    59     6\n",
       "6       Town      Ajijic   (ADJ, PUNCT, DET, NOUN)    57     7\n",
       "7       Town      Ajijic     (ADP, DET, NOUN, ADP)    56     8\n",
       "8       Town      Ajijic   (PUNCT, DET, NOUN, AUX)    56     9\n",
       "9       Town      Ajijic     (DET, NOUN, AUX, ADJ)    56    10\n",
       "10      Town      Ajijic    (VERB, DET, NOUN, ADP)    54    11\n",
       "11      Town      Ajijic   (DET, NOUN, ADJ, PUNCT)    44    12\n",
       "12      Town      Ajijic   (NOUN, AUX, ADJ, PUNCT)    40    13\n",
       "13      Town      Ajijic   (PUNCT, DET, NOUN, ADP)    39    14\n",
       "14      Town      Ajijic  (NOUN, ADP, NOUN, PUNCT)    39    15\n",
       "15      Town      Ajijic   (PRON, VERB, DET, NOUN)    38    16\n",
       "16      Town      Ajijic     (ADJ, ADP, DET, NOUN)    35    17\n",
       "17      Town      Ajijic     (DET, NOUN, AUX, ADV)    34    18\n",
       "18      Town      Ajijic   (ADP, DET, NOUN, CCONJ)    32    19\n",
       "19      Town      Ajijic  (VERB, DET, NOUN, PUNCT)    32    20"
      ]
     },
     "metadata": {},
     "output_type": "display_data"
    },
    {
     "name": "stdout",
     "output_type": "stream",
     "text": [
      "Guardado: ../reports/tables/top_pos4grams_region.csv\n"
     ]
    },
    {
     "data": {
      "application/vnd.microsoft.datawrangler.viewer.v0+json": {
       "columns": [
        {
         "name": "index",
         "rawType": "int64",
         "type": "integer"
        },
        {
         "name": "class_col",
         "rawType": "object",
         "type": "string"
        },
        {
         "name": "class_value",
         "rawType": "object",
         "type": "string"
        },
        {
         "name": "pos_4gram",
         "rawType": "object",
         "type": "unknown"
        },
        {
         "name": "freq",
         "rawType": "int64",
         "type": "integer"
        },
        {
         "name": "rank",
         "rawType": "int64",
         "type": "integer"
        }
       ],
       "ref": "7312375b-b471-41fa-90b6-cda033752e26",
       "rows": [
        [
         "0",
         "Region",
         "Baja_CaliforniaSur",
         "('NOUN', 'ADP', 'DET', 'NOUN')",
         "245",
         "1"
        ],
        [
         "1",
         "Region",
         "Baja_CaliforniaSur",
         "('ADP', 'DET', 'NOUN', 'PUNCT')",
         "222",
         "2"
        ],
        [
         "2",
         "Region",
         "Baja_CaliforniaSur",
         "('DET', 'NOUN', 'ADP', 'NOUN')",
         "190",
         "3"
        ],
        [
         "3",
         "Region",
         "Baja_CaliforniaSur",
         "('ADP', 'DET', 'NOUN', 'ADP')",
         "165",
         "4"
        ],
        [
         "4",
         "Region",
         "Baja_CaliforniaSur",
         "('DET', 'NOUN', 'ADP', 'DET')",
         "159",
         "5"
        ],
        [
         "5",
         "Region",
         "Baja_CaliforniaSur",
         "('VERB', 'ADP', 'DET', 'NOUN')",
         "147",
         "6"
        ],
        [
         "6",
         "Region",
         "Baja_CaliforniaSur",
         "('NOUN', 'ADP', 'NOUN', 'PUNCT')",
         "110",
         "7"
        ],
        [
         "7",
         "Region",
         "Baja_CaliforniaSur",
         "('VERB', 'DET', 'NOUN', 'ADP')",
         "103",
         "8"
        ],
        [
         "8",
         "Region",
         "Baja_CaliforniaSur",
         "('DET', 'NOUN', 'AUX', 'ADJ')",
         "102",
         "9"
        ],
        [
         "9",
         "Region",
         "Baja_CaliforniaSur",
         "('DET', 'NOUN', 'ADJ', 'PUNCT')",
         "99",
         "10"
        ],
        [
         "10",
         "Region",
         "Baja_CaliforniaSur",
         "('NOUN', 'PUNCT', 'DET', 'NOUN')",
         "99",
         "11"
        ],
        [
         "11",
         "Region",
         "Baja_CaliforniaSur",
         "('PUNCT', 'DET', 'NOUN', 'AUX')",
         "98",
         "12"
        ],
        [
         "12",
         "Region",
         "Baja_CaliforniaSur",
         "('ADJ', 'PUNCT', 'DET', 'NOUN')",
         "95",
         "13"
        ],
        [
         "13",
         "Region",
         "Baja_CaliforniaSur",
         "('NOUN', 'ADP', 'NOUN', 'ADP')",
         "93",
         "14"
        ],
        [
         "14",
         "Region",
         "Baja_CaliforniaSur",
         "('VERB', 'DET', 'NOUN', 'PUNCT')",
         "84",
         "15"
        ],
        [
         "15",
         "Region",
         "Baja_CaliforniaSur",
         "('ADJ', 'ADP', 'DET', 'NOUN')",
         "83",
         "16"
        ],
        [
         "16",
         "Region",
         "Baja_CaliforniaSur",
         "('ADP', 'DET', 'NOUN', 'ADJ')",
         "80",
         "17"
        ],
        [
         "17",
         "Region",
         "Baja_CaliforniaSur",
         "('NOUN', 'AUX', 'ADJ', 'PUNCT')",
         "70",
         "18"
        ],
        [
         "18",
         "Region",
         "Baja_CaliforniaSur",
         "('ADP', 'NOUN', 'ADP', 'DET')",
         "63",
         "19"
        ],
        [
         "19",
         "Region",
         "Baja_CaliforniaSur",
         "('DET', 'ADJ', 'NOUN', 'ADP')",
         "62",
         "20"
        ]
       ],
       "shape": {
        "columns": 5,
        "rows": 20
       }
      },
      "text/html": [
       "<div>\n",
       "<style scoped>\n",
       "    .dataframe tbody tr th:only-of-type {\n",
       "        vertical-align: middle;\n",
       "    }\n",
       "\n",
       "    .dataframe tbody tr th {\n",
       "        vertical-align: top;\n",
       "    }\n",
       "\n",
       "    .dataframe thead th {\n",
       "        text-align: right;\n",
       "    }\n",
       "</style>\n",
       "<table border=\"1\" class=\"dataframe\">\n",
       "  <thead>\n",
       "    <tr style=\"text-align: right;\">\n",
       "      <th></th>\n",
       "      <th>class_col</th>\n",
       "      <th>class_value</th>\n",
       "      <th>pos_4gram</th>\n",
       "      <th>freq</th>\n",
       "      <th>rank</th>\n",
       "    </tr>\n",
       "  </thead>\n",
       "  <tbody>\n",
       "    <tr>\n",
       "      <th>0</th>\n",
       "      <td>Region</td>\n",
       "      <td>Baja_CaliforniaSur</td>\n",
       "      <td>(NOUN, ADP, DET, NOUN)</td>\n",
       "      <td>245</td>\n",
       "      <td>1</td>\n",
       "    </tr>\n",
       "    <tr>\n",
       "      <th>1</th>\n",
       "      <td>Region</td>\n",
       "      <td>Baja_CaliforniaSur</td>\n",
       "      <td>(ADP, DET, NOUN, PUNCT)</td>\n",
       "      <td>222</td>\n",
       "      <td>2</td>\n",
       "    </tr>\n",
       "    <tr>\n",
       "      <th>2</th>\n",
       "      <td>Region</td>\n",
       "      <td>Baja_CaliforniaSur</td>\n",
       "      <td>(DET, NOUN, ADP, NOUN)</td>\n",
       "      <td>190</td>\n",
       "      <td>3</td>\n",
       "    </tr>\n",
       "    <tr>\n",
       "      <th>3</th>\n",
       "      <td>Region</td>\n",
       "      <td>Baja_CaliforniaSur</td>\n",
       "      <td>(ADP, DET, NOUN, ADP)</td>\n",
       "      <td>165</td>\n",
       "      <td>4</td>\n",
       "    </tr>\n",
       "    <tr>\n",
       "      <th>4</th>\n",
       "      <td>Region</td>\n",
       "      <td>Baja_CaliforniaSur</td>\n",
       "      <td>(DET, NOUN, ADP, DET)</td>\n",
       "      <td>159</td>\n",
       "      <td>5</td>\n",
       "    </tr>\n",
       "    <tr>\n",
       "      <th>5</th>\n",
       "      <td>Region</td>\n",
       "      <td>Baja_CaliforniaSur</td>\n",
       "      <td>(VERB, ADP, DET, NOUN)</td>\n",
       "      <td>147</td>\n",
       "      <td>6</td>\n",
       "    </tr>\n",
       "    <tr>\n",
       "      <th>6</th>\n",
       "      <td>Region</td>\n",
       "      <td>Baja_CaliforniaSur</td>\n",
       "      <td>(NOUN, ADP, NOUN, PUNCT)</td>\n",
       "      <td>110</td>\n",
       "      <td>7</td>\n",
       "    </tr>\n",
       "    <tr>\n",
       "      <th>7</th>\n",
       "      <td>Region</td>\n",
       "      <td>Baja_CaliforniaSur</td>\n",
       "      <td>(VERB, DET, NOUN, ADP)</td>\n",
       "      <td>103</td>\n",
       "      <td>8</td>\n",
       "    </tr>\n",
       "    <tr>\n",
       "      <th>8</th>\n",
       "      <td>Region</td>\n",
       "      <td>Baja_CaliforniaSur</td>\n",
       "      <td>(DET, NOUN, AUX, ADJ)</td>\n",
       "      <td>102</td>\n",
       "      <td>9</td>\n",
       "    </tr>\n",
       "    <tr>\n",
       "      <th>9</th>\n",
       "      <td>Region</td>\n",
       "      <td>Baja_CaliforniaSur</td>\n",
       "      <td>(DET, NOUN, ADJ, PUNCT)</td>\n",
       "      <td>99</td>\n",
       "      <td>10</td>\n",
       "    </tr>\n",
       "    <tr>\n",
       "      <th>10</th>\n",
       "      <td>Region</td>\n",
       "      <td>Baja_CaliforniaSur</td>\n",
       "      <td>(NOUN, PUNCT, DET, NOUN)</td>\n",
       "      <td>99</td>\n",
       "      <td>11</td>\n",
       "    </tr>\n",
       "    <tr>\n",
       "      <th>11</th>\n",
       "      <td>Region</td>\n",
       "      <td>Baja_CaliforniaSur</td>\n",
       "      <td>(PUNCT, DET, NOUN, AUX)</td>\n",
       "      <td>98</td>\n",
       "      <td>12</td>\n",
       "    </tr>\n",
       "    <tr>\n",
       "      <th>12</th>\n",
       "      <td>Region</td>\n",
       "      <td>Baja_CaliforniaSur</td>\n",
       "      <td>(ADJ, PUNCT, DET, NOUN)</td>\n",
       "      <td>95</td>\n",
       "      <td>13</td>\n",
       "    </tr>\n",
       "    <tr>\n",
       "      <th>13</th>\n",
       "      <td>Region</td>\n",
       "      <td>Baja_CaliforniaSur</td>\n",
       "      <td>(NOUN, ADP, NOUN, ADP)</td>\n",
       "      <td>93</td>\n",
       "      <td>14</td>\n",
       "    </tr>\n",
       "    <tr>\n",
       "      <th>14</th>\n",
       "      <td>Region</td>\n",
       "      <td>Baja_CaliforniaSur</td>\n",
       "      <td>(VERB, DET, NOUN, PUNCT)</td>\n",
       "      <td>84</td>\n",
       "      <td>15</td>\n",
       "    </tr>\n",
       "    <tr>\n",
       "      <th>15</th>\n",
       "      <td>Region</td>\n",
       "      <td>Baja_CaliforniaSur</td>\n",
       "      <td>(ADJ, ADP, DET, NOUN)</td>\n",
       "      <td>83</td>\n",
       "      <td>16</td>\n",
       "    </tr>\n",
       "    <tr>\n",
       "      <th>16</th>\n",
       "      <td>Region</td>\n",
       "      <td>Baja_CaliforniaSur</td>\n",
       "      <td>(ADP, DET, NOUN, ADJ)</td>\n",
       "      <td>80</td>\n",
       "      <td>17</td>\n",
       "    </tr>\n",
       "    <tr>\n",
       "      <th>17</th>\n",
       "      <td>Region</td>\n",
       "      <td>Baja_CaliforniaSur</td>\n",
       "      <td>(NOUN, AUX, ADJ, PUNCT)</td>\n",
       "      <td>70</td>\n",
       "      <td>18</td>\n",
       "    </tr>\n",
       "    <tr>\n",
       "      <th>18</th>\n",
       "      <td>Region</td>\n",
       "      <td>Baja_CaliforniaSur</td>\n",
       "      <td>(ADP, NOUN, ADP, DET)</td>\n",
       "      <td>63</td>\n",
       "      <td>19</td>\n",
       "    </tr>\n",
       "    <tr>\n",
       "      <th>19</th>\n",
       "      <td>Region</td>\n",
       "      <td>Baja_CaliforniaSur</td>\n",
       "      <td>(DET, ADJ, NOUN, ADP)</td>\n",
       "      <td>62</td>\n",
       "      <td>20</td>\n",
       "    </tr>\n",
       "  </tbody>\n",
       "</table>\n",
       "</div>"
      ],
      "text/plain": [
       "   class_col         class_value                 pos_4gram  freq  rank\n",
       "0     Region  Baja_CaliforniaSur    (NOUN, ADP, DET, NOUN)   245     1\n",
       "1     Region  Baja_CaliforniaSur   (ADP, DET, NOUN, PUNCT)   222     2\n",
       "2     Region  Baja_CaliforniaSur    (DET, NOUN, ADP, NOUN)   190     3\n",
       "3     Region  Baja_CaliforniaSur     (ADP, DET, NOUN, ADP)   165     4\n",
       "4     Region  Baja_CaliforniaSur     (DET, NOUN, ADP, DET)   159     5\n",
       "5     Region  Baja_CaliforniaSur    (VERB, ADP, DET, NOUN)   147     6\n",
       "6     Region  Baja_CaliforniaSur  (NOUN, ADP, NOUN, PUNCT)   110     7\n",
       "7     Region  Baja_CaliforniaSur    (VERB, DET, NOUN, ADP)   103     8\n",
       "8     Region  Baja_CaliforniaSur     (DET, NOUN, AUX, ADJ)   102     9\n",
       "9     Region  Baja_CaliforniaSur   (DET, NOUN, ADJ, PUNCT)    99    10\n",
       "10    Region  Baja_CaliforniaSur  (NOUN, PUNCT, DET, NOUN)    99    11\n",
       "11    Region  Baja_CaliforniaSur   (PUNCT, DET, NOUN, AUX)    98    12\n",
       "12    Region  Baja_CaliforniaSur   (ADJ, PUNCT, DET, NOUN)    95    13\n",
       "13    Region  Baja_CaliforniaSur    (NOUN, ADP, NOUN, ADP)    93    14\n",
       "14    Region  Baja_CaliforniaSur  (VERB, DET, NOUN, PUNCT)    84    15\n",
       "15    Region  Baja_CaliforniaSur     (ADJ, ADP, DET, NOUN)    83    16\n",
       "16    Region  Baja_CaliforniaSur     (ADP, DET, NOUN, ADJ)    80    17\n",
       "17    Region  Baja_CaliforniaSur   (NOUN, AUX, ADJ, PUNCT)    70    18\n",
       "18    Region  Baja_CaliforniaSur     (ADP, NOUN, ADP, DET)    63    19\n",
       "19    Region  Baja_CaliforniaSur     (DET, ADJ, NOUN, ADP)    62    20"
      ]
     },
     "metadata": {},
     "output_type": "display_data"
    },
    {
     "name": "stdout",
     "output_type": "stream",
     "text": [
      "Guardado: ../reports/tables/top_pos4grams_type.csv\n"
     ]
    },
    {
     "data": {
      "application/vnd.microsoft.datawrangler.viewer.v0+json": {
       "columns": [
        {
         "name": "index",
         "rawType": "int64",
         "type": "integer"
        },
        {
         "name": "class_col",
         "rawType": "object",
         "type": "string"
        },
        {
         "name": "class_value",
         "rawType": "object",
         "type": "string"
        },
        {
         "name": "pos_4gram",
         "rawType": "object",
         "type": "unknown"
        },
        {
         "name": "freq",
         "rawType": "int64",
         "type": "integer"
        },
        {
         "name": "rank",
         "rawType": "int64",
         "type": "integer"
        }
       ],
       "ref": "baaee39f-8111-4f21-a2ba-1a6f1d8dcdf1",
       "rows": [
        [
         "0",
         "Type",
         "Attractive",
         "('NOUN', 'ADP', 'DET', 'NOUN')",
         "1592",
         "1"
        ],
        [
         "1",
         "Type",
         "Attractive",
         "('ADP', 'DET', 'NOUN', 'PUNCT')",
         "1344",
         "2"
        ],
        [
         "2",
         "Type",
         "Attractive",
         "('DET', 'NOUN', 'ADP', 'NOUN')",
         "1172",
         "3"
        ],
        [
         "3",
         "Type",
         "Attractive",
         "('ADP', 'DET', 'NOUN', 'ADP')",
         "1139",
         "4"
        ],
        [
         "4",
         "Type",
         "Attractive",
         "('VERB', 'ADP', 'DET', 'NOUN')",
         "1121",
         "5"
        ],
        [
         "5",
         "Type",
         "Attractive",
         "('DET', 'NOUN', 'ADP', 'DET')",
         "1012",
         "6"
        ],
        [
         "6",
         "Type",
         "Attractive",
         "('VERB', 'DET', 'NOUN', 'ADP')",
         "765",
         "7"
        ],
        [
         "7",
         "Type",
         "Attractive",
         "('NOUN', 'ADP', 'NOUN', 'PUNCT')",
         "682",
         "8"
        ],
        [
         "8",
         "Type",
         "Attractive",
         "('NOUN', 'PUNCT', 'DET', 'NOUN')",
         "646",
         "9"
        ],
        [
         "9",
         "Type",
         "Attractive",
         "('ADJ', 'ADP', 'DET', 'NOUN')",
         "584",
         "10"
        ],
        [
         "10",
         "Type",
         "Attractive",
         "('ADP', 'DET', 'NOUN', 'ADJ')",
         "532",
         "11"
        ],
        [
         "11",
         "Type",
         "Attractive",
         "('DET', 'NOUN', 'ADJ', 'PUNCT')",
         "507",
         "12"
        ],
        [
         "12",
         "Type",
         "Attractive",
         "('VERB', 'DET', 'NOUN', 'PUNCT')",
         "496",
         "13"
        ],
        [
         "13",
         "Type",
         "Attractive",
         "('NOUN', 'ADP', 'NOUN', 'ADP')",
         "468",
         "14"
        ],
        [
         "14",
         "Type",
         "Attractive",
         "('DET', 'NOUN', 'AUX', 'ADJ')",
         "439",
         "15"
        ],
        [
         "15",
         "Type",
         "Attractive",
         "('PRON', 'VERB', 'DET', 'NOUN')",
         "436",
         "16"
        ],
        [
         "16",
         "Type",
         "Attractive",
         "('DET', 'NOUN', 'ADJ', 'ADP')",
         "415",
         "17"
        ],
        [
         "17",
         "Type",
         "Attractive",
         "('PUNCT', 'DET', 'NOUN', 'AUX')",
         "414",
         "18"
        ],
        [
         "18",
         "Type",
         "Attractive",
         "('ADP', 'DET', 'NOUN', 'CCONJ')",
         "398",
         "19"
        ],
        [
         "19",
         "Type",
         "Attractive",
         "('ADP', 'NOUN', 'ADP', 'DET')",
         "384",
         "20"
        ]
       ],
       "shape": {
        "columns": 5,
        "rows": 20
       }
      },
      "text/html": [
       "<div>\n",
       "<style scoped>\n",
       "    .dataframe tbody tr th:only-of-type {\n",
       "        vertical-align: middle;\n",
       "    }\n",
       "\n",
       "    .dataframe tbody tr th {\n",
       "        vertical-align: top;\n",
       "    }\n",
       "\n",
       "    .dataframe thead th {\n",
       "        text-align: right;\n",
       "    }\n",
       "</style>\n",
       "<table border=\"1\" class=\"dataframe\">\n",
       "  <thead>\n",
       "    <tr style=\"text-align: right;\">\n",
       "      <th></th>\n",
       "      <th>class_col</th>\n",
       "      <th>class_value</th>\n",
       "      <th>pos_4gram</th>\n",
       "      <th>freq</th>\n",
       "      <th>rank</th>\n",
       "    </tr>\n",
       "  </thead>\n",
       "  <tbody>\n",
       "    <tr>\n",
       "      <th>0</th>\n",
       "      <td>Type</td>\n",
       "      <td>Attractive</td>\n",
       "      <td>(NOUN, ADP, DET, NOUN)</td>\n",
       "      <td>1592</td>\n",
       "      <td>1</td>\n",
       "    </tr>\n",
       "    <tr>\n",
       "      <th>1</th>\n",
       "      <td>Type</td>\n",
       "      <td>Attractive</td>\n",
       "      <td>(ADP, DET, NOUN, PUNCT)</td>\n",
       "      <td>1344</td>\n",
       "      <td>2</td>\n",
       "    </tr>\n",
       "    <tr>\n",
       "      <th>2</th>\n",
       "      <td>Type</td>\n",
       "      <td>Attractive</td>\n",
       "      <td>(DET, NOUN, ADP, NOUN)</td>\n",
       "      <td>1172</td>\n",
       "      <td>3</td>\n",
       "    </tr>\n",
       "    <tr>\n",
       "      <th>3</th>\n",
       "      <td>Type</td>\n",
       "      <td>Attractive</td>\n",
       "      <td>(ADP, DET, NOUN, ADP)</td>\n",
       "      <td>1139</td>\n",
       "      <td>4</td>\n",
       "    </tr>\n",
       "    <tr>\n",
       "      <th>4</th>\n",
       "      <td>Type</td>\n",
       "      <td>Attractive</td>\n",
       "      <td>(VERB, ADP, DET, NOUN)</td>\n",
       "      <td>1121</td>\n",
       "      <td>5</td>\n",
       "    </tr>\n",
       "    <tr>\n",
       "      <th>5</th>\n",
       "      <td>Type</td>\n",
       "      <td>Attractive</td>\n",
       "      <td>(DET, NOUN, ADP, DET)</td>\n",
       "      <td>1012</td>\n",
       "      <td>6</td>\n",
       "    </tr>\n",
       "    <tr>\n",
       "      <th>6</th>\n",
       "      <td>Type</td>\n",
       "      <td>Attractive</td>\n",
       "      <td>(VERB, DET, NOUN, ADP)</td>\n",
       "      <td>765</td>\n",
       "      <td>7</td>\n",
       "    </tr>\n",
       "    <tr>\n",
       "      <th>7</th>\n",
       "      <td>Type</td>\n",
       "      <td>Attractive</td>\n",
       "      <td>(NOUN, ADP, NOUN, PUNCT)</td>\n",
       "      <td>682</td>\n",
       "      <td>8</td>\n",
       "    </tr>\n",
       "    <tr>\n",
       "      <th>8</th>\n",
       "      <td>Type</td>\n",
       "      <td>Attractive</td>\n",
       "      <td>(NOUN, PUNCT, DET, NOUN)</td>\n",
       "      <td>646</td>\n",
       "      <td>9</td>\n",
       "    </tr>\n",
       "    <tr>\n",
       "      <th>9</th>\n",
       "      <td>Type</td>\n",
       "      <td>Attractive</td>\n",
       "      <td>(ADJ, ADP, DET, NOUN)</td>\n",
       "      <td>584</td>\n",
       "      <td>10</td>\n",
       "    </tr>\n",
       "    <tr>\n",
       "      <th>10</th>\n",
       "      <td>Type</td>\n",
       "      <td>Attractive</td>\n",
       "      <td>(ADP, DET, NOUN, ADJ)</td>\n",
       "      <td>532</td>\n",
       "      <td>11</td>\n",
       "    </tr>\n",
       "    <tr>\n",
       "      <th>11</th>\n",
       "      <td>Type</td>\n",
       "      <td>Attractive</td>\n",
       "      <td>(DET, NOUN, ADJ, PUNCT)</td>\n",
       "      <td>507</td>\n",
       "      <td>12</td>\n",
       "    </tr>\n",
       "    <tr>\n",
       "      <th>12</th>\n",
       "      <td>Type</td>\n",
       "      <td>Attractive</td>\n",
       "      <td>(VERB, DET, NOUN, PUNCT)</td>\n",
       "      <td>496</td>\n",
       "      <td>13</td>\n",
       "    </tr>\n",
       "    <tr>\n",
       "      <th>13</th>\n",
       "      <td>Type</td>\n",
       "      <td>Attractive</td>\n",
       "      <td>(NOUN, ADP, NOUN, ADP)</td>\n",
       "      <td>468</td>\n",
       "      <td>14</td>\n",
       "    </tr>\n",
       "    <tr>\n",
       "      <th>14</th>\n",
       "      <td>Type</td>\n",
       "      <td>Attractive</td>\n",
       "      <td>(DET, NOUN, AUX, ADJ)</td>\n",
       "      <td>439</td>\n",
       "      <td>15</td>\n",
       "    </tr>\n",
       "    <tr>\n",
       "      <th>15</th>\n",
       "      <td>Type</td>\n",
       "      <td>Attractive</td>\n",
       "      <td>(PRON, VERB, DET, NOUN)</td>\n",
       "      <td>436</td>\n",
       "      <td>16</td>\n",
       "    </tr>\n",
       "    <tr>\n",
       "      <th>16</th>\n",
       "      <td>Type</td>\n",
       "      <td>Attractive</td>\n",
       "      <td>(DET, NOUN, ADJ, ADP)</td>\n",
       "      <td>415</td>\n",
       "      <td>17</td>\n",
       "    </tr>\n",
       "    <tr>\n",
       "      <th>17</th>\n",
       "      <td>Type</td>\n",
       "      <td>Attractive</td>\n",
       "      <td>(PUNCT, DET, NOUN, AUX)</td>\n",
       "      <td>414</td>\n",
       "      <td>18</td>\n",
       "    </tr>\n",
       "    <tr>\n",
       "      <th>18</th>\n",
       "      <td>Type</td>\n",
       "      <td>Attractive</td>\n",
       "      <td>(ADP, DET, NOUN, CCONJ)</td>\n",
       "      <td>398</td>\n",
       "      <td>19</td>\n",
       "    </tr>\n",
       "    <tr>\n",
       "      <th>19</th>\n",
       "      <td>Type</td>\n",
       "      <td>Attractive</td>\n",
       "      <td>(ADP, NOUN, ADP, DET)</td>\n",
       "      <td>384</td>\n",
       "      <td>20</td>\n",
       "    </tr>\n",
       "  </tbody>\n",
       "</table>\n",
       "</div>"
      ],
      "text/plain": [
       "   class_col class_value                 pos_4gram  freq  rank\n",
       "0       Type  Attractive    (NOUN, ADP, DET, NOUN)  1592     1\n",
       "1       Type  Attractive   (ADP, DET, NOUN, PUNCT)  1344     2\n",
       "2       Type  Attractive    (DET, NOUN, ADP, NOUN)  1172     3\n",
       "3       Type  Attractive     (ADP, DET, NOUN, ADP)  1139     4\n",
       "4       Type  Attractive    (VERB, ADP, DET, NOUN)  1121     5\n",
       "5       Type  Attractive     (DET, NOUN, ADP, DET)  1012     6\n",
       "6       Type  Attractive    (VERB, DET, NOUN, ADP)   765     7\n",
       "7       Type  Attractive  (NOUN, ADP, NOUN, PUNCT)   682     8\n",
       "8       Type  Attractive  (NOUN, PUNCT, DET, NOUN)   646     9\n",
       "9       Type  Attractive     (ADJ, ADP, DET, NOUN)   584    10\n",
       "10      Type  Attractive     (ADP, DET, NOUN, ADJ)   532    11\n",
       "11      Type  Attractive   (DET, NOUN, ADJ, PUNCT)   507    12\n",
       "12      Type  Attractive  (VERB, DET, NOUN, PUNCT)   496    13\n",
       "13      Type  Attractive    (NOUN, ADP, NOUN, ADP)   468    14\n",
       "14      Type  Attractive     (DET, NOUN, AUX, ADJ)   439    15\n",
       "15      Type  Attractive   (PRON, VERB, DET, NOUN)   436    16\n",
       "16      Type  Attractive     (DET, NOUN, ADJ, ADP)   415    17\n",
       "17      Type  Attractive   (PUNCT, DET, NOUN, AUX)   414    18\n",
       "18      Type  Attractive   (ADP, DET, NOUN, CCONJ)   398    19\n",
       "19      Type  Attractive     (ADP, NOUN, ADP, DET)   384    20"
      ]
     },
     "metadata": {},
     "output_type": "display_data"
    }
   ],
   "source": [
    "def extract_pos_ngrams(pos_seq, n=4):\n",
    "    \"\"\"Extrae n-gramas de etiquetas POS de una secuencia.\"\"\"\n",
    "    return [tuple(pos_seq[i:i+n]) for i in range(len(pos_seq)-n+1)]\n",
    "\n",
    "# NUeva columna con los 4-gramas de cada doc\n",
    "df[\"pos_4grams\"] = df[\"pos_seq\"].apply(lambda seq: extract_pos_ngrams(seq, n=4))\n",
    "\n",
    "def top_pos_ngrams_per_class(df, class_col, k=20):\n",
    "    \"\"\"Devuelve los k POS 4-gramas más frecuentes por cada valor de class_col.\"\"\"\n",
    "    frames = []\n",
    "    for val, g in df.groupby(class_col, dropna=False):\n",
    "        c = Counter()\n",
    "        for ngrams in g[\"pos_4grams\"]:\n",
    "            c.update(ngrams)\n",
    "        topk = c.most_common(k)\n",
    "        tmp = pd.DataFrame(topk, columns=[\"pos_4gram\", \"freq\"])\n",
    "        tmp.insert(0, \"class_col\", class_col)\n",
    "        tmp.insert(1, \"class_value\", val)\n",
    "        tmp[\"rank\"] = range(1, len(tmp)+1)\n",
    "        frames.append(tmp)\n",
    "    return pd.concat(frames, ignore_index=True)\n",
    "\n",
    "# Ejecutamos para todas las columnas de clase presentes\n",
    "class_cols = [c for c in [\"Polarity\",\"Town\",\"Region\",\"Type\"] if c in df.columns]\n",
    "\n",
    "# Guardamos resultados\n",
    "os.makedirs(\"../reports/tables\", exist_ok=True)\n",
    "pos_ngram_tables = {}\n",
    "for col in class_cols:\n",
    "    table = top_pos_ngrams_per_class(df, col, k=20)\n",
    "    pos_ngram_tables[col] = table\n",
    "    out_path = f\"../reports/tables/top_pos4grams_{col.lower()}.csv\"\n",
    "    table.to_csv(out_path, index=False)\n",
    "    print(f\"Guardado: {out_path}\")\n",
    "    display(table.head(20))"
   ]
  },
  {
   "cell_type": "markdown",
   "id": "92070c09",
   "metadata": {},
   "source": [
    "Discute si estas estructuras difieren entre clases y explica por qué."
   ]
  },
  {
   "cell_type": "markdown",
   "metadata": {},
   "source": [
    "## 5. Representaciones BoW"
   ]
  },
  {
   "cell_type": "markdown",
   "id": "54cf8ff4",
   "metadata": {},
   "source": [
    "Construye representaciones BoW con TF y con TF-IDF."
   ]
  },
  {
   "cell_type": "code",
   "execution_count": 21,
   "id": "35ae04fa",
   "metadata": {},
   "outputs": [
    {
     "name": "stdout",
     "output_type": "stream",
     "text": [
      "Matriz TF:\n",
      "  Forma: (5000, 19157) (docs x vocabulario)\n",
      "Matriz TF-IDF:\n",
      "  Forma: (5000, 19157) (docs x vocabulario)\n",
      "Tamaño vocabulario: 19157\n"
     ]
    }
   ],
   "source": [
    "# Función de preprocesamiento: usamos tokens_clean unidos por espacio\n",
    "docs_clean = df[\"tokens_clean\"].apply(lambda toks: \" \".join(toks)).tolist()\n",
    "\n",
    "# --- BoW con TF (frecuencia absoluta) ---\n",
    "vectorizer_tf = CountVectorizer()\n",
    "X_tf = vectorizer_tf.fit_transform(docs_clean)\n",
    "\n",
    "# --- BoW con TF-IDF ---\n",
    "vectorizer_tfidf = TfidfVectorizer()\n",
    "X_tfidf = vectorizer_tfidf.fit_transform(docs_clean)\n",
    "\n",
    "# --- Info básica ---\n",
    "print(\"Matriz TF:\")\n",
    "print(f\"  Forma: {X_tf.shape} (docs x vocabulario)\")\n",
    "print(\"Matriz TF-IDF:\")\n",
    "print(f\"  Forma: {X_tfidf.shape} (docs x vocabulario)\")\n",
    "\n",
    "# Vocabulario (tokens -> índice)\n",
    "vocab = vectorizer_tf.get_feature_names_out()\n",
    "print(f\"Tamaño vocabulario: {len(vocab)}\")\n"
   ]
  },
  {
   "cell_type": "markdown",
   "id": "b2b4b26f",
   "metadata": {},
   "source": [
    "Aplica alguna medida estadística (chi-cuadrado, información mutua o information gain)."
   ]
  },
  {
   "cell_type": "code",
   "execution_count": null,
   "id": "7b0e2931",
   "metadata": {},
   "outputs": [
    {
     "name": "stdout",
     "output_type": "stream",
     "text": [
      "=== χ² (TF) — Clase: Polarity ===\n"
     ]
    },
    {
     "data": {
      "application/vnd.microsoft.datawrangler.viewer.v0+json": {
       "columns": [
        {
         "name": "index",
         "rawType": "int64",
         "type": "integer"
        },
        {
         "name": "token",
         "rawType": "object",
         "type": "string"
        },
        {
         "name": "chi2",
         "rawType": "float64",
         "type": "float"
        },
        {
         "name": "p_value",
         "rawType": "float64",
         "type": "float"
        }
       ],
       "ref": "8ff740e5-1225-4868-ab3d-80321784ea9e",
       "rows": [
        [
         "0",
         "habitación",
         "270.79551078119124",
         "2.1493601630313696e-57"
        ],
        [
         "1",
         "excelente",
         "265.18984357967577",
         "3.4717391614090297e-56"
        ],
        [
         "2",
         "peor",
         "256.45265538823446",
         "2.650723635901464e-54"
        ],
        [
         "3",
         "mala",
         "245.8760857603234",
         "5.0337424941265325e-52"
        ],
        [
         "4",
         "mal",
         "242.1790909090874",
         "3.148886955044183e-51"
        ],
        [
         "5",
         "hotel",
         "230.1028965247691",
         "1.2544156085958207e-48"
        ],
        [
         "6",
         "pésimo",
         "192.41356499780125",
         "1.605542504796032e-40"
        ],
        [
         "7",
         "dijeron",
         "185.81224747474482",
         "4.20801268111415e-39"
        ],
        [
         "8",
         "increíble",
         "174.59366316890197",
         "1.0799729428492996e-36"
        ],
        [
         "9",
         "dijo",
         "142.2650333746805",
         "9.239992180446631e-30"
        ],
        [
         "10",
         "horrible",
         "136.79048463356767",
         "1.3729457276364998e-28"
        ],
        [
         "11",
         "nunca",
         "131.8208660026825",
         "1.5883876000391183e-27"
        ],
        [
         "12",
         "deliciosa",
         "131.4929766414113",
         "1.866772262374819e-27"
        ],
        [
         "13",
         "pedimos",
         "123.78732077327416",
         "8.28956422208801e-26"
        ],
        [
         "14",
         "pésima",
         "118.61093695576278",
         "1.0575940259944716e-24"
        ],
        [
         "15",
         "solo",
         "112.26781643872219",
         "2.3891716099105005e-23"
        ],
        [
         "16",
         "recepción",
         "111.84623579545304",
         "2.938915952447146e-23"
        ],
        [
         "17",
         "terrible",
         "110.34150326797214",
         "6.153996405112753e-23"
        ],
        [
         "18",
         "gracias",
         "105.55387205386975",
         "6.454520227374242e-22"
        ],
        [
         "19",
         "gerente",
         "103.84456887717604",
         "1.4930589773801774e-21"
        ]
       ],
       "shape": {
        "columns": 3,
        "rows": 20
       }
      },
      "text/html": [
       "<div>\n",
       "<style scoped>\n",
       "    .dataframe tbody tr th:only-of-type {\n",
       "        vertical-align: middle;\n",
       "    }\n",
       "\n",
       "    .dataframe tbody tr th {\n",
       "        vertical-align: top;\n",
       "    }\n",
       "\n",
       "    .dataframe thead th {\n",
       "        text-align: right;\n",
       "    }\n",
       "</style>\n",
       "<table border=\"1\" class=\"dataframe\">\n",
       "  <thead>\n",
       "    <tr style=\"text-align: right;\">\n",
       "      <th></th>\n",
       "      <th>token</th>\n",
       "      <th>chi2</th>\n",
       "      <th>p_value</th>\n",
       "    </tr>\n",
       "  </thead>\n",
       "  <tbody>\n",
       "    <tr>\n",
       "      <th>0</th>\n",
       "      <td>habitación</td>\n",
       "      <td>270.795511</td>\n",
       "      <td>2.149360e-57</td>\n",
       "    </tr>\n",
       "    <tr>\n",
       "      <th>1</th>\n",
       "      <td>excelente</td>\n",
       "      <td>265.189844</td>\n",
       "      <td>3.471739e-56</td>\n",
       "    </tr>\n",
       "    <tr>\n",
       "      <th>2</th>\n",
       "      <td>peor</td>\n",
       "      <td>256.452655</td>\n",
       "      <td>2.650724e-54</td>\n",
       "    </tr>\n",
       "    <tr>\n",
       "      <th>3</th>\n",
       "      <td>mala</td>\n",
       "      <td>245.876086</td>\n",
       "      <td>5.033742e-52</td>\n",
       "    </tr>\n",
       "    <tr>\n",
       "      <th>4</th>\n",
       "      <td>mal</td>\n",
       "      <td>242.179091</td>\n",
       "      <td>3.148887e-51</td>\n",
       "    </tr>\n",
       "    <tr>\n",
       "      <th>5</th>\n",
       "      <td>hotel</td>\n",
       "      <td>230.102897</td>\n",
       "      <td>1.254416e-48</td>\n",
       "    </tr>\n",
       "    <tr>\n",
       "      <th>6</th>\n",
       "      <td>pésimo</td>\n",
       "      <td>192.413565</td>\n",
       "      <td>1.605543e-40</td>\n",
       "    </tr>\n",
       "    <tr>\n",
       "      <th>7</th>\n",
       "      <td>dijeron</td>\n",
       "      <td>185.812247</td>\n",
       "      <td>4.208013e-39</td>\n",
       "    </tr>\n",
       "    <tr>\n",
       "      <th>8</th>\n",
       "      <td>increíble</td>\n",
       "      <td>174.593663</td>\n",
       "      <td>1.079973e-36</td>\n",
       "    </tr>\n",
       "    <tr>\n",
       "      <th>9</th>\n",
       "      <td>dijo</td>\n",
       "      <td>142.265033</td>\n",
       "      <td>9.239992e-30</td>\n",
       "    </tr>\n",
       "    <tr>\n",
       "      <th>10</th>\n",
       "      <td>horrible</td>\n",
       "      <td>136.790485</td>\n",
       "      <td>1.372946e-28</td>\n",
       "    </tr>\n",
       "    <tr>\n",
       "      <th>11</th>\n",
       "      <td>nunca</td>\n",
       "      <td>131.820866</td>\n",
       "      <td>1.588388e-27</td>\n",
       "    </tr>\n",
       "    <tr>\n",
       "      <th>12</th>\n",
       "      <td>deliciosa</td>\n",
       "      <td>131.492977</td>\n",
       "      <td>1.866772e-27</td>\n",
       "    </tr>\n",
       "    <tr>\n",
       "      <th>13</th>\n",
       "      <td>pedimos</td>\n",
       "      <td>123.787321</td>\n",
       "      <td>8.289564e-26</td>\n",
       "    </tr>\n",
       "    <tr>\n",
       "      <th>14</th>\n",
       "      <td>pésima</td>\n",
       "      <td>118.610937</td>\n",
       "      <td>1.057594e-24</td>\n",
       "    </tr>\n",
       "    <tr>\n",
       "      <th>15</th>\n",
       "      <td>solo</td>\n",
       "      <td>112.267816</td>\n",
       "      <td>2.389172e-23</td>\n",
       "    </tr>\n",
       "    <tr>\n",
       "      <th>16</th>\n",
       "      <td>recepción</td>\n",
       "      <td>111.846236</td>\n",
       "      <td>2.938916e-23</td>\n",
       "    </tr>\n",
       "    <tr>\n",
       "      <th>17</th>\n",
       "      <td>terrible</td>\n",
       "      <td>110.341503</td>\n",
       "      <td>6.153996e-23</td>\n",
       "    </tr>\n",
       "    <tr>\n",
       "      <th>18</th>\n",
       "      <td>gracias</td>\n",
       "      <td>105.553872</td>\n",
       "      <td>6.454520e-22</td>\n",
       "    </tr>\n",
       "    <tr>\n",
       "      <th>19</th>\n",
       "      <td>gerente</td>\n",
       "      <td>103.844569</td>\n",
       "      <td>1.493059e-21</td>\n",
       "    </tr>\n",
       "  </tbody>\n",
       "</table>\n",
       "</div>"
      ],
      "text/plain": [
       "         token        chi2       p_value\n",
       "0   habitación  270.795511  2.149360e-57\n",
       "1    excelente  265.189844  3.471739e-56\n",
       "2         peor  256.452655  2.650724e-54\n",
       "3         mala  245.876086  5.033742e-52\n",
       "4          mal  242.179091  3.148887e-51\n",
       "5        hotel  230.102897  1.254416e-48\n",
       "6       pésimo  192.413565  1.605543e-40\n",
       "7      dijeron  185.812247  4.208013e-39\n",
       "8    increíble  174.593663  1.079973e-36\n",
       "9         dijo  142.265033  9.239992e-30\n",
       "10    horrible  136.790485  1.372946e-28\n",
       "11       nunca  131.820866  1.588388e-27\n",
       "12   deliciosa  131.492977  1.866772e-27\n",
       "13     pedimos  123.787321  8.289564e-26\n",
       "14      pésima  118.610937  1.057594e-24\n",
       "15        solo  112.267816  2.389172e-23\n",
       "16   recepción  111.846236  2.938916e-23\n",
       "17    terrible  110.341503  6.153996e-23\n",
       "18     gracias  105.553872  6.454520e-22\n",
       "19     gerente  103.844569  1.493059e-21"
      ]
     },
     "metadata": {},
     "output_type": "display_data"
    },
    {
     "data": {
      "application/vnd.microsoft.datawrangler.viewer.v0+json": {
       "columns": [
        {
         "name": "index",
         "rawType": "int64",
         "type": "integer"
        },
        {
         "name": "class",
         "rawType": "object",
         "type": "string"
        },
        {
         "name": "token",
         "rawType": "object",
         "type": "string"
        },
        {
         "name": "chi2",
         "rawType": "float64",
         "type": "float"
        },
        {
         "name": "p_value",
         "rawType": "float64",
         "type": "float"
        }
       ],
       "ref": "74a3fe3c-5771-47c0-a16f-a8916aea89af",
       "rows": [
        [
         "0",
         "1.0",
         "peor",
         "210.57581069237511",
         "1.0285870076734725e-47"
        ],
        [
         "1",
         "1.0",
         "pésimo",
         "173.22062629399588",
         "1.4648299225274478e-39"
        ],
        [
         "2",
         "1.0",
         "mala",
         "133.3986010746711",
         "7.396555299527911e-31"
        ],
        [
         "3",
         "1.0",
         "dijeron",
         "125.14880952380952",
         "4.721766579729719e-29"
        ],
        [
         "4",
         "1.0",
         "pésima",
         "105.8136288998358",
         "8.100654016726864e-25"
        ],
        [
         "5",
         "1.0",
         "dijo",
         "98.75250626566417",
         "2.861146262798581e-23"
        ],
        [
         "6",
         "1.0",
         "gerente",
         "96.79106280193237",
         "7.704308290369603e-23"
        ],
        [
         "7",
         "1.0",
         "nunca",
         "94.4070929070929",
         "2.56870162287915e-22"
        ],
        [
         "8",
         "1.0",
         "horrible",
         "80.85119047619048",
         "2.4337118064857187e-19"
        ],
        [
         "9",
         "1.0",
         "reserva",
         "80.04329004329003",
         "3.6629595129481054e-19"
        ],
        [
         "10",
         "1.0",
         "habitación",
         "77.51961823966066",
         "1.3141071413498023e-18"
        ],
        [
         "11",
         "1.0",
         "mal",
         "73.82936507936508",
         "8.517010580288635e-18"
        ],
        [
         "12",
         "1.0",
         "dinero",
         "70.58333333333334",
         "4.412289756431842e-17"
        ],
        [
         "13",
         "1.0",
         "nadie",
         "67.62244897959185",
         "1.9800026850941817e-16"
        ],
        [
         "14",
         "1.0",
         "negaron",
         "65.77443609022558",
         "5.055979778847791e-16"
        ],
        [
         "15",
         "1.0",
         "solo",
         "64.67259270965022",
         "8.843644646032956e-16"
        ],
        [
         "16",
         "1.0",
         "grosero",
         "63.25692137320044",
         "1.8142903664417708e-15"
        ],
        [
         "17",
         "1.0",
         "excelente",
         "61.806290681740336",
         "3.789617279481503e-15"
        ],
        [
         "18",
         "1.0",
         "hotel",
         "59.800347222222214",
         "1.049848333205728e-14"
        ],
        [
         "19",
         "1.0",
         "pedimos",
         "54.639245585874804",
         "1.4481462480529223e-13"
        ],
        [
         "20",
         "2.0",
         "hotel",
         "90.25422635178734",
         "2.0944243381390268e-21"
        ],
        [
         "21",
         "2.0",
         "habitación",
         "85.7678141892766",
         "2.0235307914714717e-20"
        ],
        [
         "22",
         "2.0",
         "mal",
         "82.3170731707317",
         "1.159165067620608e-19"
        ],
        [
         "23",
         "2.0",
         "mala",
         "52.76822414138538",
         "3.7532458011040273e-13"
        ],
        [
         "24",
         "2.0",
         "and",
         "49.54903995848469",
         "1.934745160077997e-12"
        ],
        [
         "25",
         "2.0",
         "terrible",
         "47.17615176151761",
         "6.488512401151488e-12"
        ],
        [
         "26",
         "2.0",
         "recepción",
         "44.314405487804876",
         "2.796507697961796e-11"
        ],
        [
         "27",
         "2.0",
         "excelente",
         "41.10475522021408",
         "1.4428487273603416e-10"
        ],
        [
         "28",
         "2.0",
         "cama",
         "37.951471607739336",
         "7.252634442412216e-10"
        ],
        [
         "29",
         "2.0",
         "siquiera",
         "34.906191369606006",
         "3.459789379927197e-09"
        ],
        [
         "30",
         "2.0",
         "the",
         "34.77856455983915",
         "3.694185241384133e-09"
        ],
        [
         "31",
         "2.0",
         "embargo",
         "34.645232815964526",
         "3.956061824531285e-09"
        ],
        [
         "32",
         "2.0",
         "habitaciones",
         "33.29332058026463",
         "7.925439000939349e-09"
        ],
        [
         "33",
         "2.0",
         "decepcionante",
         "32.033641715727505",
         "1.5152566250411316e-08"
        ],
        [
         "34",
         "2.0",
         "realidad",
         "31.876242095754296",
         "1.643146650869902e-08"
        ],
        [
         "35",
         "2.0",
         "desear",
         "31.19553887846571",
         "2.333016056229379e-08"
        ],
        [
         "36",
         "2.0",
         "almohadas",
         "30.52574525745257",
         "3.2946518814515705e-08"
        ],
        [
         "37",
         "2.0",
         "mismo",
         "29.94282503800648",
         "4.4497541587463335e-08"
        ],
        [
         "38",
         "2.0",
         "limpieza",
         "29.500104231811555",
         "5.5913695467805834e-08"
        ],
        [
         "39",
         "2.0",
         "horrible",
         "29.06117742028485",
         "7.012831580104936e-08"
        ],
        [
         "40",
         "3.0",
         "regular",
         "83.44010416666666",
         "6.567601787015107e-20"
        ],
        [
         "41",
         "3.0",
         "buena",
         "32.81432748538012",
         "1.0139475668192995e-08"
        ],
        [
         "42",
         "3.0",
         "bueno",
         "28.82086614173228",
         "7.939116230041064e-08"
        ],
        [
         "43",
         "3.0",
         "pareció",
         "28.021226415094336",
         "1.1999202311753504e-07"
        ],
        [
         "44",
         "3.0",
         "comparándola",
         "27.999999999999996",
         "1.2131545083660744e-07"
        ],
        [
         "45",
         "3.0",
         "bien",
         "25.888480392156865",
         "3.6172135247167826e-07"
        ],
        [
         "46",
         "3.0",
         "normal",
         "25.68604651162791",
         "4.017211792646529e-07"
        ],
        [
         "47",
         "3.0",
         "bastante",
         "25.65296803652968",
         "4.0866645443685546e-07"
        ],
        [
         "48",
         "3.0",
         "diría",
         "25.3125",
         "4.875389996725492e-07"
        ],
        [
         "49",
         "3.0",
         "creo",
         "24.33333333333333",
         "8.102475053273423e-07"
        ]
       ],
       "shape": {
        "columns": 4,
        "rows": 100
       }
      },
      "text/html": [
       "<div>\n",
       "<style scoped>\n",
       "    .dataframe tbody tr th:only-of-type {\n",
       "        vertical-align: middle;\n",
       "    }\n",
       "\n",
       "    .dataframe tbody tr th {\n",
       "        vertical-align: top;\n",
       "    }\n",
       "\n",
       "    .dataframe thead th {\n",
       "        text-align: right;\n",
       "    }\n",
       "</style>\n",
       "<table border=\"1\" class=\"dataframe\">\n",
       "  <thead>\n",
       "    <tr style=\"text-align: right;\">\n",
       "      <th></th>\n",
       "      <th>class</th>\n",
       "      <th>token</th>\n",
       "      <th>chi2</th>\n",
       "      <th>p_value</th>\n",
       "    </tr>\n",
       "  </thead>\n",
       "  <tbody>\n",
       "    <tr>\n",
       "      <th>0</th>\n",
       "      <td>1.0</td>\n",
       "      <td>peor</td>\n",
       "      <td>210.575811</td>\n",
       "      <td>1.028587e-47</td>\n",
       "    </tr>\n",
       "    <tr>\n",
       "      <th>1</th>\n",
       "      <td>1.0</td>\n",
       "      <td>pésimo</td>\n",
       "      <td>173.220626</td>\n",
       "      <td>1.464830e-39</td>\n",
       "    </tr>\n",
       "    <tr>\n",
       "      <th>2</th>\n",
       "      <td>1.0</td>\n",
       "      <td>mala</td>\n",
       "      <td>133.398601</td>\n",
       "      <td>7.396555e-31</td>\n",
       "    </tr>\n",
       "    <tr>\n",
       "      <th>3</th>\n",
       "      <td>1.0</td>\n",
       "      <td>dijeron</td>\n",
       "      <td>125.148810</td>\n",
       "      <td>4.721767e-29</td>\n",
       "    </tr>\n",
       "    <tr>\n",
       "      <th>4</th>\n",
       "      <td>1.0</td>\n",
       "      <td>pésima</td>\n",
       "      <td>105.813629</td>\n",
       "      <td>8.100654e-25</td>\n",
       "    </tr>\n",
       "    <tr>\n",
       "      <th>...</th>\n",
       "      <td>...</td>\n",
       "      <td>...</td>\n",
       "      <td>...</td>\n",
       "      <td>...</td>\n",
       "    </tr>\n",
       "    <tr>\n",
       "      <th>95</th>\n",
       "      <td>5.0</td>\n",
       "      <td>peor</td>\n",
       "      <td>43.881660</td>\n",
       "      <td>3.488424e-11</td>\n",
       "    </tr>\n",
       "    <tr>\n",
       "      <th>96</th>\n",
       "      <td>5.0</td>\n",
       "      <td>atento</td>\n",
       "      <td>39.930414</td>\n",
       "      <td>2.631732e-10</td>\n",
       "    </tr>\n",
       "    <tr>\n",
       "      <th>97</th>\n",
       "      <td>5.0</td>\n",
       "      <td>habitaciones</td>\n",
       "      <td>38.880418</td>\n",
       "      <td>4.505779e-10</td>\n",
       "    </tr>\n",
       "    <tr>\n",
       "      <th>98</th>\n",
       "      <td>5.0</td>\n",
       "      <td>pedimos</td>\n",
       "      <td>38.107924</td>\n",
       "      <td>6.693773e-10</td>\n",
       "    </tr>\n",
       "    <tr>\n",
       "      <th>99</th>\n",
       "      <td>5.0</td>\n",
       "      <td>bastante</td>\n",
       "      <td>38.029400</td>\n",
       "      <td>6.968660e-10</td>\n",
       "    </tr>\n",
       "  </tbody>\n",
       "</table>\n",
       "<p>100 rows × 4 columns</p>\n",
       "</div>"
      ],
      "text/plain": [
       "   class         token        chi2       p_value\n",
       "0    1.0          peor  210.575811  1.028587e-47\n",
       "1    1.0        pésimo  173.220626  1.464830e-39\n",
       "2    1.0          mala  133.398601  7.396555e-31\n",
       "3    1.0       dijeron  125.148810  4.721767e-29\n",
       "4    1.0        pésima  105.813629  8.100654e-25\n",
       "..   ...           ...         ...           ...\n",
       "95   5.0          peor   43.881660  3.488424e-11\n",
       "96   5.0        atento   39.930414  2.631732e-10\n",
       "97   5.0  habitaciones   38.880418  4.505779e-10\n",
       "98   5.0       pedimos   38.107924  6.693773e-10\n",
       "99   5.0      bastante   38.029400  6.968660e-10\n",
       "\n",
       "[100 rows x 4 columns]"
      ]
     },
     "metadata": {},
     "output_type": "display_data"
    },
    {
     "name": "stdout",
     "output_type": "stream",
     "text": [
      "=== χ² (TF-IDF) — Clase: Polarity ===\n"
     ]
    },
    {
     "data": {
      "application/vnd.microsoft.datawrangler.viewer.v0+json": {
       "columns": [
        {
         "name": "index",
         "rawType": "int64",
         "type": "integer"
        },
        {
         "name": "token",
         "rawType": "object",
         "type": "string"
        },
        {
         "name": "chi2",
         "rawType": "float64",
         "type": "float"
        },
        {
         "name": "p_value",
         "rawType": "float64",
         "type": "float"
        }
       ],
       "ref": "c52027d7-d99a-45aa-af04-36a9ecdacc5c",
       "rows": [
        [
         "0",
         "excelente",
         "44.146263879524696",
         "5.982285695565748e-09"
        ],
        [
         "1",
         "mala",
         "32.79296226759845",
         "1.3169222380325265e-06"
        ],
        [
         "2",
         "pésimo",
         "32.36378186594277",
         "1.6119999312560403e-06"
        ],
        [
         "3",
         "peor",
         "31.438249607132562",
         "2.4916347381352686e-06"
        ],
        [
         "4",
         "mal",
         "26.59127709158762",
         "2.404258194931843e-05"
        ],
        [
         "5",
         "deliciosa",
         "26.16781979122169",
         "2.9272065518622612e-05"
        ],
        [
         "6",
         "pésima",
         "21.704921117301673",
         "0.00022942713566190368"
        ],
        [
         "7",
         "increíble",
         "21.593860569967116",
         "0.00024139138618209895"
        ],
        [
         "8",
         "gracias",
         "20.011877174923",
         "0.0004967103051899869"
        ],
        [
         "9",
         "regular",
         "19.552423084693764",
         "0.0006119435779751775"
        ],
        [
         "10",
         "horrible",
         "18.036304304298312",
         "0.0012140984556196657"
        ],
        [
         "11",
         "habitación",
         "17.368371896283218",
         "0.0016389627485011978"
        ],
        [
         "12",
         "dijeron",
         "16.319544862041546",
         "0.0026190304251997487"
        ],
        [
         "13",
         "terrible",
         "15.686980464340426",
         "0.0034692785725631103"
        ],
        [
         "14",
         "encantó",
         "14.912695780160142",
         "0.004885759639138227"
        ],
        [
         "15",
         "buen",
         "14.74536568280007",
         "0.005259556993095168"
        ],
        [
         "16",
         "dijo",
         "14.004212156351079",
         "0.007281624388532094"
        ],
        [
         "17",
         "ambiente",
         "13.526300657003784",
         "0.008970964294436093"
        ],
        [
         "18",
         "delicioso",
         "13.47006734855291",
         "0.00919335961268188"
        ],
        [
         "19",
         "grosero",
         "13.205227758738179",
         "0.010315354560980657"
        ]
       ],
       "shape": {
        "columns": 3,
        "rows": 20
       }
      },
      "text/html": [
       "<div>\n",
       "<style scoped>\n",
       "    .dataframe tbody tr th:only-of-type {\n",
       "        vertical-align: middle;\n",
       "    }\n",
       "\n",
       "    .dataframe tbody tr th {\n",
       "        vertical-align: top;\n",
       "    }\n",
       "\n",
       "    .dataframe thead th {\n",
       "        text-align: right;\n",
       "    }\n",
       "</style>\n",
       "<table border=\"1\" class=\"dataframe\">\n",
       "  <thead>\n",
       "    <tr style=\"text-align: right;\">\n",
       "      <th></th>\n",
       "      <th>token</th>\n",
       "      <th>chi2</th>\n",
       "      <th>p_value</th>\n",
       "    </tr>\n",
       "  </thead>\n",
       "  <tbody>\n",
       "    <tr>\n",
       "      <th>0</th>\n",
       "      <td>excelente</td>\n",
       "      <td>44.146264</td>\n",
       "      <td>5.982286e-09</td>\n",
       "    </tr>\n",
       "    <tr>\n",
       "      <th>1</th>\n",
       "      <td>mala</td>\n",
       "      <td>32.792962</td>\n",
       "      <td>1.316922e-06</td>\n",
       "    </tr>\n",
       "    <tr>\n",
       "      <th>2</th>\n",
       "      <td>pésimo</td>\n",
       "      <td>32.363782</td>\n",
       "      <td>1.612000e-06</td>\n",
       "    </tr>\n",
       "    <tr>\n",
       "      <th>3</th>\n",
       "      <td>peor</td>\n",
       "      <td>31.438250</td>\n",
       "      <td>2.491635e-06</td>\n",
       "    </tr>\n",
       "    <tr>\n",
       "      <th>4</th>\n",
       "      <td>mal</td>\n",
       "      <td>26.591277</td>\n",
       "      <td>2.404258e-05</td>\n",
       "    </tr>\n",
       "    <tr>\n",
       "      <th>5</th>\n",
       "      <td>deliciosa</td>\n",
       "      <td>26.167820</td>\n",
       "      <td>2.927207e-05</td>\n",
       "    </tr>\n",
       "    <tr>\n",
       "      <th>6</th>\n",
       "      <td>pésima</td>\n",
       "      <td>21.704921</td>\n",
       "      <td>2.294271e-04</td>\n",
       "    </tr>\n",
       "    <tr>\n",
       "      <th>7</th>\n",
       "      <td>increíble</td>\n",
       "      <td>21.593861</td>\n",
       "      <td>2.413914e-04</td>\n",
       "    </tr>\n",
       "    <tr>\n",
       "      <th>8</th>\n",
       "      <td>gracias</td>\n",
       "      <td>20.011877</td>\n",
       "      <td>4.967103e-04</td>\n",
       "    </tr>\n",
       "    <tr>\n",
       "      <th>9</th>\n",
       "      <td>regular</td>\n",
       "      <td>19.552423</td>\n",
       "      <td>6.119436e-04</td>\n",
       "    </tr>\n",
       "    <tr>\n",
       "      <th>10</th>\n",
       "      <td>horrible</td>\n",
       "      <td>18.036304</td>\n",
       "      <td>1.214098e-03</td>\n",
       "    </tr>\n",
       "    <tr>\n",
       "      <th>11</th>\n",
       "      <td>habitación</td>\n",
       "      <td>17.368372</td>\n",
       "      <td>1.638963e-03</td>\n",
       "    </tr>\n",
       "    <tr>\n",
       "      <th>12</th>\n",
       "      <td>dijeron</td>\n",
       "      <td>16.319545</td>\n",
       "      <td>2.619030e-03</td>\n",
       "    </tr>\n",
       "    <tr>\n",
       "      <th>13</th>\n",
       "      <td>terrible</td>\n",
       "      <td>15.686980</td>\n",
       "      <td>3.469279e-03</td>\n",
       "    </tr>\n",
       "    <tr>\n",
       "      <th>14</th>\n",
       "      <td>encantó</td>\n",
       "      <td>14.912696</td>\n",
       "      <td>4.885760e-03</td>\n",
       "    </tr>\n",
       "    <tr>\n",
       "      <th>15</th>\n",
       "      <td>buen</td>\n",
       "      <td>14.745366</td>\n",
       "      <td>5.259557e-03</td>\n",
       "    </tr>\n",
       "    <tr>\n",
       "      <th>16</th>\n",
       "      <td>dijo</td>\n",
       "      <td>14.004212</td>\n",
       "      <td>7.281624e-03</td>\n",
       "    </tr>\n",
       "    <tr>\n",
       "      <th>17</th>\n",
       "      <td>ambiente</td>\n",
       "      <td>13.526301</td>\n",
       "      <td>8.970964e-03</td>\n",
       "    </tr>\n",
       "    <tr>\n",
       "      <th>18</th>\n",
       "      <td>delicioso</td>\n",
       "      <td>13.470067</td>\n",
       "      <td>9.193360e-03</td>\n",
       "    </tr>\n",
       "    <tr>\n",
       "      <th>19</th>\n",
       "      <td>grosero</td>\n",
       "      <td>13.205228</td>\n",
       "      <td>1.031535e-02</td>\n",
       "    </tr>\n",
       "  </tbody>\n",
       "</table>\n",
       "</div>"
      ],
      "text/plain": [
       "         token       chi2       p_value\n",
       "0    excelente  44.146264  5.982286e-09\n",
       "1         mala  32.792962  1.316922e-06\n",
       "2       pésimo  32.363782  1.612000e-06\n",
       "3         peor  31.438250  2.491635e-06\n",
       "4          mal  26.591277  2.404258e-05\n",
       "5    deliciosa  26.167820  2.927207e-05\n",
       "6       pésima  21.704921  2.294271e-04\n",
       "7    increíble  21.593861  2.413914e-04\n",
       "8      gracias  20.011877  4.967103e-04\n",
       "9      regular  19.552423  6.119436e-04\n",
       "10    horrible  18.036304  1.214098e-03\n",
       "11  habitación  17.368372  1.638963e-03\n",
       "12     dijeron  16.319545  2.619030e-03\n",
       "13    terrible  15.686980  3.469279e-03\n",
       "14     encantó  14.912696  4.885760e-03\n",
       "15        buen  14.745366  5.259557e-03\n",
       "16        dijo  14.004212  7.281624e-03\n",
       "17    ambiente  13.526301  8.970964e-03\n",
       "18   delicioso  13.470067  9.193360e-03\n",
       "19     grosero  13.205228  1.031535e-02"
      ]
     },
     "metadata": {},
     "output_type": "display_data"
    },
    {
     "data": {
      "application/vnd.microsoft.datawrangler.viewer.v0+json": {
       "columns": [
        {
         "name": "index",
         "rawType": "int64",
         "type": "integer"
        },
        {
         "name": "class",
         "rawType": "object",
         "type": "string"
        },
        {
         "name": "token",
         "rawType": "object",
         "type": "string"
        },
        {
         "name": "chi2",
         "rawType": "float64",
         "type": "float"
        },
        {
         "name": "p_value",
         "rawType": "float64",
         "type": "float"
        }
       ],
       "ref": "676cdfa9-4d63-4cfa-894a-ee99a7ba8a61",
       "rows": [
        [
         "0",
         "1.0",
         "pésimo",
         "29.53974007777036",
         "5.4781872356598045e-08"
        ],
        [
         "1",
         "1.0",
         "peor",
         "26.44502342511103",
         "2.711461393445551e-07"
        ],
        [
         "2",
         "1.0",
         "pésima",
         "19.641691911528856",
         "9.340857247182482e-06"
        ],
        [
         "3",
         "1.0",
         "mala",
         "17.430592407749955",
         "2.97991163017576e-05"
        ],
        [
         "4",
         "1.0",
         "horrible",
         "11.952098382487018",
         "0.0005458586938554212"
        ],
        [
         "5",
         "1.0",
         "negaron",
         "11.23137729024096",
         "0.000804259386523962"
        ],
        [
         "6",
         "1.0",
         "dijeron",
         "11.103550709948566",
         "0.0008616259575779825"
        ],
        [
         "7",
         "1.0",
         "gerente",
         "10.95743257115677",
         "0.0009322890131257327"
        ],
        [
         "8",
         "1.0",
         "dijo",
         "10.189820316854767",
         "0.001412180753232027"
        ],
        [
         "9",
         "1.0",
         "sucio",
         "10.08902729167889",
         "0.0014915481925878954"
        ],
        [
         "10",
         "1.0",
         "grosero",
         "9.782523495628057",
         "0.001761783554507864"
        ],
        [
         "11",
         "1.0",
         "mal",
         "9.644320071674983",
         "0.0018993799147501674"
        ],
        [
         "12",
         "1.0",
         "nunca",
         "9.416320502957058",
         "0.0021506263120757135"
        ],
        [
         "13",
         "1.0",
         "excelente",
         "9.029210898515748",
         "0.0026569915288483627"
        ],
        [
         "14",
         "1.0",
         "moho",
         "8.650239420223109",
         "0.003270183824225406"
        ],
        [
         "15",
         "1.0",
         "hagan",
         "8.552779591147695",
         "0.0034499504304693583"
        ],
        [
         "16",
         "1.0",
         "cucarachas",
         "8.164468184112298",
         "0.00427189981194937"
        ],
        [
         "17",
         "1.0",
         "nadie",
         "7.931029742118254",
         "0.004859413404443278"
        ],
        [
         "18",
         "1.0",
         "dinero",
         "7.890073274777114",
         "0.004970685075649263"
        ],
        [
         "19",
         "1.0",
         "buen",
         "7.751088041810686",
         "0.005368019076672953"
        ],
        [
         "20",
         "2.0",
         "mala",
         "7.559391903798666",
         "0.005969813214695373"
        ],
        [
         "21",
         "2.0",
         "excelente",
         "7.496326907831803",
         "0.0061824960851721705"
        ],
        [
         "22",
         "2.0",
         "decepcionante",
         "6.602223272331385",
         "0.010185151094959485"
        ],
        [
         "23",
         "2.0",
         "mal",
         "6.487000111226265",
         "0.010866620178242371"
        ],
        [
         "24",
         "2.0",
         "terrible",
         "5.769303457308502",
         "0.01630849729926279"
        ],
        [
         "25",
         "2.0",
         "oferta",
         "5.689867015466774",
         "0.01706314760054374"
        ],
        [
         "26",
         "2.0",
         "habitación",
         "5.619602162877709",
         "0.017760680037457014"
        ],
        [
         "27",
         "2.0",
         "excesivo",
         "5.4689828276440835",
         "0.01935688835493853"
        ],
        [
         "28",
         "2.0",
         "desear",
         "5.233739069618797",
         "0.022152860865412138"
        ],
        [
         "29",
         "2.0",
         "realidad",
         "5.100384862284822",
         "0.023920535498831434"
        ],
        [
         "30",
         "2.0",
         "decepcionado",
         "4.908528700228912",
         "0.026724395761123062"
        ],
        [
         "31",
         "2.0",
         "mediocre",
         "4.891593732196113",
         "0.026987762489996892"
        ],
        [
         "32",
         "2.0",
         "recordar",
         "4.859984448253815",
         "0.02748658387512926"
        ],
        [
         "33",
         "2.0",
         "siquiera",
         "4.680052939774438",
         "0.03051480804923614"
        ],
        [
         "34",
         "2.0",
         "pedía",
         "4.401387663317737",
         "0.03590970015192254"
        ],
        [
         "35",
         "2.0",
         "viejas",
         "4.3615420424789875",
         "0.03675901668254054"
        ],
        [
         "36",
         "2.0",
         "traerme",
         "4.336689209379994",
         "0.03729938708778858"
        ],
        [
         "37",
         "2.0",
         "terribles",
         "4.214646500763065",
         "0.04007641599464232"
        ],
        [
         "38",
         "2.0",
         "desaparecido",
         "4.169904298471787",
         "0.04114812383201384"
        ],
        [
         "39",
         "2.0",
         "hotel",
         "4.0452087924909605",
         "0.044296898767009006"
        ],
        [
         "40",
         "3.0",
         "regular",
         "15.640714686344847",
         "7.65876996013513e-05"
        ],
        [
         "41",
         "3.0",
         "normal",
         "5.84980616987361",
         "0.015578767013736493"
        ],
        [
         "42",
         "3.0",
         "diría",
         "4.805668092844325",
         "0.028366266044414837"
        ],
        [
         "43",
         "3.0",
         "conoces",
         "4.545634126803639",
         "0.03300279567022382"
        ],
        [
         "44",
         "3.0",
         "mejorar",
         "4.497677490838937",
         "0.03394092232533461"
        ],
        [
         "45",
         "3.0",
         "aquellos",
         "3.8801469270234943",
         "0.04886028129882684"
        ],
        [
         "46",
         "3.0",
         "rústica",
         "3.843668358230931",
         "0.04993415862761888"
        ],
        [
         "47",
         "3.0",
         "buena",
         "3.7889705549326385",
         "0.051591369467993226"
        ],
        [
         "48",
         "3.0",
         "excelente",
         "3.773914429074344",
         "0.052057670666154666"
        ],
        [
         "49",
         "3.0",
         "cien",
         "3.765121081162837",
         "0.0523320691166961"
        ]
       ],
       "shape": {
        "columns": 4,
        "rows": 100
       }
      },
      "text/html": [
       "<div>\n",
       "<style scoped>\n",
       "    .dataframe tbody tr th:only-of-type {\n",
       "        vertical-align: middle;\n",
       "    }\n",
       "\n",
       "    .dataframe tbody tr th {\n",
       "        vertical-align: top;\n",
       "    }\n",
       "\n",
       "    .dataframe thead th {\n",
       "        text-align: right;\n",
       "    }\n",
       "</style>\n",
       "<table border=\"1\" class=\"dataframe\">\n",
       "  <thead>\n",
       "    <tr style=\"text-align: right;\">\n",
       "      <th></th>\n",
       "      <th>class</th>\n",
       "      <th>token</th>\n",
       "      <th>chi2</th>\n",
       "      <th>p_value</th>\n",
       "    </tr>\n",
       "  </thead>\n",
       "  <tbody>\n",
       "    <tr>\n",
       "      <th>0</th>\n",
       "      <td>1.0</td>\n",
       "      <td>pésimo</td>\n",
       "      <td>29.539740</td>\n",
       "      <td>5.478187e-08</td>\n",
       "    </tr>\n",
       "    <tr>\n",
       "      <th>1</th>\n",
       "      <td>1.0</td>\n",
       "      <td>peor</td>\n",
       "      <td>26.445023</td>\n",
       "      <td>2.711461e-07</td>\n",
       "    </tr>\n",
       "    <tr>\n",
       "      <th>2</th>\n",
       "      <td>1.0</td>\n",
       "      <td>pésima</td>\n",
       "      <td>19.641692</td>\n",
       "      <td>9.340857e-06</td>\n",
       "    </tr>\n",
       "    <tr>\n",
       "      <th>3</th>\n",
       "      <td>1.0</td>\n",
       "      <td>mala</td>\n",
       "      <td>17.430592</td>\n",
       "      <td>2.979912e-05</td>\n",
       "    </tr>\n",
       "    <tr>\n",
       "      <th>4</th>\n",
       "      <td>1.0</td>\n",
       "      <td>horrible</td>\n",
       "      <td>11.952098</td>\n",
       "      <td>5.458587e-04</td>\n",
       "    </tr>\n",
       "    <tr>\n",
       "      <th>...</th>\n",
       "      <td>...</td>\n",
       "      <td>...</td>\n",
       "      <td>...</td>\n",
       "      <td>...</td>\n",
       "    </tr>\n",
       "    <tr>\n",
       "      <th>95</th>\n",
       "      <td>5.0</td>\n",
       "      <td>excepcional</td>\n",
       "      <td>7.032314</td>\n",
       "      <td>8.005184e-03</td>\n",
       "    </tr>\n",
       "    <tr>\n",
       "      <th>96</th>\n",
       "      <td>5.0</td>\n",
       "      <td>exelente</td>\n",
       "      <td>6.792698</td>\n",
       "      <td>9.153149e-03</td>\n",
       "    </tr>\n",
       "    <tr>\n",
       "      <th>97</th>\n",
       "      <td>5.0</td>\n",
       "      <td>impecable</td>\n",
       "      <td>6.687635</td>\n",
       "      <td>9.708389e-03</td>\n",
       "    </tr>\n",
       "    <tr>\n",
       "      <th>98</th>\n",
       "      <td>5.0</td>\n",
       "      <td>embargo</td>\n",
       "      <td>6.630233</td>\n",
       "      <td>1.002622e-02</td>\n",
       "    </tr>\n",
       "    <tr>\n",
       "      <th>99</th>\n",
       "      <td>5.0</td>\n",
       "      <td>recomiendo</td>\n",
       "      <td>6.525829</td>\n",
       "      <td>1.063190e-02</td>\n",
       "    </tr>\n",
       "  </tbody>\n",
       "</table>\n",
       "<p>100 rows × 4 columns</p>\n",
       "</div>"
      ],
      "text/plain": [
       "   class        token       chi2       p_value\n",
       "0    1.0       pésimo  29.539740  5.478187e-08\n",
       "1    1.0         peor  26.445023  2.711461e-07\n",
       "2    1.0       pésima  19.641692  9.340857e-06\n",
       "3    1.0         mala  17.430592  2.979912e-05\n",
       "4    1.0     horrible  11.952098  5.458587e-04\n",
       "..   ...          ...        ...           ...\n",
       "95   5.0  excepcional   7.032314  8.005184e-03\n",
       "96   5.0     exelente   6.792698  9.153149e-03\n",
       "97   5.0    impecable   6.687635  9.708389e-03\n",
       "98   5.0      embargo   6.630233  1.002622e-02\n",
       "99   5.0   recomiendo   6.525829  1.063190e-02\n",
       "\n",
       "[100 rows x 4 columns]"
      ]
     },
     "metadata": {},
     "output_type": "display_data"
    }
   ],
   "source": [
    "\n",
    "CLASS_COL = \"Polarity\"   # seleccionar: \"Polarity\" | \"Type\" | \"Town\" | \"Region\"\n",
    "y_raw = df[CLASS_COL].astype(str).values\n",
    "le = LabelEncoder()\n",
    "y = le.fit_transform(y_raw)\n",
    "classes = le.classes_\n",
    "\n",
    "vocab = np.array(vectorizer_tf.get_feature_names_out())\n",
    "\n",
    "def chi2_global(X, vocab, topk=20):\n",
    "    scores, pvals = chi2(X, y)\n",
    "    idx = np.argsort(scores)[::-1][:topk]\n",
    "    return pd.DataFrame({\"token\": vocab[idx], \"chi2\": scores[idx], \"p_value\": pvals[idx]})\n",
    "\n",
    "def chi2_ovr(X, vocab, topk=20):\n",
    "    frames = []\n",
    "    for cls_idx, cls_name in enumerate(classes):\n",
    "        y_bin = (y == cls_idx).astype(int)\n",
    "        scores, pvals = chi2(X, y_bin)\n",
    "        idx = np.argsort(scores)[::-1][:topk]\n",
    "        frames.append(pd.DataFrame({\n",
    "            \"class\": cls_name, \"token\": vocab[idx],\n",
    "            \"chi2\": scores[idx], \"p_value\": pvals[idx]\n",
    "        }))\n",
    "    return pd.concat(frames, ignore_index=True)\n",
    "\n",
    "print(f\"=== χ² (TF) — Clase: {CLASS_COL} ===\")\n",
    "chi2_global_tf = chi2_global(X_tf, vocab, 20);  display(chi2_global_tf)\n",
    "chi2_ovr_tf    = chi2_ovr(X_tf,    vocab, 20);  display(chi2_ovr_tf)\n",
    "\n",
    "print(f\"=== χ² (TF-IDF) — Clase: {CLASS_COL} ===\")\n",
    "chi2_global_tfidf = chi2_global(X_tfidf, vocab, 20);  display(chi2_global_tfidf)\n",
    "chi2_ovr_tfidf    = chi2_ovr(X_tfidf,    vocab, 20);  display(chi2_ovr_tfidf)"
   ]
  },
  {
   "cell_type": "markdown",
   "id": "f1e3012d",
   "metadata": {},
   "source": [
    "Obtén el top 20 de características más importantes en cada representación."
   ]
  },
  {
   "cell_type": "code",
   "execution_count": null,
   "id": "8b2c5f87",
   "metadata": {},
   "outputs": [
    {
     "name": "stdout",
     "output_type": "stream",
     "text": [
      "Archivos guardados en ../reports/tables/:\n",
      " - top20_chi2_global_tf.csv\n",
      " - top20_chi2_ovr_tf.csv\n",
      " - top20_chi2_global_tfidf.csv\n",
      " - top20_chi2_ovr_tfidf.csv\n"
     ]
    },
    {
     "data": {
      "application/vnd.microsoft.datawrangler.viewer.v0+json": {
       "columns": [
        {
         "name": "index",
         "rawType": "int64",
         "type": "integer"
        },
        {
         "name": "token",
         "rawType": "object",
         "type": "string"
        },
        {
         "name": "chi2",
         "rawType": "float64",
         "type": "float"
        },
        {
         "name": "p_value",
         "rawType": "float64",
         "type": "float"
        }
       ],
       "ref": "2b77e24a-daf1-4016-8f0b-352b81b4461c",
       "rows": [
        [
         "0",
         "habitación",
         "270.79551078119124",
         "2.1493601630313696e-57"
        ],
        [
         "1",
         "excelente",
         "265.18984357967577",
         "3.4717391614090297e-56"
        ],
        [
         "2",
         "peor",
         "256.45265538823446",
         "2.650723635901464e-54"
        ],
        [
         "3",
         "mala",
         "245.8760857603234",
         "5.0337424941265325e-52"
        ],
        [
         "4",
         "mal",
         "242.1790909090874",
         "3.148886955044183e-51"
        ],
        [
         "5",
         "hotel",
         "230.1028965247691",
         "1.2544156085958207e-48"
        ],
        [
         "6",
         "pésimo",
         "192.41356499780125",
         "1.605542504796032e-40"
        ],
        [
         "7",
         "dijeron",
         "185.81224747474482",
         "4.20801268111415e-39"
        ],
        [
         "8",
         "increíble",
         "174.59366316890197",
         "1.0799729428492996e-36"
        ],
        [
         "9",
         "dijo",
         "142.2650333746805",
         "9.239992180446631e-30"
        ],
        [
         "10",
         "horrible",
         "136.79048463356767",
         "1.3729457276364998e-28"
        ],
        [
         "11",
         "nunca",
         "131.8208660026825",
         "1.5883876000391183e-27"
        ],
        [
         "12",
         "deliciosa",
         "131.4929766414113",
         "1.866772262374819e-27"
        ],
        [
         "13",
         "pedimos",
         "123.78732077327416",
         "8.28956422208801e-26"
        ],
        [
         "14",
         "pésima",
         "118.61093695576278",
         "1.0575940259944716e-24"
        ],
        [
         "15",
         "solo",
         "112.26781643872219",
         "2.3891716099105005e-23"
        ],
        [
         "16",
         "recepción",
         "111.84623579545304",
         "2.938915952447146e-23"
        ],
        [
         "17",
         "terrible",
         "110.34150326797214",
         "6.153996405112753e-23"
        ],
        [
         "18",
         "gracias",
         "105.55387205386975",
         "6.454520227374242e-22"
        ],
        [
         "19",
         "gerente",
         "103.84456887717604",
         "1.4930589773801774e-21"
        ]
       ],
       "shape": {
        "columns": 3,
        "rows": 20
       }
      },
      "text/html": [
       "<div>\n",
       "<style scoped>\n",
       "    .dataframe tbody tr th:only-of-type {\n",
       "        vertical-align: middle;\n",
       "    }\n",
       "\n",
       "    .dataframe tbody tr th {\n",
       "        vertical-align: top;\n",
       "    }\n",
       "\n",
       "    .dataframe thead th {\n",
       "        text-align: right;\n",
       "    }\n",
       "</style>\n",
       "<table border=\"1\" class=\"dataframe\">\n",
       "  <thead>\n",
       "    <tr style=\"text-align: right;\">\n",
       "      <th></th>\n",
       "      <th>token</th>\n",
       "      <th>chi2</th>\n",
       "      <th>p_value</th>\n",
       "    </tr>\n",
       "  </thead>\n",
       "  <tbody>\n",
       "    <tr>\n",
       "      <th>0</th>\n",
       "      <td>habitación</td>\n",
       "      <td>270.795511</td>\n",
       "      <td>2.149360e-57</td>\n",
       "    </tr>\n",
       "    <tr>\n",
       "      <th>1</th>\n",
       "      <td>excelente</td>\n",
       "      <td>265.189844</td>\n",
       "      <td>3.471739e-56</td>\n",
       "    </tr>\n",
       "    <tr>\n",
       "      <th>2</th>\n",
       "      <td>peor</td>\n",
       "      <td>256.452655</td>\n",
       "      <td>2.650724e-54</td>\n",
       "    </tr>\n",
       "    <tr>\n",
       "      <th>3</th>\n",
       "      <td>mala</td>\n",
       "      <td>245.876086</td>\n",
       "      <td>5.033742e-52</td>\n",
       "    </tr>\n",
       "    <tr>\n",
       "      <th>4</th>\n",
       "      <td>mal</td>\n",
       "      <td>242.179091</td>\n",
       "      <td>3.148887e-51</td>\n",
       "    </tr>\n",
       "    <tr>\n",
       "      <th>5</th>\n",
       "      <td>hotel</td>\n",
       "      <td>230.102897</td>\n",
       "      <td>1.254416e-48</td>\n",
       "    </tr>\n",
       "    <tr>\n",
       "      <th>6</th>\n",
       "      <td>pésimo</td>\n",
       "      <td>192.413565</td>\n",
       "      <td>1.605543e-40</td>\n",
       "    </tr>\n",
       "    <tr>\n",
       "      <th>7</th>\n",
       "      <td>dijeron</td>\n",
       "      <td>185.812247</td>\n",
       "      <td>4.208013e-39</td>\n",
       "    </tr>\n",
       "    <tr>\n",
       "      <th>8</th>\n",
       "      <td>increíble</td>\n",
       "      <td>174.593663</td>\n",
       "      <td>1.079973e-36</td>\n",
       "    </tr>\n",
       "    <tr>\n",
       "      <th>9</th>\n",
       "      <td>dijo</td>\n",
       "      <td>142.265033</td>\n",
       "      <td>9.239992e-30</td>\n",
       "    </tr>\n",
       "    <tr>\n",
       "      <th>10</th>\n",
       "      <td>horrible</td>\n",
       "      <td>136.790485</td>\n",
       "      <td>1.372946e-28</td>\n",
       "    </tr>\n",
       "    <tr>\n",
       "      <th>11</th>\n",
       "      <td>nunca</td>\n",
       "      <td>131.820866</td>\n",
       "      <td>1.588388e-27</td>\n",
       "    </tr>\n",
       "    <tr>\n",
       "      <th>12</th>\n",
       "      <td>deliciosa</td>\n",
       "      <td>131.492977</td>\n",
       "      <td>1.866772e-27</td>\n",
       "    </tr>\n",
       "    <tr>\n",
       "      <th>13</th>\n",
       "      <td>pedimos</td>\n",
       "      <td>123.787321</td>\n",
       "      <td>8.289564e-26</td>\n",
       "    </tr>\n",
       "    <tr>\n",
       "      <th>14</th>\n",
       "      <td>pésima</td>\n",
       "      <td>118.610937</td>\n",
       "      <td>1.057594e-24</td>\n",
       "    </tr>\n",
       "    <tr>\n",
       "      <th>15</th>\n",
       "      <td>solo</td>\n",
       "      <td>112.267816</td>\n",
       "      <td>2.389172e-23</td>\n",
       "    </tr>\n",
       "    <tr>\n",
       "      <th>16</th>\n",
       "      <td>recepción</td>\n",
       "      <td>111.846236</td>\n",
       "      <td>2.938916e-23</td>\n",
       "    </tr>\n",
       "    <tr>\n",
       "      <th>17</th>\n",
       "      <td>terrible</td>\n",
       "      <td>110.341503</td>\n",
       "      <td>6.153996e-23</td>\n",
       "    </tr>\n",
       "    <tr>\n",
       "      <th>18</th>\n",
       "      <td>gracias</td>\n",
       "      <td>105.553872</td>\n",
       "      <td>6.454520e-22</td>\n",
       "    </tr>\n",
       "    <tr>\n",
       "      <th>19</th>\n",
       "      <td>gerente</td>\n",
       "      <td>103.844569</td>\n",
       "      <td>1.493059e-21</td>\n",
       "    </tr>\n",
       "  </tbody>\n",
       "</table>\n",
       "</div>"
      ],
      "text/plain": [
       "         token        chi2       p_value\n",
       "0   habitación  270.795511  2.149360e-57\n",
       "1    excelente  265.189844  3.471739e-56\n",
       "2         peor  256.452655  2.650724e-54\n",
       "3         mala  245.876086  5.033742e-52\n",
       "4          mal  242.179091  3.148887e-51\n",
       "5        hotel  230.102897  1.254416e-48\n",
       "6       pésimo  192.413565  1.605543e-40\n",
       "7      dijeron  185.812247  4.208013e-39\n",
       "8    increíble  174.593663  1.079973e-36\n",
       "9         dijo  142.265033  9.239992e-30\n",
       "10    horrible  136.790485  1.372946e-28\n",
       "11       nunca  131.820866  1.588388e-27\n",
       "12   deliciosa  131.492977  1.866772e-27\n",
       "13     pedimos  123.787321  8.289564e-26\n",
       "14      pésima  118.610937  1.057594e-24\n",
       "15        solo  112.267816  2.389172e-23\n",
       "16   recepción  111.846236  2.938916e-23\n",
       "17    terrible  110.341503  6.153996e-23\n",
       "18     gracias  105.553872  6.454520e-22\n",
       "19     gerente  103.844569  1.493059e-21"
      ]
     },
     "metadata": {},
     "output_type": "display_data"
    },
    {
     "data": {
      "application/vnd.microsoft.datawrangler.viewer.v0+json": {
       "columns": [
        {
         "name": "index",
         "rawType": "int64",
         "type": "integer"
        },
        {
         "name": "token",
         "rawType": "object",
         "type": "string"
        },
        {
         "name": "chi2",
         "rawType": "float64",
         "type": "float"
        },
        {
         "name": "p_value",
         "rawType": "float64",
         "type": "float"
        }
       ],
       "ref": "4fdd36f5-4c69-412a-b4c9-b4fe8da94776",
       "rows": [
        [
         "0",
         "excelente",
         "44.146263879524696",
         "5.982285695565748e-09"
        ],
        [
         "1",
         "mala",
         "32.79296226759845",
         "1.3169222380325265e-06"
        ],
        [
         "2",
         "pésimo",
         "32.36378186594277",
         "1.6119999312560403e-06"
        ],
        [
         "3",
         "peor",
         "31.438249607132562",
         "2.4916347381352686e-06"
        ],
        [
         "4",
         "mal",
         "26.59127709158762",
         "2.404258194931843e-05"
        ],
        [
         "5",
         "deliciosa",
         "26.16781979122169",
         "2.9272065518622612e-05"
        ],
        [
         "6",
         "pésima",
         "21.704921117301673",
         "0.00022942713566190368"
        ],
        [
         "7",
         "increíble",
         "21.593860569967116",
         "0.00024139138618209895"
        ],
        [
         "8",
         "gracias",
         "20.011877174923",
         "0.0004967103051899869"
        ],
        [
         "9",
         "regular",
         "19.552423084693764",
         "0.0006119435779751775"
        ],
        [
         "10",
         "horrible",
         "18.036304304298312",
         "0.0012140984556196657"
        ],
        [
         "11",
         "habitación",
         "17.368371896283218",
         "0.0016389627485011978"
        ],
        [
         "12",
         "dijeron",
         "16.319544862041546",
         "0.0026190304251997487"
        ],
        [
         "13",
         "terrible",
         "15.686980464340426",
         "0.0034692785725631103"
        ],
        [
         "14",
         "encantó",
         "14.912695780160142",
         "0.004885759639138227"
        ],
        [
         "15",
         "buen",
         "14.74536568280007",
         "0.005259556993095168"
        ],
        [
         "16",
         "dijo",
         "14.004212156351079",
         "0.007281624388532094"
        ],
        [
         "17",
         "ambiente",
         "13.526300657003784",
         "0.008970964294436093"
        ],
        [
         "18",
         "delicioso",
         "13.47006734855291",
         "0.00919335961268188"
        ],
        [
         "19",
         "grosero",
         "13.205227758738179",
         "0.010315354560980657"
        ]
       ],
       "shape": {
        "columns": 3,
        "rows": 20
       }
      },
      "text/html": [
       "<div>\n",
       "<style scoped>\n",
       "    .dataframe tbody tr th:only-of-type {\n",
       "        vertical-align: middle;\n",
       "    }\n",
       "\n",
       "    .dataframe tbody tr th {\n",
       "        vertical-align: top;\n",
       "    }\n",
       "\n",
       "    .dataframe thead th {\n",
       "        text-align: right;\n",
       "    }\n",
       "</style>\n",
       "<table border=\"1\" class=\"dataframe\">\n",
       "  <thead>\n",
       "    <tr style=\"text-align: right;\">\n",
       "      <th></th>\n",
       "      <th>token</th>\n",
       "      <th>chi2</th>\n",
       "      <th>p_value</th>\n",
       "    </tr>\n",
       "  </thead>\n",
       "  <tbody>\n",
       "    <tr>\n",
       "      <th>0</th>\n",
       "      <td>excelente</td>\n",
       "      <td>44.146264</td>\n",
       "      <td>5.982286e-09</td>\n",
       "    </tr>\n",
       "    <tr>\n",
       "      <th>1</th>\n",
       "      <td>mala</td>\n",
       "      <td>32.792962</td>\n",
       "      <td>1.316922e-06</td>\n",
       "    </tr>\n",
       "    <tr>\n",
       "      <th>2</th>\n",
       "      <td>pésimo</td>\n",
       "      <td>32.363782</td>\n",
       "      <td>1.612000e-06</td>\n",
       "    </tr>\n",
       "    <tr>\n",
       "      <th>3</th>\n",
       "      <td>peor</td>\n",
       "      <td>31.438250</td>\n",
       "      <td>2.491635e-06</td>\n",
       "    </tr>\n",
       "    <tr>\n",
       "      <th>4</th>\n",
       "      <td>mal</td>\n",
       "      <td>26.591277</td>\n",
       "      <td>2.404258e-05</td>\n",
       "    </tr>\n",
       "    <tr>\n",
       "      <th>5</th>\n",
       "      <td>deliciosa</td>\n",
       "      <td>26.167820</td>\n",
       "      <td>2.927207e-05</td>\n",
       "    </tr>\n",
       "    <tr>\n",
       "      <th>6</th>\n",
       "      <td>pésima</td>\n",
       "      <td>21.704921</td>\n",
       "      <td>2.294271e-04</td>\n",
       "    </tr>\n",
       "    <tr>\n",
       "      <th>7</th>\n",
       "      <td>increíble</td>\n",
       "      <td>21.593861</td>\n",
       "      <td>2.413914e-04</td>\n",
       "    </tr>\n",
       "    <tr>\n",
       "      <th>8</th>\n",
       "      <td>gracias</td>\n",
       "      <td>20.011877</td>\n",
       "      <td>4.967103e-04</td>\n",
       "    </tr>\n",
       "    <tr>\n",
       "      <th>9</th>\n",
       "      <td>regular</td>\n",
       "      <td>19.552423</td>\n",
       "      <td>6.119436e-04</td>\n",
       "    </tr>\n",
       "    <tr>\n",
       "      <th>10</th>\n",
       "      <td>horrible</td>\n",
       "      <td>18.036304</td>\n",
       "      <td>1.214098e-03</td>\n",
       "    </tr>\n",
       "    <tr>\n",
       "      <th>11</th>\n",
       "      <td>habitación</td>\n",
       "      <td>17.368372</td>\n",
       "      <td>1.638963e-03</td>\n",
       "    </tr>\n",
       "    <tr>\n",
       "      <th>12</th>\n",
       "      <td>dijeron</td>\n",
       "      <td>16.319545</td>\n",
       "      <td>2.619030e-03</td>\n",
       "    </tr>\n",
       "    <tr>\n",
       "      <th>13</th>\n",
       "      <td>terrible</td>\n",
       "      <td>15.686980</td>\n",
       "      <td>3.469279e-03</td>\n",
       "    </tr>\n",
       "    <tr>\n",
       "      <th>14</th>\n",
       "      <td>encantó</td>\n",
       "      <td>14.912696</td>\n",
       "      <td>4.885760e-03</td>\n",
       "    </tr>\n",
       "    <tr>\n",
       "      <th>15</th>\n",
       "      <td>buen</td>\n",
       "      <td>14.745366</td>\n",
       "      <td>5.259557e-03</td>\n",
       "    </tr>\n",
       "    <tr>\n",
       "      <th>16</th>\n",
       "      <td>dijo</td>\n",
       "      <td>14.004212</td>\n",
       "      <td>7.281624e-03</td>\n",
       "    </tr>\n",
       "    <tr>\n",
       "      <th>17</th>\n",
       "      <td>ambiente</td>\n",
       "      <td>13.526301</td>\n",
       "      <td>8.970964e-03</td>\n",
       "    </tr>\n",
       "    <tr>\n",
       "      <th>18</th>\n",
       "      <td>delicioso</td>\n",
       "      <td>13.470067</td>\n",
       "      <td>9.193360e-03</td>\n",
       "    </tr>\n",
       "    <tr>\n",
       "      <th>19</th>\n",
       "      <td>grosero</td>\n",
       "      <td>13.205228</td>\n",
       "      <td>1.031535e-02</td>\n",
       "    </tr>\n",
       "  </tbody>\n",
       "</table>\n",
       "</div>"
      ],
      "text/plain": [
       "         token       chi2       p_value\n",
       "0    excelente  44.146264  5.982286e-09\n",
       "1         mala  32.792962  1.316922e-06\n",
       "2       pésimo  32.363782  1.612000e-06\n",
       "3         peor  31.438250  2.491635e-06\n",
       "4          mal  26.591277  2.404258e-05\n",
       "5    deliciosa  26.167820  2.927207e-05\n",
       "6       pésima  21.704921  2.294271e-04\n",
       "7    increíble  21.593861  2.413914e-04\n",
       "8      gracias  20.011877  4.967103e-04\n",
       "9      regular  19.552423  6.119436e-04\n",
       "10    horrible  18.036304  1.214098e-03\n",
       "11  habitación  17.368372  1.638963e-03\n",
       "12     dijeron  16.319545  2.619030e-03\n",
       "13    terrible  15.686980  3.469279e-03\n",
       "14     encantó  14.912696  4.885760e-03\n",
       "15        buen  14.745366  5.259557e-03\n",
       "16        dijo  14.004212  7.281624e-03\n",
       "17    ambiente  13.526301  8.970964e-03\n",
       "18   delicioso  13.470067  9.193360e-03\n",
       "19     grosero  13.205228  1.031535e-02"
      ]
     },
     "metadata": {},
     "output_type": "display_data"
    }
   ],
   "source": [
    "# Top-20 características más importantes (χ²) en TF y TF-IDF\n",
    "\n",
    "def chi2_ranking(X, vocab, y, classes, topk=20):\n",
    "    \"\"\"Devuelve ranking global y one-vs-rest (topk) con chi2.\"\"\"\n",
    "    # Global\n",
    "    scores, pvals = chi2(X, y)\n",
    "    idx = np.argsort(scores)[::-1][:topk]\n",
    "    global_rank = pd.DataFrame({\n",
    "        \"token\": vocab[idx],\n",
    "        \"chi2\": scores[idx],\n",
    "        \"p_value\": pvals[idx]\n",
    "    })\n",
    "\n",
    "    # One-vs-Rest\n",
    "    frames = []\n",
    "    for cls_idx, cls_name in enumerate(classes):\n",
    "        y_bin = (y == cls_idx).astype(int)\n",
    "        scores, pvals = chi2(X, y_bin)\n",
    "        idx = np.argsort(scores)[::-1][:topk]\n",
    "        tmp = pd.DataFrame({\n",
    "            \"class\": cls_name,\n",
    "            \"token\": vocab[idx],\n",
    "            \"chi2\": scores[idx],\n",
    "            \"p_value\": pvals[idx]\n",
    "        })\n",
    "        frames.append(tmp)\n",
    "    ovr_rank = pd.concat(frames, ignore_index=True)\n",
    "\n",
    "    return global_rank, ovr_rank\n",
    "\n",
    "# Asegura carpeta de salida\n",
    "os.makedirs(\"../reports/tables\", exist_ok=True)\n",
    "\n",
    "# Vocabulario\n",
    "vocab = np.array(vectorizer_tf.get_feature_names_out())\n",
    "\n",
    "# Rankings con TF\n",
    "chi2_global_tf, chi2_ovr_tf = chi2_ranking(X_tf, vocab, y, classes, topk=20)\n",
    "chi2_global_tf.to_csv(\"../reports/tables/top20_chi2_global_tf.csv\", index=False)\n",
    "chi2_ovr_tf.to_csv(\"../reports/tables/top20_chi2_ovr_tf.csv\", index=False)\n",
    "\n",
    "# Rankings con TF-IDF\n",
    "chi2_global_tfidf, chi2_ovr_tfidf = chi2_ranking(X_tfidf, vocab, y, classes, topk=20)\n",
    "chi2_global_tfidf.to_csv(\"../reports/tables/top20_chi2_global_tfidf.csv\", index=False)\n",
    "chi2_ovr_tfidf.to_csv(\"../reports/tables/top20_chi2_ovr_tfidf.csv\", index=False)\n",
    "\n",
    "print(\"Archivos guardados en ../reports/tables/:\")\n",
    "print(\" - top20_chi2_global_tf.csv\")\n",
    "print(\" - top20_chi2_ovr_tf.csv\")\n",
    "print(\" - top20_chi2_global_tfidf.csv\")\n",
    "print(\" - top20_chi2_ovr_tfidf.csv\")\n",
    "\n",
    "# Mostrar un vistazo\n",
    "display(chi2_global_tf.head(20))\n",
    "display(chi2_global_tfidf.head(20))\n"
   ]
  },
  {
   "cell_type": "markdown",
   "metadata": {},
   "source": [
    "## 6. Bigramas"
   ]
  },
  {
   "cell_type": "markdown",
   "id": "d700d700",
   "metadata": {},
   "source": [
    "Repite el ejercicio anterior pero utilizando bigramas de palabras. Compara resultados y discute si los bigramas aportan mayor discriminación semántica."
   ]
  },
  {
   "cell_type": "code",
   "execution_count": null,
   "id": "dbf0aab3",
   "metadata": {},
   "outputs": [
    {
     "name": "stdout",
     "output_type": "stream",
     "text": [
      "Formas:\n",
      "  X_bigram_tf:     (5000, 5567)\n",
      "  X_bigram_tfidf:  (5000, 5567)\n",
      "Guardado en ../reports/tables/:\n",
      " - top20_chi2_global_bigram_tf.csv\n",
      " - top20_chi2_ovr_bigram_tf.csv\n",
      " - top20_chi2_global_bigram_tfidf.csv\n",
      " - top20_chi2_ovr_bigram_tfidf.csv\n"
     ]
    },
    {
     "data": {
      "application/vnd.microsoft.datawrangler.viewer.v0+json": {
       "columns": [
        {
         "name": "index",
         "rawType": "int64",
         "type": "integer"
        },
        {
         "name": "token_or_bigram",
         "rawType": "object",
         "type": "string"
        },
        {
         "name": "chi2",
         "rawType": "float64",
         "type": "float"
        },
        {
         "name": "p_value",
         "rawType": "float64",
         "type": "float"
        }
       ],
       "ref": "c07fdce4-5761-4cfb-8428-20ba0c423609",
       "rows": [
        [
         "0",
         "pésimo servicio",
         "73.7800586510253",
         "3.609015672953947e-15"
        ],
        [
         "1",
         "excelente servicio",
         "72.69428661616007",
         "6.1220041052457354e-15"
        ],
        [
         "2",
         "mala experiencia",
         "70.45842142353665",
         "1.8163814529946687e-14"
        ],
        [
         "3",
         "mal servicio",
         "68.4837261503918",
         "4.7424927523241484e-14"
        ],
        [
         "4",
         "comida deliciosa",
         "66.35840548340408",
         "1.331120168019548e-13"
        ],
        [
         "5",
         "servicio pésimo",
         "48.333333333332604",
         "8.042215708520516e-10"
        ],
        [
         "6",
         "peor experiencia",
         "46.32323232323161",
         "2.1094240333878372e-09"
        ],
        [
         "7",
         "comida mala",
         "39.40698653198595",
         "5.740176280819918e-08"
        ],
        [
         "8",
         "recomiendo encarecidamente",
         "36.57284382284305",
         "2.2057664832564695e-07"
        ],
        [
         "9",
         "peor hotel",
         "36.06172839506118",
         "2.8103064830003044e-07"
        ],
        [
         "10",
         "comida buena",
         "34.31968622394088",
         "6.407474970168575e-07"
        ],
        [
         "11",
         "aire acondicionado",
         "33.44098391320567",
         "9.70193550240487e-07"
        ],
        [
         "12",
         "deja desear",
         "32.42533442533393",
         "1.5659441360494783e-06"
        ],
        [
         "13",
         "comida horrible",
         "32.08134920634872",
         "1.841239644840792e-06"
        ],
        [
         "14",
         "servicio malo",
         "31.9217171717167",
         "1.98488350618093e-06"
        ],
        [
         "15",
         "vale pena",
         "30.86460761460681",
         "3.2623764181466927e-06"
        ],
        [
         "16",
         "servicio excelente",
         "30.833017676767007",
         "3.3111288865403985e-06"
        ],
        [
         "17",
         "mala gana",
         "27.686868686868273",
         "1.4434682969591694e-05"
        ],
        [
         "18",
         "lugar mágico",
         "27.44696969696913",
         "1.614272586206643e-05"
        ],
        [
         "19",
         "gran lugar",
         "27.246212121211556",
         "1.772555497033471e-05"
        ]
       ],
       "shape": {
        "columns": 3,
        "rows": 20
       }
      },
      "text/html": [
       "<div>\n",
       "<style scoped>\n",
       "    .dataframe tbody tr th:only-of-type {\n",
       "        vertical-align: middle;\n",
       "    }\n",
       "\n",
       "    .dataframe tbody tr th {\n",
       "        vertical-align: top;\n",
       "    }\n",
       "\n",
       "    .dataframe thead th {\n",
       "        text-align: right;\n",
       "    }\n",
       "</style>\n",
       "<table border=\"1\" class=\"dataframe\">\n",
       "  <thead>\n",
       "    <tr style=\"text-align: right;\">\n",
       "      <th></th>\n",
       "      <th>token_or_bigram</th>\n",
       "      <th>chi2</th>\n",
       "      <th>p_value</th>\n",
       "    </tr>\n",
       "  </thead>\n",
       "  <tbody>\n",
       "    <tr>\n",
       "      <th>0</th>\n",
       "      <td>pésimo servicio</td>\n",
       "      <td>73.780059</td>\n",
       "      <td>3.609016e-15</td>\n",
       "    </tr>\n",
       "    <tr>\n",
       "      <th>1</th>\n",
       "      <td>excelente servicio</td>\n",
       "      <td>72.694287</td>\n",
       "      <td>6.122004e-15</td>\n",
       "    </tr>\n",
       "    <tr>\n",
       "      <th>2</th>\n",
       "      <td>mala experiencia</td>\n",
       "      <td>70.458421</td>\n",
       "      <td>1.816381e-14</td>\n",
       "    </tr>\n",
       "    <tr>\n",
       "      <th>3</th>\n",
       "      <td>mal servicio</td>\n",
       "      <td>68.483726</td>\n",
       "      <td>4.742493e-14</td>\n",
       "    </tr>\n",
       "    <tr>\n",
       "      <th>4</th>\n",
       "      <td>comida deliciosa</td>\n",
       "      <td>66.358405</td>\n",
       "      <td>1.331120e-13</td>\n",
       "    </tr>\n",
       "    <tr>\n",
       "      <th>5</th>\n",
       "      <td>servicio pésimo</td>\n",
       "      <td>48.333333</td>\n",
       "      <td>8.042216e-10</td>\n",
       "    </tr>\n",
       "    <tr>\n",
       "      <th>6</th>\n",
       "      <td>peor experiencia</td>\n",
       "      <td>46.323232</td>\n",
       "      <td>2.109424e-09</td>\n",
       "    </tr>\n",
       "    <tr>\n",
       "      <th>7</th>\n",
       "      <td>comida mala</td>\n",
       "      <td>39.406987</td>\n",
       "      <td>5.740176e-08</td>\n",
       "    </tr>\n",
       "    <tr>\n",
       "      <th>8</th>\n",
       "      <td>recomiendo encarecidamente</td>\n",
       "      <td>36.572844</td>\n",
       "      <td>2.205766e-07</td>\n",
       "    </tr>\n",
       "    <tr>\n",
       "      <th>9</th>\n",
       "      <td>peor hotel</td>\n",
       "      <td>36.061728</td>\n",
       "      <td>2.810306e-07</td>\n",
       "    </tr>\n",
       "    <tr>\n",
       "      <th>10</th>\n",
       "      <td>comida buena</td>\n",
       "      <td>34.319686</td>\n",
       "      <td>6.407475e-07</td>\n",
       "    </tr>\n",
       "    <tr>\n",
       "      <th>11</th>\n",
       "      <td>aire acondicionado</td>\n",
       "      <td>33.440984</td>\n",
       "      <td>9.701936e-07</td>\n",
       "    </tr>\n",
       "    <tr>\n",
       "      <th>12</th>\n",
       "      <td>deja desear</td>\n",
       "      <td>32.425334</td>\n",
       "      <td>1.565944e-06</td>\n",
       "    </tr>\n",
       "    <tr>\n",
       "      <th>13</th>\n",
       "      <td>comida horrible</td>\n",
       "      <td>32.081349</td>\n",
       "      <td>1.841240e-06</td>\n",
       "    </tr>\n",
       "    <tr>\n",
       "      <th>14</th>\n",
       "      <td>servicio malo</td>\n",
       "      <td>31.921717</td>\n",
       "      <td>1.984884e-06</td>\n",
       "    </tr>\n",
       "    <tr>\n",
       "      <th>15</th>\n",
       "      <td>vale pena</td>\n",
       "      <td>30.864608</td>\n",
       "      <td>3.262376e-06</td>\n",
       "    </tr>\n",
       "    <tr>\n",
       "      <th>16</th>\n",
       "      <td>servicio excelente</td>\n",
       "      <td>30.833018</td>\n",
       "      <td>3.311129e-06</td>\n",
       "    </tr>\n",
       "    <tr>\n",
       "      <th>17</th>\n",
       "      <td>mala gana</td>\n",
       "      <td>27.686869</td>\n",
       "      <td>1.443468e-05</td>\n",
       "    </tr>\n",
       "    <tr>\n",
       "      <th>18</th>\n",
       "      <td>lugar mágico</td>\n",
       "      <td>27.446970</td>\n",
       "      <td>1.614273e-05</td>\n",
       "    </tr>\n",
       "    <tr>\n",
       "      <th>19</th>\n",
       "      <td>gran lugar</td>\n",
       "      <td>27.246212</td>\n",
       "      <td>1.772555e-05</td>\n",
       "    </tr>\n",
       "  </tbody>\n",
       "</table>\n",
       "</div>"
      ],
      "text/plain": [
       "               token_or_bigram       chi2       p_value\n",
       "0              pésimo servicio  73.780059  3.609016e-15\n",
       "1           excelente servicio  72.694287  6.122004e-15\n",
       "2             mala experiencia  70.458421  1.816381e-14\n",
       "3                 mal servicio  68.483726  4.742493e-14\n",
       "4             comida deliciosa  66.358405  1.331120e-13\n",
       "5              servicio pésimo  48.333333  8.042216e-10\n",
       "6             peor experiencia  46.323232  2.109424e-09\n",
       "7                  comida mala  39.406987  5.740176e-08\n",
       "8   recomiendo encarecidamente  36.572844  2.205766e-07\n",
       "9                   peor hotel  36.061728  2.810306e-07\n",
       "10                comida buena  34.319686  6.407475e-07\n",
       "11          aire acondicionado  33.440984  9.701936e-07\n",
       "12                 deja desear  32.425334  1.565944e-06\n",
       "13             comida horrible  32.081349  1.841240e-06\n",
       "14               servicio malo  31.921717  1.984884e-06\n",
       "15                   vale pena  30.864608  3.262376e-06\n",
       "16          servicio excelente  30.833018  3.311129e-06\n",
       "17                   mala gana  27.686869  1.443468e-05\n",
       "18                lugar mágico  27.446970  1.614273e-05\n",
       "19                  gran lugar  27.246212  1.772555e-05"
      ]
     },
     "metadata": {},
     "output_type": "display_data"
    },
    {
     "data": {
      "application/vnd.microsoft.datawrangler.viewer.v0+json": {
       "columns": [
        {
         "name": "index",
         "rawType": "int64",
         "type": "integer"
        },
        {
         "name": "token_or_bigram",
         "rawType": "object",
         "type": "string"
        },
        {
         "name": "chi2",
         "rawType": "float64",
         "type": "float"
        },
        {
         "name": "p_value",
         "rawType": "float64",
         "type": "float"
        }
       ],
       "ref": "5713384e-7c73-4802-a670-a6d51da1986d",
       "rows": [
        [
         "0",
         "pésimo servicio",
         "34.65049235074368",
         "5.480131829358279e-07"
        ],
        [
         "1",
         "excelente servicio",
         "30.29436840088353",
         "4.263421637062117e-06"
        ],
        [
         "2",
         "mala experiencia",
         "26.256090182844627",
         "2.8096002376387315e-05"
        ],
        [
         "3",
         "comida deliciosa",
         "24.706624841845763",
         "5.762535215962462e-05"
        ],
        [
         "4",
         "mal servicio",
         "23.223135797162374",
         "0.00011426920813296724"
        ],
        [
         "5",
         "servicio pésimo",
         "23.123631521265807",
         "0.00011962436181176397"
        ],
        [
         "6",
         "peor experiencia",
         "17.932273079177516",
         "0.0012722814926645633"
        ],
        [
         "7",
         "tardaron minutos",
         "17.09132077936892",
         "0.001855550710653323"
        ],
        [
         "8",
         "comida mala",
         "16.01994912532154",
         "0.0029925113902353915"
        ],
        [
         "9",
         "comida horrible",
         "13.73395576058825",
         "0.008194403180928204"
        ],
        [
         "10",
         "comida regular",
         "12.849245323369232",
         "0.012036389033301046"
        ],
        [
         "11",
         "deja desear",
         "12.161704269195813",
         "0.016188439928278956"
        ],
        [
         "12",
         "baja calidad",
         "12.05356116003203",
         "0.016957383529149214"
        ],
        [
         "13",
         "nunca volver",
         "11.587399358342012",
         "0.02069829365486187"
        ],
        [
         "14",
         "lugar mágico",
         "11.254446621693349",
         "0.02384841785455499"
        ],
        [
         "15",
         "servicio excelente",
         "11.242233823906734",
         "0.02397238254746667"
        ],
        [
         "16",
         "peor hotel",
         "10.850584724916416",
         "0.028295564195475117"
        ],
        [
         "17",
         "pésima atención",
         "10.822584869722702",
         "0.028631964186227873"
        ],
        [
         "18",
         "pesimo servicio",
         "10.768929400663422",
         "0.029287424547302463"
        ],
        [
         "19",
         "tarjetas crédito",
         "10.657724007893014",
         "0.03069235856159174"
        ]
       ],
       "shape": {
        "columns": 3,
        "rows": 20
       }
      },
      "text/html": [
       "<div>\n",
       "<style scoped>\n",
       "    .dataframe tbody tr th:only-of-type {\n",
       "        vertical-align: middle;\n",
       "    }\n",
       "\n",
       "    .dataframe tbody tr th {\n",
       "        vertical-align: top;\n",
       "    }\n",
       "\n",
       "    .dataframe thead th {\n",
       "        text-align: right;\n",
       "    }\n",
       "</style>\n",
       "<table border=\"1\" class=\"dataframe\">\n",
       "  <thead>\n",
       "    <tr style=\"text-align: right;\">\n",
       "      <th></th>\n",
       "      <th>token_or_bigram</th>\n",
       "      <th>chi2</th>\n",
       "      <th>p_value</th>\n",
       "    </tr>\n",
       "  </thead>\n",
       "  <tbody>\n",
       "    <tr>\n",
       "      <th>0</th>\n",
       "      <td>pésimo servicio</td>\n",
       "      <td>34.650492</td>\n",
       "      <td>5.480132e-07</td>\n",
       "    </tr>\n",
       "    <tr>\n",
       "      <th>1</th>\n",
       "      <td>excelente servicio</td>\n",
       "      <td>30.294368</td>\n",
       "      <td>4.263422e-06</td>\n",
       "    </tr>\n",
       "    <tr>\n",
       "      <th>2</th>\n",
       "      <td>mala experiencia</td>\n",
       "      <td>26.256090</td>\n",
       "      <td>2.809600e-05</td>\n",
       "    </tr>\n",
       "    <tr>\n",
       "      <th>3</th>\n",
       "      <td>comida deliciosa</td>\n",
       "      <td>24.706625</td>\n",
       "      <td>5.762535e-05</td>\n",
       "    </tr>\n",
       "    <tr>\n",
       "      <th>4</th>\n",
       "      <td>mal servicio</td>\n",
       "      <td>23.223136</td>\n",
       "      <td>1.142692e-04</td>\n",
       "    </tr>\n",
       "    <tr>\n",
       "      <th>5</th>\n",
       "      <td>servicio pésimo</td>\n",
       "      <td>23.123632</td>\n",
       "      <td>1.196244e-04</td>\n",
       "    </tr>\n",
       "    <tr>\n",
       "      <th>6</th>\n",
       "      <td>peor experiencia</td>\n",
       "      <td>17.932273</td>\n",
       "      <td>1.272281e-03</td>\n",
       "    </tr>\n",
       "    <tr>\n",
       "      <th>7</th>\n",
       "      <td>tardaron minutos</td>\n",
       "      <td>17.091321</td>\n",
       "      <td>1.855551e-03</td>\n",
       "    </tr>\n",
       "    <tr>\n",
       "      <th>8</th>\n",
       "      <td>comida mala</td>\n",
       "      <td>16.019949</td>\n",
       "      <td>2.992511e-03</td>\n",
       "    </tr>\n",
       "    <tr>\n",
       "      <th>9</th>\n",
       "      <td>comida horrible</td>\n",
       "      <td>13.733956</td>\n",
       "      <td>8.194403e-03</td>\n",
       "    </tr>\n",
       "    <tr>\n",
       "      <th>10</th>\n",
       "      <td>comida regular</td>\n",
       "      <td>12.849245</td>\n",
       "      <td>1.203639e-02</td>\n",
       "    </tr>\n",
       "    <tr>\n",
       "      <th>11</th>\n",
       "      <td>deja desear</td>\n",
       "      <td>12.161704</td>\n",
       "      <td>1.618844e-02</td>\n",
       "    </tr>\n",
       "    <tr>\n",
       "      <th>12</th>\n",
       "      <td>baja calidad</td>\n",
       "      <td>12.053561</td>\n",
       "      <td>1.695738e-02</td>\n",
       "    </tr>\n",
       "    <tr>\n",
       "      <th>13</th>\n",
       "      <td>nunca volver</td>\n",
       "      <td>11.587399</td>\n",
       "      <td>2.069829e-02</td>\n",
       "    </tr>\n",
       "    <tr>\n",
       "      <th>14</th>\n",
       "      <td>lugar mágico</td>\n",
       "      <td>11.254447</td>\n",
       "      <td>2.384842e-02</td>\n",
       "    </tr>\n",
       "    <tr>\n",
       "      <th>15</th>\n",
       "      <td>servicio excelente</td>\n",
       "      <td>11.242234</td>\n",
       "      <td>2.397238e-02</td>\n",
       "    </tr>\n",
       "    <tr>\n",
       "      <th>16</th>\n",
       "      <td>peor hotel</td>\n",
       "      <td>10.850585</td>\n",
       "      <td>2.829556e-02</td>\n",
       "    </tr>\n",
       "    <tr>\n",
       "      <th>17</th>\n",
       "      <td>pésima atención</td>\n",
       "      <td>10.822585</td>\n",
       "      <td>2.863196e-02</td>\n",
       "    </tr>\n",
       "    <tr>\n",
       "      <th>18</th>\n",
       "      <td>pesimo servicio</td>\n",
       "      <td>10.768929</td>\n",
       "      <td>2.928742e-02</td>\n",
       "    </tr>\n",
       "    <tr>\n",
       "      <th>19</th>\n",
       "      <td>tarjetas crédito</td>\n",
       "      <td>10.657724</td>\n",
       "      <td>3.069236e-02</td>\n",
       "    </tr>\n",
       "  </tbody>\n",
       "</table>\n",
       "</div>"
      ],
      "text/plain": [
       "       token_or_bigram       chi2       p_value\n",
       "0      pésimo servicio  34.650492  5.480132e-07\n",
       "1   excelente servicio  30.294368  4.263422e-06\n",
       "2     mala experiencia  26.256090  2.809600e-05\n",
       "3     comida deliciosa  24.706625  5.762535e-05\n",
       "4         mal servicio  23.223136  1.142692e-04\n",
       "5      servicio pésimo  23.123632  1.196244e-04\n",
       "6     peor experiencia  17.932273  1.272281e-03\n",
       "7     tardaron minutos  17.091321  1.855551e-03\n",
       "8          comida mala  16.019949  2.992511e-03\n",
       "9      comida horrible  13.733956  8.194403e-03\n",
       "10      comida regular  12.849245  1.203639e-02\n",
       "11         deja desear  12.161704  1.618844e-02\n",
       "12        baja calidad  12.053561  1.695738e-02\n",
       "13        nunca volver  11.587399  2.069829e-02\n",
       "14        lugar mágico  11.254447  2.384842e-02\n",
       "15  servicio excelente  11.242234  2.397238e-02\n",
       "16          peor hotel  10.850585  2.829556e-02\n",
       "17     pésima atención  10.822585  2.863196e-02\n",
       "18     pesimo servicio  10.768929  2.928742e-02\n",
       "19    tarjetas crédito  10.657724  3.069236e-02"
      ]
     },
     "metadata": {},
     "output_type": "display_data"
    }
   ],
   "source": [
    "# Parámetros\n",
    "CLASS_COL = \"Polarity\"   # Seleccionar variable\n",
    "TOPK = 20\n",
    "MIN_DF = 3               # Filtra bigramas ultra-raros\n",
    "\n",
    "# Docs (desde tokens_clean)\n",
    "docs_clean = df[\"tokens_clean\"].apply(lambda toks: \" \".join(toks)).tolist()\n",
    "\n",
    "# Vectorizadores SOLO bigramas\n",
    "vectorizer_bigram_tf = CountVectorizer(ngram_range=(2,2), min_df=MIN_DF)\n",
    "X_bigram_tf = vectorizer_bigram_tf.fit_transform(docs_clean)\n",
    "\n",
    "vectorizer_bigram_tfidf = TfidfVectorizer(ngram_range=(2,2), min_df=MIN_DF)\n",
    "X_bigram_tfidf = vectorizer_bigram_tfidf.fit_transform(docs_clean)\n",
    "\n",
    "vocab_bi_tf = np.array(vectorizer_bigram_tf.get_feature_names_out())\n",
    "vocab_bi_tfidf = np.array(vectorizer_bigram_tfidf.get_feature_names_out())\n",
    "\n",
    "print(\"Formas:\")\n",
    "print(\"  X_bigram_tf:    \", X_bigram_tf.shape)\n",
    "print(\"  X_bigram_tfidf: \", X_bigram_tfidf.shape)\n",
    "\n",
    "# Etiquetas\n",
    "y_raw = df[CLASS_COL].astype(str).values\n",
    "le = LabelEncoder()\n",
    "y = le.fit_transform(y_raw)\n",
    "classes = le.classes_\n",
    "\n",
    "def chi2_ranking(X, vocab, y, classes, topk=TOPK):\n",
    "    \"\"\"Devuelve ranking global y one-vs-rest (topk) con chi2.\"\"\"\n",
    "    # Global\n",
    "    scores, pvals = chi2(X, y)\n",
    "    idx = np.argsort(scores)[::-1][:topk]\n",
    "    global_rank = pd.DataFrame({\n",
    "        \"token_or_bigram\": vocab[idx],\n",
    "        \"chi2\": scores[idx],\n",
    "        \"p_value\": pvals[idx]\n",
    "    })\n",
    "    # One-vs-Rest\n",
    "    frames = []\n",
    "    for cls_idx, cls_name in enumerate(classes):\n",
    "        y_bin = (y == cls_idx).astype(int)\n",
    "        scores, pvals = chi2(X, y_bin)\n",
    "        idx = np.argsort(scores)[::-1][:topk]\n",
    "        frames.append(pd.DataFrame({\n",
    "            \"class\": cls_name,\n",
    "            \"token_or_bigram\": vocab[idx],\n",
    "            \"chi2\": scores[idx],\n",
    "            \"p_value\": pvals[idx]\n",
    "        }))\n",
    "    ovr_rank = pd.concat(frames, ignore_index=True)\n",
    "    return global_rank, ovr_rank\n",
    "\n",
    "# Rankings χ² con BIGRAMAS (TF y TF-IDF)\n",
    "chi2_global_bi_tf, chi2_ovr_bi_tf = chi2_ranking(X_bigram_tf, vocab_bi_tf, y, classes, TOPK)\n",
    "chi2_global_bi_tfidf, chi2_ovr_bi_tfidf = chi2_ranking(X_bigram_tfidf, vocab_bi_tfidf, y, classes, TOPK)\n",
    "\n",
    "# Guardar tablas\n",
    "os.makedirs(\"../reports/tables\", exist_ok=True)\n",
    "chi2_global_bi_tf.to_csv(\"../reports/tables/top20_chi2_global_bigram_tf.csv\", index=False)\n",
    "chi2_ovr_bi_tf.to_csv(\"../reports/tables/top20_chi2_ovr_bigram_tf.csv\", index=False)\n",
    "chi2_global_bi_tfidf.to_csv(\"../reports/tables/top20_chi2_global_bigram_tfidf.csv\", index=False)\n",
    "chi2_ovr_bi_tfidf.to_csv(\"../reports/tables/top20_chi2_ovr_bigram_tfidf.csv\", index=False)\n",
    "\n",
    "print(\"Guardado en ../reports/tables/:\")\n",
    "print(\" - top20_chi2_global_bigram_tf.csv\")\n",
    "print(\" - top20_chi2_ovr_bigram_tf.csv\")\n",
    "print(\" - top20_chi2_global_bigram_tfidf.csv\")\n",
    "print(\" - top20_chi2_ovr_bigram_tfidf.csv\")\n",
    "\n",
    "# Vistazo rápido\n",
    "display(chi2_global_bi_tf.head(20))\n",
    "display(chi2_global_bi_tfidf.head(20))"
   ]
  },
  {
   "cell_type": "markdown",
   "metadata": {},
   "source": [
    "## 7. Word2Vec y analogı́as"
   ]
  },
  {
   "cell_type": "markdown",
   "id": "be68e948",
   "metadata": {},
   "source": [
    "Entrena un modelo Word2Vec sobre el corpus."
   ]
  },
  {
   "cell_type": "code",
   "execution_count": 53,
   "id": "6ad8836b",
   "metadata": {},
   "outputs": [
    {
     "name": "stdout",
     "output_type": "stream",
     "text": [
      "Tamaño del vocabulario entrenado: 6700\n"
     ]
    }
   ],
   "source": [
    "# ===============================================\n",
    "# Entrenamiento Word2Vec sobre el corpus limpio\n",
    "# ===============================================\n",
    "\n",
    "# Usamos la columna tokens_clean como corpus de oraciones\n",
    "sentences = df[\"tokens_clean\"].tolist()\n",
    "\n",
    "# Configuración del modelo\n",
    "w2v_model = Word2Vec(\n",
    "    sentences=sentences,\n",
    "    vector_size=100,   # dimensión de los embeddings\n",
    "    window=5,          # contexto: 5 palabras a izquierda/derecha\n",
    "    min_count=3,       # ignora palabras con frecuencia < 3\n",
    "    sg=1,              # 1 = Skip-gram, 0 = CBOW\n",
    "    workers=4,         # hilos paralelos\n",
    "    epochs=10,         # número de pasadas sobre el corpus\n",
    "    seed=42\n",
    ")\n",
    "\n",
    "# Acceso al vocabulario\n",
    "print(\"Tamaño del vocabulario entrenado:\", len(w2v_model.wv))\n",
    "\n"
   ]
  },
  {
   "cell_type": "markdown",
   "id": "67db5aca",
   "metadata": {},
   "source": [
    "Realiza al menos 5 analogías interesantes y discute los resultados."
   ]
  },
  {
   "cell_type": "code",
   "execution_count": null,
   "id": "9ed44e08",
   "metadata": {},
   "outputs": [
    {
     "name": "stdout",
     "output_type": "stream",
     "text": [
      "\n",
      "Analogía: (restaurante + comida) - (hotel)\n"
     ]
    },
    {
     "data": {
      "application/vnd.microsoft.datawrangler.viewer.v0+json": {
       "columns": [
        {
         "name": "index",
         "rawType": "int64",
         "type": "integer"
        },
        {
         "name": "pos",
         "rawType": "object",
         "type": "string"
        },
        {
         "name": "neg",
         "rawType": "object",
         "type": "string"
        },
        {
         "name": "word",
         "rawType": "object",
         "type": "string"
        },
        {
         "name": "cosine",
         "rawType": "float64",
         "type": "float"
        }
       ],
       "ref": "61c188f9-703f-49aa-a1cc-3bff72eca858",
       "rows": [
        [
         "0",
         "restaurante + comida",
         "hotel",
         "presentada",
         "0.6693832278251648"
        ],
        [
         "1",
         "restaurante + comida",
         "hotel",
         "típico",
         "0.6657040119171143"
        ],
        [
         "2",
         "restaurante + comida",
         "hotel",
         "casera",
         "0.662095844745636"
        ],
        [
         "3",
         "restaurante + comida",
         "hotel",
         "variado",
         "0.6618070602416992"
        ],
        [
         "4",
         "restaurante + comida",
         "hotel",
         "presentación",
         "0.657930314540863"
        ],
        [
         "5",
         "restaurante + comida",
         "hotel",
         "mariachi",
         "0.6556796431541443"
        ],
        [
         "6",
         "restaurante + comida",
         "hotel",
         "casero",
         "0.6528444290161133"
        ],
        [
         "7",
         "restaurante + comida",
         "hotel",
         "abundantes",
         "0.652660071849823"
        ],
        [
         "8",
         "restaurante + comida",
         "hotel",
         "lento",
         "0.6505333185195923"
        ],
        [
         "9",
         "restaurante + comida",
         "hotel",
         "gustos",
         "0.6490801572799683"
        ]
       ],
       "shape": {
        "columns": 4,
        "rows": 10
       }
      },
      "text/html": [
       "<div>\n",
       "<style scoped>\n",
       "    .dataframe tbody tr th:only-of-type {\n",
       "        vertical-align: middle;\n",
       "    }\n",
       "\n",
       "    .dataframe tbody tr th {\n",
       "        vertical-align: top;\n",
       "    }\n",
       "\n",
       "    .dataframe thead th {\n",
       "        text-align: right;\n",
       "    }\n",
       "</style>\n",
       "<table border=\"1\" class=\"dataframe\">\n",
       "  <thead>\n",
       "    <tr style=\"text-align: right;\">\n",
       "      <th></th>\n",
       "      <th>pos</th>\n",
       "      <th>neg</th>\n",
       "      <th>word</th>\n",
       "      <th>cosine</th>\n",
       "    </tr>\n",
       "  </thead>\n",
       "  <tbody>\n",
       "    <tr>\n",
       "      <th>0</th>\n",
       "      <td>restaurante + comida</td>\n",
       "      <td>hotel</td>\n",
       "      <td>presentada</td>\n",
       "      <td>0.669383</td>\n",
       "    </tr>\n",
       "    <tr>\n",
       "      <th>1</th>\n",
       "      <td>restaurante + comida</td>\n",
       "      <td>hotel</td>\n",
       "      <td>típico</td>\n",
       "      <td>0.665704</td>\n",
       "    </tr>\n",
       "    <tr>\n",
       "      <th>2</th>\n",
       "      <td>restaurante + comida</td>\n",
       "      <td>hotel</td>\n",
       "      <td>casera</td>\n",
       "      <td>0.662096</td>\n",
       "    </tr>\n",
       "    <tr>\n",
       "      <th>3</th>\n",
       "      <td>restaurante + comida</td>\n",
       "      <td>hotel</td>\n",
       "      <td>variado</td>\n",
       "      <td>0.661807</td>\n",
       "    </tr>\n",
       "    <tr>\n",
       "      <th>4</th>\n",
       "      <td>restaurante + comida</td>\n",
       "      <td>hotel</td>\n",
       "      <td>presentación</td>\n",
       "      <td>0.657930</td>\n",
       "    </tr>\n",
       "    <tr>\n",
       "      <th>5</th>\n",
       "      <td>restaurante + comida</td>\n",
       "      <td>hotel</td>\n",
       "      <td>mariachi</td>\n",
       "      <td>0.655680</td>\n",
       "    </tr>\n",
       "    <tr>\n",
       "      <th>6</th>\n",
       "      <td>restaurante + comida</td>\n",
       "      <td>hotel</td>\n",
       "      <td>casero</td>\n",
       "      <td>0.652844</td>\n",
       "    </tr>\n",
       "    <tr>\n",
       "      <th>7</th>\n",
       "      <td>restaurante + comida</td>\n",
       "      <td>hotel</td>\n",
       "      <td>abundantes</td>\n",
       "      <td>0.652660</td>\n",
       "    </tr>\n",
       "    <tr>\n",
       "      <th>8</th>\n",
       "      <td>restaurante + comida</td>\n",
       "      <td>hotel</td>\n",
       "      <td>lento</td>\n",
       "      <td>0.650533</td>\n",
       "    </tr>\n",
       "    <tr>\n",
       "      <th>9</th>\n",
       "      <td>restaurante + comida</td>\n",
       "      <td>hotel</td>\n",
       "      <td>gustos</td>\n",
       "      <td>0.649080</td>\n",
       "    </tr>\n",
       "  </tbody>\n",
       "</table>\n",
       "</div>"
      ],
      "text/plain": [
       "                    pos    neg          word    cosine\n",
       "0  restaurante + comida  hotel    presentada  0.669383\n",
       "1  restaurante + comida  hotel        típico  0.665704\n",
       "2  restaurante + comida  hotel        casera  0.662096\n",
       "3  restaurante + comida  hotel       variado  0.661807\n",
       "4  restaurante + comida  hotel  presentación  0.657930\n",
       "5  restaurante + comida  hotel      mariachi  0.655680\n",
       "6  restaurante + comida  hotel        casero  0.652844\n",
       "7  restaurante + comida  hotel    abundantes  0.652660\n",
       "8  restaurante + comida  hotel         lento  0.650533\n",
       "9  restaurante + comida  hotel        gustos  0.649080"
      ]
     },
     "metadata": {},
     "output_type": "display_data"
    },
    {
     "name": "stdout",
     "output_type": "stream",
     "text": [
      "\n",
      "Analogía: (habitación + hotel) - (comida)\n"
     ]
    },
    {
     "data": {
      "application/vnd.microsoft.datawrangler.viewer.v0+json": {
       "columns": [
        {
         "name": "index",
         "rawType": "int64",
         "type": "integer"
        },
        {
         "name": "pos",
         "rawType": "object",
         "type": "string"
        },
        {
         "name": "neg",
         "rawType": "object",
         "type": "string"
        },
        {
         "name": "word",
         "rawType": "object",
         "type": "string"
        },
        {
         "name": "cosine",
         "rawType": "float64",
         "type": "float"
        }
       ],
       "ref": "3e8841c3-a564-4b5b-994c-419f7c4dcd1e",
       "rows": [
        [
         "0",
         "habitación + hotel",
         "comida",
         "com",
         "0.6568432450294495"
        ],
        [
         "1",
         "habitación + hotel",
         "comida",
         "booking",
         "0.6422195434570312"
        ],
        [
         "2",
         "habitación + hotel",
         "comida",
         "reservamos",
         "0.6294959187507629"
        ],
        [
         "3",
         "habitación + hotel",
         "comida",
         "suite",
         "0.6102065443992615"
        ],
        [
         "4",
         "habitación + hotel",
         "comida",
         "noches",
         "0.6044754981994629"
        ],
        [
         "5",
         "habitación + hotel",
         "comida",
         "reservé",
         "0.6015764474868774"
        ],
        [
         "6",
         "habitación + hotel",
         "comida",
         "reservado",
         "0.6011316776275635"
        ],
        [
         "7",
         "habitación + hotel",
         "comida",
         "edificio",
         "0.6003390550613403"
        ],
        [
         "8",
         "habitación + hotel",
         "comida",
         "villa",
         "0.5933777689933777"
        ],
        [
         "9",
         "habitación + hotel",
         "comida",
         "piso",
         "0.5902688503265381"
        ]
       ],
       "shape": {
        "columns": 4,
        "rows": 10
       }
      },
      "text/html": [
       "<div>\n",
       "<style scoped>\n",
       "    .dataframe tbody tr th:only-of-type {\n",
       "        vertical-align: middle;\n",
       "    }\n",
       "\n",
       "    .dataframe tbody tr th {\n",
       "        vertical-align: top;\n",
       "    }\n",
       "\n",
       "    .dataframe thead th {\n",
       "        text-align: right;\n",
       "    }\n",
       "</style>\n",
       "<table border=\"1\" class=\"dataframe\">\n",
       "  <thead>\n",
       "    <tr style=\"text-align: right;\">\n",
       "      <th></th>\n",
       "      <th>pos</th>\n",
       "      <th>neg</th>\n",
       "      <th>word</th>\n",
       "      <th>cosine</th>\n",
       "    </tr>\n",
       "  </thead>\n",
       "  <tbody>\n",
       "    <tr>\n",
       "      <th>0</th>\n",
       "      <td>habitación + hotel</td>\n",
       "      <td>comida</td>\n",
       "      <td>com</td>\n",
       "      <td>0.656843</td>\n",
       "    </tr>\n",
       "    <tr>\n",
       "      <th>1</th>\n",
       "      <td>habitación + hotel</td>\n",
       "      <td>comida</td>\n",
       "      <td>booking</td>\n",
       "      <td>0.642220</td>\n",
       "    </tr>\n",
       "    <tr>\n",
       "      <th>2</th>\n",
       "      <td>habitación + hotel</td>\n",
       "      <td>comida</td>\n",
       "      <td>reservamos</td>\n",
       "      <td>0.629496</td>\n",
       "    </tr>\n",
       "    <tr>\n",
       "      <th>3</th>\n",
       "      <td>habitación + hotel</td>\n",
       "      <td>comida</td>\n",
       "      <td>suite</td>\n",
       "      <td>0.610207</td>\n",
       "    </tr>\n",
       "    <tr>\n",
       "      <th>4</th>\n",
       "      <td>habitación + hotel</td>\n",
       "      <td>comida</td>\n",
       "      <td>noches</td>\n",
       "      <td>0.604475</td>\n",
       "    </tr>\n",
       "    <tr>\n",
       "      <th>5</th>\n",
       "      <td>habitación + hotel</td>\n",
       "      <td>comida</td>\n",
       "      <td>reservé</td>\n",
       "      <td>0.601576</td>\n",
       "    </tr>\n",
       "    <tr>\n",
       "      <th>6</th>\n",
       "      <td>habitación + hotel</td>\n",
       "      <td>comida</td>\n",
       "      <td>reservado</td>\n",
       "      <td>0.601132</td>\n",
       "    </tr>\n",
       "    <tr>\n",
       "      <th>7</th>\n",
       "      <td>habitación + hotel</td>\n",
       "      <td>comida</td>\n",
       "      <td>edificio</td>\n",
       "      <td>0.600339</td>\n",
       "    </tr>\n",
       "    <tr>\n",
       "      <th>8</th>\n",
       "      <td>habitación + hotel</td>\n",
       "      <td>comida</td>\n",
       "      <td>villa</td>\n",
       "      <td>0.593378</td>\n",
       "    </tr>\n",
       "    <tr>\n",
       "      <th>9</th>\n",
       "      <td>habitación + hotel</td>\n",
       "      <td>comida</td>\n",
       "      <td>piso</td>\n",
       "      <td>0.590269</td>\n",
       "    </tr>\n",
       "  </tbody>\n",
       "</table>\n",
       "</div>"
      ],
      "text/plain": [
       "                  pos     neg        word    cosine\n",
       "0  habitación + hotel  comida         com  0.656843\n",
       "1  habitación + hotel  comida     booking  0.642220\n",
       "2  habitación + hotel  comida  reservamos  0.629496\n",
       "3  habitación + hotel  comida       suite  0.610207\n",
       "4  habitación + hotel  comida      noches  0.604475\n",
       "5  habitación + hotel  comida     reservé  0.601576\n",
       "6  habitación + hotel  comida   reservado  0.601132\n",
       "7  habitación + hotel  comida    edificio  0.600339\n",
       "8  habitación + hotel  comida       villa  0.593378\n",
       "9  habitación + hotel  comida        piso  0.590269"
      ]
     },
     "metadata": {},
     "output_type": "display_data"
    },
    {
     "name": "stdout",
     "output_type": "stream",
     "text": [
      "\n",
      "Analogía: (servicio + excelente) - (comida)\n"
     ]
    },
    {
     "data": {
      "application/vnd.microsoft.datawrangler.viewer.v0+json": {
       "columns": [
        {
         "name": "index",
         "rawType": "int64",
         "type": "integer"
        },
        {
         "name": "pos",
         "rawType": "object",
         "type": "string"
        },
        {
         "name": "neg",
         "rawType": "object",
         "type": "string"
        },
        {
         "name": "word",
         "rawType": "object",
         "type": "string"
        },
        {
         "name": "cosine",
         "rawType": "float64",
         "type": "float"
        }
       ],
       "ref": "d15dcd21-83e0-462d-9e7f-7710781ea5b5",
       "rows": [
        [
         "0",
         "servicio + excelente",
         "comida",
         "hospedarse",
         "0.5742469429969788"
        ],
        [
         "1",
         "servicio + excelente",
         "comida",
         "exquisita",
         "0.5614650845527649"
        ],
        [
         "2",
         "servicio + excelente",
         "comida",
         "inmejorable",
         "0.558496356010437"
        ],
        [
         "3",
         "servicio + excelente",
         "comida",
         "llama",
         "0.5561532974243164"
        ],
        [
         "4",
         "servicio + excelente",
         "comida",
         "súper",
         "0.5541822910308838"
        ],
        [
         "5",
         "servicio + excelente",
         "comida",
         "atenta",
         "0.5533027052879333"
        ],
        [
         "6",
         "servicio + excelente",
         "comida",
         "anteriormente",
         "0.5512701272964478"
        ],
        [
         "7",
         "servicio + excelente",
         "comida",
         "atencion",
         "0.5434470176696777"
        ],
        [
         "8",
         "servicio + excelente",
         "comida",
         "impecable",
         "0.5424066781997681"
        ],
        [
         "9",
         "servicio + excelente",
         "comida",
         "bernal",
         "0.5418614149093628"
        ]
       ],
       "shape": {
        "columns": 4,
        "rows": 10
       }
      },
      "text/html": [
       "<div>\n",
       "<style scoped>\n",
       "    .dataframe tbody tr th:only-of-type {\n",
       "        vertical-align: middle;\n",
       "    }\n",
       "\n",
       "    .dataframe tbody tr th {\n",
       "        vertical-align: top;\n",
       "    }\n",
       "\n",
       "    .dataframe thead th {\n",
       "        text-align: right;\n",
       "    }\n",
       "</style>\n",
       "<table border=\"1\" class=\"dataframe\">\n",
       "  <thead>\n",
       "    <tr style=\"text-align: right;\">\n",
       "      <th></th>\n",
       "      <th>pos</th>\n",
       "      <th>neg</th>\n",
       "      <th>word</th>\n",
       "      <th>cosine</th>\n",
       "    </tr>\n",
       "  </thead>\n",
       "  <tbody>\n",
       "    <tr>\n",
       "      <th>0</th>\n",
       "      <td>servicio + excelente</td>\n",
       "      <td>comida</td>\n",
       "      <td>hospedarse</td>\n",
       "      <td>0.574247</td>\n",
       "    </tr>\n",
       "    <tr>\n",
       "      <th>1</th>\n",
       "      <td>servicio + excelente</td>\n",
       "      <td>comida</td>\n",
       "      <td>exquisita</td>\n",
       "      <td>0.561465</td>\n",
       "    </tr>\n",
       "    <tr>\n",
       "      <th>2</th>\n",
       "      <td>servicio + excelente</td>\n",
       "      <td>comida</td>\n",
       "      <td>inmejorable</td>\n",
       "      <td>0.558496</td>\n",
       "    </tr>\n",
       "    <tr>\n",
       "      <th>3</th>\n",
       "      <td>servicio + excelente</td>\n",
       "      <td>comida</td>\n",
       "      <td>llama</td>\n",
       "      <td>0.556153</td>\n",
       "    </tr>\n",
       "    <tr>\n",
       "      <th>4</th>\n",
       "      <td>servicio + excelente</td>\n",
       "      <td>comida</td>\n",
       "      <td>súper</td>\n",
       "      <td>0.554182</td>\n",
       "    </tr>\n",
       "    <tr>\n",
       "      <th>5</th>\n",
       "      <td>servicio + excelente</td>\n",
       "      <td>comida</td>\n",
       "      <td>atenta</td>\n",
       "      <td>0.553303</td>\n",
       "    </tr>\n",
       "    <tr>\n",
       "      <th>6</th>\n",
       "      <td>servicio + excelente</td>\n",
       "      <td>comida</td>\n",
       "      <td>anteriormente</td>\n",
       "      <td>0.551270</td>\n",
       "    </tr>\n",
       "    <tr>\n",
       "      <th>7</th>\n",
       "      <td>servicio + excelente</td>\n",
       "      <td>comida</td>\n",
       "      <td>atencion</td>\n",
       "      <td>0.543447</td>\n",
       "    </tr>\n",
       "    <tr>\n",
       "      <th>8</th>\n",
       "      <td>servicio + excelente</td>\n",
       "      <td>comida</td>\n",
       "      <td>impecable</td>\n",
       "      <td>0.542407</td>\n",
       "    </tr>\n",
       "    <tr>\n",
       "      <th>9</th>\n",
       "      <td>servicio + excelente</td>\n",
       "      <td>comida</td>\n",
       "      <td>bernal</td>\n",
       "      <td>0.541861</td>\n",
       "    </tr>\n",
       "  </tbody>\n",
       "</table>\n",
       "</div>"
      ],
      "text/plain": [
       "                    pos     neg           word    cosine\n",
       "0  servicio + excelente  comida     hospedarse  0.574247\n",
       "1  servicio + excelente  comida      exquisita  0.561465\n",
       "2  servicio + excelente  comida    inmejorable  0.558496\n",
       "3  servicio + excelente  comida          llama  0.556153\n",
       "4  servicio + excelente  comida          súper  0.554182\n",
       "5  servicio + excelente  comida         atenta  0.553303\n",
       "6  servicio + excelente  comida  anteriormente  0.551270\n",
       "7  servicio + excelente  comida       atencion  0.543447\n",
       "8  servicio + excelente  comida      impecable  0.542407\n",
       "9  servicio + excelente  comida         bernal  0.541861"
      ]
     },
     "metadata": {},
     "output_type": "display_data"
    },
    {
     "name": "stdout",
     "output_type": "stream",
     "text": [
      "\n",
      "Analogía: (servicio + malo) - (comida)\n"
     ]
    },
    {
     "data": {
      "application/vnd.microsoft.datawrangler.viewer.v0+json": {
       "columns": [
        {
         "name": "index",
         "rawType": "int64",
         "type": "integer"
        },
        {
         "name": "pos",
         "rawType": "object",
         "type": "string"
        },
        {
         "name": "neg",
         "rawType": "object",
         "type": "string"
        },
        {
         "name": "word",
         "rawType": "object",
         "type": "string"
        },
        {
         "name": "cosine",
         "rawType": "float64",
         "type": "float"
        }
       ],
       "ref": "172fd5e8-0e11-4914-a181-26c5a8f9f1fd",
       "rows": [
        [
         "0",
         "servicio + malo",
         "comida",
         "aceptable",
         "0.664709210395813"
        ],
        [
         "1",
         "servicio + malo",
         "comida",
         "valet",
         "0.6599642038345337"
        ],
        [
         "2",
         "servicio + malo",
         "comida",
         "groseros",
         "0.6470191478729248"
        ],
        [
         "3",
         "servicio + malo",
         "comida",
         "atenderte",
         "0.6392496824264526"
        ],
        [
         "4",
         "servicio + malo",
         "comida",
         "tardado",
         "0.635938823223114"
        ],
        [
         "5",
         "servicio + malo",
         "comida",
         "comunicación",
         "0.633399248123169"
        ],
        [
         "6",
         "servicio + malo",
         "comida",
         "tardan",
         "0.6302517056465149"
        ],
        [
         "7",
         "servicio + malo",
         "comida",
         "deficiente",
         "0.6260204911231995"
        ],
        [
         "8",
         "servicio + malo",
         "comida",
         "empleados",
         "0.625056266784668"
        ],
        [
         "9",
         "servicio + malo",
         "comida",
         "restaurant",
         "0.6185857653617859"
        ]
       ],
       "shape": {
        "columns": 4,
        "rows": 10
       }
      },
      "text/html": [
       "<div>\n",
       "<style scoped>\n",
       "    .dataframe tbody tr th:only-of-type {\n",
       "        vertical-align: middle;\n",
       "    }\n",
       "\n",
       "    .dataframe tbody tr th {\n",
       "        vertical-align: top;\n",
       "    }\n",
       "\n",
       "    .dataframe thead th {\n",
       "        text-align: right;\n",
       "    }\n",
       "</style>\n",
       "<table border=\"1\" class=\"dataframe\">\n",
       "  <thead>\n",
       "    <tr style=\"text-align: right;\">\n",
       "      <th></th>\n",
       "      <th>pos</th>\n",
       "      <th>neg</th>\n",
       "      <th>word</th>\n",
       "      <th>cosine</th>\n",
       "    </tr>\n",
       "  </thead>\n",
       "  <tbody>\n",
       "    <tr>\n",
       "      <th>0</th>\n",
       "      <td>servicio + malo</td>\n",
       "      <td>comida</td>\n",
       "      <td>aceptable</td>\n",
       "      <td>0.664709</td>\n",
       "    </tr>\n",
       "    <tr>\n",
       "      <th>1</th>\n",
       "      <td>servicio + malo</td>\n",
       "      <td>comida</td>\n",
       "      <td>valet</td>\n",
       "      <td>0.659964</td>\n",
       "    </tr>\n",
       "    <tr>\n",
       "      <th>2</th>\n",
       "      <td>servicio + malo</td>\n",
       "      <td>comida</td>\n",
       "      <td>groseros</td>\n",
       "      <td>0.647019</td>\n",
       "    </tr>\n",
       "    <tr>\n",
       "      <th>3</th>\n",
       "      <td>servicio + malo</td>\n",
       "      <td>comida</td>\n",
       "      <td>atenderte</td>\n",
       "      <td>0.639250</td>\n",
       "    </tr>\n",
       "    <tr>\n",
       "      <th>4</th>\n",
       "      <td>servicio + malo</td>\n",
       "      <td>comida</td>\n",
       "      <td>tardado</td>\n",
       "      <td>0.635939</td>\n",
       "    </tr>\n",
       "    <tr>\n",
       "      <th>5</th>\n",
       "      <td>servicio + malo</td>\n",
       "      <td>comida</td>\n",
       "      <td>comunicación</td>\n",
       "      <td>0.633399</td>\n",
       "    </tr>\n",
       "    <tr>\n",
       "      <th>6</th>\n",
       "      <td>servicio + malo</td>\n",
       "      <td>comida</td>\n",
       "      <td>tardan</td>\n",
       "      <td>0.630252</td>\n",
       "    </tr>\n",
       "    <tr>\n",
       "      <th>7</th>\n",
       "      <td>servicio + malo</td>\n",
       "      <td>comida</td>\n",
       "      <td>deficiente</td>\n",
       "      <td>0.626020</td>\n",
       "    </tr>\n",
       "    <tr>\n",
       "      <th>8</th>\n",
       "      <td>servicio + malo</td>\n",
       "      <td>comida</td>\n",
       "      <td>empleados</td>\n",
       "      <td>0.625056</td>\n",
       "    </tr>\n",
       "    <tr>\n",
       "      <th>9</th>\n",
       "      <td>servicio + malo</td>\n",
       "      <td>comida</td>\n",
       "      <td>restaurant</td>\n",
       "      <td>0.618586</td>\n",
       "    </tr>\n",
       "  </tbody>\n",
       "</table>\n",
       "</div>"
      ],
      "text/plain": [
       "               pos     neg          word    cosine\n",
       "0  servicio + malo  comida     aceptable  0.664709\n",
       "1  servicio + malo  comida         valet  0.659964\n",
       "2  servicio + malo  comida      groseros  0.647019\n",
       "3  servicio + malo  comida     atenderte  0.639250\n",
       "4  servicio + malo  comida       tardado  0.635939\n",
       "5  servicio + malo  comida  comunicación  0.633399\n",
       "6  servicio + malo  comida        tardan  0.630252\n",
       "7  servicio + malo  comida    deficiente  0.626020\n",
       "8  servicio + malo  comida     empleados  0.625056\n",
       "9  servicio + malo  comida    restaurant  0.618586"
      ]
     },
     "metadata": {},
     "output_type": "display_data"
    },
    {
     "name": "stdout",
     "output_type": "stream",
     "text": [
      "\n",
      "Analogía: (playa + nadar) - (cenote)\n"
     ]
    },
    {
     "data": {
      "application/vnd.microsoft.datawrangler.viewer.v0+json": {
       "columns": [
        {
         "name": "index",
         "rawType": "int64",
         "type": "integer"
        },
        {
         "name": "pos",
         "rawType": "object",
         "type": "string"
        },
        {
         "name": "neg",
         "rawType": "object",
         "type": "string"
        },
        {
         "name": "word",
         "rawType": "object",
         "type": "string"
        },
        {
         "name": "cosine",
         "rawType": "float64",
         "type": "float"
        }
       ],
       "ref": "24e5e932-f720-492d-bd2f-258408a10808",
       "rows": [
        [
         "0",
         "playa + nadar",
         "cenote",
         "arena",
         "0.7002251148223877"
        ],
        [
         "1",
         "playa + nadar",
         "cenote",
         "sombrillas",
         "0.6883912086486816"
        ],
        [
         "2",
         "playa + nadar",
         "cenote",
         "algas",
         "0.6728013753890991"
        ],
        [
         "3",
         "playa + nadar",
         "cenote",
         "olas",
         "0.6718664169311523"
        ],
        [
         "4",
         "playa + nadar",
         "cenote",
         "preciosa",
         "0.6628416776657104"
        ],
        [
         "5",
         "playa + nadar",
         "cenote",
         "sombra",
         "0.6525170803070068"
        ],
        [
         "6",
         "playa + nadar",
         "cenote",
         "blanca",
         "0.6332780122756958"
        ],
        [
         "7",
         "playa + nadar",
         "cenote",
         "rompiendo",
         "0.6314927339553833"
        ],
        [
         "8",
         "playa + nadar",
         "cenote",
         "jugar",
         "0.6293414235115051"
        ],
        [
         "9",
         "playa + nadar",
         "cenote",
         "palmeras",
         "0.620571494102478"
        ]
       ],
       "shape": {
        "columns": 4,
        "rows": 10
       }
      },
      "text/html": [
       "<div>\n",
       "<style scoped>\n",
       "    .dataframe tbody tr th:only-of-type {\n",
       "        vertical-align: middle;\n",
       "    }\n",
       "\n",
       "    .dataframe tbody tr th {\n",
       "        vertical-align: top;\n",
       "    }\n",
       "\n",
       "    .dataframe thead th {\n",
       "        text-align: right;\n",
       "    }\n",
       "</style>\n",
       "<table border=\"1\" class=\"dataframe\">\n",
       "  <thead>\n",
       "    <tr style=\"text-align: right;\">\n",
       "      <th></th>\n",
       "      <th>pos</th>\n",
       "      <th>neg</th>\n",
       "      <th>word</th>\n",
       "      <th>cosine</th>\n",
       "    </tr>\n",
       "  </thead>\n",
       "  <tbody>\n",
       "    <tr>\n",
       "      <th>0</th>\n",
       "      <td>playa + nadar</td>\n",
       "      <td>cenote</td>\n",
       "      <td>arena</td>\n",
       "      <td>0.700225</td>\n",
       "    </tr>\n",
       "    <tr>\n",
       "      <th>1</th>\n",
       "      <td>playa + nadar</td>\n",
       "      <td>cenote</td>\n",
       "      <td>sombrillas</td>\n",
       "      <td>0.688391</td>\n",
       "    </tr>\n",
       "    <tr>\n",
       "      <th>2</th>\n",
       "      <td>playa + nadar</td>\n",
       "      <td>cenote</td>\n",
       "      <td>algas</td>\n",
       "      <td>0.672801</td>\n",
       "    </tr>\n",
       "    <tr>\n",
       "      <th>3</th>\n",
       "      <td>playa + nadar</td>\n",
       "      <td>cenote</td>\n",
       "      <td>olas</td>\n",
       "      <td>0.671866</td>\n",
       "    </tr>\n",
       "    <tr>\n",
       "      <th>4</th>\n",
       "      <td>playa + nadar</td>\n",
       "      <td>cenote</td>\n",
       "      <td>preciosa</td>\n",
       "      <td>0.662842</td>\n",
       "    </tr>\n",
       "    <tr>\n",
       "      <th>5</th>\n",
       "      <td>playa + nadar</td>\n",
       "      <td>cenote</td>\n",
       "      <td>sombra</td>\n",
       "      <td>0.652517</td>\n",
       "    </tr>\n",
       "    <tr>\n",
       "      <th>6</th>\n",
       "      <td>playa + nadar</td>\n",
       "      <td>cenote</td>\n",
       "      <td>blanca</td>\n",
       "      <td>0.633278</td>\n",
       "    </tr>\n",
       "    <tr>\n",
       "      <th>7</th>\n",
       "      <td>playa + nadar</td>\n",
       "      <td>cenote</td>\n",
       "      <td>rompiendo</td>\n",
       "      <td>0.631493</td>\n",
       "    </tr>\n",
       "    <tr>\n",
       "      <th>8</th>\n",
       "      <td>playa + nadar</td>\n",
       "      <td>cenote</td>\n",
       "      <td>jugar</td>\n",
       "      <td>0.629341</td>\n",
       "    </tr>\n",
       "    <tr>\n",
       "      <th>9</th>\n",
       "      <td>playa + nadar</td>\n",
       "      <td>cenote</td>\n",
       "      <td>palmeras</td>\n",
       "      <td>0.620571</td>\n",
       "    </tr>\n",
       "  </tbody>\n",
       "</table>\n",
       "</div>"
      ],
      "text/plain": [
       "             pos     neg        word    cosine\n",
       "0  playa + nadar  cenote       arena  0.700225\n",
       "1  playa + nadar  cenote  sombrillas  0.688391\n",
       "2  playa + nadar  cenote       algas  0.672801\n",
       "3  playa + nadar  cenote        olas  0.671866\n",
       "4  playa + nadar  cenote    preciosa  0.662842\n",
       "5  playa + nadar  cenote      sombra  0.652517\n",
       "6  playa + nadar  cenote      blanca  0.633278\n",
       "7  playa + nadar  cenote   rompiendo  0.631493\n",
       "8  playa + nadar  cenote       jugar  0.629341\n",
       "9  playa + nadar  cenote    palmeras  0.620571"
      ]
     },
     "metadata": {},
     "output_type": "display_data"
    },
    {
     "name": "stdout",
     "output_type": "stream",
     "text": [
      "\n",
      "Analogía: (tequila + jalisco) - (mezcal)\n"
     ]
    },
    {
     "data": {
      "application/vnd.microsoft.datawrangler.viewer.v0+json": {
       "columns": [
        {
         "name": "index",
         "rawType": "int64",
         "type": "integer"
        },
        {
         "name": "pos",
         "rawType": "object",
         "type": "string"
        },
        {
         "name": "neg",
         "rawType": "object",
         "type": "string"
        },
        {
         "name": "word",
         "rawType": "object",
         "type": "string"
        },
        {
         "name": "cosine",
         "rawType": "float64",
         "type": "float"
        }
       ],
       "ref": "54663245-b0c3-4a89-b40d-23cf6e311f5f",
       "rows": [
        [
         "0",
         "tequila + jalisco",
         "mezcal",
         "encontrarás",
         "0.8516840934753418"
        ],
        [
         "1",
         "tequila + jalisco",
         "mezcal",
         "quintana",
         "0.84222412109375"
        ],
        [
         "2",
         "tequila + jalisco",
         "mezcal",
         "remedios",
         "0.8414468169212341"
        ],
        [
         "3",
         "tequila + jalisco",
         "mezcal",
         "maravillas",
         "0.840090811252594"
        ],
        [
         "4",
         "tequila + jalisco",
         "mezcal",
         "patzcuaro",
         "0.8397106528282166"
        ],
        [
         "5",
         "tequila + jalisco",
         "mezcal",
         "recorrimos",
         "0.8335201740264893"
        ],
        [
         "6",
         "tequila + jalisco",
         "mezcal",
         "spratling",
         "0.8321799635887146"
        ],
        [
         "7",
         "tequila + jalisco",
         "mezcal",
         "roo",
         "0.8260786533355713"
        ],
        [
         "8",
         "tequila + jalisco",
         "mezcal",
         "mariposa",
         "0.8260706663131714"
        ],
        [
         "9",
         "tequila + jalisco",
         "mezcal",
         "divino",
         "0.8254541754722595"
        ]
       ],
       "shape": {
        "columns": 4,
        "rows": 10
       }
      },
      "text/html": [
       "<div>\n",
       "<style scoped>\n",
       "    .dataframe tbody tr th:only-of-type {\n",
       "        vertical-align: middle;\n",
       "    }\n",
       "\n",
       "    .dataframe tbody tr th {\n",
       "        vertical-align: top;\n",
       "    }\n",
       "\n",
       "    .dataframe thead th {\n",
       "        text-align: right;\n",
       "    }\n",
       "</style>\n",
       "<table border=\"1\" class=\"dataframe\">\n",
       "  <thead>\n",
       "    <tr style=\"text-align: right;\">\n",
       "      <th></th>\n",
       "      <th>pos</th>\n",
       "      <th>neg</th>\n",
       "      <th>word</th>\n",
       "      <th>cosine</th>\n",
       "    </tr>\n",
       "  </thead>\n",
       "  <tbody>\n",
       "    <tr>\n",
       "      <th>0</th>\n",
       "      <td>tequila + jalisco</td>\n",
       "      <td>mezcal</td>\n",
       "      <td>encontrarás</td>\n",
       "      <td>0.851684</td>\n",
       "    </tr>\n",
       "    <tr>\n",
       "      <th>1</th>\n",
       "      <td>tequila + jalisco</td>\n",
       "      <td>mezcal</td>\n",
       "      <td>quintana</td>\n",
       "      <td>0.842224</td>\n",
       "    </tr>\n",
       "    <tr>\n",
       "      <th>2</th>\n",
       "      <td>tequila + jalisco</td>\n",
       "      <td>mezcal</td>\n",
       "      <td>remedios</td>\n",
       "      <td>0.841447</td>\n",
       "    </tr>\n",
       "    <tr>\n",
       "      <th>3</th>\n",
       "      <td>tequila + jalisco</td>\n",
       "      <td>mezcal</td>\n",
       "      <td>maravillas</td>\n",
       "      <td>0.840091</td>\n",
       "    </tr>\n",
       "    <tr>\n",
       "      <th>4</th>\n",
       "      <td>tequila + jalisco</td>\n",
       "      <td>mezcal</td>\n",
       "      <td>patzcuaro</td>\n",
       "      <td>0.839711</td>\n",
       "    </tr>\n",
       "    <tr>\n",
       "      <th>5</th>\n",
       "      <td>tequila + jalisco</td>\n",
       "      <td>mezcal</td>\n",
       "      <td>recorrimos</td>\n",
       "      <td>0.833520</td>\n",
       "    </tr>\n",
       "    <tr>\n",
       "      <th>6</th>\n",
       "      <td>tequila + jalisco</td>\n",
       "      <td>mezcal</td>\n",
       "      <td>spratling</td>\n",
       "      <td>0.832180</td>\n",
       "    </tr>\n",
       "    <tr>\n",
       "      <th>7</th>\n",
       "      <td>tequila + jalisco</td>\n",
       "      <td>mezcal</td>\n",
       "      <td>roo</td>\n",
       "      <td>0.826079</td>\n",
       "    </tr>\n",
       "    <tr>\n",
       "      <th>8</th>\n",
       "      <td>tequila + jalisco</td>\n",
       "      <td>mezcal</td>\n",
       "      <td>mariposa</td>\n",
       "      <td>0.826071</td>\n",
       "    </tr>\n",
       "    <tr>\n",
       "      <th>9</th>\n",
       "      <td>tequila + jalisco</td>\n",
       "      <td>mezcal</td>\n",
       "      <td>divino</td>\n",
       "      <td>0.825454</td>\n",
       "    </tr>\n",
       "  </tbody>\n",
       "</table>\n",
       "</div>"
      ],
      "text/plain": [
       "                 pos     neg         word    cosine\n",
       "0  tequila + jalisco  mezcal  encontrarás  0.851684\n",
       "1  tequila + jalisco  mezcal     quintana  0.842224\n",
       "2  tequila + jalisco  mezcal     remedios  0.841447\n",
       "3  tequila + jalisco  mezcal   maravillas  0.840091\n",
       "4  tequila + jalisco  mezcal    patzcuaro  0.839711\n",
       "5  tequila + jalisco  mezcal   recorrimos  0.833520\n",
       "6  tequila + jalisco  mezcal    spratling  0.832180\n",
       "7  tequila + jalisco  mezcal          roo  0.826079\n",
       "8  tequila + jalisco  mezcal     mariposa  0.826071\n",
       "9  tequila + jalisco  mezcal       divino  0.825454"
      ]
     },
     "metadata": {},
     "output_type": "display_data"
    },
    {
     "name": "stdout",
     "output_type": "stream",
     "text": [
      "\n",
      "Analogía: (caro + malo) - (barato)\n"
     ]
    },
    {
     "data": {
      "application/vnd.microsoft.datawrangler.viewer.v0+json": {
       "columns": [
        {
         "name": "index",
         "rawType": "int64",
         "type": "integer"
        },
        {
         "name": "pos",
         "rawType": "object",
         "type": "string"
        },
        {
         "name": "neg",
         "rawType": "object",
         "type": "string"
        },
        {
         "name": "word",
         "rawType": "object",
         "type": "string"
        },
        {
         "name": "cosine",
         "rawType": "float64",
         "type": "float"
        }
       ],
       "ref": "e0f29023-6d35-48a9-a259-74df479a2965",
       "rows": [
        [
         "0",
         "caro + malo",
         "barato",
         "deficiente",
         "0.777827262878418"
        ],
        [
         "1",
         "caro + malo",
         "barato",
         "pésimo",
         "0.7682544589042664"
        ],
        [
         "2",
         "caro + malo",
         "barato",
         "tardado",
         "0.7355194687843323"
        ],
        [
         "3",
         "caro + malo",
         "barato",
         "pesimo",
         "0.725779116153717"
        ],
        [
         "4",
         "caro + malo",
         "barato",
         "regular",
         "0.7242406606674194"
        ],
        [
         "5",
         "caro + malo",
         "barato",
         "pesima",
         "0.7175258994102478"
        ],
        [
         "6",
         "caro + malo",
         "barato",
         "tardan",
         "0.7158612608909607"
        ],
        [
         "7",
         "caro + malo",
         "barato",
         "atenderte",
         "0.7038498520851135"
        ],
        [
         "8",
         "caro + malo",
         "barato",
         "escasa",
         "0.6894693374633789"
        ],
        [
         "9",
         "caro + malo",
         "barato",
         "lenta",
         "0.6846252083778381"
        ]
       ],
       "shape": {
        "columns": 4,
        "rows": 10
       }
      },
      "text/html": [
       "<div>\n",
       "<style scoped>\n",
       "    .dataframe tbody tr th:only-of-type {\n",
       "        vertical-align: middle;\n",
       "    }\n",
       "\n",
       "    .dataframe tbody tr th {\n",
       "        vertical-align: top;\n",
       "    }\n",
       "\n",
       "    .dataframe thead th {\n",
       "        text-align: right;\n",
       "    }\n",
       "</style>\n",
       "<table border=\"1\" class=\"dataframe\">\n",
       "  <thead>\n",
       "    <tr style=\"text-align: right;\">\n",
       "      <th></th>\n",
       "      <th>pos</th>\n",
       "      <th>neg</th>\n",
       "      <th>word</th>\n",
       "      <th>cosine</th>\n",
       "    </tr>\n",
       "  </thead>\n",
       "  <tbody>\n",
       "    <tr>\n",
       "      <th>0</th>\n",
       "      <td>caro + malo</td>\n",
       "      <td>barato</td>\n",
       "      <td>deficiente</td>\n",
       "      <td>0.777827</td>\n",
       "    </tr>\n",
       "    <tr>\n",
       "      <th>1</th>\n",
       "      <td>caro + malo</td>\n",
       "      <td>barato</td>\n",
       "      <td>pésimo</td>\n",
       "      <td>0.768254</td>\n",
       "    </tr>\n",
       "    <tr>\n",
       "      <th>2</th>\n",
       "      <td>caro + malo</td>\n",
       "      <td>barato</td>\n",
       "      <td>tardado</td>\n",
       "      <td>0.735519</td>\n",
       "    </tr>\n",
       "    <tr>\n",
       "      <th>3</th>\n",
       "      <td>caro + malo</td>\n",
       "      <td>barato</td>\n",
       "      <td>pesimo</td>\n",
       "      <td>0.725779</td>\n",
       "    </tr>\n",
       "    <tr>\n",
       "      <th>4</th>\n",
       "      <td>caro + malo</td>\n",
       "      <td>barato</td>\n",
       "      <td>regular</td>\n",
       "      <td>0.724241</td>\n",
       "    </tr>\n",
       "    <tr>\n",
       "      <th>5</th>\n",
       "      <td>caro + malo</td>\n",
       "      <td>barato</td>\n",
       "      <td>pesima</td>\n",
       "      <td>0.717526</td>\n",
       "    </tr>\n",
       "    <tr>\n",
       "      <th>6</th>\n",
       "      <td>caro + malo</td>\n",
       "      <td>barato</td>\n",
       "      <td>tardan</td>\n",
       "      <td>0.715861</td>\n",
       "    </tr>\n",
       "    <tr>\n",
       "      <th>7</th>\n",
       "      <td>caro + malo</td>\n",
       "      <td>barato</td>\n",
       "      <td>atenderte</td>\n",
       "      <td>0.703850</td>\n",
       "    </tr>\n",
       "    <tr>\n",
       "      <th>8</th>\n",
       "      <td>caro + malo</td>\n",
       "      <td>barato</td>\n",
       "      <td>escasa</td>\n",
       "      <td>0.689469</td>\n",
       "    </tr>\n",
       "    <tr>\n",
       "      <th>9</th>\n",
       "      <td>caro + malo</td>\n",
       "      <td>barato</td>\n",
       "      <td>lenta</td>\n",
       "      <td>0.684625</td>\n",
       "    </tr>\n",
       "  </tbody>\n",
       "</table>\n",
       "</div>"
      ],
      "text/plain": [
       "           pos     neg        word    cosine\n",
       "0  caro + malo  barato  deficiente  0.777827\n",
       "1  caro + malo  barato      pésimo  0.768254\n",
       "2  caro + malo  barato     tardado  0.735519\n",
       "3  caro + malo  barato      pesimo  0.725779\n",
       "4  caro + malo  barato     regular  0.724241\n",
       "5  caro + malo  barato      pesima  0.717526\n",
       "6  caro + malo  barato      tardan  0.715861\n",
       "7  caro + malo  barato   atenderte  0.703850\n",
       "8  caro + malo  barato      escasa  0.689469\n",
       "9  caro + malo  barato       lenta  0.684625"
      ]
     },
     "metadata": {},
     "output_type": "display_data"
    },
    {
     "name": "stdout",
     "output_type": "stream",
     "text": [
      "\n",
      "Analogía: (limpio + sucio) - (amable)\n"
     ]
    },
    {
     "data": {
      "application/vnd.microsoft.datawrangler.viewer.v0+json": {
       "columns": [
        {
         "name": "index",
         "rawType": "int64",
         "type": "integer"
        },
        {
         "name": "pos",
         "rawType": "object",
         "type": "string"
        },
        {
         "name": "neg",
         "rawType": "object",
         "type": "string"
        },
        {
         "name": "word",
         "rawType": "object",
         "type": "string"
        },
        {
         "name": "cosine",
         "rawType": "float64",
         "type": "float"
        }
       ],
       "ref": "cbb1dd6f-7f3b-432b-b13e-dc80254dabab",
       "rows": [
        [
         "0",
         "limpio + sucio",
         "amable",
         "descuidado",
         "0.7784045338630676"
        ],
        [
         "1",
         "limpio + sucio",
         "amable",
         "viejo",
         "0.7741933465003967"
        ],
        [
         "2",
         "limpio + sucio",
         "amable",
         "huele",
         "0.7656781077384949"
        ],
        [
         "3",
         "limpio + sucio",
         "amable",
         "armario",
         "0.7540605068206787"
        ],
        [
         "4",
         "limpio + sucio",
         "amable",
         "ventilador",
         "0.7490552067756653"
        ],
        [
         "5",
         "limpio + sucio",
         "amable",
         "colchón",
         "0.7348070740699768"
        ],
        [
         "6",
         "limpio + sucio",
         "amable",
         "feo",
         "0.7339457869529724"
        ],
        [
         "7",
         "limpio + sucio",
         "amable",
         "mobiliario",
         "0.728386402130127"
        ],
        [
         "8",
         "limpio + sucio",
         "amable",
         "paredes",
         "0.7274747490882874"
        ],
        [
         "9",
         "limpio + sucio",
         "amable",
         "cortina",
         "0.7248231768608093"
        ]
       ],
       "shape": {
        "columns": 4,
        "rows": 10
       }
      },
      "text/html": [
       "<div>\n",
       "<style scoped>\n",
       "    .dataframe tbody tr th:only-of-type {\n",
       "        vertical-align: middle;\n",
       "    }\n",
       "\n",
       "    .dataframe tbody tr th {\n",
       "        vertical-align: top;\n",
       "    }\n",
       "\n",
       "    .dataframe thead th {\n",
       "        text-align: right;\n",
       "    }\n",
       "</style>\n",
       "<table border=\"1\" class=\"dataframe\">\n",
       "  <thead>\n",
       "    <tr style=\"text-align: right;\">\n",
       "      <th></th>\n",
       "      <th>pos</th>\n",
       "      <th>neg</th>\n",
       "      <th>word</th>\n",
       "      <th>cosine</th>\n",
       "    </tr>\n",
       "  </thead>\n",
       "  <tbody>\n",
       "    <tr>\n",
       "      <th>0</th>\n",
       "      <td>limpio + sucio</td>\n",
       "      <td>amable</td>\n",
       "      <td>descuidado</td>\n",
       "      <td>0.778405</td>\n",
       "    </tr>\n",
       "    <tr>\n",
       "      <th>1</th>\n",
       "      <td>limpio + sucio</td>\n",
       "      <td>amable</td>\n",
       "      <td>viejo</td>\n",
       "      <td>0.774193</td>\n",
       "    </tr>\n",
       "    <tr>\n",
       "      <th>2</th>\n",
       "      <td>limpio + sucio</td>\n",
       "      <td>amable</td>\n",
       "      <td>huele</td>\n",
       "      <td>0.765678</td>\n",
       "    </tr>\n",
       "    <tr>\n",
       "      <th>3</th>\n",
       "      <td>limpio + sucio</td>\n",
       "      <td>amable</td>\n",
       "      <td>armario</td>\n",
       "      <td>0.754061</td>\n",
       "    </tr>\n",
       "    <tr>\n",
       "      <th>4</th>\n",
       "      <td>limpio + sucio</td>\n",
       "      <td>amable</td>\n",
       "      <td>ventilador</td>\n",
       "      <td>0.749055</td>\n",
       "    </tr>\n",
       "    <tr>\n",
       "      <th>5</th>\n",
       "      <td>limpio + sucio</td>\n",
       "      <td>amable</td>\n",
       "      <td>colchón</td>\n",
       "      <td>0.734807</td>\n",
       "    </tr>\n",
       "    <tr>\n",
       "      <th>6</th>\n",
       "      <td>limpio + sucio</td>\n",
       "      <td>amable</td>\n",
       "      <td>feo</td>\n",
       "      <td>0.733946</td>\n",
       "    </tr>\n",
       "    <tr>\n",
       "      <th>7</th>\n",
       "      <td>limpio + sucio</td>\n",
       "      <td>amable</td>\n",
       "      <td>mobiliario</td>\n",
       "      <td>0.728386</td>\n",
       "    </tr>\n",
       "    <tr>\n",
       "      <th>8</th>\n",
       "      <td>limpio + sucio</td>\n",
       "      <td>amable</td>\n",
       "      <td>paredes</td>\n",
       "      <td>0.727475</td>\n",
       "    </tr>\n",
       "    <tr>\n",
       "      <th>9</th>\n",
       "      <td>limpio + sucio</td>\n",
       "      <td>amable</td>\n",
       "      <td>cortina</td>\n",
       "      <td>0.724823</td>\n",
       "    </tr>\n",
       "  </tbody>\n",
       "</table>\n",
       "</div>"
      ],
      "text/plain": [
       "              pos     neg        word    cosine\n",
       "0  limpio + sucio  amable  descuidado  0.778405\n",
       "1  limpio + sucio  amable       viejo  0.774193\n",
       "2  limpio + sucio  amable       huele  0.765678\n",
       "3  limpio + sucio  amable     armario  0.754061\n",
       "4  limpio + sucio  amable  ventilador  0.749055\n",
       "5  limpio + sucio  amable     colchón  0.734807\n",
       "6  limpio + sucio  amable         feo  0.733946\n",
       "7  limpio + sucio  amable  mobiliario  0.728386\n",
       "8  limpio + sucio  amable     paredes  0.727475\n",
       "9  limpio + sucio  amable     cortina  0.724823"
      ]
     },
     "metadata": {},
     "output_type": "display_data"
    },
    {
     "name": "stdout",
     "output_type": "stream",
     "text": [
      "\n",
      "Analogía: (paz + tranquilidad) - (ruido)\n"
     ]
    },
    {
     "data": {
      "application/vnd.microsoft.datawrangler.viewer.v0+json": {
       "columns": [
        {
         "name": "index",
         "rawType": "int64",
         "type": "integer"
        },
        {
         "name": "pos",
         "rawType": "object",
         "type": "string"
        },
        {
         "name": "neg",
         "rawType": "object",
         "type": "string"
        },
        {
         "name": "word",
         "rawType": "object",
         "type": "string"
        },
        {
         "name": "cosine",
         "rawType": "float64",
         "type": "float"
        }
       ],
       "ref": "6e41bd65-e273-4449-8884-bbb65defad60",
       "rows": [
        [
         "0",
         "paz + tranquilidad",
         "ruido",
         "naturaleza",
         "0.8309943079948425"
        ],
        [
         "1",
         "paz + tranquilidad",
         "ruido",
         "arquitectura",
         "0.8287721872329712"
        ],
        [
         "2",
         "paz + tranquilidad",
         "ruido",
         "belleza",
         "0.8203036785125732"
        ],
        [
         "3",
         "paz + tranquilidad",
         "ruido",
         "ampliamente",
         "0.8192799687385559"
        ],
        [
         "4",
         "paz + tranquilidad",
         "ruido",
         "encuentras",
         "0.8109796643257141"
        ],
        [
         "5",
         "paz + tranquilidad",
         "ruido",
         "conocimiento",
         "0.8097659349441528"
        ],
        [
         "6",
         "paz + tranquilidad",
         "ruido",
         "medicina",
         "0.8048173785209656"
        ],
        [
         "7",
         "paz + tranquilidad",
         "ruido",
         "altamente",
         "0.8047395944595337"
        ],
        [
         "8",
         "paz + tranquilidad",
         "ruido",
         "respira",
         "0.8044283390045166"
        ],
        [
         "9",
         "paz + tranquilidad",
         "ruido",
         "cultura",
         "0.8031833171844482"
        ]
       ],
       "shape": {
        "columns": 4,
        "rows": 10
       }
      },
      "text/html": [
       "<div>\n",
       "<style scoped>\n",
       "    .dataframe tbody tr th:only-of-type {\n",
       "        vertical-align: middle;\n",
       "    }\n",
       "\n",
       "    .dataframe tbody tr th {\n",
       "        vertical-align: top;\n",
       "    }\n",
       "\n",
       "    .dataframe thead th {\n",
       "        text-align: right;\n",
       "    }\n",
       "</style>\n",
       "<table border=\"1\" class=\"dataframe\">\n",
       "  <thead>\n",
       "    <tr style=\"text-align: right;\">\n",
       "      <th></th>\n",
       "      <th>pos</th>\n",
       "      <th>neg</th>\n",
       "      <th>word</th>\n",
       "      <th>cosine</th>\n",
       "    </tr>\n",
       "  </thead>\n",
       "  <tbody>\n",
       "    <tr>\n",
       "      <th>0</th>\n",
       "      <td>paz + tranquilidad</td>\n",
       "      <td>ruido</td>\n",
       "      <td>naturaleza</td>\n",
       "      <td>0.830994</td>\n",
       "    </tr>\n",
       "    <tr>\n",
       "      <th>1</th>\n",
       "      <td>paz + tranquilidad</td>\n",
       "      <td>ruido</td>\n",
       "      <td>arquitectura</td>\n",
       "      <td>0.828772</td>\n",
       "    </tr>\n",
       "    <tr>\n",
       "      <th>2</th>\n",
       "      <td>paz + tranquilidad</td>\n",
       "      <td>ruido</td>\n",
       "      <td>belleza</td>\n",
       "      <td>0.820304</td>\n",
       "    </tr>\n",
       "    <tr>\n",
       "      <th>3</th>\n",
       "      <td>paz + tranquilidad</td>\n",
       "      <td>ruido</td>\n",
       "      <td>ampliamente</td>\n",
       "      <td>0.819280</td>\n",
       "    </tr>\n",
       "    <tr>\n",
       "      <th>4</th>\n",
       "      <td>paz + tranquilidad</td>\n",
       "      <td>ruido</td>\n",
       "      <td>encuentras</td>\n",
       "      <td>0.810980</td>\n",
       "    </tr>\n",
       "    <tr>\n",
       "      <th>5</th>\n",
       "      <td>paz + tranquilidad</td>\n",
       "      <td>ruido</td>\n",
       "      <td>conocimiento</td>\n",
       "      <td>0.809766</td>\n",
       "    </tr>\n",
       "    <tr>\n",
       "      <th>6</th>\n",
       "      <td>paz + tranquilidad</td>\n",
       "      <td>ruido</td>\n",
       "      <td>medicina</td>\n",
       "      <td>0.804817</td>\n",
       "    </tr>\n",
       "    <tr>\n",
       "      <th>7</th>\n",
       "      <td>paz + tranquilidad</td>\n",
       "      <td>ruido</td>\n",
       "      <td>altamente</td>\n",
       "      <td>0.804740</td>\n",
       "    </tr>\n",
       "    <tr>\n",
       "      <th>8</th>\n",
       "      <td>paz + tranquilidad</td>\n",
       "      <td>ruido</td>\n",
       "      <td>respira</td>\n",
       "      <td>0.804428</td>\n",
       "    </tr>\n",
       "    <tr>\n",
       "      <th>9</th>\n",
       "      <td>paz + tranquilidad</td>\n",
       "      <td>ruido</td>\n",
       "      <td>cultura</td>\n",
       "      <td>0.803183</td>\n",
       "    </tr>\n",
       "  </tbody>\n",
       "</table>\n",
       "</div>"
      ],
      "text/plain": [
       "                  pos    neg          word    cosine\n",
       "0  paz + tranquilidad  ruido    naturaleza  0.830994\n",
       "1  paz + tranquilidad  ruido  arquitectura  0.828772\n",
       "2  paz + tranquilidad  ruido       belleza  0.820304\n",
       "3  paz + tranquilidad  ruido   ampliamente  0.819280\n",
       "4  paz + tranquilidad  ruido    encuentras  0.810980\n",
       "5  paz + tranquilidad  ruido  conocimiento  0.809766\n",
       "6  paz + tranquilidad  ruido      medicina  0.804817\n",
       "7  paz + tranquilidad  ruido     altamente  0.804740\n",
       "8  paz + tranquilidad  ruido       respira  0.804428\n",
       "9  paz + tranquilidad  ruido       cultura  0.803183"
      ]
     },
     "metadata": {},
     "output_type": "display_data"
    },
    {
     "name": "stdout",
     "output_type": "stream",
     "text": [
      "\n",
      "Analogía: (cenote + agua) - (playa)\n"
     ]
    },
    {
     "data": {
      "application/vnd.microsoft.datawrangler.viewer.v0+json": {
       "columns": [
        {
         "name": "index",
         "rawType": "int64",
         "type": "integer"
        },
        {
         "name": "pos",
         "rawType": "object",
         "type": "string"
        },
        {
         "name": "neg",
         "rawType": "object",
         "type": "string"
        },
        {
         "name": "word",
         "rawType": "object",
         "type": "string"
        },
        {
         "name": "cosine",
         "rawType": "float64",
         "type": "float"
        }
       ],
       "ref": "27fd0eed-517b-451b-badf-c686a5390e33",
       "rows": [
        [
         "0",
         "cenote + agua",
         "playa",
         "nadar",
         "0.4939364492893219"
        ],
        [
         "1",
         "cenote + agua",
         "playa",
         "lleve",
         "0.4818899929523468"
        ],
        [
         "2",
         "cenote + agua",
         "playa",
         "chalecos",
         "0.472162663936615"
        ],
        [
         "3",
         "cenote + agua",
         "playa",
         "tortugas",
         "0.4712104797363281"
        ],
        [
         "4",
         "cenote + agua",
         "playa",
         "salvavidas",
         "0.4709198474884033"
        ],
        [
         "5",
         "cenote + agua",
         "playa",
         "gorra",
         "0.45553040504455566"
        ],
        [
         "6",
         "cenote + agua",
         "playa",
         "cuevas",
         "0.45035311579704285"
        ],
        [
         "7",
         "cenote + agua",
         "playa",
         "llevar",
         "0.4497535228729248"
        ],
        [
         "8",
         "cenote + agua",
         "playa",
         "solar",
         "0.4478393793106079"
        ],
        [
         "9",
         "cenote + agua",
         "playa",
         "peces",
         "0.4450666010379791"
        ]
       ],
       "shape": {
        "columns": 4,
        "rows": 10
       }
      },
      "text/html": [
       "<div>\n",
       "<style scoped>\n",
       "    .dataframe tbody tr th:only-of-type {\n",
       "        vertical-align: middle;\n",
       "    }\n",
       "\n",
       "    .dataframe tbody tr th {\n",
       "        vertical-align: top;\n",
       "    }\n",
       "\n",
       "    .dataframe thead th {\n",
       "        text-align: right;\n",
       "    }\n",
       "</style>\n",
       "<table border=\"1\" class=\"dataframe\">\n",
       "  <thead>\n",
       "    <tr style=\"text-align: right;\">\n",
       "      <th></th>\n",
       "      <th>pos</th>\n",
       "      <th>neg</th>\n",
       "      <th>word</th>\n",
       "      <th>cosine</th>\n",
       "    </tr>\n",
       "  </thead>\n",
       "  <tbody>\n",
       "    <tr>\n",
       "      <th>0</th>\n",
       "      <td>cenote + agua</td>\n",
       "      <td>playa</td>\n",
       "      <td>nadar</td>\n",
       "      <td>0.493936</td>\n",
       "    </tr>\n",
       "    <tr>\n",
       "      <th>1</th>\n",
       "      <td>cenote + agua</td>\n",
       "      <td>playa</td>\n",
       "      <td>lleve</td>\n",
       "      <td>0.481890</td>\n",
       "    </tr>\n",
       "    <tr>\n",
       "      <th>2</th>\n",
       "      <td>cenote + agua</td>\n",
       "      <td>playa</td>\n",
       "      <td>chalecos</td>\n",
       "      <td>0.472163</td>\n",
       "    </tr>\n",
       "    <tr>\n",
       "      <th>3</th>\n",
       "      <td>cenote + agua</td>\n",
       "      <td>playa</td>\n",
       "      <td>tortugas</td>\n",
       "      <td>0.471210</td>\n",
       "    </tr>\n",
       "    <tr>\n",
       "      <th>4</th>\n",
       "      <td>cenote + agua</td>\n",
       "      <td>playa</td>\n",
       "      <td>salvavidas</td>\n",
       "      <td>0.470920</td>\n",
       "    </tr>\n",
       "    <tr>\n",
       "      <th>5</th>\n",
       "      <td>cenote + agua</td>\n",
       "      <td>playa</td>\n",
       "      <td>gorra</td>\n",
       "      <td>0.455530</td>\n",
       "    </tr>\n",
       "    <tr>\n",
       "      <th>6</th>\n",
       "      <td>cenote + agua</td>\n",
       "      <td>playa</td>\n",
       "      <td>cuevas</td>\n",
       "      <td>0.450353</td>\n",
       "    </tr>\n",
       "    <tr>\n",
       "      <th>7</th>\n",
       "      <td>cenote + agua</td>\n",
       "      <td>playa</td>\n",
       "      <td>llevar</td>\n",
       "      <td>0.449754</td>\n",
       "    </tr>\n",
       "    <tr>\n",
       "      <th>8</th>\n",
       "      <td>cenote + agua</td>\n",
       "      <td>playa</td>\n",
       "      <td>solar</td>\n",
       "      <td>0.447839</td>\n",
       "    </tr>\n",
       "    <tr>\n",
       "      <th>9</th>\n",
       "      <td>cenote + agua</td>\n",
       "      <td>playa</td>\n",
       "      <td>peces</td>\n",
       "      <td>0.445067</td>\n",
       "    </tr>\n",
       "  </tbody>\n",
       "</table>\n",
       "</div>"
      ],
      "text/plain": [
       "             pos    neg        word    cosine\n",
       "0  cenote + agua  playa       nadar  0.493936\n",
       "1  cenote + agua  playa       lleve  0.481890\n",
       "2  cenote + agua  playa    chalecos  0.472163\n",
       "3  cenote + agua  playa    tortugas  0.471210\n",
       "4  cenote + agua  playa  salvavidas  0.470920\n",
       "5  cenote + agua  playa       gorra  0.455530\n",
       "6  cenote + agua  playa      cuevas  0.450353\n",
       "7  cenote + agua  playa      llevar  0.449754\n",
       "8  cenote + agua  playa       solar  0.447839\n",
       "9  cenote + agua  playa       peces  0.445067"
      ]
     },
     "metadata": {},
     "output_type": "display_data"
    },
    {
     "name": "stdout",
     "output_type": "stream",
     "text": [
      "\n",
      "Analogía: (pirámide + maya) - (ruinas)\n"
     ]
    },
    {
     "data": {
      "application/vnd.microsoft.datawrangler.viewer.v0+json": {
       "columns": [
        {
         "name": "index",
         "rawType": "int64",
         "type": "integer"
        },
        {
         "name": "pos",
         "rawType": "object",
         "type": "string"
        },
        {
         "name": "neg",
         "rawType": "object",
         "type": "string"
        },
        {
         "name": "word",
         "rawType": "object",
         "type": "string"
        },
        {
         "name": "cosine",
         "rawType": "float64",
         "type": "float"
        }
       ],
       "ref": "6c8b5679-77ea-42e5-ade1-e5b1696a23f5",
       "rows": [
        [
         "0",
         "pirámide + maya",
         "ruinas",
         "exposición",
         "0.7355824708938599"
        ],
        [
         "1",
         "pirámide + maya",
         "ruinas",
         "remedios",
         "0.7284123301506042"
        ],
        [
         "2",
         "pirámide + maya",
         "ruinas",
         "admirar",
         "0.7278831005096436"
        ],
        [
         "3",
         "pirámide + maya",
         "ruinas",
         "imperdible",
         "0.7276347875595093"
        ],
        [
         "4",
         "pirámide + maya",
         "ruinas",
         "patzcuaro",
         "0.7148213982582092"
        ],
        [
         "5",
         "pirámide + maya",
         "ruinas",
         "templo",
         "0.7126047015190125"
        ],
        [
         "6",
         "pirámide + maya",
         "ruinas",
         "fortaleza",
         "0.7112765312194824"
        ],
        [
         "7",
         "pirámide + maya",
         "ruinas",
         "cultural",
         "0.7108722925186157"
        ],
        [
         "8",
         "pirámide + maya",
         "ruinas",
         "quintana",
         "0.7071142196655273"
        ],
        [
         "9",
         "pirámide + maya",
         "ruinas",
         "país",
         "0.6949175000190735"
        ]
       ],
       "shape": {
        "columns": 4,
        "rows": 10
       }
      },
      "text/html": [
       "<div>\n",
       "<style scoped>\n",
       "    .dataframe tbody tr th:only-of-type {\n",
       "        vertical-align: middle;\n",
       "    }\n",
       "\n",
       "    .dataframe tbody tr th {\n",
       "        vertical-align: top;\n",
       "    }\n",
       "\n",
       "    .dataframe thead th {\n",
       "        text-align: right;\n",
       "    }\n",
       "</style>\n",
       "<table border=\"1\" class=\"dataframe\">\n",
       "  <thead>\n",
       "    <tr style=\"text-align: right;\">\n",
       "      <th></th>\n",
       "      <th>pos</th>\n",
       "      <th>neg</th>\n",
       "      <th>word</th>\n",
       "      <th>cosine</th>\n",
       "    </tr>\n",
       "  </thead>\n",
       "  <tbody>\n",
       "    <tr>\n",
       "      <th>0</th>\n",
       "      <td>pirámide + maya</td>\n",
       "      <td>ruinas</td>\n",
       "      <td>exposición</td>\n",
       "      <td>0.735582</td>\n",
       "    </tr>\n",
       "    <tr>\n",
       "      <th>1</th>\n",
       "      <td>pirámide + maya</td>\n",
       "      <td>ruinas</td>\n",
       "      <td>remedios</td>\n",
       "      <td>0.728412</td>\n",
       "    </tr>\n",
       "    <tr>\n",
       "      <th>2</th>\n",
       "      <td>pirámide + maya</td>\n",
       "      <td>ruinas</td>\n",
       "      <td>admirar</td>\n",
       "      <td>0.727883</td>\n",
       "    </tr>\n",
       "    <tr>\n",
       "      <th>3</th>\n",
       "      <td>pirámide + maya</td>\n",
       "      <td>ruinas</td>\n",
       "      <td>imperdible</td>\n",
       "      <td>0.727635</td>\n",
       "    </tr>\n",
       "    <tr>\n",
       "      <th>4</th>\n",
       "      <td>pirámide + maya</td>\n",
       "      <td>ruinas</td>\n",
       "      <td>patzcuaro</td>\n",
       "      <td>0.714821</td>\n",
       "    </tr>\n",
       "    <tr>\n",
       "      <th>5</th>\n",
       "      <td>pirámide + maya</td>\n",
       "      <td>ruinas</td>\n",
       "      <td>templo</td>\n",
       "      <td>0.712605</td>\n",
       "    </tr>\n",
       "    <tr>\n",
       "      <th>6</th>\n",
       "      <td>pirámide + maya</td>\n",
       "      <td>ruinas</td>\n",
       "      <td>fortaleza</td>\n",
       "      <td>0.711277</td>\n",
       "    </tr>\n",
       "    <tr>\n",
       "      <th>7</th>\n",
       "      <td>pirámide + maya</td>\n",
       "      <td>ruinas</td>\n",
       "      <td>cultural</td>\n",
       "      <td>0.710872</td>\n",
       "    </tr>\n",
       "    <tr>\n",
       "      <th>8</th>\n",
       "      <td>pirámide + maya</td>\n",
       "      <td>ruinas</td>\n",
       "      <td>quintana</td>\n",
       "      <td>0.707114</td>\n",
       "    </tr>\n",
       "    <tr>\n",
       "      <th>9</th>\n",
       "      <td>pirámide + maya</td>\n",
       "      <td>ruinas</td>\n",
       "      <td>país</td>\n",
       "      <td>0.694918</td>\n",
       "    </tr>\n",
       "  </tbody>\n",
       "</table>\n",
       "</div>"
      ],
      "text/plain": [
       "               pos     neg        word    cosine\n",
       "0  pirámide + maya  ruinas  exposición  0.735582\n",
       "1  pirámide + maya  ruinas    remedios  0.728412\n",
       "2  pirámide + maya  ruinas     admirar  0.727883\n",
       "3  pirámide + maya  ruinas  imperdible  0.727635\n",
       "4  pirámide + maya  ruinas   patzcuaro  0.714821\n",
       "5  pirámide + maya  ruinas      templo  0.712605\n",
       "6  pirámide + maya  ruinas   fortaleza  0.711277\n",
       "7  pirámide + maya  ruinas    cultural  0.710872\n",
       "8  pirámide + maya  ruinas    quintana  0.707114\n",
       "9  pirámide + maya  ruinas        país  0.694918"
      ]
     },
     "metadata": {},
     "output_type": "display_data"
    },
    {
     "name": "stdout",
     "output_type": "stream",
     "text": [
      "\n",
      "Guardado: ../reports/tables/word2vec_analogies.csv\n"
     ]
    }
   ],
   "source": [
    "# ============================================================\n",
    "# Analogías con Word2Vec\n",
    "# ============================================================\n",
    "import numpy as np\n",
    "import pandas as pd\n",
    "from collections import defaultdict\n",
    "\n",
    "wv = w2v_model.wv\n",
    "V  = set(wv.index_to_key)  # vocab entrenado\n",
    "\n",
    "def in_vocab(token):\n",
    "    return token in V\n",
    "\n",
    "def try_analogy(positives, negatives, topn=10):\n",
    "    \"\"\"\n",
    "    positives: lista de tokens (+)\n",
    "    negatives: lista de tokens (-)\n",
    "    Retorna DataFrame con topn similares o None si falta vocab.\n",
    "    \"\"\"\n",
    "    # Checa vocabulario\n",
    "    missing = [t for t in positives + negatives if not in_vocab(t)]\n",
    "    if missing:\n",
    "        return None, missing\n",
    "\n",
    "    res = wv.most_similar(positive=positives, negative=negatives, topn=topn)\n",
    "    df_res = pd.DataFrame(res, columns=[\"word\", \"cosine\"])\n",
    "    df_res.insert(0, \"pos\", [\" + \".join(positives)]*len(df_res))\n",
    "    df_res.insert(1, \"neg\", [\" - \".join(negatives)]*len(df_res))\n",
    "    return df_res, []\n",
    "\n",
    "# Lista de analogías candidatas (dominio reseñas / turismo)\n",
    "analogies = [\n",
    "    # Relaciones de Partes a un Todo (más directas)\n",
    "    ([\"restaurante\", \"comida\"], [\"hotel\"]),\n",
    "    ([\"habitación\", \"hotel\"], [\"comida\"]),\n",
    "\n",
    "    # Relaciones de Atributos y Cualidades\n",
    "    ([\"servicio\", \"excelente\"], [\"comida\"]),\n",
    "    ([\"servicio\", \"malo\"], [\"comida\"]),\n",
    "\n",
    "    # Relaciones de Ubicación y Actividad\n",
    "    ([\"playa\", \"nadar\"], [\"cenote\"]),\n",
    "\n",
    "    # Relaciones de Ubicación y Cultura/Producto\n",
    "    ([\"tequila\", \"jalisco\"], [\"mezcal\"]),\n",
    "\n",
    "    # Relaciones de Oposición (antónimos)\n",
    "    ([\"caro\", \"malo\"], [\"barato\"]),\n",
    "    ([\"limpio\", \"sucio\"], [\"amable\"]),\n",
    "    ([\"paz\", \"tranquilidad\"], [\"ruido\"]),\n",
    "\n",
    "    # Relaciones de Lugares y sus Atributos\n",
    "    ([\"cenote\", \"agua\"], [\"playa\"]),\n",
    "    ([\"pirámide\", \"maya\"], [\"ruinas\"]),\n",
    "]\n",
    "\n",
    "# Ejecuta y colecciona\n",
    "results = []\n",
    "skipped = []\n",
    "\n",
    "for pos, neg in analogies:\n",
    "    df_res, miss = try_analogy(pos, neg, topn=10)\n",
    "    if df_res is None:\n",
    "        skipped.append({\"pos\": \" + \".join(pos), \"neg\": \" - \".join(neg), \"missing\": miss})\n",
    "        continue\n",
    "    results.append(df_res)\n",
    "    # Print\n",
    "    print(f\"\\nAnalogía: ({' + '.join(pos)}) - ({' - '.join(neg)})\")\n",
    "    display(df_res.head(10))\n",
    "\n",
    "# Combina resultados exitosos\n",
    "if results:\n",
    "    analogies_df = pd.concat(results, ignore_index=True)\n",
    "    # Guarda para el reporte\n",
    "    out_path = \"../reports/tables/word2vec_analogies.csv\"\n",
    "    analogies_df.to_csv(out_path, index=False)\n",
    "    print(f\"\\nGuardado: {out_path}\")\n"
   ]
  },
  {
   "cell_type": "markdown",
   "metadata": {},
   "source": [
    "## 8. Embeddings de documento y clusterización"
   ]
  },
  {
   "cell_type": "markdown",
   "id": "5eade7b1",
   "metadata": {},
   "source": [
    "Calcula embeddings de documentos como el promedio de Word2Vec."
   ]
  },
  {
   "cell_type": "code",
   "execution_count": 30,
   "id": "35730d8f",
   "metadata": {},
   "outputs": [
    {
     "name": "stdout",
     "output_type": "stream",
     "text": [
      "Forma de la matriz de embeddings: (5000, 300)\n"
     ]
    }
   ],
   "source": [
    "# ===============================================\n",
    "# Embeddings de documentos = promedio de Word2Vec\n",
    "# ===============================================\n",
    "\n",
    "wv = w2v_model.wv\n",
    "dim = wv.vector_size\n",
    "\n",
    "def doc_embedding(tokens):\n",
    "    \"\"\"Devuelve el embedding promedio de los tokens presentes en el vocabulario.\"\"\"\n",
    "    valid = [wv[t] for t in tokens if t in wv]\n",
    "    if not valid:\n",
    "        return np.zeros(dim)  # documento vacío o sin tokens en vocab\n",
    "    return np.mean(valid, axis=0)\n",
    "\n",
    "# Calculamos embeddings de todos los documentos\n",
    "doc_embeddings = np.vstack(df[\"tokens_clean\"].apply(doc_embedding).values)\n",
    "\n",
    "print(\"Forma de la matriz de embeddings:\", doc_embeddings.shape)\n"
   ]
  },
  {
   "cell_type": "markdown",
   "id": "8c2c4cc9",
   "metadata": {},
   "source": [
    "Aplica K-means con $k=5$."
   ]
  },
  {
   "cell_type": "code",
   "execution_count": 32,
   "id": "b67895f7",
   "metadata": {},
   "outputs": [
    {
     "name": "stdout",
     "output_type": "stream",
     "text": [
      "Inercia (suma de distancias al centroide): 1700.615478515625\n",
      "Tamaño de cada cluster:\n",
      "cluster\n",
      "0    1071\n",
      "1     796\n",
      "2     991\n",
      "3     764\n",
      "4    1378\n",
      "Name: count, dtype: int64\n"
     ]
    }
   ],
   "source": [
    "# ===============================================\n",
    "# K-means clustering con k=5 sobre embeddings\n",
    "# ===============================================\n",
    "\n",
    "k = 5\n",
    "kmeans = KMeans(n_clusters=k, random_state=42, n_init=10)\n",
    "clusters = kmeans.fit_predict(doc_embeddings)\n",
    "\n",
    "# Guardamos cluster asignado en el DataFrame\n",
    "df[\"cluster\"] = clusters\n",
    "\n",
    "# Información general\n",
    "print(\"Inercia (suma de distancias al centroide):\", kmeans.inertia_)\n",
    "print(\"Tamaño de cada cluster:\")\n",
    "print(df[\"cluster\"].value_counts().sort_index())\n"
   ]
  },
  {
   "cell_type": "markdown",
   "id": "0f688797",
   "metadata": {},
   "source": [
    "Reporta los 5 textos más cercanos al centroide de cada clúster."
   ]
  },
  {
   "cell_type": "code",
   "execution_count": 33,
   "id": "0d0b3e16",
   "metadata": {},
   "outputs": [
    {
     "name": "stdout",
     "output_type": "stream",
     "text": [
      "\n",
      "=== Cluster 0 (top 5 docs cercanos al centroide) ===\n",
      "1. Dist=0.2751 | DocID=2984\n",
      "    Cuando se viaja mis preocupaciones principales son tranquilidad, comodidad y limpieza. si el personal es amable o no realmente no me importa mientras que realizan su función. El personal de este hotel ...\n",
      "2. Dist=0.2777 | DocID=154\n",
      "    El hotel esta situado en un entorno magnifico, jardines y piscina muy cuidados, las habitaciones requerirían una reforma, sobre todo los baños, duchas con cortina, falta de ganchos para colgar las toa ...\n",
      "3. Dist=0.2793 | DocID=1344\n",
      "    Estoy tentado a dar Rancho encantado una crítica de cinco estrellas, simplemente porque su personal es el mejor. Todo el mundo te pide que te lo estás, desde la recepción hasta los jardineros. Realmen ...\n",
      "4. Dist=0.2842 | DocID=3167\n",
      "    Este hotel tiene su encanto, pero están perdiendo la mark en unos pocos lugares. Muy amable y competente, 2 restaurantes en el hotel con buena comida (aunque el servicio fue extremadamente lento una n ...\n",
      "5. Dist=0.2869 | DocID=857\n",
      "    Cuando reservé este hotel, tenía una calificación de 4 estrellas. No se deje engañar por las hermosas fotos, este hotel ni siquiera vale 2 estrellas en mi opinión. La limpieza y el mantenimiento están ...\n",
      "\n",
      "=== Cluster 1 (top 5 docs cercanos al centroide) ===\n",
      "1. Dist=0.2431 | DocID=1186\n",
      "    NO VAYAN A CASA CENOTE!!!El dueño, GARY es un gringo muy desagradable, super despota, trata a sus empleados como esclavos, no conoce ni la mas mínima regla de educación, ni siquiera responde a los sal ...\n",
      "2. Dist=0.2587 | DocID=2441\n",
      "    Empezando por lo malo, el servicio no está a la altura de la infraestructura del lugar, ni del precio que cobran. El personal no está lo suficientemente capacitado para tomar decisiones asertivas en f ...\n",
      "3. Dist=0.2620 | DocID=1994\n",
      "    Cuidado con sus platillos en el restaurante Orange, pues pueden llevarse la gran sorpresa de recibirlo con un pelo largo y negro. Lo anterior me sucedió hoy llegando al Hotel y Nunca llego el gerente  ...\n",
      "4. Dist=0.2717 | DocID=3304\n",
      "    Estamos de acuerdo con los comentarios que dicen que la comida es buena y barata. Tenga en cuenta que no tienen vino o cerveza, supongo que no hay licencia de licor. Pero esto es un terrible restauran ...\n",
      "5. Dist=0.2787 | DocID=3419\n",
      "    Hoy 1 de junio del 2017 fui a comer con mi mama ( de la tercera edad)a este hotel. El restaurant estaba vacío, para no hacerles largo el cuento, tardaron muchísimo en servirle el segundo tiempo del me ...\n",
      "\n",
      "=== Cluster 2 (top 5 docs cercanos al centroide) ===\n",
      "1. Dist=0.2676 | DocID=735\n",
      "    El hotel es hermoso, es de los pocos que esta mejor en vivo que en fotografías, el servicio es muyyy bueno, podría decir casi excelente salvó alguno que otro de la barra un poco payasitos, pero de ahí ...\n",
      "2. Dist=0.2827 | DocID=3545\n",
      "    Este lugar merece el aplauso de sus esmerados chefs. Buena comida, creativo y original. Sin duda sazon y presentación. Carta super reducida. El lugar es un jardín sin a/c con gatos medio descuidado y  ...\n",
      "3. Dist=0.2942 | DocID=3654\n",
      "    Comida: El menú es bastante reducido, sin embargo él sazón en la comida es sin duda lo mejor, las porciones de los platillos son bastante generosas.  Bebidas: Un menú que cubre bien las necesidades pa ...\n",
      "4. Dist=0.3027 | DocID=93\n",
      "    La vista del lugar es inmejorable, esta es muy buena, el ambiente es relajado... la verdad es una carta muy pequeña, y lo que probamos es simplemente normal y al decirlo así le estoy dando una calific ...\n",
      "5. Dist=0.3373 | DocID=2230\n",
      "    La ubicacion del lugar es buena. No esta tan centrico. Manejan buen servicio y el lugar está a gusto y bien decorado pero la comida es muuuy regular. Ordenamos tacos de entrada los cuales llegaron a t ...\n",
      "\n",
      "=== Cluster 3 (top 5 docs cercanos al centroide) ===\n",
      "1. Dist=0.2186 | DocID=2697\n",
      "    Nos recomendaron este restaurante por alguien viviendo en la isla y no nos decepcionó. Como íbamos a hacer nuestro asiento fuera, un hombre que estaba dejando recomendado el pargo relleno, así que fue ...\n",
      "2. Dist=0.2190 | DocID=1103\n",
      "    Acabo de regresar a nuestro hotel de este restaurante. Gran ubicación en Hidalgo, ambiente encantador. grupo de 6, comer la cena a las 6:30 y nos sorprendió que dos de sus platos no estaban disponible ...\n",
      "3. Dist=0.2487 | DocID=58\n",
      "    estado viniendo a este restaurante ya que a principios de la década de los 80. Me encanta sentarse bajo el árbol escuchando los sonidos locales saboreando un buen tequila. Este año me pareció que la c ...\n",
      "4. Dist=0.2528 | DocID=485\n",
      "    El lugar es engañoso desde el exterior. Pero no dejes que esto te desanime. Parece improbable que cualquier restaurante puede Field tapas, bistec y sushi y hacen bien pero la Casita lo hace con estilo ...\n",
      "5. Dist=0.2608 | DocID=2228\n",
      "    Este fue, con mucho, la mejor comida que tuve en Guadalajara. Carne en parecer jugo, no sólo era delicioso, pero muy bien presentado. Postre era absolutamente preciosa, y los precios eran correctas. P ...\n",
      "\n",
      "=== Cluster 4 (top 5 docs cercanos al centroide) ===\n",
      "1. Dist=0.2543 | DocID=1697\n",
      "    Dos advertencias: todo el sitio es significado en monocultivos que visite en el verano, que es como una sauna húmedo con un fuerte sol que azotaba sin cesar. No recomendaría una visita en verano para  ...\n",
      "2. Dist=0.2557 | DocID=1007\n",
      "    Tengo 25 años hospedándome en Posada de la Misión y me ha sorprendido que descubrieron una mina prehispánica debajo del edificio principal que tiene como 80 años. Es impresionante ver como la beta est ...\n",
      "3. Dist=0.2591 | DocID=1146\n",
      "    Visitamos los jardines en nuestro último viaje a la Isla en 2011, y fue impresionante. Ahora, 2014 - que ha caído en muy mal estado. La laguna fue seriamente inundada y había muy poco vida salvaje de  ...\n",
      "4. Dist=0.2838 | DocID=199\n",
      "    Mega excelente. Es muy recomendable, nuestra visita los últimos de Julio, por lo cual muy concurrido el lugar, me imaginé las filas de Disney. De regresar sería conveniente  en temporada   baja A inic ...\n",
      "5. Dist=0.2882 | DocID=2995\n",
      "    Es difícil catalogar esta experiencia, tratare de ser justo.Primero para ir desarrollando la idea seré conciso, es subir a una montaña, bellisima, con unas vistas increíbles para llegar a un templo, q ...\n"
     ]
    }
   ],
   "source": [
    "# ============================================================\n",
    "# Top-5 textos más cercanos al centroide de cada clúster\n",
    "# ============================================================\n",
    "\n",
    "def closest_docs_to_centroid(cluster_id, topn=5):\n",
    "    \"\"\"Devuelve índices y distancias de los top-n docs más cercanos al centroide.\"\"\"\n",
    "    centroid = kmeans.cluster_centers_[cluster_id]\n",
    "    dists = np.linalg.norm(doc_embeddings - centroid, axis=1)\n",
    "    idx_sorted = np.argsort(dists)\n",
    "    return idx_sorted[:topn], dists[idx_sorted[:topn]]\n",
    "\n",
    "# Mostrar resultados\n",
    "for c in range(k):\n",
    "    idxs, dists = closest_docs_to_centroid(c, topn=5)\n",
    "    print(f\"\\n=== Cluster {c} (top 5 docs cercanos al centroide) ===\")\n",
    "    for rank, (i, d) in enumerate(zip(idxs, dists), start=1):\n",
    "        print(f\"{rank}. Dist={d:.4f} | DocID={i}\")\n",
    "        print(\"   \", df[\"Review_clean\"].iloc[i][:200].replace(\"\\n\",\" \"), \"...\")\n"
   ]
  },
  {
   "cell_type": "code",
   "execution_count": null,
   "id": "774c63e6",
   "metadata": {},
   "outputs": [
    {
     "name": "stdout",
     "output_type": "stream",
     "text": [
      "Guardado en ../reports/tables/cluster_top_docs.csv\n"
     ]
    },
    {
     "data": {
      "application/vnd.microsoft.datawrangler.viewer.v0+json": {
       "columns": [
        {
         "name": "index",
         "rawType": "int64",
         "type": "integer"
        },
        {
         "name": "cluster",
         "rawType": "int64",
         "type": "integer"
        },
        {
         "name": "rank",
         "rawType": "int64",
         "type": "integer"
        },
        {
         "name": "doc_id",
         "rawType": "int64",
         "type": "integer"
        },
        {
         "name": "distance",
         "rawType": "float64",
         "type": "float"
        },
        {
         "name": "text",
         "rawType": "object",
         "type": "string"
        }
       ],
       "ref": "006dc896-9fdd-4591-b9d1-1724c97b67f7",
       "rows": [
        [
         "0",
         "0",
         "1",
         "2984",
         "0.27508437633514404",
         "Cuando se viaja mis preocupaciones principales son tranquilidad, comodidad y limpieza. si el personal es amable o no realmente no me importa mientras que realizan su función. El personal de este hotel eran fáciles de tratar y hacían lo que se les pedía. El hotel tiene un hermoso jardín y piscina, pero los baños eran unos 2 en una escala de 1-5 . Las duchas estaban hechas de un piso de hormigón con guijarros (lo que deseas usar zapatillas ducha. Este hotel está clasificado como un 4 estrellas pero no debe ser más que un dos (quizás sólo me dan asco fácilmente).  Los cinco de nosotros en nuestro grupo tenía la misma queja. los colchones son de 5 pulgadas gruesas y descansar en una plataforma de cemento. El aire acondicionado de la habitación funcionaba muy bien. El hotel está a…"
        ],
        [
         "1",
         "0",
         "2",
         "154",
         "0.277739942073822",
         "El hotel esta situado en un entorno magnifico, jardines y piscina muy cuidados, las habitaciones requerirían una reforma, sobre todo los baños, duchas con cortina, falta de ganchos para colgar las toallas. Es normal que debido a la situación uno pueda encontrar insectos a pesar de que haya mosquiteras, lo que no es de recibo es que la vista desde la habitación sea a un 'patio trasero' donde se amontonan cajas y algunos envases de plástico como si fuese un 'vertedero', lo que atrae 'visitantes', adjunto fotos. El desayuno deja bastante que desear, al igual que en otros Villa Mercedes hay ausencia de quesos y Embutidos. Por otra parte quisimos tomar un cafè a media tarde y nos dijeron que se les habia acabado (en chiapas!!), por la noche imposible aconseguir un gin-tònic o otro…"
        ],
        [
         "2",
         "0",
         "3",
         "1344",
         "0.2792690098285675",
         "Estoy tentado a dar Rancho encantado una crítica de cinco estrellas, simplemente porque su personal es el mejor. Todo el mundo te pide que te lo estás, desde la recepción hasta los jardineros. Realmente saben lo que significa un servicio estupendo.  sólo estuvimos 2 noches en nuestra luna de miel (29 julio - 31).  Nos dieron una de las cabañas, (nos dijeron que sólo este tiene aire acondicionado, no te arrepentirás pagando un poco más).  Pros: La comida en el restaurante es muy bueno y los precios son razonables en comparación con otros hoteles de la Riviera Maya. Ellos te deja usar kayaks sin cargos extras, que es un buen toque! También hay un jacuzzi que puede utilizar.  Los Contras: todavía no puedo encontrarlos. Estoy encantado que todo el mundo era tan agradable y educado."
        ],
        [
         "3",
         "0",
         "4",
         "3167",
         "0.2842365801334381",
         "Este hotel tiene su encanto, pero están perdiendo la mark en unos pocos lugares. Muy amable y competente, 2 restaurantes en el hotel con buena comida (aunque el servicio fue extremadamente lento una noche, y la Cornish despedida de fuera de 3 codorniz en vez), la piscina con una ciudad vistas y nadar-bar, pero la nublado la piscina agua nos mantuvo fuera), habitaciones limpias con un gran especie (pero con muy difícil colchones y un inop nevera que había nunca fueron repuestos, ya prometió). También tienen una tienda sundries pequeña, aunque me hubiera gustado que hubiera tenido/zumos de refrescos por venta allí - si no has traído la tuya, que no tienen opción, pero para llamar a un servicio de habitación o ir a los restaurantes del bar. Había una cantidad razonable de basura en…"
        ],
        [
         "4",
         "0",
         "5",
         "857",
         "0.28691422939300537",
         "Cuando reservé este hotel, tenía una calificación de 4 estrellas. No se deje engañar por las hermosas fotos, este hotel ni siquiera vale 2 estrellas en mi opinión. La limpieza y el mantenimiento están por debajo de la media, el personal no es amable ni servicial, las habitaciones son bastante básicas y las instalaciones son muy limitadas. Debido a covid, se proporciona un desayuno muy pobre. Una mañana, sin embargo, no se proporcionó nada ya que el responsable estaba dormido en el sofá de la sala de desayunos. Varios invitados intentaron despertarlo, pero se dio la vuelta y roncó. Aparentemente había combinado 2 turnos y estaba agotado, pero eso es solo una mala gestión por parte del gerente/propietario del hotel. La zona de la piscina se ve bien, pero no estaba muy limpia.…"
        ],
        [
         "5",
         "1",
         "1",
         "1186",
         "0.243065744638443",
         "NO VAYAN A CASA CENOTE!!!El dueño, GARY es un gringo muy desagradable, super despota, trata a sus empleados como esclavos, no conoce ni la mas mínima regla de educación, ni siquiera responde a los saludos de buenos dias de sus huespedes. Es el típico gringo que se piensa ser dueño del mundo, ni siquiera habla castellano y es un ser totalmente despreciable, sucio e ignorante, que piensa que por ser extranjero tiene derecho a todo y a tratar mal a quien le parece.Para comenzar en la habitacion habia caca de rata por todo lado, sobre todo en el baño. Nos quedamos por 2 noches, el ultimo día teníamos que esperar hasta las 6pm a que nos vengan a buscar. Despues de haber pagado por las dos noches, haber consumido en el restaurante del hotel y ser los unicos clientes, el impresentable del dueño (GARY) nos mando decir mediante uno de sus mosos que nos fueramos del lugar porque el check out era a las 11 de la mañana.  Nosotros, antes de eso, le pedimos amablamente si nos podian guardar los equipajes hasta esa hora y nos dijeron que no tenian lugar, cuando eramos los únicos alojados en el hotel.Seria bueno que la policía de migraciones de México se de una vuelta por el lugar, ya que ni siquiera entrega algún tipo de factura o recibo por lo consumido. Ya basta de dar de comer a gringos estúpidos y prepotentes que lo único que quieren hacer es llenarse los bosillos de dinero a costa de la explotación de sus empleados. Despierta Mexicano!! Es hora de decir basta a este tipo de abusos y sacar a estas lacras de este país."
        ],
        [
         "6",
         "1",
         "2",
         "2441",
         "0.25865331292152405",
         "Empezando por lo malo, el servicio no está a la altura de la infraestructura del lugar, ni del precio que cobran. El personal no está lo suficientemente capacitado para tomar decisiones asertivas en función de la experiencia del cliente. empecemos por la recepción. Para empezar, tomo más tiempo, de lo que considero correcto. una vez haciendo el Check -in, no sabía el muchacho que nos recibió si se debía hacer de manera escrita (en papeles) o digital (en la PC) y nada más alargo el tiempo queriendo hacer las dos cosas al mismo tiempo. Lo bueno de a recepción es que tienen agave cocido y pruebas de tequila, lo cual es muy rico, pero no tan apropiado cuando vienes con el estómago vacío, lo cual nos lleva a nuestro segundo punto, y quizá el que más mancho mi experiencia en este…"
        ],
        [
         "7",
         "1",
         "3",
         "1994",
         "0.26197096705436707",
         "Cuidado con sus platillos en el restaurante Orange, pues pueden llevarse la gran sorpresa de recibirlo con un pelo largo y negro. Lo anterior me sucedió hoy llegando al Hotel y Nunca llego el gerente a dar la cara. ¿Dónde podré comer en el Hotel tranquilo de saber que cumplen con normas de higiene?"
        ],
        [
         "8",
         "1",
         "4",
         "3304",
         "0.2717023193836212",
         "Estamos de acuerdo con los comentarios que dicen que la comida es buena y barata. Tenga en cuenta que no tienen vino o cerveza, supongo que no hay licencia de licor. Pero esto es un terrible restaurante. Entramos y olía a lejía. No hay absolutamente...nada de ambiente. llenado paredes blancas con una cama con dosel o dos, iluminación demasiado luminoso, nada amable. Es como si no saben cómo funciona un restaurante. Alguien estaba aspiradora o lijar o haciendo renos ( esto era 8:00).  Cuando le preguntamos qué tenían que beber la camarera parecían un poco desorientado. Coca Cola o té helado es lo que ella ofrece. Un muy atractiva y mal llevado. No me sorprende que estaba vacía. Se necesita más que una buena comida de hacer que la gente quiera pasar tiempo en su establecimiento. Nos dijeros que prácticamente fuera de la puerta. No lo recomiendo."
        ],
        [
         "9",
         "1",
         "5",
         "3419",
         "0.2786833345890045",
         "Hoy 1 de junio del 2017 fui a comer con mi mama ( de la tercera edad)a este hotel. El restaurant estaba vacío, para no hacerles largo el cuento, tardaron muchísimo en servirle el segundo tiempo del menú que pidió mi mama, por qué? La mesera estaba perdiendo el tiempo por otro lado y al darse cuenta de la demora fue a cocina y ahí se demoraron mucho más. Muy molesto les pedí me pasaran la cuenta y que me dieran los otros dos tiempos para llevar. Le mencioné a la mesera acerca de su servicio pésimo. No hay justificación ya que el restaurant estaba vacío. Al salir en recepción pregunte quién era el encargado (cabe mencionar que habían  2 damas y tres caballeros amontonados ahí platicando y viendo su celular ) solo una de las damas se digno en responderme, le manifesté mi…"
        ],
        [
         "10",
         "2",
         "1",
         "735",
         "0.2675713002681732",
         "El hotel es hermoso, es de los pocos que esta mejor en vivo que en fotografías, el servicio es muyyy bueno, podría decir casi excelente salvó alguno que otro de la barra un poco payasitos, pero de ahí en mas, meseros, recepción, choferes, etc todos super amables. La comida súper rico, en el desayuno no hay mucha variedad pero todo esta rico. Las cenas son excelentes mis favoritos fueron auma con el mesero César que atiende súper bien, y maxal que aunque es restaurante mexicano es comida más gourmet y en verdad están en otro nivel. En general nos encantó todo del hotel, trato, alimentos, bebidas, habitaciones etc. Recomiendo llevar aquashoes para entrar a la playa al entrar es un poco rocosa."
        ],
        [
         "11",
         "2",
         "2",
         "3545",
         "0.28269946575164795",
         "Este lugar merece el aplauso de sus esmerados chefs. Buena comida, creativo y original. Sin duda sazon y presentación. Carta super reducida. El lugar es un jardín sin a/c con gatos medio descuidado y un horroroso altar. El chef se presenta desaliñado, sudado y mucha..."
        ],
        [
         "12",
         "2",
         "3",
         "3654",
         "0.29419174790382385",
         "Comida: El menú es bastante reducido, sin embargo él sazón en la comida es sin duda lo mejor, las porciones de los platillos son bastante generosas.\n\nBebidas: Un menú que cubre bien las necesidades para un buen desayuno, jugos y cafes excelentes con una buena...porción de los mismos.\n\nAtención: A pesar de haber tres personas platicando en la caja, que esta ubicada al ingresar al restaurante, no te reciben para asignación de mesa o darte la bienvenida. Por otra parte, al ingresar e instalarte, los meseros del lugar están siempre atentos a que nada falte en tu mesa.\n\nAmbiente: El restaurante es muy amplio brindando varias opciones de mesas, al centro cuentan con una fuente y unas macetas adornándola, baños limpios y el lugar en general es acogedor.\n\nPrecio: El apartado a destacar, ya que es bastante accesible, tomando en cuenta el tipo de lugar y lo grande de las porciones en los alimentos\n\nUbicación: Bastante accesible, ubicado a un costado de la plaza del reloj. Se puede aparcar con facilidad en las calles cercanas al restaurante.\n\nConclusión: Un gran lugar para desayunar, sin duda volvería. Recomendado =]"
        ],
        [
         "13",
         "2",
         "4",
         "93",
         "0.3027493953704834",
         "La vista del lugar es inmejorable, esta es muy buena, el ambiente es relajado... la verdad es una carta muy pequeña, y lo que probamos es simplemente normal y al decirlo así le estoy dando una calificación alta, no tengo problema con pagar platillos caros..."
        ],
        [
         "14",
         "2",
         "5",
         "2230",
         "0.33725401759147644",
         "La ubicacion del lugar es buena. No esta tan centrico. Manejan buen servicio y el lugar está a gusto y bien decorado pero la comida es muuuy regular. Ordenamos tacos de entrada los cuales llegaron a tiempo pero el sazon muy por debajo de lo..."
        ]
       ],
       "shape": {
        "columns": 5,
        "rows": 15
       }
      },
      "text/html": [
       "<div>\n",
       "<style scoped>\n",
       "    .dataframe tbody tr th:only-of-type {\n",
       "        vertical-align: middle;\n",
       "    }\n",
       "\n",
       "    .dataframe tbody tr th {\n",
       "        vertical-align: top;\n",
       "    }\n",
       "\n",
       "    .dataframe thead th {\n",
       "        text-align: right;\n",
       "    }\n",
       "</style>\n",
       "<table border=\"1\" class=\"dataframe\">\n",
       "  <thead>\n",
       "    <tr style=\"text-align: right;\">\n",
       "      <th></th>\n",
       "      <th>cluster</th>\n",
       "      <th>rank</th>\n",
       "      <th>doc_id</th>\n",
       "      <th>distance</th>\n",
       "      <th>text</th>\n",
       "    </tr>\n",
       "  </thead>\n",
       "  <tbody>\n",
       "    <tr>\n",
       "      <th>0</th>\n",
       "      <td>0</td>\n",
       "      <td>1</td>\n",
       "      <td>2984</td>\n",
       "      <td>0.275084</td>\n",
       "      <td>Cuando se viaja mis preocupaciones principales...</td>\n",
       "    </tr>\n",
       "    <tr>\n",
       "      <th>1</th>\n",
       "      <td>0</td>\n",
       "      <td>2</td>\n",
       "      <td>154</td>\n",
       "      <td>0.277740</td>\n",
       "      <td>El hotel esta situado en un entorno magnifico,...</td>\n",
       "    </tr>\n",
       "    <tr>\n",
       "      <th>2</th>\n",
       "      <td>0</td>\n",
       "      <td>3</td>\n",
       "      <td>1344</td>\n",
       "      <td>0.279269</td>\n",
       "      <td>Estoy tentado a dar Rancho encantado una críti...</td>\n",
       "    </tr>\n",
       "    <tr>\n",
       "      <th>3</th>\n",
       "      <td>0</td>\n",
       "      <td>4</td>\n",
       "      <td>3167</td>\n",
       "      <td>0.284237</td>\n",
       "      <td>Este hotel tiene su encanto, pero están perdie...</td>\n",
       "    </tr>\n",
       "    <tr>\n",
       "      <th>4</th>\n",
       "      <td>0</td>\n",
       "      <td>5</td>\n",
       "      <td>857</td>\n",
       "      <td>0.286914</td>\n",
       "      <td>Cuando reservé este hotel, tenía una calificac...</td>\n",
       "    </tr>\n",
       "    <tr>\n",
       "      <th>5</th>\n",
       "      <td>1</td>\n",
       "      <td>1</td>\n",
       "      <td>1186</td>\n",
       "      <td>0.243066</td>\n",
       "      <td>NO VAYAN A CASA CENOTE!!!El dueño, GARY es un ...</td>\n",
       "    </tr>\n",
       "    <tr>\n",
       "      <th>6</th>\n",
       "      <td>1</td>\n",
       "      <td>2</td>\n",
       "      <td>2441</td>\n",
       "      <td>0.258653</td>\n",
       "      <td>Empezando por lo malo, el servicio no está a l...</td>\n",
       "    </tr>\n",
       "    <tr>\n",
       "      <th>7</th>\n",
       "      <td>1</td>\n",
       "      <td>3</td>\n",
       "      <td>1994</td>\n",
       "      <td>0.261971</td>\n",
       "      <td>Cuidado con sus platillos en el restaurante Or...</td>\n",
       "    </tr>\n",
       "    <tr>\n",
       "      <th>8</th>\n",
       "      <td>1</td>\n",
       "      <td>4</td>\n",
       "      <td>3304</td>\n",
       "      <td>0.271702</td>\n",
       "      <td>Estamos de acuerdo con los comentarios que dic...</td>\n",
       "    </tr>\n",
       "    <tr>\n",
       "      <th>9</th>\n",
       "      <td>1</td>\n",
       "      <td>5</td>\n",
       "      <td>3419</td>\n",
       "      <td>0.278683</td>\n",
       "      <td>Hoy 1 de junio del 2017 fui a comer con mi mam...</td>\n",
       "    </tr>\n",
       "    <tr>\n",
       "      <th>10</th>\n",
       "      <td>2</td>\n",
       "      <td>1</td>\n",
       "      <td>735</td>\n",
       "      <td>0.267571</td>\n",
       "      <td>El hotel es hermoso, es de los pocos que esta ...</td>\n",
       "    </tr>\n",
       "    <tr>\n",
       "      <th>11</th>\n",
       "      <td>2</td>\n",
       "      <td>2</td>\n",
       "      <td>3545</td>\n",
       "      <td>0.282699</td>\n",
       "      <td>Este lugar merece el aplauso de sus esmerados ...</td>\n",
       "    </tr>\n",
       "    <tr>\n",
       "      <th>12</th>\n",
       "      <td>2</td>\n",
       "      <td>3</td>\n",
       "      <td>3654</td>\n",
       "      <td>0.294192</td>\n",
       "      <td>Comida: El menú es bastante reducido, sin emba...</td>\n",
       "    </tr>\n",
       "    <tr>\n",
       "      <th>13</th>\n",
       "      <td>2</td>\n",
       "      <td>4</td>\n",
       "      <td>93</td>\n",
       "      <td>0.302749</td>\n",
       "      <td>La vista del lugar es inmejorable, esta es muy...</td>\n",
       "    </tr>\n",
       "    <tr>\n",
       "      <th>14</th>\n",
       "      <td>2</td>\n",
       "      <td>5</td>\n",
       "      <td>2230</td>\n",
       "      <td>0.337254</td>\n",
       "      <td>La ubicacion del lugar es buena. No esta tan c...</td>\n",
       "    </tr>\n",
       "  </tbody>\n",
       "</table>\n",
       "</div>"
      ],
      "text/plain": [
       "    cluster  rank  doc_id  distance  \\\n",
       "0         0     1    2984  0.275084   \n",
       "1         0     2     154  0.277740   \n",
       "2         0     3    1344  0.279269   \n",
       "3         0     4    3167  0.284237   \n",
       "4         0     5     857  0.286914   \n",
       "5         1     1    1186  0.243066   \n",
       "6         1     2    2441  0.258653   \n",
       "7         1     3    1994  0.261971   \n",
       "8         1     4    3304  0.271702   \n",
       "9         1     5    3419  0.278683   \n",
       "10        2     1     735  0.267571   \n",
       "11        2     2    3545  0.282699   \n",
       "12        2     3    3654  0.294192   \n",
       "13        2     4      93  0.302749   \n",
       "14        2     5    2230  0.337254   \n",
       "\n",
       "                                                 text  \n",
       "0   Cuando se viaja mis preocupaciones principales...  \n",
       "1   El hotel esta situado en un entorno magnifico,...  \n",
       "2   Estoy tentado a dar Rancho encantado una críti...  \n",
       "3   Este hotel tiene su encanto, pero están perdie...  \n",
       "4   Cuando reservé este hotel, tenía una calificac...  \n",
       "5   NO VAYAN A CASA CENOTE!!!El dueño, GARY es un ...  \n",
       "6   Empezando por lo malo, el servicio no está a l...  \n",
       "7   Cuidado con sus platillos en el restaurante Or...  \n",
       "8   Estamos de acuerdo con los comentarios que dic...  \n",
       "9   Hoy 1 de junio del 2017 fui a comer con mi mam...  \n",
       "10  El hotel es hermoso, es de los pocos que esta ...  \n",
       "11  Este lugar merece el aplauso de sus esmerados ...  \n",
       "12  Comida: El menú es bastante reducido, sin emba...  \n",
       "13  La vista del lugar es inmejorable, esta es muy...  \n",
       "14  La ubicacion del lugar es buena. No esta tan c...  "
      ]
     },
     "metadata": {},
     "output_type": "display_data"
    }
   ],
   "source": [
    "# Guardamos resultados\n",
    "os.makedirs(\"../reports/tables\", exist_ok=True)\n",
    "\n",
    "rows = []\n",
    "for c in range(k):\n",
    "    centroid = kmeans.cluster_centers_[c]\n",
    "    dists = np.linalg.norm(doc_embeddings - centroid, axis=1)\n",
    "    idx_sorted = np.argsort(dists)\n",
    "    top_idx = idx_sorted[:5]\n",
    "    for rank, i in enumerate(top_idx, start=1):\n",
    "        rows.append({\n",
    "            \"cluster\": c,\n",
    "            \"rank\": rank,\n",
    "            \"doc_id\": i,\n",
    "            \"distance\": float(dists[i]),\n",
    "            \"text\": df[\"Review_clean\"].iloc[i]\n",
    "        })\n",
    "\n",
    "cluster_top_docs = pd.DataFrame(rows)\n",
    "out_path = \"../reports/tables/cluster_top_docs.csv\"\n",
    "cluster_top_docs.to_csv(out_path, index=False)\n",
    "\n",
    "print(f\"Guardado en {out_path}\")\n",
    "display(cluster_top_docs.head(15))"
   ]
  },
  {
   "cell_type": "markdown",
   "id": "dee6f5cd",
   "metadata": {},
   "source": [
    "Discute si los clústeres se alinean con las etiquetas originales."
   ]
  },
  {
   "cell_type": "markdown",
   "id": "9bf7f1c7",
   "metadata": {},
   "source": [
    "## 9. Clasificación con partición 70/30"
   ]
  },
  {
   "cell_type": "markdown",
   "id": "66da441c",
   "metadata": {},
   "source": [
    "\n",
    "Realiza cuatro experimentos acumulativos con un clasificador (SVM o regresión logística):\n",
    "\n",
    "1.  Sin preprocesamiento.\n",
    "2.  Con minúsculas.\n",
    "3.  Con minúsculas y stemming/lematización.\n",
    "4.  Con minúsculas, stemming y filtrando palabras con una frecuencia mínima de 10."
   ]
  },
  {
   "cell_type": "code",
   "execution_count": null,
   "id": "48d91240",
   "metadata": {},
   "outputs": [],
   "source": [
    "#classifier = LinearSVC(random_state=42) # Para usar SVM\n",
    "\n",
    "# Elegir la columna de clase\n",
    "CLASS_COL = \"Polarity\"\n",
    "TEXT_COL  = \"Review_clean\"  # usamos texto limpio de mojibake\n",
    "\n",
    "# Train/Test 70/30 estratificado\n",
    "X = df[TEXT_COL].astype(str).values\n",
    "y = df[CLASS_COL].astype(str).values\n",
    "X_train, X_test, y_train, y_test = train_test_split(\n",
    "    X, y, test_size=0.30, random_state=42, stratify=y\n",
    ")\n",
    "\n",
    "# Regex para tokens en español\n",
    "WORD_RE = re.compile(r\"[A-Za-zÁÉÍÓÚÜÑáéíóúüñ]{2,}(?:[-'][A-Za-zÁÉÍÓÚÜÑáéíóúüñ]+)?\")\n",
    "\n",
    "def tokenize_basic(text: str, lower: bool = False):\n",
    "    if not isinstance(text, str):\n",
    "        return []\n",
    "    if lower:\n",
    "        text = text.lower()\n",
    "    return WORD_RE.findall(text)\n",
    "\n",
    "# Stemming (Snowball en español)\n",
    "from nltk.stem.snowball import SnowballStemmer\n",
    "stemmer = SnowballStemmer(\"spanish\")\n",
    "\n",
    "def tokenizer_stem(text: str):\n",
    "    toks = tokenize_basic(text, lower=True)\n",
    "    return [stemmer.stem(t) for t in toks]\n",
    "\n",
    "# Lemmatización con spaCy\n",
    "USE_LEMMA = False\n",
    "if USE_LEMMA:\n",
    "    import spacy\n",
    "    try:\n",
    "        nlp = spacy.load(\"es_core_news_sm\")\n",
    "    except OSError:\n",
    "        raise RuntimeError(\"Falta el modelo de spaCy: ejecuta `python -m spacy download es_core_news_sm`\")\n",
    "\n",
    "    def tokenizer_lemma(text: str):\n",
    "        if not isinstance(text, str):\n",
    "            return []\n",
    "        doc = nlp(text.lower())\n",
    "        # Lemmas alfabéticos (sin signos) y >1 char\n",
    "        return [t.lemma_ for t in doc if t.is_alpha and len(t) > 1]"
   ]
  },
  {
   "cell_type": "code",
   "execution_count": 38,
   "id": "06f6c387",
   "metadata": {},
   "outputs": [],
   "source": [
    "from sklearn.metrics import confusion_matrix\n",
    "\n",
    "def run_experiment(name: str, vectorizer, classifier=None):\n",
    "    \"\"\"\n",
    "    Entrena con X_train/y_train, evalúa en X_test/y_test y retorna dict de métricas.\n",
    "    \"\"\"\n",
    "    if classifier is None:\n",
    "        classifier = LogisticRegression(max_iter=2000, multi_class=\"auto\", n_jobs=None, random_state=42)\n",
    "\n",
    "    Xtr = vectorizer.fit_transform(X_train)\n",
    "    Xte = vectorizer.transform(X_test)\n",
    "\n",
    "    clf = classifier.fit(Xtr, y_train)\n",
    "    y_pred = clf.predict(Xte)\n",
    "\n",
    "    acc  = accuracy_score(y_test, y_pred)\n",
    "    f1m  = f1_score(y_test, y_pred, average=\"macro\")\n",
    "    f1w  = f1_score(y_test, y_pred, average=\"weighted\")\n",
    "\n",
    "    print(f\"\\n=== {name} ===\")\n",
    "    print(f\"Accuracy: {acc:.4f} | F1-macro: {f1m:.4f} | F1-weighted: {f1w:.4f}\")\n",
    "    print(\"\\nClassification report:\")\n",
    "    print(classification_report(y_test, y_pred, digits=4))\n",
    "\n",
    "    # Matriz de confusión\n",
    "    cm = confusion_matrix(y_test, y_pred, labels=clf.classes_)\n",
    "    cm_df = pd.DataFrame(cm, index=clf.classes_, columns=clf.classes_)\n",
    "    print(\"\\nMatriz de confusión:\")\n",
    "    display(cm_df)\n",
    "\n",
    "    # Plot\n",
    "    plt.figure(figsize=(6,5))\n",
    "    sns.heatmap(cm_df, annot=True, fmt=\"d\", cmap=\"Blues\")\n",
    "    plt.title(f\"Matriz de Confusión - {name}\")\n",
    "    plt.ylabel(\"Etiqueta real\")\n",
    "    plt.xlabel(\"Predicción\")\n",
    "    plt.show()\n",
    "\n",
    "    # Guardar CSV\n",
    "    out_path = f\"../reports/tables/confusion_matrix_{name.replace(' ', '_')}.csv\"\n",
    "    cm_df.to_csv(out_path)\n",
    "    print(f\"Guardada en {out_path}\")\n",
    "\n",
    "    return {\n",
    "        \"name\": name,\n",
    "        \"accuracy\": acc,\n",
    "        \"f1_macro\": f1m,\n",
    "        \"f1_weighted\": f1w,\n",
    "        \"vectorizer\": vectorizer,\n",
    "        \"classifier\": clf\n",
    "    }\n"
   ]
  },
  {
   "cell_type": "code",
   "execution_count": 39,
   "id": "3a54011d",
   "metadata": {},
   "outputs": [
    {
     "name": "stderr",
     "output_type": "stream",
     "text": [
      "/home/diego23/Master/cimat/language-image-processing/nlp/01_Corpus_Analysis/.nlpvenv/lib/python3.12/site-packages/sklearn/linear_model/_logistic.py:1247: FutureWarning: 'multi_class' was deprecated in version 1.5 and will be removed in 1.7. From then on, it will always use 'multinomial'. Leave it to its default value to avoid this warning.\n",
      "  warnings.warn(\n"
     ]
    },
    {
     "name": "stdout",
     "output_type": "stream",
     "text": [
      "\n",
      "=== (a) Sin preproc ===\n",
      "Accuracy: 0.4933 | F1-macro: 0.4822 | F1-weighted: 0.4856\n",
      "\n",
      "Classification report:\n",
      "              precision    recall  f1-score   support\n",
      "\n",
      "         1.0     0.5410    0.5500    0.5455       240\n",
      "         2.0     0.4476    0.3481    0.3917       270\n",
      "         3.0     0.4618    0.4233    0.4417       300\n",
      "         4.0     0.4235    0.3939    0.4082       330\n",
      "         5.0     0.5539    0.7139    0.6238       360\n",
      "\n",
      "    accuracy                         0.4933      1500\n",
      "   macro avg     0.4856    0.4859    0.4822      1500\n",
      "weighted avg     0.4856    0.4933    0.4856      1500\n",
      "\n",
      "\n",
      "Matriz de confusión:\n"
     ]
    },
    {
     "data": {
      "application/vnd.microsoft.datawrangler.viewer.v0+json": {
       "columns": [
        {
         "name": "index",
         "rawType": "object",
         "type": "string"
        },
        {
         "name": "1.0",
         "rawType": "int64",
         "type": "integer"
        },
        {
         "name": "2.0",
         "rawType": "int64",
         "type": "integer"
        },
        {
         "name": "3.0",
         "rawType": "int64",
         "type": "integer"
        },
        {
         "name": "4.0",
         "rawType": "int64",
         "type": "integer"
        },
        {
         "name": "5.0",
         "rawType": "int64",
         "type": "integer"
        }
       ],
       "ref": "effdb878-0ec9-4918-86f5-bddd2ce27353",
       "rows": [
        [
         "1.0",
         "132",
         "50",
         "26",
         "13",
         "19"
        ],
        [
         "2.0",
         "84",
         "94",
         "53",
         "20",
         "19"
        ],
        [
         "3.0",
         "21",
         "43",
         "127",
         "69",
         "40"
        ],
        [
         "4.0",
         "5",
         "18",
         "48",
         "130",
         "129"
        ],
        [
         "5.0",
         "2",
         "5",
         "21",
         "75",
         "257"
        ]
       ],
       "shape": {
        "columns": 5,
        "rows": 5
       }
      },
      "text/html": [
       "<div>\n",
       "<style scoped>\n",
       "    .dataframe tbody tr th:only-of-type {\n",
       "        vertical-align: middle;\n",
       "    }\n",
       "\n",
       "    .dataframe tbody tr th {\n",
       "        vertical-align: top;\n",
       "    }\n",
       "\n",
       "    .dataframe thead th {\n",
       "        text-align: right;\n",
       "    }\n",
       "</style>\n",
       "<table border=\"1\" class=\"dataframe\">\n",
       "  <thead>\n",
       "    <tr style=\"text-align: right;\">\n",
       "      <th></th>\n",
       "      <th>1.0</th>\n",
       "      <th>2.0</th>\n",
       "      <th>3.0</th>\n",
       "      <th>4.0</th>\n",
       "      <th>5.0</th>\n",
       "    </tr>\n",
       "  </thead>\n",
       "  <tbody>\n",
       "    <tr>\n",
       "      <th>1.0</th>\n",
       "      <td>132</td>\n",
       "      <td>50</td>\n",
       "      <td>26</td>\n",
       "      <td>13</td>\n",
       "      <td>19</td>\n",
       "    </tr>\n",
       "    <tr>\n",
       "      <th>2.0</th>\n",
       "      <td>84</td>\n",
       "      <td>94</td>\n",
       "      <td>53</td>\n",
       "      <td>20</td>\n",
       "      <td>19</td>\n",
       "    </tr>\n",
       "    <tr>\n",
       "      <th>3.0</th>\n",
       "      <td>21</td>\n",
       "      <td>43</td>\n",
       "      <td>127</td>\n",
       "      <td>69</td>\n",
       "      <td>40</td>\n",
       "    </tr>\n",
       "    <tr>\n",
       "      <th>4.0</th>\n",
       "      <td>5</td>\n",
       "      <td>18</td>\n",
       "      <td>48</td>\n",
       "      <td>130</td>\n",
       "      <td>129</td>\n",
       "    </tr>\n",
       "    <tr>\n",
       "      <th>5.0</th>\n",
       "      <td>2</td>\n",
       "      <td>5</td>\n",
       "      <td>21</td>\n",
       "      <td>75</td>\n",
       "      <td>257</td>\n",
       "    </tr>\n",
       "  </tbody>\n",
       "</table>\n",
       "</div>"
      ],
      "text/plain": [
       "     1.0  2.0  3.0  4.0  5.0\n",
       "1.0  132   50   26   13   19\n",
       "2.0   84   94   53   20   19\n",
       "3.0   21   43  127   69   40\n",
       "4.0    5   18   48  130  129\n",
       "5.0    2    5   21   75  257"
      ]
     },
     "metadata": {},
     "output_type": "display_data"
    },
    {
     "data": {
      "image/png": "[encoded data removed]",
      "text/plain": [
       "<Figure size 600x500 with 2 Axes>"
      ]
     },
     "metadata": {},
     "output_type": "display_data"
    },
    {
     "name": "stdout",
     "output_type": "stream",
     "text": [
      "Guardada en ../reports/tables/confusion_matrix_(a)_Sin_preproc.csv\n"
     ]
    },
    {
     "name": "stderr",
     "output_type": "stream",
     "text": [
      "/home/diego23/Master/cimat/language-image-processing/nlp/01_Corpus_Analysis/.nlpvenv/lib/python3.12/site-packages/sklearn/linear_model/_logistic.py:1247: FutureWarning: 'multi_class' was deprecated in version 1.5 and will be removed in 1.7. From then on, it will always use 'multinomial'. Leave it to its default value to avoid this warning.\n",
      "  warnings.warn(\n"
     ]
    },
    {
     "name": "stdout",
     "output_type": "stream",
     "text": [
      "\n",
      "=== (b) Minúsculas ===\n",
      "Accuracy: 0.4980 | F1-macro: 0.4863 | F1-weighted: 0.4909\n",
      "\n",
      "Classification report:\n",
      "              precision    recall  f1-score   support\n",
      "\n",
      "         1.0     0.5462    0.5417    0.5439       240\n",
      "         2.0     0.4381    0.3407    0.3833       270\n",
      "         3.0     0.4444    0.4400    0.4422       300\n",
      "         4.0     0.4426    0.4091    0.4252       330\n",
      "         5.0     0.5733    0.7167    0.6370       360\n",
      "\n",
      "    accuracy                         0.4980      1500\n",
      "   macro avg     0.4889    0.4896    0.4863      1500\n",
      "weighted avg     0.4901    0.4980    0.4909      1500\n",
      "\n",
      "\n",
      "Matriz de confusión:\n"
     ]
    },
    {
     "data": {
      "application/vnd.microsoft.datawrangler.viewer.v0+json": {
       "columns": [
        {
         "name": "index",
         "rawType": "object",
         "type": "string"
        },
        {
         "name": "1.0",
         "rawType": "int64",
         "type": "integer"
        },
        {
         "name": "2.0",
         "rawType": "int64",
         "type": "integer"
        },
        {
         "name": "3.0",
         "rawType": "int64",
         "type": "integer"
        },
        {
         "name": "4.0",
         "rawType": "int64",
         "type": "integer"
        },
        {
         "name": "5.0",
         "rawType": "int64",
         "type": "integer"
        }
       ],
       "ref": "72e7b459-4446-422b-a53f-281ec93fdd49",
       "rows": [
        [
         "1.0",
         "130",
         "51",
         "30",
         "14",
         "15"
        ],
        [
         "2.0",
         "80",
         "92",
         "60",
         "20",
         "18"
        ],
        [
         "3.0",
         "21",
         "45",
         "132",
         "63",
         "39"
        ],
        [
         "4.0",
         "5",
         "14",
         "56",
         "135",
         "120"
        ],
        [
         "5.0",
         "2",
         "8",
         "19",
         "73",
         "258"
        ]
       ],
       "shape": {
        "columns": 5,
        "rows": 5
       }
      },
      "text/html": [
       "<div>\n",
       "<style scoped>\n",
       "    .dataframe tbody tr th:only-of-type {\n",
       "        vertical-align: middle;\n",
       "    }\n",
       "\n",
       "    .dataframe tbody tr th {\n",
       "        vertical-align: top;\n",
       "    }\n",
       "\n",
       "    .dataframe thead th {\n",
       "        text-align: right;\n",
       "    }\n",
       "</style>\n",
       "<table border=\"1\" class=\"dataframe\">\n",
       "  <thead>\n",
       "    <tr style=\"text-align: right;\">\n",
       "      <th></th>\n",
       "      <th>1.0</th>\n",
       "      <th>2.0</th>\n",
       "      <th>3.0</th>\n",
       "      <th>4.0</th>\n",
       "      <th>5.0</th>\n",
       "    </tr>\n",
       "  </thead>\n",
       "  <tbody>\n",
       "    <tr>\n",
       "      <th>1.0</th>\n",
       "      <td>130</td>\n",
       "      <td>51</td>\n",
       "      <td>30</td>\n",
       "      <td>14</td>\n",
       "      <td>15</td>\n",
       "    </tr>\n",
       "    <tr>\n",
       "      <th>2.0</th>\n",
       "      <td>80</td>\n",
       "      <td>92</td>\n",
       "      <td>60</td>\n",
       "      <td>20</td>\n",
       "      <td>18</td>\n",
       "    </tr>\n",
       "    <tr>\n",
       "      <th>3.0</th>\n",
       "      <td>21</td>\n",
       "      <td>45</td>\n",
       "      <td>132</td>\n",
       "      <td>63</td>\n",
       "      <td>39</td>\n",
       "    </tr>\n",
       "    <tr>\n",
       "      <th>4.0</th>\n",
       "      <td>5</td>\n",
       "      <td>14</td>\n",
       "      <td>56</td>\n",
       "      <td>135</td>\n",
       "      <td>120</td>\n",
       "    </tr>\n",
       "    <tr>\n",
       "      <th>5.0</th>\n",
       "      <td>2</td>\n",
       "      <td>8</td>\n",
       "      <td>19</td>\n",
       "      <td>73</td>\n",
       "      <td>258</td>\n",
       "    </tr>\n",
       "  </tbody>\n",
       "</table>\n",
       "</div>"
      ],
      "text/plain": [
       "     1.0  2.0  3.0  4.0  5.0\n",
       "1.0  130   51   30   14   15\n",
       "2.0   80   92   60   20   18\n",
       "3.0   21   45  132   63   39\n",
       "4.0    5   14   56  135  120\n",
       "5.0    2    8   19   73  258"
      ]
     },
     "metadata": {},
     "output_type": "display_data"
    },
    {
     "data": {
      "image/png": "[encoded data removed]",
      "text/plain": [
       "<Figure size 600x500 with 2 Axes>"
      ]
     },
     "metadata": {},
     "output_type": "display_data"
    },
    {
     "name": "stdout",
     "output_type": "stream",
     "text": [
      "Guardada en ../reports/tables/confusion_matrix_(b)_Minúsculas.csv\n"
     ]
    },
    {
     "name": "stderr",
     "output_type": "stream",
     "text": [
      "/home/diego23/Master/cimat/language-image-processing/nlp/01_Corpus_Analysis/.nlpvenv/lib/python3.12/site-packages/sklearn/linear_model/_logistic.py:1247: FutureWarning: 'multi_class' was deprecated in version 1.5 and will be removed in 1.7. From then on, it will always use 'multinomial'. Leave it to its default value to avoid this warning.\n",
      "  warnings.warn(\n"
     ]
    },
    {
     "name": "stdout",
     "output_type": "stream",
     "text": [
      "\n",
      "=== (c) Minúsculas + Stem ===\n",
      "Accuracy: 0.5020 | F1-macro: 0.4910 | F1-weighted: 0.4951\n",
      "\n",
      "Classification report:\n",
      "              precision    recall  f1-score   support\n",
      "\n",
      "         1.0     0.5331    0.5708    0.5513       240\n",
      "         2.0     0.4336    0.3630    0.3952       270\n",
      "         3.0     0.4684    0.4200    0.4429       300\n",
      "         4.0     0.4488    0.4121    0.4297       330\n",
      "         5.0     0.5753    0.7111    0.6360       360\n",
      "\n",
      "    accuracy                         0.5020      1500\n",
      "   macro avg     0.4918    0.4954    0.4910      1500\n",
      "weighted avg     0.4938    0.5020    0.4951      1500\n",
      "\n",
      "\n",
      "Matriz de confusión:\n"
     ]
    },
    {
     "data": {
      "application/vnd.microsoft.datawrangler.viewer.v0+json": {
       "columns": [
        {
         "name": "index",
         "rawType": "object",
         "type": "string"
        },
        {
         "name": "1.0",
         "rawType": "int64",
         "type": "integer"
        },
        {
         "name": "2.0",
         "rawType": "int64",
         "type": "integer"
        },
        {
         "name": "3.0",
         "rawType": "int64",
         "type": "integer"
        },
        {
         "name": "4.0",
         "rawType": "int64",
         "type": "integer"
        },
        {
         "name": "5.0",
         "rawType": "int64",
         "type": "integer"
        }
       ],
       "ref": "88524407-2195-4c20-9d46-02b1edd10d16",
       "rows": [
        [
         "1.0",
         "137",
         "50",
         "25",
         "14",
         "14"
        ],
        [
         "2.0",
         "89",
         "98",
         "53",
         "13",
         "17"
        ],
        [
         "3.0",
         "23",
         "52",
         "126",
         "63",
         "36"
        ],
        [
         "4.0",
         "7",
         "18",
         "47",
         "136",
         "122"
        ],
        [
         "5.0",
         "1",
         "8",
         "18",
         "77",
         "256"
        ]
       ],
       "shape": {
        "columns": 5,
        "rows": 5
       }
      },
      "text/html": [
       "<div>\n",
       "<style scoped>\n",
       "    .dataframe tbody tr th:only-of-type {\n",
       "        vertical-align: middle;\n",
       "    }\n",
       "\n",
       "    .dataframe tbody tr th {\n",
       "        vertical-align: top;\n",
       "    }\n",
       "\n",
       "    .dataframe thead th {\n",
       "        text-align: right;\n",
       "    }\n",
       "</style>\n",
       "<table border=\"1\" class=\"dataframe\">\n",
       "  <thead>\n",
       "    <tr style=\"text-align: right;\">\n",
       "      <th></th>\n",
       "      <th>1.0</th>\n",
       "      <th>2.0</th>\n",
       "      <th>3.0</th>\n",
       "      <th>4.0</th>\n",
       "      <th>5.0</th>\n",
       "    </tr>\n",
       "  </thead>\n",
       "  <tbody>\n",
       "    <tr>\n",
       "      <th>1.0</th>\n",
       "      <td>137</td>\n",
       "      <td>50</td>\n",
       "      <td>25</td>\n",
       "      <td>14</td>\n",
       "      <td>14</td>\n",
       "    </tr>\n",
       "    <tr>\n",
       "      <th>2.0</th>\n",
       "      <td>89</td>\n",
       "      <td>98</td>\n",
       "      <td>53</td>\n",
       "      <td>13</td>\n",
       "      <td>17</td>\n",
       "    </tr>\n",
       "    <tr>\n",
       "      <th>3.0</th>\n",
       "      <td>23</td>\n",
       "      <td>52</td>\n",
       "      <td>126</td>\n",
       "      <td>63</td>\n",
       "      <td>36</td>\n",
       "    </tr>\n",
       "    <tr>\n",
       "      <th>4.0</th>\n",
       "      <td>7</td>\n",
       "      <td>18</td>\n",
       "      <td>47</td>\n",
       "      <td>136</td>\n",
       "      <td>122</td>\n",
       "    </tr>\n",
       "    <tr>\n",
       "      <th>5.0</th>\n",
       "      <td>1</td>\n",
       "      <td>8</td>\n",
       "      <td>18</td>\n",
       "      <td>77</td>\n",
       "      <td>256</td>\n",
       "    </tr>\n",
       "  </tbody>\n",
       "</table>\n",
       "</div>"
      ],
      "text/plain": [
       "     1.0  2.0  3.0  4.0  5.0\n",
       "1.0  137   50   25   14   14\n",
       "2.0   89   98   53   13   17\n",
       "3.0   23   52  126   63   36\n",
       "4.0    7   18   47  136  122\n",
       "5.0    1    8   18   77  256"
      ]
     },
     "metadata": {},
     "output_type": "display_data"
    },
    {
     "data": {
      "image/png": "[encoded data removed]",
      "text/plain": [
       "<Figure size 600x500 with 2 Axes>"
      ]
     },
     "metadata": {},
     "output_type": "display_data"
    },
    {
     "name": "stdout",
     "output_type": "stream",
     "text": [
      "Guardada en ../reports/tables/confusion_matrix_(c)_Minúsculas_+_Stem.csv\n"
     ]
    },
    {
     "name": "stderr",
     "output_type": "stream",
     "text": [
      "/home/diego23/Master/cimat/language-image-processing/nlp/01_Corpus_Analysis/.nlpvenv/lib/python3.12/site-packages/sklearn/linear_model/_logistic.py:1247: FutureWarning: 'multi_class' was deprecated in version 1.5 and will be removed in 1.7. From then on, it will always use 'multinomial'. Leave it to its default value to avoid this warning.\n",
      "  warnings.warn(\n"
     ]
    },
    {
     "name": "stdout",
     "output_type": "stream",
     "text": [
      "\n",
      "=== (d) Minúsculas + Stem + min_df=10 ===\n",
      "Accuracy: 0.5000 | F1-macro: 0.4891 | F1-weighted: 0.4938\n",
      "\n",
      "Classification report:\n",
      "              precision    recall  f1-score   support\n",
      "\n",
      "         1.0     0.5294    0.5625    0.5455       240\n",
      "         2.0     0.4192    0.3556    0.3848       270\n",
      "         3.0     0.4574    0.4300    0.4433       300\n",
      "         4.0     0.4503    0.4121    0.4304       330\n",
      "         5.0     0.5880    0.7056    0.6414       360\n",
      "\n",
      "    accuracy                         0.5000      1500\n",
      "   macro avg     0.4889    0.4931    0.4891      1500\n",
      "weighted avg     0.4918    0.5000    0.4938      1500\n",
      "\n",
      "\n",
      "Matriz de confusión:\n"
     ]
    },
    {
     "data": {
      "application/vnd.microsoft.datawrangler.viewer.v0+json": {
       "columns": [
        {
         "name": "index",
         "rawType": "object",
         "type": "string"
        },
        {
         "name": "1.0",
         "rawType": "int64",
         "type": "integer"
        },
        {
         "name": "2.0",
         "rawType": "int64",
         "type": "integer"
        },
        {
         "name": "3.0",
         "rawType": "int64",
         "type": "integer"
        },
        {
         "name": "4.0",
         "rawType": "int64",
         "type": "integer"
        },
        {
         "name": "5.0",
         "rawType": "int64",
         "type": "integer"
        }
       ],
       "ref": "866c6b50-4bab-444c-bf36-e23b6a618f51",
       "rows": [
        [
         "1.0",
         "135",
         "53",
         "25",
         "15",
         "12"
        ],
        [
         "2.0",
         "88",
         "96",
         "54",
         "16",
         "16"
        ],
        [
         "3.0",
         "24",
         "53",
         "129",
         "60",
         "34"
        ],
        [
         "4.0",
         "7",
         "17",
         "54",
         "136",
         "116"
        ],
        [
         "5.0",
         "1",
         "10",
         "20",
         "75",
         "254"
        ]
       ],
       "shape": {
        "columns": 5,
        "rows": 5
       }
      },
      "text/html": [
       "<div>\n",
       "<style scoped>\n",
       "    .dataframe tbody tr th:only-of-type {\n",
       "        vertical-align: middle;\n",
       "    }\n",
       "\n",
       "    .dataframe tbody tr th {\n",
       "        vertical-align: top;\n",
       "    }\n",
       "\n",
       "    .dataframe thead th {\n",
       "        text-align: right;\n",
       "    }\n",
       "</style>\n",
       "<table border=\"1\" class=\"dataframe\">\n",
       "  <thead>\n",
       "    <tr style=\"text-align: right;\">\n",
       "      <th></th>\n",
       "      <th>1.0</th>\n",
       "      <th>2.0</th>\n",
       "      <th>3.0</th>\n",
       "      <th>4.0</th>\n",
       "      <th>5.0</th>\n",
       "    </tr>\n",
       "  </thead>\n",
       "  <tbody>\n",
       "    <tr>\n",
       "      <th>1.0</th>\n",
       "      <td>135</td>\n",
       "      <td>53</td>\n",
       "      <td>25</td>\n",
       "      <td>15</td>\n",
       "      <td>12</td>\n",
       "    </tr>\n",
       "    <tr>\n",
       "      <th>2.0</th>\n",
       "      <td>88</td>\n",
       "      <td>96</td>\n",
       "      <td>54</td>\n",
       "      <td>16</td>\n",
       "      <td>16</td>\n",
       "    </tr>\n",
       "    <tr>\n",
       "      <th>3.0</th>\n",
       "      <td>24</td>\n",
       "      <td>53</td>\n",
       "      <td>129</td>\n",
       "      <td>60</td>\n",
       "      <td>34</td>\n",
       "    </tr>\n",
       "    <tr>\n",
       "      <th>4.0</th>\n",
       "      <td>7</td>\n",
       "      <td>17</td>\n",
       "      <td>54</td>\n",
       "      <td>136</td>\n",
       "      <td>116</td>\n",
       "    </tr>\n",
       "    <tr>\n",
       "      <th>5.0</th>\n",
       "      <td>1</td>\n",
       "      <td>10</td>\n",
       "      <td>20</td>\n",
       "      <td>75</td>\n",
       "      <td>254</td>\n",
       "    </tr>\n",
       "  </tbody>\n",
       "</table>\n",
       "</div>"
      ],
      "text/plain": [
       "     1.0  2.0  3.0  4.0  5.0\n",
       "1.0  135   53   25   15   12\n",
       "2.0   88   96   54   16   16\n",
       "3.0   24   53  129   60   34\n",
       "4.0    7   17   54  136  116\n",
       "5.0    1   10   20   75  254"
      ]
     },
     "metadata": {},
     "output_type": "display_data"
    },
    {
     "data": {
      "image/png": "[encoded data removed]",
      "text/plain": [
       "<Figure size 600x500 with 2 Axes>"
      ]
     },
     "metadata": {},
     "output_type": "display_data"
    },
    {
     "name": "stdout",
     "output_type": "stream",
     "text": [
      "Guardada en ../reports/tables/confusion_matrix_(d)_Minúsculas_+_Stem_+_min_df=10.csv\n"
     ]
    },
    {
     "data": {
      "application/vnd.microsoft.datawrangler.viewer.v0+json": {
       "columns": [
        {
         "name": "index",
         "rawType": "int64",
         "type": "integer"
        },
        {
         "name": "name",
         "rawType": "object",
         "type": "string"
        },
        {
         "name": "accuracy",
         "rawType": "float64",
         "type": "float"
        },
        {
         "name": "f1_macro",
         "rawType": "float64",
         "type": "float"
        },
        {
         "name": "f1_weighted",
         "rawType": "float64",
         "type": "float"
        }
       ],
       "ref": "ec65d695-2911-4790-b430-129c6d536a08",
       "rows": [
        [
         "0",
         "(a) Sin preproc",
         "0.49333333333333335",
         "0.48216200312582147",
         "0.4856252095911084"
        ],
        [
         "1",
         "(b) Minúsculas",
         "0.498",
         "0.4863422660867517",
         "0.49090369573370835"
        ],
        [
         "2",
         "(c) Minúsculas + Stem",
         "0.502",
         "0.49101521474166443",
         "0.4950946656811752"
        ],
        [
         "3",
         "(d) Minúsculas + Stem + min_df=10",
         "0.5",
         "0.48906338837089025",
         "0.4938139763644198"
        ]
       ],
       "shape": {
        "columns": 4,
        "rows": 4
       }
      },
      "text/html": [
       "<div>\n",
       "<style scoped>\n",
       "    .dataframe tbody tr th:only-of-type {\n",
       "        vertical-align: middle;\n",
       "    }\n",
       "\n",
       "    .dataframe tbody tr th {\n",
       "        vertical-align: top;\n",
       "    }\n",
       "\n",
       "    .dataframe thead th {\n",
       "        text-align: right;\n",
       "    }\n",
       "</style>\n",
       "<table border=\"1\" class=\"dataframe\">\n",
       "  <thead>\n",
       "    <tr style=\"text-align: right;\">\n",
       "      <th></th>\n",
       "      <th>name</th>\n",
       "      <th>accuracy</th>\n",
       "      <th>f1_macro</th>\n",
       "      <th>f1_weighted</th>\n",
       "    </tr>\n",
       "  </thead>\n",
       "  <tbody>\n",
       "    <tr>\n",
       "      <th>0</th>\n",
       "      <td>(a) Sin preproc</td>\n",
       "      <td>0.493333</td>\n",
       "      <td>0.482162</td>\n",
       "      <td>0.485625</td>\n",
       "    </tr>\n",
       "    <tr>\n",
       "      <th>1</th>\n",
       "      <td>(b) Minúsculas</td>\n",
       "      <td>0.498000</td>\n",
       "      <td>0.486342</td>\n",
       "      <td>0.490904</td>\n",
       "    </tr>\n",
       "    <tr>\n",
       "      <th>2</th>\n",
       "      <td>(c) Minúsculas + Stem</td>\n",
       "      <td>0.502000</td>\n",
       "      <td>0.491015</td>\n",
       "      <td>0.495095</td>\n",
       "    </tr>\n",
       "    <tr>\n",
       "      <th>3</th>\n",
       "      <td>(d) Minúsculas + Stem + min_df=10</td>\n",
       "      <td>0.500000</td>\n",
       "      <td>0.489063</td>\n",
       "      <td>0.493814</td>\n",
       "    </tr>\n",
       "  </tbody>\n",
       "</table>\n",
       "</div>"
      ],
      "text/plain": [
       "                                name  accuracy  f1_macro  f1_weighted\n",
       "0                    (a) Sin preproc  0.493333  0.482162     0.485625\n",
       "1                     (b) Minúsculas  0.498000  0.486342     0.490904\n",
       "2              (c) Minúsculas + Stem  0.502000  0.491015     0.495095\n",
       "3  (d) Minúsculas + Stem + min_df=10  0.500000  0.489063     0.493814"
      ]
     },
     "execution_count": 39,
     "metadata": {},
     "output_type": "execute_result"
    }
   ],
   "source": [
    "results = []\n",
    "\n",
    "# (a) Sin preprocesamiento (ni lowercasing)\n",
    "vec_a = TfidfVectorizer(\n",
    "    lowercase=False,\n",
    "    token_pattern=r\"[A-Za-zÁÉÍÓÚÜÑáéíóúüñ]{2,}\"  # mismo patrón, pero sin forzar lower\n",
    ")\n",
    "res_a = run_experiment(\"(a) Sin preproc\", vec_a)\n",
    "results.append(res_a)\n",
    "\n",
    "# (b) Con minúsculas\n",
    "vec_b = TfidfVectorizer(\n",
    "    lowercase=True,\n",
    "    token_pattern=r\"[A-Za-zÁÉÍÓÚÜÑáéíóúüñ]{2,}\"\n",
    ")\n",
    "res_b = run_experiment(\"(b) Minúsculas\", vec_b)\n",
    "results.append(res_b)\n",
    "\n",
    "# (c) Minúsculas + stemming/lematización\n",
    "if USE_LEMMA:\n",
    "    vec_c = TfidfVectorizer(\n",
    "        lowercase=False,            # el tokenizer ya hace lower\n",
    "        tokenizer=tokenizer_lemma,  # usa lemmas\n",
    "        preprocessor=None,\n",
    "        token_pattern=None\n",
    "    )\n",
    "    suffix = \"Lemma\"\n",
    "else:\n",
    "    vec_c = TfidfVectorizer(\n",
    "        lowercase=False,            # el tokenizer ya hace lower\n",
    "        tokenizer=tokenizer_stem,   # usa stems\n",
    "        preprocessor=None,\n",
    "        token_pattern=None\n",
    "    )\n",
    "    suffix = \"Stem\"\n",
    "\n",
    "res_c = run_experiment(f\"(c) Minúsculas + {suffix}\", vec_c)\n",
    "results.append(res_c)\n",
    "\n",
    "# (d) Minúsculas + stemming/lemmas + min_df=10\n",
    "if USE_LEMMA:\n",
    "    vec_d = TfidfVectorizer(\n",
    "        lowercase=False,\n",
    "        tokenizer=tokenizer_lemma,\n",
    "        preprocessor=None,\n",
    "        token_pattern=None,\n",
    "        min_df=10\n",
    "    )\n",
    "else:\n",
    "    vec_d = TfidfVectorizer(\n",
    "        lowercase=False,\n",
    "        tokenizer=tokenizer_stem,\n",
    "        preprocessor=None,\n",
    "        token_pattern=None,\n",
    "        min_df=10\n",
    "    )\n",
    "\n",
    "res_d = run_experiment(f\"(d) Minúsculas + {suffix} + min_df=10\", vec_d)\n",
    "results.append(res_d)\n",
    "\n",
    "# Tabla resumen\n",
    "summary = pd.DataFrame([{k: v for k, v in r.items() if k in (\"name\",\"accuracy\",\"f1_macro\",\"f1_weighted\")} for r in results])\n",
    "summary\n"
   ]
  },
  {
   "cell_type": "markdown",
   "id": "4059f9d8",
   "metadata": {},
   "source": [
    "Compara métricas (accuracy, F1 macro, matriz de confusión) y discute si el preprocesamiento es importante."
   ]
  },
  {
   "cell_type": "markdown",
   "metadata": {},
   "source": [
    "## 10. LSA con 50 tópicos"
   ]
  },
  {
   "cell_type": "markdown",
   "id": "f5822a55",
   "metadata": {},
   "source": [
    "Aplica Latent Semantic Analysis (SVD truncado) con 50 tópicos."
   ]
  },
  {
   "cell_type": "code",
   "execution_count": null,
   "id": "b68a2631",
   "metadata": {},
   "outputs": [
    {
     "name": "stdout",
     "output_type": "stream",
     "text": [
      "Matriz TF-IDF: (5000, 4361)\n",
      "Matriz reducida (docs x tópicos): (5000, 50)\n",
      "Varianza explicada total con 50 tópicos: 0.123\n"
     ]
    }
   ],
   "source": [
    "# ===============================================\n",
    "# LSA con 50 tópicos (Truncated SVD)\n",
    "# ===============================================\n",
    "\n",
    "# Preparamos corpus (tokens_clean → string)\n",
    "docs_clean = df[\"tokens_clean\"].apply(lambda toks: \" \".join(toks)).tolist()\n",
    "\n",
    "# Matriz TF-IDF\n",
    "vectorizer_tfidf = TfidfVectorizer(min_df=5)  # min_df=5 para filtrar ruido\n",
    "X_tfidf = vectorizer_tfidf.fit_transform(docs_clean)\n",
    "print(\"Matriz TF-IDF:\", X_tfidf.shape)\n",
    "\n",
    "# SVD truncado (LSA)\n",
    "n_topics = 50\n",
    "svd = TruncatedSVD(n_components=n_topics, random_state=42)\n",
    "X_lsa = svd.fit_transform(X_tfidf)\n",
    "\n",
    "print(\"Matriz reducida (docs x tópicos):\", X_lsa.shape)\n",
    "explained = svd.explained_variance_ratio_.sum()\n",
    "print(f\"Varianza explicada total con {n_topics} tópicos: {explained:.3f}\")\n"
   ]
  },
  {
   "cell_type": "markdown",
   "id": "328225f2",
   "metadata": {},
   "source": [
    "Muestra los términos más relevantes por tópico."
   ]
  },
  {
   "cell_type": "code",
   "execution_count": 41,
   "id": "0316e623",
   "metadata": {},
   "outputs": [
    {
     "data": {
      "application/vnd.microsoft.datawrangler.viewer.v0+json": {
       "columns": [
        {
         "name": "index",
         "rawType": "int64",
         "type": "integer"
        },
        {
         "name": "topic",
         "rawType": "int64",
         "type": "integer"
        },
        {
         "name": "terms",
         "rawType": "object",
         "type": "string"
        }
       ],
       "ref": "93afede1-3f4a-4b51-942f-093317df1dec",
       "rows": [
        [
         "0",
         "0",
         "comida, lugar, hotel, servicio, buena, si, bien, playa, habitación, restaurante"
        ],
        [
         "1",
         "1",
         "comida, servicio, lugar, buena, excelente, buen, ambiente, atención, precios, sabor"
        ],
        [
         "2",
         "2",
         "hotel, habitación, habitaciones, personal, servicio, recepción, noche, desayuno, excelente, restaurante"
        ],
        [
         "3",
         "3",
         "lugar, hotel, pena, vale, excelente, bonito, vista, atención, mas, recomendable"
        ],
        [
         "4",
         "4",
         "playa, excelente, buena, ambiente, agradable, buen, ruinas, tulum, comida, amable"
        ],
        [
         "5",
         "5",
         "servicio, playa, excelente, mala, meseros, alimentos, lento, pésimo, mal, mas"
        ],
        [
         "6",
         "6",
         "lugar, mejor, excelente, personal, comer, bonito, gran, gracias, isla, familia"
        ],
        [
         "7",
         "7",
         "excelente, pena, vale, restaurante, personal, gran, hotel, increíble, ciudad, experiencia"
        ],
        [
         "8",
         "8",
         "atención, excelente, buena, cenote, agua, experiencia, calidad, así, guía, dos"
        ],
        [
         "9",
         "9",
         "buen, servicio, precio, excelente, calidad, alimentos, agradable, bien, ambiente, ruinas"
        ]
       ],
       "shape": {
        "columns": 2,
        "rows": 10
       }
      },
      "text/html": [
       "<div>\n",
       "<style scoped>\n",
       "    .dataframe tbody tr th:only-of-type {\n",
       "        vertical-align: middle;\n",
       "    }\n",
       "\n",
       "    .dataframe tbody tr th {\n",
       "        vertical-align: top;\n",
       "    }\n",
       "\n",
       "    .dataframe thead th {\n",
       "        text-align: right;\n",
       "    }\n",
       "</style>\n",
       "<table border=\"1\" class=\"dataframe\">\n",
       "  <thead>\n",
       "    <tr style=\"text-align: right;\">\n",
       "      <th></th>\n",
       "      <th>topic</th>\n",
       "      <th>terms</th>\n",
       "    </tr>\n",
       "  </thead>\n",
       "  <tbody>\n",
       "    <tr>\n",
       "      <th>0</th>\n",
       "      <td>0</td>\n",
       "      <td>comida, lugar, hotel, servicio, buena, si, bie...</td>\n",
       "    </tr>\n",
       "    <tr>\n",
       "      <th>1</th>\n",
       "      <td>1</td>\n",
       "      <td>comida, servicio, lugar, buena, excelente, bue...</td>\n",
       "    </tr>\n",
       "    <tr>\n",
       "      <th>2</th>\n",
       "      <td>2</td>\n",
       "      <td>hotel, habitación, habitaciones, personal, ser...</td>\n",
       "    </tr>\n",
       "    <tr>\n",
       "      <th>3</th>\n",
       "      <td>3</td>\n",
       "      <td>lugar, hotel, pena, vale, excelente, bonito, v...</td>\n",
       "    </tr>\n",
       "    <tr>\n",
       "      <th>4</th>\n",
       "      <td>4</td>\n",
       "      <td>playa, excelente, buena, ambiente, agradable, ...</td>\n",
       "    </tr>\n",
       "    <tr>\n",
       "      <th>5</th>\n",
       "      <td>5</td>\n",
       "      <td>servicio, playa, excelente, mala, meseros, ali...</td>\n",
       "    </tr>\n",
       "    <tr>\n",
       "      <th>6</th>\n",
       "      <td>6</td>\n",
       "      <td>lugar, mejor, excelente, personal, comer, boni...</td>\n",
       "    </tr>\n",
       "    <tr>\n",
       "      <th>7</th>\n",
       "      <td>7</td>\n",
       "      <td>excelente, pena, vale, restaurante, personal, ...</td>\n",
       "    </tr>\n",
       "    <tr>\n",
       "      <th>8</th>\n",
       "      <td>8</td>\n",
       "      <td>atención, excelente, buena, cenote, agua, expe...</td>\n",
       "    </tr>\n",
       "    <tr>\n",
       "      <th>9</th>\n",
       "      <td>9</td>\n",
       "      <td>buen, servicio, precio, excelente, calidad, al...</td>\n",
       "    </tr>\n",
       "  </tbody>\n",
       "</table>\n",
       "</div>"
      ],
      "text/plain": [
       "   topic                                              terms\n",
       "0      0  comida, lugar, hotel, servicio, buena, si, bie...\n",
       "1      1  comida, servicio, lugar, buena, excelente, bue...\n",
       "2      2  hotel, habitación, habitaciones, personal, ser...\n",
       "3      3  lugar, hotel, pena, vale, excelente, bonito, v...\n",
       "4      4  playa, excelente, buena, ambiente, agradable, ...\n",
       "5      5  servicio, playa, excelente, mala, meseros, ali...\n",
       "6      6  lugar, mejor, excelente, personal, comer, boni...\n",
       "7      7  excelente, pena, vale, restaurante, personal, ...\n",
       "8      8  atención, excelente, buena, cenote, agua, expe...\n",
       "9      9  buen, servicio, precio, excelente, calidad, al..."
      ]
     },
     "metadata": {},
     "output_type": "display_data"
    },
    {
     "name": "stdout",
     "output_type": "stream",
     "text": [
      "Guardado en ../reports/tables/lsa_topics_terms.csv\n"
     ]
    }
   ],
   "source": [
    "terms = np.array(vectorizer_tfidf.get_feature_names_out())\n",
    "n_top = 10  # cuántos términos mostrar por tópico\n",
    "\n",
    "topic_terms = []\n",
    "for i, comp in enumerate(svd.components_):\n",
    "    top_idx = np.argsort(comp)[::-1][:n_top]\n",
    "    top_terms = terms[top_idx]\n",
    "    topic_terms.append({\n",
    "        \"topic\": i,\n",
    "        \"terms\": \", \".join(top_terms)\n",
    "    })\n",
    "\n",
    "topic_terms_df = pd.DataFrame(topic_terms)\n",
    "display(topic_terms_df.head(10))\n",
    "\n",
    "# Guardamos para el reporte\n",
    "import os\n",
    "os.makedirs(\"../reports/tables\", exist_ok=True)\n",
    "topic_terms_df.to_csv(\"../reports/tables/lsa_topics_terms.csv\", index=False)\n",
    "print(\"Guardado en ../reports/tables/lsa_topics_terms.csv\")"
   ]
  },
  {
   "cell_type": "code",
   "execution_count": null,
   "id": "abb9ecf7",
   "metadata": {},
   "outputs": [
    {
     "name": "stdout",
     "output_type": "stream",
     "text": [
      "=== Top 10 tópicos por Mutual Information (clase=Polarity) ===\n"
     ]
    },
    {
     "data": {
      "application/vnd.microsoft.datawrangler.viewer.v0+json": {
       "columns": [
        {
         "name": "index",
         "rawType": "int64",
         "type": "integer"
        },
        {
         "name": "topic",
         "rawType": "int64",
         "type": "integer"
        },
        {
         "name": "MI",
         "rawType": "float64",
         "type": "float"
        }
       ],
       "ref": "026ca37c-a3e0-46a2-a97a-87cfe508d942",
       "rows": [
        [
         "0",
         "4",
         "0.13978110325175397"
        ],
        [
         "1",
         "7",
         "0.07253037959876707"
        ],
        [
         "2",
         "2",
         "0.0548446948950887"
        ],
        [
         "3",
         "9",
         "0.04839086592052366"
        ],
        [
         "4",
         "8",
         "0.038659222843338004"
        ],
        [
         "5",
         "49",
         "0.024363069071272836"
        ],
        [
         "6",
         "23",
         "0.021449171734544414"
        ],
        [
         "7",
         "19",
         "0.02060766110259893"
        ],
        [
         "8",
         "45",
         "0.01864594820361809"
        ],
        [
         "9",
         "3",
         "0.018297042589854318"
        ]
       ],
       "shape": {
        "columns": 2,
        "rows": 10
       }
      },
      "text/html": [
       "<div>\n",
       "<style scoped>\n",
       "    .dataframe tbody tr th:only-of-type {\n",
       "        vertical-align: middle;\n",
       "    }\n",
       "\n",
       "    .dataframe tbody tr th {\n",
       "        vertical-align: top;\n",
       "    }\n",
       "\n",
       "    .dataframe thead th {\n",
       "        text-align: right;\n",
       "    }\n",
       "</style>\n",
       "<table border=\"1\" class=\"dataframe\">\n",
       "  <thead>\n",
       "    <tr style=\"text-align: right;\">\n",
       "      <th></th>\n",
       "      <th>topic</th>\n",
       "      <th>MI</th>\n",
       "    </tr>\n",
       "  </thead>\n",
       "  <tbody>\n",
       "    <tr>\n",
       "      <th>0</th>\n",
       "      <td>4</td>\n",
       "      <td>0.139781</td>\n",
       "    </tr>\n",
       "    <tr>\n",
       "      <th>1</th>\n",
       "      <td>7</td>\n",
       "      <td>0.072530</td>\n",
       "    </tr>\n",
       "    <tr>\n",
       "      <th>2</th>\n",
       "      <td>2</td>\n",
       "      <td>0.054845</td>\n",
       "    </tr>\n",
       "    <tr>\n",
       "      <th>3</th>\n",
       "      <td>9</td>\n",
       "      <td>0.048391</td>\n",
       "    </tr>\n",
       "    <tr>\n",
       "      <th>4</th>\n",
       "      <td>8</td>\n",
       "      <td>0.038659</td>\n",
       "    </tr>\n",
       "    <tr>\n",
       "      <th>5</th>\n",
       "      <td>49</td>\n",
       "      <td>0.024363</td>\n",
       "    </tr>\n",
       "    <tr>\n",
       "      <th>6</th>\n",
       "      <td>23</td>\n",
       "      <td>0.021449</td>\n",
       "    </tr>\n",
       "    <tr>\n",
       "      <th>7</th>\n",
       "      <td>19</td>\n",
       "      <td>0.020608</td>\n",
       "    </tr>\n",
       "    <tr>\n",
       "      <th>8</th>\n",
       "      <td>45</td>\n",
       "      <td>0.018646</td>\n",
       "    </tr>\n",
       "    <tr>\n",
       "      <th>9</th>\n",
       "      <td>3</td>\n",
       "      <td>0.018297</td>\n",
       "    </tr>\n",
       "  </tbody>\n",
       "</table>\n",
       "</div>"
      ],
      "text/plain": [
       "   topic        MI\n",
       "0      4  0.139781\n",
       "1      7  0.072530\n",
       "2      2  0.054845\n",
       "3      9  0.048391\n",
       "4      8  0.038659\n",
       "5     49  0.024363\n",
       "6     23  0.021449\n",
       "7     19  0.020608\n",
       "8     45  0.018646\n",
       "9      3  0.018297"
      ]
     },
     "metadata": {},
     "output_type": "display_data"
    }
   ],
   "source": [
    "from sklearn.preprocessing import LabelEncoder\n",
    "from sklearn.feature_selection import mutual_info_classif, f_classif\n",
    "\n",
    "# --- Parámetros ---\n",
    "CLASS_COL = \"Polarity\"\n",
    "TOP_SHOW  = 10             # cuántos tópicos reportar\n",
    "TOP_TERMS = 10             # cuántos términos por tópico\n",
    "TOP_DOCS  = 5              # cuántos docs representativos por tópico\n",
    "\n",
    "# Chequeos mínimos\n",
    "assert 'X_lsa' in globals(), \"Falta X_lsa (docs x tópicos). Ejecuta antes la celda de LSA.\"\n",
    "assert 'svd' in globals(), \"Falta el objeto svd (TruncatedSVD).\"\n",
    "assert 'vectorizer_tfidf' in globals(), \"Falta vectorizer_tfidf (para términos).\"\n",
    "assert CLASS_COL in df.columns, f\"No existe la columna de clase {CLASS_COL} en df.\"\n",
    "\n",
    "#Etiquetas\n",
    "y_raw = df[CLASS_COL].astype(str).values\n",
    "le = LabelEncoder()\n",
    "y = le.fit_transform(y_raw)\n",
    "classes = le.classes_\n",
    "\n",
    "# Matriz docs x tópicos\n",
    "Z = X_lsa  # alias\n",
    "\n",
    "#  Métrica 1: Mutual Information (kNN)\n",
    "mi_scores = mutual_info_classif(Z, y, discrete_features=False, random_state=42)\n",
    "\n",
    "# Ranking de tópicos por cada métrica\n",
    "df_mi = pd.DataFrame({\"topic\": np.arange(Z.shape[1]), \"MI\": mi_scores})\n",
    "\n",
    "df_mi_sorted = df_mi.sort_values(\"MI\", ascending=False).reset_index(drop=True)\n",
    "\n",
    "print(f\"=== Top {TOP_SHOW} tópicos por Mutual Information (clase={CLASS_COL}) ===\")\n",
    "display(df_mi_sorted.head(TOP_SHOW))\n",
    "\n",
    "\n",
    "# Términos más relevantes por tópico (para interpretación)\n",
    "terms = np.array(vectorizer_tfidf.get_feature_names_out())\n",
    "components = svd.components_   # shape: (n_topics, n_terms)\n",
    "\n",
    "def top_terms_for_topic(t, k=TOP_TERMS):\n",
    "    comp = components[t]\n",
    "    idx = np.argsort(comp)[::-1][:k]\n",
    "    return terms[idx], comp[idx]\n",
    "\n",
    "# Docs más representativos por tópico (mayor activación absoluta)\n",
    "def top_docs_for_topic(t, k=TOP_DOCS):\n",
    "    col = Z[:, t]\n",
    "    idx = np.argsort(np.abs(col))[::-1][:k]\n",
    "    scores = col[idx]\n",
    "    return idx, scores\n",
    "\n",
    "# Construimos tablas enriquecidas para los tópicos top (por ambas métricas)\n",
    "def build_topic_summary(topics_ranked, metric_name, top_k=TOP_SHOW):\n",
    "    rows = []\n",
    "    for t in topics_ranked[:top_k]:\n",
    "        t = int(t)\n",
    "        t_terms, t_weights = top_terms_for_topic(t, k=TOP_TERMS)\n",
    "        d_idx, d_scores = top_docs_for_topic(t, k=TOP_DOCS)\n",
    "        rows.append({\n",
    "            \"topic\": t,\n",
    "            \"metric\": metric_name,\n",
    "            \"top_terms\": \", \".join(t_terms),\n",
    "            \"doc_ids\": \", \".join(map(str, d_idx)),\n",
    "            \"doc_scores\": \", \".join(f\"{s:.3f}\" for s in d_scores),\n",
    "        })\n",
    "    return pd.DataFrame(rows)\n",
    "\n",
    "mi_topics  = df_mi_sorted[\"topic\"].tolist()\n",
    "\n",
    "summary_mi = build_topic_summary(mi_topics,  metric_name=\"MI\", top_k=TOP_SHOW)\n",
    "\n"
   ]
  },
  {
   "cell_type": "markdown",
   "id": "366bc280",
   "metadata": {},
   "source": [
    "Identifica qué tópicos son más informativos según una métrica estadı́stica y analiza su\n",
    "coherencia."
   ]
  }
 ],
 "metadata": {
  "kernelspec": {
   "display_name": ".nlpvenv",
   "language": "python",
   "name": "python3"
  },
  "language_info": {
   "codemirror_mode": {
    "name": "ipython",
    "version": 3
   },
   "file_extension": ".py",
   "mimetype": "text/x-python",
   "name": "python",
   "nbconvert_exporter": "python",
   "pygments_lexer": "ipython3",
   "version": "3.12.3"
  }
 },
 "nbformat": 4,
 "nbformat_minor": 5
}
