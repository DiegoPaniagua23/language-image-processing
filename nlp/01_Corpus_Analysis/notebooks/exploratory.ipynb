{
 "cells": [
  {
   "cell_type": "markdown",
   "id": "792ae35f",
   "metadata": {},
   "source": [
    "## 1. Descripción del corpus"
   ]
  },
  {
   "cell_type": "markdown",
   "id": "037d3195",
   "metadata": {},
   "source": [
    "### Librerias"
   ]
  },
  {
   "cell_type": "code",
   "execution_count": 49,
   "id": "29a2d53f",
   "metadata": {},
   "outputs": [],
   "source": [
    "# Librerias\n",
    "import re\n",
    "import nltk\n",
    "import ftfy\n",
    "import pandas as pd\n",
    "\n",
    "from collections import Counter\n",
    "from nltk.corpus import stopwords"
   ]
  },
  {
   "cell_type": "code",
   "execution_count": 51,
   "id": "dc451d68",
   "metadata": {},
   "outputs": [
    {
     "name": "stderr",
     "output_type": "stream",
     "text": [
      "[nltk_data] Downloading package stopwords to\n",
      "[nltk_data]     /home/diego23/nltk_data...\n",
      "[nltk_data]   Unzipping corpora/stopwords.zip.\n"
     ]
    },
    {
     "data": {
      "text/plain": [
       "True"
      ]
     },
     "execution_count": 51,
     "metadata": {},
     "output_type": "execute_result"
    }
   ],
   "source": [
    "nltk.download(\"stopwords\")"
   ]
  },
  {
   "cell_type": "markdown",
   "id": "d3bc98d5",
   "metadata": {},
   "source": [
    "### Número de documentos, tokens y vocabulario."
   ]
  },
  {
   "cell_type": "code",
   "execution_count": 15,
   "id": "7fc810a4",
   "metadata": {},
   "outputs": [
    {
     "name": "stdout",
     "output_type": "stream",
     "text": [
      "Columnas disponibles: ['Review', 'Polarity', 'Town', 'Region', 'Type']\n",
      "Número de documentos: 5000\n"
     ]
    },
    {
     "data": {
      "application/vnd.microsoft.datawrangler.viewer.v0+json": {
       "columns": [
        {
         "name": "index",
         "rawType": "int64",
         "type": "integer"
        },
        {
         "name": "Review",
         "rawType": "object",
         "type": "string"
        },
        {
         "name": "Polarity",
         "rawType": "float64",
         "type": "float"
        },
        {
         "name": "Town",
         "rawType": "object",
         "type": "string"
        },
        {
         "name": "Region",
         "rawType": "object",
         "type": "string"
        },
        {
         "name": "Type",
         "rawType": "object",
         "type": "string"
        }
       ],
       "ref": "522b45d4-bed0-4ef0-996e-a746ba186b42",
       "rows": [
        [
         "0",
         "Un Restaurante te invita por su ambiente tan alegre,.pero al sentarte los meseros te apuran al tomar tu orden, y luego al llevarte tu orden se olvidan de ti.\nLa comida esta buena.\nHay estacionamiento.\nY no estaba lleno y aun asi nos descuidaron mucho....Más",
         "2.0",
         "Tlaquepaque",
         "Jalisco",
         "Restaurant"
        ],
        [
         "1",
         "Pagamos 25 pesos por la entrada y no es gran cosa. Lo único bueno es que no habia nadie, pero hay lugares mucho mas bonitos para bañarse en la laguna que son gratuitos.",
         "3.0",
         "Bacalar",
         "QuintanaRoo",
         "Attractive"
        ],
        [
         "2",
         "Mi esposa y yo nos alojamos en el Dreams por 4 días en enero de 2016. Primero tengo que decir que el complejo era muy agradable y las instalaciones parecía muy bien cuidados. Teníamos una habitación con vistas al océano, que era agradable. La zona de gimnasio también estaba bien, tenían unas cuantas cintas y algunas pesas. Probamos a la orden tarde noche servicio de habitación varias veces y no podíamos conseguir que nadie contesta el teléfono que era frustrante.  Comida: yo estaba bastante decepcionado con la comida aquí. La comida en la piscina parecía que estaban camino a largo y no le importaba. Tuvimos un par de buenas comidas tacos/burritos, pero en general no me impresionó. Yo estaba frustrado con el código de vestimenta, tengo un tanque superior y que no me asiento pero",
         "3.0",
         "Tulum",
         "QuintanaRoo",
         "Hotel"
        ],
        [
         "3",
         "La única decepción puede no ser José Cuervo, pero fue realmente una mala experiencia para nosotros. Resultó que conseguimos blue vs acanalado elástico u otro medio para ceñir púrpura, y sólo la cintura blye puede hacer la degustación en la bodega y el comedor. De hecho reservamos la excursión por el conserje en el hotel Riu, y fue confirmado por el conserje durante la reserva que la prueba está incluido. Sin embargo, con toda la emoción con ganas de la cata, nos dijeron que fuera de la bodega al final del tour de la fábrica que compramos el grado inferior tour y no nos permitieron hacer la degustación. Queríamos volver pero fue rechazada. Lo que empeoró las cosas era, nos hicieron desde fuera la bodega viendo otros disfrutando de la degustación como un \"favor\" para nosotros. Estamos bastante seguros había graciosas negocios entre el conserje y los operadores turísticos. Pero Josr Cuervo debería haber nos informó que la diferencia whistband antes de que el tour comenzó, no justo antes de que la sesión de degustación. Una muy mala experiencia de tequila.",
         "2.0",
         "Tequila",
         "Jalisco",
         "Attractive"
        ],
        [
         "4",
         "Cuando leí los comentarios sobre cómo son las cosas, grosero ellos creen que el personal de este hotel son súper antipático e incluso grosero. Eres una molestia para ellos simplemente estar allí, olvídate si tienes que pedir algo tan sencillo como llamar a un taxi o necesita una toalla o simplemente saludando, que nunca están contentos de verte! Hay gente que vive en este hotel, se podía ver en las habitaciones y apartamentos tienen completo con mucha animales vivos dentro, me encanta los animales, pero no esperaba que ellos corriendo por los pasillos. El desayuno estaba incluido, pero no muy bueno. Puedes conseguir en Internet, pero sólo cerca de la oficina, no en la habitación. Estancia aquí! !",
         "1.0",
         "Isla_Mujeres",
         "QuintanaRoo",
         "Hotel"
        ]
       ],
       "shape": {
        "columns": 5,
        "rows": 5
       }
      },
      "text/html": [
       "<div>\n",
       "<style scoped>\n",
       "    .dataframe tbody tr th:only-of-type {\n",
       "        vertical-align: middle;\n",
       "    }\n",
       "\n",
       "    .dataframe tbody tr th {\n",
       "        vertical-align: top;\n",
       "    }\n",
       "\n",
       "    .dataframe thead th {\n",
       "        text-align: right;\n",
       "    }\n",
       "</style>\n",
       "<table border=\"1\" class=\"dataframe\">\n",
       "  <thead>\n",
       "    <tr style=\"text-align: right;\">\n",
       "      <th></th>\n",
       "      <th>Review</th>\n",
       "      <th>Polarity</th>\n",
       "      <th>Town</th>\n",
       "      <th>Region</th>\n",
       "      <th>Type</th>\n",
       "    </tr>\n",
       "  </thead>\n",
       "  <tbody>\n",
       "    <tr>\n",
       "      <th>0</th>\n",
       "      <td>Un Restaurante te invita por su ambiente tan a...</td>\n",
       "      <td>2.0</td>\n",
       "      <td>Tlaquepaque</td>\n",
       "      <td>Jalisco</td>\n",
       "      <td>Restaurant</td>\n",
       "    </tr>\n",
       "    <tr>\n",
       "      <th>1</th>\n",
       "      <td>Pagamos 25 pesos por la entrada y no es gran c...</td>\n",
       "      <td>3.0</td>\n",
       "      <td>Bacalar</td>\n",
       "      <td>QuintanaRoo</td>\n",
       "      <td>Attractive</td>\n",
       "    </tr>\n",
       "    <tr>\n",
       "      <th>2</th>\n",
       "      <td>Mi esposa y yo nos alojamos en el Dreams por 4...</td>\n",
       "      <td>3.0</td>\n",
       "      <td>Tulum</td>\n",
       "      <td>QuintanaRoo</td>\n",
       "      <td>Hotel</td>\n",
       "    </tr>\n",
       "    <tr>\n",
       "      <th>3</th>\n",
       "      <td>La única decepción puede no ser José Cuervo, p...</td>\n",
       "      <td>2.0</td>\n",
       "      <td>Tequila</td>\n",
       "      <td>Jalisco</td>\n",
       "      <td>Attractive</td>\n",
       "    </tr>\n",
       "    <tr>\n",
       "      <th>4</th>\n",
       "      <td>Cuando leí los comentarios sobre cómo son las ...</td>\n",
       "      <td>1.0</td>\n",
       "      <td>Isla_Mujeres</td>\n",
       "      <td>QuintanaRoo</td>\n",
       "      <td>Hotel</td>\n",
       "    </tr>\n",
       "  </tbody>\n",
       "</table>\n",
       "</div>"
      ],
      "text/plain": [
       "                                              Review  Polarity          Town  \\\n",
       "0  Un Restaurante te invita por su ambiente tan a...       2.0   Tlaquepaque   \n",
       "1  Pagamos 25 pesos por la entrada y no es gran c...       3.0       Bacalar   \n",
       "2  Mi esposa y yo nos alojamos en el Dreams por 4...       3.0         Tulum   \n",
       "3  La única decepción puede no ser José Cuervo, p...       2.0       Tequila   \n",
       "4  Cuando leí los comentarios sobre cómo son las ...       1.0  Isla_Mujeres   \n",
       "\n",
       "        Region        Type  \n",
       "0      Jalisco  Restaurant  \n",
       "1  QuintanaRoo  Attractive  \n",
       "2  QuintanaRoo       Hotel  \n",
       "3      Jalisco  Attractive  \n",
       "4  QuintanaRoo       Hotel  "
      ]
     },
     "execution_count": 15,
     "metadata": {},
     "output_type": "execute_result"
    }
   ],
   "source": [
    "# Configuracion\n",
    "csv_path = \"../data/raw/MeIA_2025_train.csv\"\n",
    "text_col = \"Review\"\n",
    "classes = [\"Polarity\", \"Town\", \"Region\", \"Type\"]\n",
    "\n",
    "# Cargamos el dataset y elegimos codificacion\n",
    "df = pd.read_csv(csv_path, encoding='utf-8')\n",
    "\n",
    "# Limpiamos un poco\n",
    "df = df.dropna(subset=[text_col])                 # Elimina valores NaN\n",
    "df = df[df[text_col].str.strip().ne(\"\")]          # Elimina strings vacios\n",
    "df.reset_index(drop=True, inplace=True)\n",
    "\n",
    "# Imprimimos resultados\n",
    "print(\"Columnas disponibles:\", df.columns.tolist())\n",
    "print(\"Número de documentos:\", len(df))\n",
    "\n",
    "# Visualizamos el df\n",
    "df.head()"
   ]
  },
  {
   "cell_type": "code",
   "execution_count": null,
   "id": "3def602a",
   "metadata": {},
   "outputs": [
    {
     "name": "stdout",
     "output_type": "stream",
     "text": [
      "Número de 'Ã' antes de ftfy: 731\n",
      "Número de 'Ã' después de ftfy: 0\n",
      "Ejemplos de artefactos restantes después de limpiar: 3\n"
     ]
    }
   ],
   "source": [
    "# Contamos los mojibakes \"Ã\"\n",
    "count_before = df[text_col].astype(str).str.count(\"Ã\").sum()\n",
    "print(f\"Número de 'Ã' antes de ftfy: {count_before}\")\n",
    "\n",
    "# Aplicamos ftfy\n",
    "df[\"Review_clean\"] = df[text_col].apply(ftfy.fix_text)\n",
    "\n",
    "# Contamos de nuevo después\n",
    "count_after = df[\"Review_clean\"].astype(str).str.count(\"Ã\").sum()\n",
    "print(f\"Número de 'Ã' después de ftfy: {count_after}\")\n",
    "\n",
    "# Removemos casos tipo \"...Mas\" al final del texto por scrapeo\n",
    "def remove_scrape_artifacts(text: str):\n",
    "    if not isinstance(text, str):\n",
    "        return text\n",
    "    return re.sub(r\"Más[\\s\\W]*$\", \"\", text)\n",
    "# Aplicamos\n",
    "df[\"Review_clean\"] = df[\"Review_clean\"].apply(remove_scrape_artifacts)\n",
    "\n",
    "# Verificamos\n",
    "examples_after = df[df[\"Review_clean\"].str.contains(r\"\\.\\.\\..*Mas\", na=False)]\n",
    "print(\"Ejemplos de artefactos restantes después de limpiar:\", len(examples_after))"
   ]
  },
  {
   "cell_type": "code",
   "execution_count": 44,
   "id": "da2634d0",
   "metadata": {},
   "outputs": [
    {
     "name": "stdout",
     "output_type": "stream",
     "text": [
      "Total de tokens en el corpus: 348935\n",
      "Tamaño del vocabulario: 19517\n"
     ]
    }
   ],
   "source": [
    "# Creamos una expresion regular para tokenizar palabras en español\n",
    "WORD_RE = re.compile(r\"[A-Za-zÁÉÍÓÚÜÑáéíóúüñ]+(?:[-'][A-Za-zÁÉÍÓÚÜÑáéíóúüñ]+)?\")\n",
    "\n",
    "# Realizamos la tokenizacion\n",
    "def tokenize(text: str):\n",
    "    if not isinstance(text, str):\n",
    "        return []\n",
    "    text = text.lower()  # Pasamos a minúsculas\n",
    "    return WORD_RE.findall(text)\n",
    "\n",
    "# Aplicamos tokenización sobre la columna limpia\n",
    "df[\"tokens\"] = df[\"Review_clean\"].apply(tokenize)\n",
    "df[\"n_tokens\"] = df[\"tokens\"].apply(len)\n",
    "\n",
    "# Contamos tokens en todo el corpus\n",
    "token_counts = Counter()\n",
    "for toks in df[\"tokens\"]:\n",
    "    token_counts.update(toks)\n",
    "\n",
    "# Total de tokens (con repeticiones)\n",
    "total_tokens = sum(token_counts.values())\n",
    "\n",
    "# Vocabulario (palabras únicas)\n",
    "vocab_size = len(token_counts)\n",
    "\n",
    "print(f\"Total de tokens en el corpus: {total_tokens}\")\n",
    "print(f\"Tamaño del vocabulario: {vocab_size}\")"
   ]
  },
  {
   "cell_type": "markdown",
   "id": "ec237d9a",
   "metadata": {},
   "source": [
    "### Hapax legomena y su proporción."
   ]
  },
  {
   "cell_type": "code",
   "execution_count": 48,
   "id": "43de9836",
   "metadata": {},
   "outputs": [
    {
     "name": "stdout",
     "output_type": "stream",
     "text": [
      "Hapax (freq=1): 9957\n",
      "Proporción hapax / vocabulario: 0.5102\n",
      "Proporción hapax / tokens: 0.0285\n"
     ]
    },
    {
     "data": {
      "application/vnd.microsoft.datawrangler.viewer.v0+json": {
       "columns": [
        {
         "name": "index",
         "rawType": "int64",
         "type": "integer"
        },
        {
         "name": "Ejemplos de hapax (20)",
         "rawType": "object",
         "type": "string"
        }
       ],
       "ref": "f4f62766-c575-4abb-b88d-18f453d31264",
       "rows": [
        [
         "0",
         "apuran"
        ],
        [
         "1",
         "descuidaron"
        ],
        [
         "2",
         "pesas"
        ],
        [
         "3",
         "frustrado"
        ],
        [
         "4",
         "acanalado"
        ],
        [
         "5",
         "elástico"
        ],
        [
         "6",
         "ceñir"
        ],
        [
         "7",
         "púrpura"
        ],
        [
         "8",
         "cintura"
        ],
        [
         "9",
         "blye"
        ],
        [
         "10",
         "rechazada"
        ],
        [
         "11",
         "josr"
        ],
        [
         "12",
         "whistband"
        ],
        [
         "13",
         "sesión"
        ],
        [
         "14",
         "verte"
        ],
        [
         "15",
         "cofradia"
        ],
        [
         "16",
         "reposa"
        ],
        [
         "17",
         "resguardar"
        ],
        [
         "18",
         "temrinabamos"
        ],
        [
         "19",
         "vacia"
        ]
       ],
       "shape": {
        "columns": 1,
        "rows": 20
       }
      },
      "text/html": [
       "<div>\n",
       "<style scoped>\n",
       "    .dataframe tbody tr th:only-of-type {\n",
       "        vertical-align: middle;\n",
       "    }\n",
       "\n",
       "    .dataframe tbody tr th {\n",
       "        vertical-align: top;\n",
       "    }\n",
       "\n",
       "    .dataframe thead th {\n",
       "        text-align: right;\n",
       "    }\n",
       "</style>\n",
       "<table border=\"1\" class=\"dataframe\">\n",
       "  <thead>\n",
       "    <tr style=\"text-align: right;\">\n",
       "      <th></th>\n",
       "      <th>Ejemplos de hapax (20)</th>\n",
       "    </tr>\n",
       "  </thead>\n",
       "  <tbody>\n",
       "    <tr>\n",
       "      <th>0</th>\n",
       "      <td>apuran</td>\n",
       "    </tr>\n",
       "    <tr>\n",
       "      <th>1</th>\n",
       "      <td>descuidaron</td>\n",
       "    </tr>\n",
       "    <tr>\n",
       "      <th>2</th>\n",
       "      <td>pesas</td>\n",
       "    </tr>\n",
       "    <tr>\n",
       "      <th>3</th>\n",
       "      <td>frustrado</td>\n",
       "    </tr>\n",
       "    <tr>\n",
       "      <th>4</th>\n",
       "      <td>acanalado</td>\n",
       "    </tr>\n",
       "    <tr>\n",
       "      <th>5</th>\n",
       "      <td>elástico</td>\n",
       "    </tr>\n",
       "    <tr>\n",
       "      <th>6</th>\n",
       "      <td>ceñir</td>\n",
       "    </tr>\n",
       "    <tr>\n",
       "      <th>7</th>\n",
       "      <td>púrpura</td>\n",
       "    </tr>\n",
       "    <tr>\n",
       "      <th>8</th>\n",
       "      <td>cintura</td>\n",
       "    </tr>\n",
       "    <tr>\n",
       "      <th>9</th>\n",
       "      <td>blye</td>\n",
       "    </tr>\n",
       "    <tr>\n",
       "      <th>10</th>\n",
       "      <td>rechazada</td>\n",
       "    </tr>\n",
       "    <tr>\n",
       "      <th>11</th>\n",
       "      <td>josr</td>\n",
       "    </tr>\n",
       "    <tr>\n",
       "      <th>12</th>\n",
       "      <td>whistband</td>\n",
       "    </tr>\n",
       "    <tr>\n",
       "      <th>13</th>\n",
       "      <td>sesión</td>\n",
       "    </tr>\n",
       "    <tr>\n",
       "      <th>14</th>\n",
       "      <td>verte</td>\n",
       "    </tr>\n",
       "    <tr>\n",
       "      <th>15</th>\n",
       "      <td>cofradia</td>\n",
       "    </tr>\n",
       "    <tr>\n",
       "      <th>16</th>\n",
       "      <td>reposa</td>\n",
       "    </tr>\n",
       "    <tr>\n",
       "      <th>17</th>\n",
       "      <td>resguardar</td>\n",
       "    </tr>\n",
       "    <tr>\n",
       "      <th>18</th>\n",
       "      <td>temrinabamos</td>\n",
       "    </tr>\n",
       "    <tr>\n",
       "      <th>19</th>\n",
       "      <td>vacia</td>\n",
       "    </tr>\n",
       "  </tbody>\n",
       "</table>\n",
       "</div>"
      ],
      "text/plain": [
       "   Ejemplos de hapax (20)\n",
       "0                  apuran\n",
       "1             descuidaron\n",
       "2                   pesas\n",
       "3               frustrado\n",
       "4               acanalado\n",
       "5                elástico\n",
       "6                   ceñir\n",
       "7                 púrpura\n",
       "8                 cintura\n",
       "9                    blye\n",
       "10              rechazada\n",
       "11                   josr\n",
       "12              whistband\n",
       "13                 sesión\n",
       "14                  verte\n",
       "15               cofradia\n",
       "16                 reposa\n",
       "17             resguardar\n",
       "18           temrinabamos\n",
       "19                  vacia"
      ]
     },
     "execution_count": 48,
     "metadata": {},
     "output_type": "execute_result"
    }
   ],
   "source": [
    "# Hapax = términos con frecuencia 1\n",
    "hapax_list = [t for t, c in token_counts.items() if c == 1]\n",
    "hapax_count = len(hapax_list)\n",
    "\n",
    "# Proporción de hapax sobre vocabulario (qué fracción del vocab son hapax)\n",
    "hapax_prop_over_vocab = hapax_count / max(len(token_counts), 1)\n",
    "\n",
    "# Proporción de hapax sobre tokens (qué fracción de todos los tokens son hapax)\n",
    "hapax_prop_over_tokens = hapax_count / max(total_tokens, 1)\n",
    "\n",
    "print(f\"Hapax (freq=1): {hapax_count}\")\n",
    "print(f\"Proporción hapax / vocabulario: {hapax_prop_over_vocab:.4f}\")\n",
    "print(f\"Proporción hapax / tokens: {hapax_prop_over_tokens:.4f}\")\n",
    "\n",
    "# (Opcional) Ver algunos ejemplos de hapax\n",
    "pd.Series(hapax_list[:20], name=\"Ejemplos de hapax (20)\").to_frame()"
   ]
  },
  {
   "cell_type": "markdown",
   "id": "9efe4ccb",
   "metadata": {},
   "source": [
    "### Porcentaje de stopwords."
   ]
  },
  {
   "cell_type": "code",
   "execution_count": 53,
   "id": "33cc4be9",
   "metadata": {},
   "outputs": [
    {
     "name": "stdout",
     "output_type": "stream",
     "text": [
      "Total de stopwords en el corpus: 175571\n",
      "Porcentaje de stopwords sobre tokens: 50.32%\n"
     ]
    }
   ],
   "source": [
    "# Lista de stopwords en español\n",
    "stopwords_es = set(stopwords.words(\"spanish\"))\n",
    "\n",
    "# Función para detectar stopwords\n",
    "def is_stopword(tok: str):\n",
    "    return tok in stopwords_es\n",
    "\n",
    "# Contamos stopwords en cada documento\n",
    "df[\"stop_tokens\"] = df[\"tokens\"].apply(lambda toks: [t for t in toks if is_stopword(t)])\n",
    "df[\"n_stop\"] = df[\"stop_tokens\"].apply(len)\n",
    "\n",
    "# Totales\n",
    "total_stop = df[\"n_stop\"].sum()\n",
    "stopword_pct = (total_stop / total_tokens) * 100\n",
    "\n",
    "print(f\"Total de stopwords en el corpus: {total_stop}\")\n",
    "print(f\"Porcentaje de stopwords sobre tokens: {stopword_pct:.2f}%\")\n"
   ]
  },
  {
   "cell_type": "markdown",
   "id": "c58065be",
   "metadata": {},
   "source": [
    "### Estadı́sticas por clase (número de documentos, tokens y vocabulario)."
   ]
  },
  {
   "cell_type": "code",
   "execution_count": null,
   "id": "0876092e",
   "metadata": {},
   "outputs": [
    {
     "data": {
      "application/vnd.microsoft.datawrangler.viewer.v0+json": {
       "columns": [
        {
         "name": "index",
         "rawType": "int64",
         "type": "integer"
        },
        {
         "name": "class_col",
         "rawType": "object",
         "type": "string"
        },
        {
         "name": "class_value",
         "rawType": "object",
         "type": "unknown"
        },
        {
         "name": "n_docs",
         "rawType": "int64",
         "type": "integer"
        },
        {
         "name": "n_tokens",
         "rawType": "int64",
         "type": "integer"
        },
        {
         "name": "vocab_size",
         "rawType": "int64",
         "type": "integer"
        }
       ],
       "ref": "5d8b32e9-4e85-41d8-98f6-59c0599bf771",
       "rows": [
        [
         "0",
         "Polarity",
         "1.0",
         "800",
         "61908",
         "7670"
        ],
        [
         "1",
         "Polarity",
         "2.0",
         "900",
         "74973",
         "8421"
        ],
        [
         "2",
         "Polarity",
         "3.0",
         "1000",
         "69431",
         "7594"
        ],
        [
         "3",
         "Polarity",
         "4.0",
         "1100",
         "68641",
         "7319"
        ],
        [
         "4",
         "Polarity",
         "5.0",
         "1200",
         "73982",
         "8304"
        ],
        [
         "5",
         "Town",
         "Ajijic",
         "102",
         "7361",
         "1900"
        ],
        [
         "6",
         "Town",
         "Atlixco",
         "48",
         "3355",
         "1172"
        ],
        [
         "7",
         "Town",
         "Bacalar",
         "250",
         "13449",
         "2685"
        ],
        [
         "8",
         "Town",
         "Bernal",
         "58",
         "3055",
         "1013"
        ],
        [
         "9",
         "Town",
         "Chiapa_de_Corzo",
         "30",
         "2243",
         "818"
        ],
        [
         "10",
         "Town",
         "Cholula",
         "73",
         "4259",
         "1297"
        ],
        [
         "11",
         "Town",
         "Coatepec",
         "16",
         "790",
         "379"
        ],
        [
         "12",
         "Town",
         "Creel",
         "50",
         "3028",
         "1051"
        ],
        [
         "13",
         "Town",
         "Cuatro_Cienegas",
         "26",
         "1231",
         "506"
        ],
        [
         "14",
         "Town",
         "Cuetzalan",
         "25",
         "1476",
         "610"
        ],
        [
         "15",
         "Town",
         "Dolores_Hidalgo",
         "29",
         "1729",
         "722"
        ],
        [
         "16",
         "Town",
         "Huasca_de_Ocampo",
         "51",
         "2907",
         "1027"
        ],
        [
         "17",
         "Town",
         "Isla_Mujeres",
         "646",
         "54902",
         "6319"
        ],
        [
         "18",
         "Town",
         "Ixtapan_de_la_Sal",
         "65",
         "5132",
         "1475"
        ],
        [
         "19",
         "Town",
         "Izamal",
         "47",
         "2927",
         "1004"
        ]
       ],
       "shape": {
        "columns": 5,
        "rows": 20
       }
      },
      "text/html": [
       "<div>\n",
       "<style scoped>\n",
       "    .dataframe tbody tr th:only-of-type {\n",
       "        vertical-align: middle;\n",
       "    }\n",
       "\n",
       "    .dataframe tbody tr th {\n",
       "        vertical-align: top;\n",
       "    }\n",
       "\n",
       "    .dataframe thead th {\n",
       "        text-align: right;\n",
       "    }\n",
       "</style>\n",
       "<table border=\"1\" class=\"dataframe\">\n",
       "  <thead>\n",
       "    <tr style=\"text-align: right;\">\n",
       "      <th></th>\n",
       "      <th>class_col</th>\n",
       "      <th>class_value</th>\n",
       "      <th>n_docs</th>\n",
       "      <th>n_tokens</th>\n",
       "      <th>vocab_size</th>\n",
       "    </tr>\n",
       "  </thead>\n",
       "  <tbody>\n",
       "    <tr>\n",
       "      <th>0</th>\n",
       "      <td>Polarity</td>\n",
       "      <td>1.0</td>\n",
       "      <td>800</td>\n",
       "      <td>61908</td>\n",
       "      <td>7670</td>\n",
       "    </tr>\n",
       "    <tr>\n",
       "      <th>1</th>\n",
       "      <td>Polarity</td>\n",
       "      <td>2.0</td>\n",
       "      <td>900</td>\n",
       "      <td>74973</td>\n",
       "      <td>8421</td>\n",
       "    </tr>\n",
       "    <tr>\n",
       "      <th>2</th>\n",
       "      <td>Polarity</td>\n",
       "      <td>3.0</td>\n",
       "      <td>1000</td>\n",
       "      <td>69431</td>\n",
       "      <td>7594</td>\n",
       "    </tr>\n",
       "    <tr>\n",
       "      <th>3</th>\n",
       "      <td>Polarity</td>\n",
       "      <td>4.0</td>\n",
       "      <td>1100</td>\n",
       "      <td>68641</td>\n",
       "      <td>7319</td>\n",
       "    </tr>\n",
       "    <tr>\n",
       "      <th>4</th>\n",
       "      <td>Polarity</td>\n",
       "      <td>5.0</td>\n",
       "      <td>1200</td>\n",
       "      <td>73982</td>\n",
       "      <td>8304</td>\n",
       "    </tr>\n",
       "    <tr>\n",
       "      <th>5</th>\n",
       "      <td>Town</td>\n",
       "      <td>Ajijic</td>\n",
       "      <td>102</td>\n",
       "      <td>7361</td>\n",
       "      <td>1900</td>\n",
       "    </tr>\n",
       "    <tr>\n",
       "      <th>6</th>\n",
       "      <td>Town</td>\n",
       "      <td>Atlixco</td>\n",
       "      <td>48</td>\n",
       "      <td>3355</td>\n",
       "      <td>1172</td>\n",
       "    </tr>\n",
       "    <tr>\n",
       "      <th>7</th>\n",
       "      <td>Town</td>\n",
       "      <td>Bacalar</td>\n",
       "      <td>250</td>\n",
       "      <td>13449</td>\n",
       "      <td>2685</td>\n",
       "    </tr>\n",
       "    <tr>\n",
       "      <th>8</th>\n",
       "      <td>Town</td>\n",
       "      <td>Bernal</td>\n",
       "      <td>58</td>\n",
       "      <td>3055</td>\n",
       "      <td>1013</td>\n",
       "    </tr>\n",
       "    <tr>\n",
       "      <th>9</th>\n",
       "      <td>Town</td>\n",
       "      <td>Chiapa_de_Corzo</td>\n",
       "      <td>30</td>\n",
       "      <td>2243</td>\n",
       "      <td>818</td>\n",
       "    </tr>\n",
       "    <tr>\n",
       "      <th>10</th>\n",
       "      <td>Town</td>\n",
       "      <td>Cholula</td>\n",
       "      <td>73</td>\n",
       "      <td>4259</td>\n",
       "      <td>1297</td>\n",
       "    </tr>\n",
       "    <tr>\n",
       "      <th>11</th>\n",
       "      <td>Town</td>\n",
       "      <td>Coatepec</td>\n",
       "      <td>16</td>\n",
       "      <td>790</td>\n",
       "      <td>379</td>\n",
       "    </tr>\n",
       "    <tr>\n",
       "      <th>12</th>\n",
       "      <td>Town</td>\n",
       "      <td>Creel</td>\n",
       "      <td>50</td>\n",
       "      <td>3028</td>\n",
       "      <td>1051</td>\n",
       "    </tr>\n",
       "    <tr>\n",
       "      <th>13</th>\n",
       "      <td>Town</td>\n",
       "      <td>Cuatro_Cienegas</td>\n",
       "      <td>26</td>\n",
       "      <td>1231</td>\n",
       "      <td>506</td>\n",
       "    </tr>\n",
       "    <tr>\n",
       "      <th>14</th>\n",
       "      <td>Town</td>\n",
       "      <td>Cuetzalan</td>\n",
       "      <td>25</td>\n",
       "      <td>1476</td>\n",
       "      <td>610</td>\n",
       "    </tr>\n",
       "    <tr>\n",
       "      <th>15</th>\n",
       "      <td>Town</td>\n",
       "      <td>Dolores_Hidalgo</td>\n",
       "      <td>29</td>\n",
       "      <td>1729</td>\n",
       "      <td>722</td>\n",
       "    </tr>\n",
       "    <tr>\n",
       "      <th>16</th>\n",
       "      <td>Town</td>\n",
       "      <td>Huasca_de_Ocampo</td>\n",
       "      <td>51</td>\n",
       "      <td>2907</td>\n",
       "      <td>1027</td>\n",
       "    </tr>\n",
       "    <tr>\n",
       "      <th>17</th>\n",
       "      <td>Town</td>\n",
       "      <td>Isla_Mujeres</td>\n",
       "      <td>646</td>\n",
       "      <td>54902</td>\n",
       "      <td>6319</td>\n",
       "    </tr>\n",
       "    <tr>\n",
       "      <th>18</th>\n",
       "      <td>Town</td>\n",
       "      <td>Ixtapan_de_la_Sal</td>\n",
       "      <td>65</td>\n",
       "      <td>5132</td>\n",
       "      <td>1475</td>\n",
       "    </tr>\n",
       "    <tr>\n",
       "      <th>19</th>\n",
       "      <td>Town</td>\n",
       "      <td>Izamal</td>\n",
       "      <td>47</td>\n",
       "      <td>2927</td>\n",
       "      <td>1004</td>\n",
       "    </tr>\n",
       "  </tbody>\n",
       "</table>\n",
       "</div>"
      ],
      "text/plain": [
       "   class_col        class_value  n_docs  n_tokens  vocab_size\n",
       "0   Polarity                1.0     800     61908        7670\n",
       "1   Polarity                2.0     900     74973        8421\n",
       "2   Polarity                3.0    1000     69431        7594\n",
       "3   Polarity                4.0    1100     68641        7319\n",
       "4   Polarity                5.0    1200     73982        8304\n",
       "5       Town             Ajijic     102      7361        1900\n",
       "6       Town            Atlixco      48      3355        1172\n",
       "7       Town            Bacalar     250     13449        2685\n",
       "8       Town             Bernal      58      3055        1013\n",
       "9       Town    Chiapa_de_Corzo      30      2243         818\n",
       "10      Town            Cholula      73      4259        1297\n",
       "11      Town           Coatepec      16       790         379\n",
       "12      Town              Creel      50      3028        1051\n",
       "13      Town    Cuatro_Cienegas      26      1231         506\n",
       "14      Town          Cuetzalan      25      1476         610\n",
       "15      Town    Dolores_Hidalgo      29      1729         722\n",
       "16      Town   Huasca_de_Ocampo      51      2907        1027\n",
       "17      Town       Isla_Mujeres     646     54902        6319\n",
       "18      Town  Ixtapan_de_la_Sal      65      5132        1475\n",
       "19      Town             Izamal      47      2927        1004"
      ]
     },
     "execution_count": 55,
     "metadata": {},
     "output_type": "execute_result"
    }
   ],
   "source": [
    "present_cols = [c for c in classes if c in df.columns]\n",
    "\n",
    "def per_group_stats(group_df: pd.DataFrame) -> pd.Series:\n",
    "    # n_docs\n",
    "    n_docs = len(group_df)\n",
    "    # n_tokens y vocab del grupo\n",
    "    counter = Counter()\n",
    "    for toks in group_df[\"tokens\"]:\n",
    "        counter.update(toks)\n",
    "    n_tokens = sum(counter.values())\n",
    "    vocab_size = len(counter)\n",
    "    return pd.Series({\"n_docs\": n_docs, \"n_tokens\": n_tokens, \"vocab_size\": vocab_size})\n",
    "\n",
    "# Aplicar a cada columna de clase presente\n",
    "stats_list = []\n",
    "for col in present_cols:\n",
    "    stats = (\n",
    "        df.groupby(col, dropna=False)\n",
    "          .apply(per_group_stats, include_groups=False)\n",
    "          .reset_index()\n",
    "          .rename(columns={col: \"class_value\"})\n",
    "          .assign(class_col=col)  # para saber de qué columna viene\n",
    "          .loc[:, [\"class_col\", \"class_value\", \"n_docs\", \"n_tokens\", \"vocab_size\"]]\n",
    "    )\n",
    "    stats_list.append(stats)\n",
    "\n",
    "stats_per_class = pd.concat(stats_list, ignore_index=True)\n",
    "\n",
    "# Mostrar resultados\n",
    "stats_per_class.head(20)\n"
   ]
  },
  {
   "cell_type": "code",
   "execution_count": 56,
   "id": "17b8e8ec",
   "metadata": {},
   "outputs": [
    {
     "name": "stdout",
     "output_type": "stream",
     "text": [
      "Archivo guardado en: ../data/processed/stats_per_class.csv\n"
     ]
    }
   ],
   "source": [
    "# Guardamos estadísticas por clase en processed\n",
    "output_path = \"../data/processed/stats_per_class.csv\"\n",
    "stats_per_class.to_csv(output_path, index=False)\n",
    "print(f\"Archivo guardado en: {output_path}\")"
   ]
  },
  {
   "cell_type": "markdown",
   "id": "4617a3cf",
   "metadata": {},
   "source": [
    "## 2. Ley de Zipf "
   ]
  },
  {
   "cell_type": "markdown",
   "id": "90890a76",
   "metadata": {},
   "source": [
    "### Calcula la frecuencia absoluta $f(w)$ de cada palabra $w$ en el corpus y ordénalas de mayor a menor. A cada palabra asi ordenada se le asigna un rango $r$, donde $r = 1$ corresponde a la palabra más frecuente, $r = 2$ a la segunda, y asi sucesivamente."
   ]
  },
  {
   "cell_type": "code",
   "execution_count": null,
   "id": "3528a069",
   "metadata": {},
   "outputs": [],
   "source": []
  },
  {
   "cell_type": "markdown",
   "id": "39ece5d3",
   "metadata": {},
   "source": [
    "## 3. Palabras importantes por clase"
   ]
  },
  {
   "cell_type": "code",
   "execution_count": null,
   "id": "4157525d",
   "metadata": {},
   "outputs": [],
   "source": []
  },
  {
   "cell_type": "markdown",
   "id": "64171a58",
   "metadata": {},
   "source": [
    "## 4. Patrones gramaticales (POS 4-gramas)"
   ]
  },
  {
   "cell_type": "markdown",
   "metadata": {},
   "source": [
    "## 5. Representaciones BoW"
   ]
  },
  {
   "cell_type": "markdown",
   "metadata": {},
   "source": [
    "## 6. Bigramas"
   ]
  },
  {
   "cell_type": "markdown",
   "metadata": {},
   "source": [
    "## 7. Word2Vec y analogı́as"
   ]
  },
  {
   "cell_type": "markdown",
   "metadata": {},
   "source": [
    "## 8. Embeddings de documento y clusterización"
   ]
  },
  {
   "cell_type": "markdown",
   "id": "9bf7f1c7",
   "metadata": {},
   "source": [
    "## 9. Clasificación con partición 70/30"
   ]
  },
  {
   "cell_type": "markdown",
   "metadata": {},
   "source": [
    "## 10. LSA con 50 tópicos"
   ]
  }
 ],
 "metadata": {
  "kernelspec": {
   "display_name": ".nlpvenv",
   "language": "python",
   "name": "python3"
  },
  "language_info": {
   "codemirror_mode": {
    "name": "ipython",
    "version": 3
   },
   "file_extension": ".py",
   "mimetype": "text/x-python",
   "name": "python",
   "nbconvert_exporter": "python",
   "pygments_lexer": "ipython3",
   "version": "3.12.3"
  }
 },
 "nbformat": 4,
 "nbformat_minor": 5
}
