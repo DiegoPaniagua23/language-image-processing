{
 "cells": [
  {
   "cell_type": "markdown",
   "id": "792ae35f",
   "metadata": {},
   "source": [
    "## 1. Descripción del corpus"
   ]
  },
  {
   "cell_type": "markdown",
   "id": "037d3195",
   "metadata": {},
   "source": [
    "### Librerias"
   ]
  },
  {
   "cell_type": "code",
   "execution_count": 49,
   "id": "29a2d53f",
   "metadata": {},
   "outputs": [],
   "source": [
    "# Librerias\n",
    "import re\n",
    "import nltk\n",
    "import ftfy\n",
    "import pandas as pd\n",
    "\n",
    "from collections import Counter\n",
    "from nltk.corpus import stopwords"
   ]
  },
  {
   "cell_type": "code",
   "execution_count": 51,
   "id": "dc451d68",
   "metadata": {},
   "outputs": [
    {
     "name": "stderr",
     "output_type": "stream",
     "text": [
      "[nltk_data] Downloading package stopwords to\n",
      "[nltk_data]     /home/diego23/nltk_data...\n",
      "[nltk_data]   Unzipping corpora/stopwords.zip.\n"
     ]
    },
    {
     "data": {
      "text/plain": [
       "True"
      ]
     },
     "execution_count": 51,
     "metadata": {},
     "output_type": "execute_result"
    }
   ],
   "source": [
    "nltk.download(\"stopwords\")"
   ]
  },
  {
   "cell_type": "markdown",
   "id": "d3bc98d5",
   "metadata": {},
   "source": [
    "### Número de documentos, tokens y vocabulario."
   ]
  },
  {
   "cell_type": "code",
   "execution_count": 15,
   "id": "7fc810a4",
   "metadata": {},
   "outputs": [
    {
     "name": "stdout",
     "output_type": "stream",
     "text": [
      "Columnas disponibles: ['Review', 'Polarity', 'Town', 'Region', 'Type']\n",
      "Número de documentos: 5000\n"
     ]
    },
    {
     "data": {
      "application/vnd.microsoft.datawrangler.viewer.v0+json": {
       "columns": [
        {
         "name": "index",
         "rawType": "int64",
         "type": "integer"
        },
        {
         "name": "Review",
         "rawType": "object",
         "type": "string"
        },
        {
         "name": "Polarity",
         "rawType": "float64",
         "type": "float"
        },
        {
         "name": "Town",
         "rawType": "object",
         "type": "string"
        },
        {
         "name": "Region",
         "rawType": "object",
         "type": "string"
        },
        {
         "name": "Type",
         "rawType": "object",
         "type": "string"
        }
       ],
       "ref": "522b45d4-bed0-4ef0-996e-a746ba186b42",
       "rows": [
        [
         "0",
         "Un Restaurante te invita por su ambiente tan alegre,.pero al sentarte los meseros te apuran al tomar tu orden, y luego al llevarte tu orden se olvidan de ti.\nLa comida esta buena.\nHay estacionamiento.\nY no estaba lleno y aun asi nos descuidaron mucho....Más",
         "2.0",
         "Tlaquepaque",
         "Jalisco",
         "Restaurant"
        ],
        [
         "1",
         "Pagamos 25 pesos por la entrada y no es gran cosa. Lo único bueno es que no habia nadie, pero hay lugares mucho mas bonitos para bañarse en la laguna que son gratuitos.",
         "3.0",
         "Bacalar",
         "QuintanaRoo",
         "Attractive"
        ],
        [
         "2",
         "Mi esposa y yo nos alojamos en el Dreams por 4 días en enero de 2016. Primero tengo que decir que el complejo era muy agradable y las instalaciones parecía muy bien cuidados. Teníamos una habitación con vistas al océano, que era agradable. La zona de gimnasio también estaba bien, tenían unas cuantas cintas y algunas pesas. Probamos a la orden tarde noche servicio de habitación varias veces y no podíamos conseguir que nadie contesta el teléfono que era frustrante.  Comida: yo estaba bastante decepcionado con la comida aquí. La comida en la piscina parecía que estaban camino a largo y no le importaba. Tuvimos un par de buenas comidas tacos/burritos, pero en general no me impresionó. Yo estaba frustrado con el código de vestimenta, tengo un tanque superior y que no me asiento pero",
         "3.0",
         "Tulum",
         "QuintanaRoo",
         "Hotel"
        ],
        [
         "3",
         "La única decepción puede no ser José Cuervo, pero fue realmente una mala experiencia para nosotros. Resultó que conseguimos blue vs acanalado elástico u otro medio para ceñir púrpura, y sólo la cintura blye puede hacer la degustación en la bodega y el comedor. De hecho reservamos la excursión por el conserje en el hotel Riu, y fue confirmado por el conserje durante la reserva que la prueba está incluido. Sin embargo, con toda la emoción con ganas de la cata, nos dijeron que fuera de la bodega al final del tour de la fábrica que compramos el grado inferior tour y no nos permitieron hacer la degustación. Queríamos volver pero fue rechazada. Lo que empeoró las cosas era, nos hicieron desde fuera la bodega viendo otros disfrutando de la degustación como un \"favor\" para nosotros. Estamos bastante seguros había graciosas negocios entre el conserje y los operadores turísticos. Pero Josr Cuervo debería haber nos informó que la diferencia whistband antes de que el tour comenzó, no justo antes de que la sesión de degustación. Una muy mala experiencia de tequila.",
         "2.0",
         "Tequila",
         "Jalisco",
         "Attractive"
        ],
        [
         "4",
         "Cuando leí los comentarios sobre cómo son las cosas, grosero ellos creen que el personal de este hotel son súper antipático e incluso grosero. Eres una molestia para ellos simplemente estar allí, olvídate si tienes que pedir algo tan sencillo como llamar a un taxi o necesita una toalla o simplemente saludando, que nunca están contentos de verte! Hay gente que vive en este hotel, se podía ver en las habitaciones y apartamentos tienen completo con mucha animales vivos dentro, me encanta los animales, pero no esperaba que ellos corriendo por los pasillos. El desayuno estaba incluido, pero no muy bueno. Puedes conseguir en Internet, pero sólo cerca de la oficina, no en la habitación. Estancia aquí! !",
         "1.0",
         "Isla_Mujeres",
         "QuintanaRoo",
         "Hotel"
        ]
       ],
       "shape": {
        "columns": 5,
        "rows": 5
       }
      },
      "text/html": [
       "<div>\n",
       "<style scoped>\n",
       "    .dataframe tbody tr th:only-of-type {\n",
       "        vertical-align: middle;\n",
       "    }\n",
       "\n",
       "    .dataframe tbody tr th {\n",
       "        vertical-align: top;\n",
       "    }\n",
       "\n",
       "    .dataframe thead th {\n",
       "        text-align: right;\n",
       "    }\n",
       "</style>\n",
       "<table border=\"1\" class=\"dataframe\">\n",
       "  <thead>\n",
       "    <tr style=\"text-align: right;\">\n",
       "      <th></th>\n",
       "      <th>Review</th>\n",
       "      <th>Polarity</th>\n",
       "      <th>Town</th>\n",
       "      <th>Region</th>\n",
       "      <th>Type</th>\n",
       "    </tr>\n",
       "  </thead>\n",
       "  <tbody>\n",
       "    <tr>\n",
       "      <th>0</th>\n",
       "      <td>Un Restaurante te invita por su ambiente tan a...</td>\n",
       "      <td>2.0</td>\n",
       "      <td>Tlaquepaque</td>\n",
       "      <td>Jalisco</td>\n",
       "      <td>Restaurant</td>\n",
       "    </tr>\n",
       "    <tr>\n",
       "      <th>1</th>\n",
       "      <td>Pagamos 25 pesos por la entrada y no es gran c...</td>\n",
       "      <td>3.0</td>\n",
       "      <td>Bacalar</td>\n",
       "      <td>QuintanaRoo</td>\n",
       "      <td>Attractive</td>\n",
       "    </tr>\n",
       "    <tr>\n",
       "      <th>2</th>\n",
       "      <td>Mi esposa y yo nos alojamos en el Dreams por 4...</td>\n",
       "      <td>3.0</td>\n",
       "      <td>Tulum</td>\n",
       "      <td>QuintanaRoo</td>\n",
       "      <td>Hotel</td>\n",
       "    </tr>\n",
       "    <tr>\n",
       "      <th>3</th>\n",
       "      <td>La única decepción puede no ser José Cuervo, p...</td>\n",
       "      <td>2.0</td>\n",
       "      <td>Tequila</td>\n",
       "      <td>Jalisco</td>\n",
       "      <td>Attractive</td>\n",
       "    </tr>\n",
       "    <tr>\n",
       "      <th>4</th>\n",
       "      <td>Cuando leí los comentarios sobre cómo son las ...</td>\n",
       "      <td>1.0</td>\n",
       "      <td>Isla_Mujeres</td>\n",
       "      <td>QuintanaRoo</td>\n",
       "      <td>Hotel</td>\n",
       "    </tr>\n",
       "  </tbody>\n",
       "</table>\n",
       "</div>"
      ],
      "text/plain": [
       "                                              Review  Polarity          Town  \\\n",
       "0  Un Restaurante te invita por su ambiente tan a...       2.0   Tlaquepaque   \n",
       "1  Pagamos 25 pesos por la entrada y no es gran c...       3.0       Bacalar   \n",
       "2  Mi esposa y yo nos alojamos en el Dreams por 4...       3.0         Tulum   \n",
       "3  La única decepción puede no ser José Cuervo, p...       2.0       Tequila   \n",
       "4  Cuando leí los comentarios sobre cómo son las ...       1.0  Isla_Mujeres   \n",
       "\n",
       "        Region        Type  \n",
       "0      Jalisco  Restaurant  \n",
       "1  QuintanaRoo  Attractive  \n",
       "2  QuintanaRoo       Hotel  \n",
       "3      Jalisco  Attractive  \n",
       "4  QuintanaRoo       Hotel  "
      ]
     },
     "execution_count": 15,
     "metadata": {},
     "output_type": "execute_result"
    }
   ],
   "source": [
    "# Configuracion\n",
    "csv_path = \"../data/raw/MeIA_2025_train.csv\"\n",
    "text_col = \"Review\"\n",
    "classes = [\"Polarity\", \"Town\", \"Region\", \"Type\"]\n",
    "\n",
    "# Cargamos el dataset y elegimos codificacion\n",
    "df = pd.read_csv(csv_path, encoding='utf-8')\n",
    "\n",
    "# Limpiamos un poco\n",
    "df = df.dropna(subset=[text_col])                 # Elimina valores NaN\n",
    "df = df[df[text_col].str.strip().ne(\"\")]          # Elimina strings vacios\n",
    "df.reset_index(drop=True, inplace=True)\n",
    "\n",
    "# Imprimimos resultados\n",
    "print(\"Columnas disponibles:\", df.columns.tolist())\n",
    "print(\"Número de documentos:\", len(df))\n",
    "\n",
    "# Visualizamos el df\n",
    "df.head()"
   ]
  },
  {
   "cell_type": "code",
   "execution_count": null,
   "id": "3def602a",
   "metadata": {},
   "outputs": [
    {
     "name": "stdout",
     "output_type": "stream",
     "text": [
      "Número de 'Ã' antes de ftfy: 731\n",
      "Número de 'Ã' después de ftfy: 0\n",
      "Ejemplos de artefactos restantes después de limpiar: 3\n"
     ]
    }
   ],
   "source": [
    "# Contamos los mojibakes \"Ã\"\n",
    "count_before = df[text_col].astype(str).str.count(\"Ã\").sum()\n",
    "print(f\"Número de 'Ã' antes de ftfy: {count_before}\")\n",
    "\n",
    "# Aplicamos ftfy\n",
    "df[\"Review_clean\"] = df[text_col].apply(ftfy.fix_text)\n",
    "\n",
    "# Contamos de nuevo después\n",
    "count_after = df[\"Review_clean\"].astype(str).str.count(\"Ã\").sum()\n",
    "print(f\"Número de 'Ã' después de ftfy: {count_after}\")\n",
    "\n",
    "# Removemos casos tipo \"...Mas\" al final del texto por scrapeo\n",
    "def remove_scrape_artifacts(text: str):\n",
    "    if not isinstance(text, str):\n",
    "        return text\n",
    "    return re.sub(r\"Más[\\s\\W]*$\", \"\", text)\n",
    "# Aplicamos\n",
    "df[\"Review_clean\"] = df[\"Review_clean\"].apply(remove_scrape_artifacts)\n",
    "\n",
    "# Verificamos\n",
    "examples_after = df[df[\"Review_clean\"].str.contains(r\"\\.\\.\\..*Mas\", na=False)]\n",
    "print(\"Ejemplos de artefactos restantes después de limpiar:\", len(examples_after))"
   ]
  },
  {
   "cell_type": "code",
   "execution_count": 44,
   "id": "da2634d0",
   "metadata": {},
   "outputs": [
    {
     "name": "stdout",
     "output_type": "stream",
     "text": [
      "Total de tokens en el corpus: 348935\n",
      "Tamaño del vocabulario: 19517\n"
     ]
    }
   ],
   "source": [
    "# Creamos una expresion regular para tokenizar palabras en español\n",
    "WORD_RE = re.compile(r\"[A-Za-zÁÉÍÓÚÜÑáéíóúüñ]+(?:[-'][A-Za-zÁÉÍÓÚÜÑáéíóúüñ]+)?\")\n",
    "\n",
    "# Realizamos la tokenizacion\n",
    "def tokenize(text: str):\n",
    "    if not isinstance(text, str):\n",
    "        return []\n",
    "    text = text.lower()  # Pasamos a minúsculas\n",
    "    return WORD_RE.findall(text)\n",
    "\n",
    "# Aplicamos tokenización sobre la columna limpia\n",
    "df[\"tokens\"] = df[\"Review_clean\"].apply(tokenize)\n",
    "df[\"n_tokens\"] = df[\"tokens\"].apply(len)\n",
    "\n",
    "# Contamos tokens en todo el corpus\n",
    "token_counts = Counter()\n",
    "for toks in df[\"tokens\"]:\n",
    "    token_counts.update(toks)\n",
    "\n",
    "# Total de tokens (con repeticiones)\n",
    "total_tokens = sum(token_counts.values())\n",
    "\n",
    "# Vocabulario (palabras únicas)\n",
    "vocab_size = len(token_counts)\n",
    "\n",
    "print(f\"Total de tokens en el corpus: {total_tokens}\")\n",
    "print(f\"Tamaño del vocabulario: {vocab_size}\")"
   ]
  },
  {
   "cell_type": "markdown",
   "id": "ec237d9a",
   "metadata": {},
   "source": [
    "### Hapax legomena y su proporción."
   ]
  },
  {
   "cell_type": "code",
   "execution_count": 48,
   "id": "43de9836",
   "metadata": {},
   "outputs": [
    {
     "name": "stdout",
     "output_type": "stream",
     "text": [
      "Hapax (freq=1): 9957\n",
      "Proporción hapax / vocabulario: 0.5102\n",
      "Proporción hapax / tokens: 0.0285\n"
     ]
    },
    {
     "data": {
      "application/vnd.microsoft.datawrangler.viewer.v0+json": {
       "columns": [
        {
         "name": "index",
         "rawType": "int64",
         "type": "integer"
        },
        {
         "name": "Ejemplos de hapax (20)",
         "rawType": "object",
         "type": "string"
        }
       ],
       "ref": "f4f62766-c575-4abb-b88d-18f453d31264",
       "rows": [
        [
         "0",
         "apuran"
        ],
        [
         "1",
         "descuidaron"
        ],
        [
         "2",
         "pesas"
        ],
        [
         "3",
         "frustrado"
        ],
        [
         "4",
         "acanalado"
        ],
        [
         "5",
         "elástico"
        ],
        [
         "6",
         "ceñir"
        ],
        [
         "7",
         "púrpura"
        ],
        [
         "8",
         "cintura"
        ],
        [
         "9",
         "blye"
        ],
        [
         "10",
         "rechazada"
        ],
        [
         "11",
         "josr"
        ],
        [
         "12",
         "whistband"
        ],
        [
         "13",
         "sesión"
        ],
        [
         "14",
         "verte"
        ],
        [
         "15",
         "cofradia"
        ],
        [
         "16",
         "reposa"
        ],
        [
         "17",
         "resguardar"
        ],
        [
         "18",
         "temrinabamos"
        ],
        [
         "19",
         "vacia"
        ]
       ],
       "shape": {
        "columns": 1,
        "rows": 20
       }
      },
      "text/html": [
       "<div>\n",
       "<style scoped>\n",
       "    .dataframe tbody tr th:only-of-type {\n",
       "        vertical-align: middle;\n",
       "    }\n",
       "\n",
       "    .dataframe tbody tr th {\n",
       "        vertical-align: top;\n",
       "    }\n",
       "\n",
       "    .dataframe thead th {\n",
       "        text-align: right;\n",
       "    }\n",
       "</style>\n",
       "<table border=\"1\" class=\"dataframe\">\n",
       "  <thead>\n",
       "    <tr style=\"text-align: right;\">\n",
       "      <th></th>\n",
       "      <th>Ejemplos de hapax (20)</th>\n",
       "    </tr>\n",
       "  </thead>\n",
       "  <tbody>\n",
       "    <tr>\n",
       "      <th>0</th>\n",
       "      <td>apuran</td>\n",
       "    </tr>\n",
       "    <tr>\n",
       "      <th>1</th>\n",
       "      <td>descuidaron</td>\n",
       "    </tr>\n",
       "    <tr>\n",
       "      <th>2</th>\n",
       "      <td>pesas</td>\n",
       "    </tr>\n",
       "    <tr>\n",
       "      <th>3</th>\n",
       "      <td>frustrado</td>\n",
       "    </tr>\n",
       "    <tr>\n",
       "      <th>4</th>\n",
       "      <td>acanalado</td>\n",
       "    </tr>\n",
       "    <tr>\n",
       "      <th>5</th>\n",
       "      <td>elástico</td>\n",
       "    </tr>\n",
       "    <tr>\n",
       "      <th>6</th>\n",
       "      <td>ceñir</td>\n",
       "    </tr>\n",
       "    <tr>\n",
       "      <th>7</th>\n",
       "      <td>púrpura</td>\n",
       "    </tr>\n",
       "    <tr>\n",
       "      <th>8</th>\n",
       "      <td>cintura</td>\n",
       "    </tr>\n",
       "    <tr>\n",
       "      <th>9</th>\n",
       "      <td>blye</td>\n",
       "    </tr>\n",
       "    <tr>\n",
       "      <th>10</th>\n",
       "      <td>rechazada</td>\n",
       "    </tr>\n",
       "    <tr>\n",
       "      <th>11</th>\n",
       "      <td>josr</td>\n",
       "    </tr>\n",
       "    <tr>\n",
       "      <th>12</th>\n",
       "      <td>whistband</td>\n",
       "    </tr>\n",
       "    <tr>\n",
       "      <th>13</th>\n",
       "      <td>sesión</td>\n",
       "    </tr>\n",
       "    <tr>\n",
       "      <th>14</th>\n",
       "      <td>verte</td>\n",
       "    </tr>\n",
       "    <tr>\n",
       "      <th>15</th>\n",
       "      <td>cofradia</td>\n",
       "    </tr>\n",
       "    <tr>\n",
       "      <th>16</th>\n",
       "      <td>reposa</td>\n",
       "    </tr>\n",
       "    <tr>\n",
       "      <th>17</th>\n",
       "      <td>resguardar</td>\n",
       "    </tr>\n",
       "    <tr>\n",
       "      <th>18</th>\n",
       "      <td>temrinabamos</td>\n",
       "    </tr>\n",
       "    <tr>\n",
       "      <th>19</th>\n",
       "      <td>vacia</td>\n",
       "    </tr>\n",
       "  </tbody>\n",
       "</table>\n",
       "</div>"
      ],
      "text/plain": [
       "   Ejemplos de hapax (20)\n",
       "0                  apuran\n",
       "1             descuidaron\n",
       "2                   pesas\n",
       "3               frustrado\n",
       "4               acanalado\n",
       "5                elástico\n",
       "6                   ceñir\n",
       "7                 púrpura\n",
       "8                 cintura\n",
       "9                    blye\n",
       "10              rechazada\n",
       "11                   josr\n",
       "12              whistband\n",
       "13                 sesión\n",
       "14                  verte\n",
       "15               cofradia\n",
       "16                 reposa\n",
       "17             resguardar\n",
       "18           temrinabamos\n",
       "19                  vacia"
      ]
     },
     "execution_count": 48,
     "metadata": {},
     "output_type": "execute_result"
    }
   ],
   "source": [
    "# Hapax = términos con frecuencia 1\n",
    "hapax_list = [t for t, c in token_counts.items() if c == 1]\n",
    "hapax_count = len(hapax_list)\n",
    "\n",
    "# Proporción de hapax sobre vocabulario (qué fracción del vocab son hapax)\n",
    "hapax_prop_over_vocab = hapax_count / max(len(token_counts), 1)\n",
    "\n",
    "# Proporción de hapax sobre tokens (qué fracción de todos los tokens son hapax)\n",
    "hapax_prop_over_tokens = hapax_count / max(total_tokens, 1)\n",
    "\n",
    "print(f\"Hapax (freq=1): {hapax_count}\")\n",
    "print(f\"Proporción hapax / vocabulario: {hapax_prop_over_vocab:.4f}\")\n",
    "print(f\"Proporción hapax / tokens: {hapax_prop_over_tokens:.4f}\")\n",
    "\n",
    "# (Opcional) Ver algunos ejemplos de hapax\n",
    "pd.Series(hapax_list[:20], name=\"Ejemplos de hapax (20)\").to_frame()"
   ]
  },
  {
   "cell_type": "markdown",
   "id": "9efe4ccb",
   "metadata": {},
   "source": [
    "### Porcentaje de stopwords."
   ]
  },
  {
   "cell_type": "code",
   "execution_count": null,
   "id": "33cc4be9",
   "metadata": {},
   "outputs": [
    {
     "name": "stdout",
     "output_type": "stream",
     "text": [
      "Total de stopwords en el corpus: 175571\n",
      "Porcentaje de stopwords sobre tokens: 50.32%\n"
     ]
    },
    {
     "data": {
      "application/vnd.microsoft.datawrangler.viewer.v0+json": {
       "columns": [
        {
         "name": "index",
         "rawType": "int64",
         "type": "integer"
        },
        {
         "name": "tokens",
         "rawType": "object",
         "type": "unknown"
        },
        {
         "name": "stop_tokens",
         "rawType": "object",
         "type": "unknown"
        }
       ],
       "ref": "26ff8101-05dd-4864-bc75-cf4fe3ae9b4d",
       "rows": [
        [
         "0",
         "['un', 'restaurante', 'te', 'invita', 'por', 'su', 'ambiente', 'tan', 'alegre', 'pero', 'al', 'sentarte', 'los', 'meseros', 'te', 'apuran', 'al', 'tomar', 'tu', 'orden', 'y', 'luego', 'al', 'llevarte', 'tu', 'orden', 'se', 'olvidan', 'de', 'ti', 'la', 'comida', 'esta', 'buena', 'hay', 'estacionamiento', 'y', 'no', 'estaba', 'lleno', 'y', 'aun', 'asi', 'nos', 'descuidaron', 'mucho']",
         "['un', 'te', 'por', 'su', 'pero', 'al', 'los', 'te', 'al', 'tu', 'y', 'al', 'tu', 'se', 'de', 'ti', 'la', 'esta', 'hay', 'y', 'no', 'estaba', 'y', 'nos', 'mucho']"
        ],
        [
         "1",
         "['pagamos', 'pesos', 'por', 'la', 'entrada', 'y', 'no', 'es', 'gran', 'cosa', 'lo', 'único', 'bueno', 'es', 'que', 'no', 'habia', 'nadie', 'pero', 'hay', 'lugares', 'mucho', 'mas', 'bonitos', 'para', 'bañarse', 'en', 'la', 'laguna', 'que', 'son', 'gratuitos']",
         "['por', 'la', 'y', 'no', 'es', 'lo', 'es', 'que', 'no', 'pero', 'hay', 'mucho', 'para', 'en', 'la', 'que', 'son']"
        ],
        [
         "2",
         "['mi', 'esposa', 'y', 'yo', 'nos', 'alojamos', 'en', 'el', 'dreams', 'por', 'días', 'en', 'enero', 'de', 'primero', 'tengo', 'que', 'decir', 'que', 'el', 'complejo', 'era', 'muy', 'agradable', 'y', 'las', 'instalaciones', 'parecía', 'muy', 'bien', 'cuidados', 'teníamos', 'una', 'habitación', 'con', 'vistas', 'al', 'océano', 'que', 'era', 'agradable', 'la', 'zona', 'de', 'gimnasio', 'también', 'estaba', 'bien', 'tenían', 'unas', 'cuantas', 'cintas', 'y', 'algunas', 'pesas', 'probamos', 'a', 'la', 'orden', 'tarde', 'noche', 'servicio', 'de', 'habitación', 'varias', 'veces', 'y', 'no', 'podíamos', 'conseguir', 'que', 'nadie', 'contesta', 'el', 'teléfono', 'que', 'era', 'frustrante', 'comida', 'yo', 'estaba', 'bastante', 'decepcionado', 'con', 'la', 'comida', 'aquí', 'la', 'comida', 'en', 'la', 'piscina', 'parecía', 'que', 'estaban', 'camino', 'a', 'largo', 'y', 'no', 'le', 'importaba', 'tuvimos', 'un', 'par', 'de', 'buenas', 'comidas', 'tacos', 'burritos', 'pero', 'en', 'general', 'no', 'me', 'impresionó', 'yo', 'estaba', 'frustrado', 'con', 'el', 'código', 'de', 'vestimenta', 'tengo', 'un', 'tanque', 'superior', 'y', 'que', 'no', 'me', 'asiento', 'pero']",
         "['mi', 'y', 'yo', 'nos', 'en', 'el', 'por', 'en', 'de', 'tengo', 'que', 'que', 'el', 'era', 'muy', 'y', 'las', 'muy', 'teníamos', 'una', 'con', 'al', 'que', 'era', 'la', 'de', 'también', 'estaba', 'tenían', 'y', 'algunas', 'a', 'la', 'de', 'y', 'no', 'que', 'el', 'que', 'era', 'yo', 'estaba', 'con', 'la', 'la', 'en', 'la', 'que', 'estaban', 'a', 'y', 'no', 'le', 'tuvimos', 'un', 'de', 'pero', 'en', 'no', 'me', 'yo', 'estaba', 'con', 'el', 'de', 'tengo', 'un', 'y', 'que', 'no', 'me', 'pero']"
        ],
        [
         "3",
         "['la', 'única', 'decepción', 'puede', 'no', 'ser', 'josé', 'cuervo', 'pero', 'fue', 'realmente', 'una', 'mala', 'experiencia', 'para', 'nosotros', 'resultó', 'que', 'conseguimos', 'blue', 'vs', 'acanalado', 'elástico', 'u', 'otro', 'medio', 'para', 'ceñir', 'púrpura', 'y', 'sólo', 'la', 'cintura', 'blye', 'puede', 'hacer', 'la', 'degustación', 'en', 'la', 'bodega', 'y', 'el', 'comedor', 'de', 'hecho', 'reservamos', 'la', 'excursión', 'por', 'el', 'conserje', 'en', 'el', 'hotel', 'riu', 'y', 'fue', 'confirmado', 'por', 'el', 'conserje', 'durante', 'la', 'reserva', 'que', 'la', 'prueba', 'está', 'incluido', 'sin', 'embargo', 'con', 'toda', 'la', 'emoción', 'con', 'ganas', 'de', 'la', 'cata', 'nos', 'dijeron', 'que', 'fuera', 'de', 'la', 'bodega', 'al', 'final', 'del', 'tour', 'de', 'la', 'fábrica', 'que', 'compramos', 'el', 'grado', 'inferior', 'tour', 'y', 'no', 'nos', 'permitieron', 'hacer', 'la', 'degustación', 'queríamos', 'volver', 'pero', 'fue', 'rechazada', 'lo', 'que', 'empeoró', 'las', 'cosas', 'era', 'nos', 'hicieron', 'desde', 'fuera', 'la', 'bodega', 'viendo', 'otros', 'disfrutando', 'de', 'la', 'degustación', 'como', 'un', 'favor', 'para', 'nosotros', 'estamos', 'bastante', 'seguros', 'había', 'graciosas', 'negocios', 'entre', 'el', 'conserje', 'y', 'los', 'operadores', 'turísticos', 'pero', 'josr', 'cuervo', 'debería', 'haber', 'nos', 'informó', 'que', 'la', 'diferencia', 'whistband', 'antes', 'de', 'que', 'el', 'tour', 'comenzó', 'no', 'justo', 'antes', 'de', 'que', 'la', 'sesión', 'de', 'degustación', 'una', 'muy', 'mala', 'experiencia', 'de', 'tequila']",
         "['la', 'no', 'pero', 'fue', 'una', 'para', 'nosotros', 'que', 'otro', 'para', 'y', 'la', 'la', 'en', 'la', 'y', 'el', 'de', 'la', 'por', 'el', 'en', 'el', 'y', 'fue', 'por', 'el', 'durante', 'la', 'que', 'la', 'está', 'sin', 'con', 'la', 'con', 'de', 'la', 'nos', 'que', 'fuera', 'de', 'la', 'al', 'del', 'de', 'la', 'que', 'el', 'y', 'no', 'nos', 'la', 'pero', 'fue', 'lo', 'que', 'las', 'era', 'nos', 'desde', 'fuera', 'la', 'otros', 'de', 'la', 'como', 'un', 'para', 'nosotros', 'estamos', 'había', 'entre', 'el', 'y', 'los', 'pero', 'nos', 'que', 'la', 'antes', 'de', 'que', 'el', 'no', 'antes', 'de', 'que', 'la', 'de', 'una', 'muy', 'de']"
        ],
        [
         "4",
         "['cuando', 'leí', 'los', 'comentarios', 'sobre', 'cómo', 'son', 'las', 'cosas', 'grosero', 'ellos', 'creen', 'que', 'el', 'personal', 'de', 'este', 'hotel', 'son', 'súper', 'antipático', 'e', 'incluso', 'grosero', 'eres', 'una', 'molestia', 'para', 'ellos', 'simplemente', 'estar', 'allí', 'olvídate', 'si', 'tienes', 'que', 'pedir', 'algo', 'tan', 'sencillo', 'como', 'llamar', 'a', 'un', 'taxi', 'o', 'necesita', 'una', 'toalla', 'o', 'simplemente', 'saludando', 'que', 'nunca', 'están', 'contentos', 'de', 'verte', 'hay', 'gente', 'que', 'vive', 'en', 'este', 'hotel', 'se', 'podía', 'ver', 'en', 'las', 'habitaciones', 'y', 'apartamentos', 'tienen', 'completo', 'con', 'mucha', 'animales', 'vivos', 'dentro', 'me', 'encanta', 'los', 'animales', 'pero', 'no', 'esperaba', 'que', 'ellos', 'corriendo', 'por', 'los', 'pasillos', 'el', 'desayuno', 'estaba', 'incluido', 'pero', 'no', 'muy', 'bueno', 'puedes', 'conseguir', 'en', 'internet', 'pero', 'sólo', 'cerca', 'de', 'la', 'oficina', 'no', 'en', 'la', 'habitación', 'estancia', 'aquí']",
         "['cuando', 'los', 'sobre', 'son', 'las', 'ellos', 'que', 'el', 'de', 'este', 'son', 'e', 'eres', 'una', 'para', 'ellos', 'estar', 'tienes', 'que', 'algo', 'como', 'a', 'un', 'o', 'una', 'o', 'que', 'están', 'de', 'hay', 'que', 'en', 'este', 'se', 'en', 'las', 'y', 'tienen', 'con', 'me', 'los', 'pero', 'no', 'que', 'ellos', 'por', 'los', 'el', 'estaba', 'pero', 'no', 'muy', 'en', 'pero', 'de', 'la', 'no', 'en', 'la']"
        ],
        [
         "5",
         "['durante', 'la', 'cata', 'compre', 'una', 'botella', 'de', 'tequila', 'la', 'cofradia', 'reposa', 'en', 'pesos', 'la', 'guía', 'se', 'ofreció', 'a', 'resguardar', 'la', 'botella', 'mientras', 'temrinabamos', 'la', 'cata', 'al', 'dia', 'de', 'dejar', 'el', 'hotel', 'pase', 'por', 'mi', 'botella', 'y', 'me', 'la', 'entregaron', 'vacia', 'y', 'rota', 'nadie', 'se', 'hizo', 'responsable', 'muy', 'buena', 'experiencia', 'pero', 'muy', 'mal', 'que', 'no', 'se', 'hagan', 'responsables']",
         "['durante', 'la', 'una', 'de', 'la', 'en', 'la', 'se', 'a', 'la', 'la', 'al', 'de', 'el', 'por', 'mi', 'y', 'me', 'la', 'y', 'se', 'muy', 'pero', 'muy', 'que', 'no', 'se']"
        ],
        [
         "6",
         "['la', 'verdad', 'muy', 'costosa', 'la', 'entrada', 'pesos', 'mexicanos', 'por', 'persona', 'mucho', 'mejor', 'el', 'cenote', 'azul', 'en', 'bacalar', 'donde', 'solo', 'se', 'pagan', 'pesos', 'por', 'ingresar', 'es', 'mucho', 'más', 'cómodo', 'en', 'todos', 'los', 'sentidos', 'la', 'verdad', 'no', 'lo', 'recomiendo', 'en', 'absoluto', 'adicionalmente', 'se', 'aglomeran', 'muchas', 'personas', 'y', 'ahorita', 'en', 'tiempos', 'de', 'pandemia', 'se', 'debe', 'tener', 'en', 'cuenta']",
         "['la', 'muy', 'la', 'por', 'mucho', 'el', 'en', 'donde', 'se', 'por', 'es', 'mucho', 'más', 'en', 'todos', 'los', 'sentidos', 'la', 'no', 'lo', 'en', 'se', 'y', 'en', 'de', 'se', 'en']"
        ],
        [
         "7",
         "['el', 'lugar', 'está', 'decorado', 'muy', 'bonito', 'tiene', 'mesas', 'al', 'interior', 'y', 'afuera', 'van', 'cambiando', 'el', 'menú', 'cada', 'semana', 'pero', 'lo', 'que', 'nos', 'tocó', 'a', 'nosotros', 'nada', 'rico', 'los', 'niños', 'pidieron', 'un', 'ribeye', 'y', 'estaba', 'duro', 'incomible', 'no', 'se', 'podía', 'ni', 'partir', 'el', 'servicio', 'muy', 'bueno']",
         "['el', 'está', 'muy', 'tiene', 'al', 'y', 'el', 'pero', 'lo', 'que', 'nos', 'a', 'nosotros', 'nada', 'los', 'un', 'y', 'estaba', 'no', 'se', 'ni', 'el', 'muy']"
        ],
        [
         "8",
         "['hace', 'tiempo', 'que', 'fui', 'al', 'restaurante', 'de', 'este', 'hotel', 'que', 'es', 'muy', 'bonito', 'y', 'agradable', 'el', 'servicio', 'fue', 'bueno', 'pero', 'los', 'platillos', 'no', 'fueron', 'los', 'mejores', 'el', 'pollo', 'que', 'pedí', 'estaba', 'muy', 'seco', 'la', 'salsa', 'que', 'servician', 'con', 'macadamia', 'estaba', 'muy', 'buena', 'que', 'fue', 'lo']",
         "['que', 'fui', 'al', 'de', 'este', 'que', 'es', 'muy', 'y', 'el', 'fue', 'pero', 'los', 'no', 'fueron', 'los', 'el', 'que', 'estaba', 'muy', 'la', 'que', 'con', 'estaba', 'muy', 'que', 'fue', 'lo']"
        ],
        [
         "9",
         "['primero', 'de', 'todo', 'el', 'hotel', 'está', 'situado', 'en', 'una', 'buena', 'ubicación', 'el', 'personal', 'es', 'muy', 'amable', 'y', 'servicial', 'el', 'restaurante', 'sirve', 'muy', 'buena', 'comida', 'y', 'el', 'servicio', 'es', 'fantástico', 'nos', 'quedamos', 'sólo', 'una', 'noche', 'volvimos', 'dos', 'veces', 'para', 'comer', 'nos', 'dieron', 'una', 'suite', 'junior', 'de', 'nivel', 'superior', 'espaciosas', 'un', 'gran', 'balcón', 'con', 'vistas', 'al', 'mar', 'no', 'hay', 'armario', 'ropero', 'sólo', 'un', 'bar', 'en', 'la', 'pared', 'con', 'pocos', 'hanger-abrigo', 'la', 'habitación', 'está', 'llena', 'de', 'luz', 'debido', 'a', 'la', 'gran', 'ventana', 'delantera', 'y', 'la', 'parte', 'trasera', 'de', 'ventana', 'y', 'sí', 'va', 'a', 'ser', 'muy', 'caliente', 'el', 'pequeño', 'ruidoso', 'ventilador', 'encima', 'de', 'la', 'cama', 'no', 'ayuda', 'mucho', 'nos', 'las', 'arreglamos', 'para', 'dejar', 'las', 'ventanas', 'abiertas', 'sus', 'puertas', 'a', 'pesar', 'de', 'que', 'era', 'bastante', 'viento', 'en', 'la', 'parte', 'de', 'arriba', 'de', 'que', 'tenemos', 'un', 'problema', 'con', 'el', 'baño', 'que', 'necesitaba', 'ser', 'reemplazado', 'el', 'día']",
         "['de', 'todo', 'el', 'está', 'en', 'una', 'el', 'es', 'muy', 'y', 'el', 'muy', 'y', 'el', 'es', 'nos', 'una', 'para', 'nos', 'una', 'de', 'un', 'con', 'al', 'no', 'hay', 'un', 'en', 'la', 'con', 'la', 'está', 'de', 'a', 'la', 'y', 'la', 'de', 'y', 'sí', 'a', 'muy', 'el', 'de', 'la', 'no', 'mucho', 'nos', 'las', 'para', 'las', 'sus', 'a', 'de', 'que', 'era', 'en', 'la', 'de', 'de', 'que', 'tenemos', 'un', 'con', 'el', 'que', 'el']"
        ]
       ],
       "shape": {
        "columns": 2,
        "rows": 10
       }
      },
      "text/html": [
       "<div>\n",
       "<style scoped>\n",
       "    .dataframe tbody tr th:only-of-type {\n",
       "        vertical-align: middle;\n",
       "    }\n",
       "\n",
       "    .dataframe tbody tr th {\n",
       "        vertical-align: top;\n",
       "    }\n",
       "\n",
       "    .dataframe thead th {\n",
       "        text-align: right;\n",
       "    }\n",
       "</style>\n",
       "<table border=\"1\" class=\"dataframe\">\n",
       "  <thead>\n",
       "    <tr style=\"text-align: right;\">\n",
       "      <th></th>\n",
       "      <th>tokens</th>\n",
       "      <th>stop_tokens</th>\n",
       "    </tr>\n",
       "  </thead>\n",
       "  <tbody>\n",
       "    <tr>\n",
       "      <th>0</th>\n",
       "      <td>[un, restaurante, te, invita, por, su, ambient...</td>\n",
       "      <td>[un, te, por, su, pero, al, los, te, al, tu, y...</td>\n",
       "    </tr>\n",
       "    <tr>\n",
       "      <th>1</th>\n",
       "      <td>[pagamos, pesos, por, la, entrada, y, no, es, ...</td>\n",
       "      <td>[por, la, y, no, es, lo, es, que, no, pero, ha...</td>\n",
       "    </tr>\n",
       "    <tr>\n",
       "      <th>2</th>\n",
       "      <td>[mi, esposa, y, yo, nos, alojamos, en, el, dre...</td>\n",
       "      <td>[mi, y, yo, nos, en, el, por, en, de, tengo, q...</td>\n",
       "    </tr>\n",
       "    <tr>\n",
       "      <th>3</th>\n",
       "      <td>[la, única, decepción, puede, no, ser, josé, c...</td>\n",
       "      <td>[la, no, pero, fue, una, para, nosotros, que, ...</td>\n",
       "    </tr>\n",
       "    <tr>\n",
       "      <th>4</th>\n",
       "      <td>[cuando, leí, los, comentarios, sobre, cómo, s...</td>\n",
       "      <td>[cuando, los, sobre, son, las, ellos, que, el,...</td>\n",
       "    </tr>\n",
       "    <tr>\n",
       "      <th>5</th>\n",
       "      <td>[durante, la, cata, compre, una, botella, de, ...</td>\n",
       "      <td>[durante, la, una, de, la, en, la, se, a, la, ...</td>\n",
       "    </tr>\n",
       "    <tr>\n",
       "      <th>6</th>\n",
       "      <td>[la, verdad, muy, costosa, la, entrada, pesos,...</td>\n",
       "      <td>[la, muy, la, por, mucho, el, en, donde, se, p...</td>\n",
       "    </tr>\n",
       "    <tr>\n",
       "      <th>7</th>\n",
       "      <td>[el, lugar, está, decorado, muy, bonito, tiene...</td>\n",
       "      <td>[el, está, muy, tiene, al, y, el, pero, lo, qu...</td>\n",
       "    </tr>\n",
       "    <tr>\n",
       "      <th>8</th>\n",
       "      <td>[hace, tiempo, que, fui, al, restaurante, de, ...</td>\n",
       "      <td>[que, fui, al, de, este, que, es, muy, y, el, ...</td>\n",
       "    </tr>\n",
       "    <tr>\n",
       "      <th>9</th>\n",
       "      <td>[primero, de, todo, el, hotel, está, situado, ...</td>\n",
       "      <td>[de, todo, el, está, en, una, el, es, muy, y, ...</td>\n",
       "    </tr>\n",
       "  </tbody>\n",
       "</table>\n",
       "</div>"
      ],
      "text/plain": [
       "                                              tokens  \\\n",
       "0  [un, restaurante, te, invita, por, su, ambient...   \n",
       "1  [pagamos, pesos, por, la, entrada, y, no, es, ...   \n",
       "2  [mi, esposa, y, yo, nos, alojamos, en, el, dre...   \n",
       "3  [la, única, decepción, puede, no, ser, josé, c...   \n",
       "4  [cuando, leí, los, comentarios, sobre, cómo, s...   \n",
       "5  [durante, la, cata, compre, una, botella, de, ...   \n",
       "6  [la, verdad, muy, costosa, la, entrada, pesos,...   \n",
       "7  [el, lugar, está, decorado, muy, bonito, tiene...   \n",
       "8  [hace, tiempo, que, fui, al, restaurante, de, ...   \n",
       "9  [primero, de, todo, el, hotel, está, situado, ...   \n",
       "\n",
       "                                         stop_tokens  \n",
       "0  [un, te, por, su, pero, al, los, te, al, tu, y...  \n",
       "1  [por, la, y, no, es, lo, es, que, no, pero, ha...  \n",
       "2  [mi, y, yo, nos, en, el, por, en, de, tengo, q...  \n",
       "3  [la, no, pero, fue, una, para, nosotros, que, ...  \n",
       "4  [cuando, los, sobre, son, las, ellos, que, el,...  \n",
       "5  [durante, la, una, de, la, en, la, se, a, la, ...  \n",
       "6  [la, muy, la, por, mucho, el, en, donde, se, p...  \n",
       "7  [el, está, muy, tiene, al, y, el, pero, lo, qu...  \n",
       "8  [que, fui, al, de, este, que, es, muy, y, el, ...  \n",
       "9  [de, todo, el, está, en, una, el, es, muy, y, ...  "
      ]
     },
     "execution_count": 52,
     "metadata": {},
     "output_type": "execute_result"
    }
   ],
   "source": [
    "# Lista de stopwords en español\n",
    "stopwords_es = set(stopwords.words(\"spanish\"))\n",
    "\n",
    "# Función para detectar stopwords\n",
    "def is_stopword(tok: str):\n",
    "    return tok in stopwords_es\n",
    "\n",
    "# Contamos stopwords en cada documento\n",
    "df[\"stop_tokens\"] = df[\"tokens\"].apply(lambda toks: [t for t in toks if is_stopword(t)])\n",
    "df[\"n_stop\"] = df[\"stop_tokens\"].apply(len)\n",
    "\n",
    "# Totales\n",
    "total_stop = df[\"n_stop\"].sum()\n",
    "stopword_pct = (total_stop / total_tokens) * 100\n",
    "\n",
    "print(f\"Total de stopwords en el corpus: {total_stop}\")\n",
    "print(f\"Porcentaje de stopwords sobre tokens: {stopword_pct:.2f}%\")\n",
    "\n",
    "# Ejemplos\n",
    "df[[\"tokens\", \"stop_tokens\"]].head(10)"
   ]
  },
  {
   "cell_type": "markdown",
   "id": "c58065be",
   "metadata": {},
   "source": [
    "### Estadı́sticas por clase (número de documentos, tokens y vocabulario)."
   ]
  },
  {
   "cell_type": "code",
   "execution_count": null,
   "id": "0876092e",
   "metadata": {},
   "outputs": [],
   "source": []
  },
  {
   "cell_type": "markdown",
   "id": "4617a3cf",
   "metadata": {},
   "source": [
    "## 2. Ley de Zipf "
   ]
  },
  {
   "cell_type": "markdown",
   "id": "39ece5d3",
   "metadata": {},
   "source": [
    "## 3. Palabras importantes por clase"
   ]
  },
  {
   "cell_type": "markdown",
   "id": "64171a58",
   "metadata": {},
   "source": [
    "## 4. Patrones gramaticales (POS 4-gramas)"
   ]
  },
  {
   "cell_type": "markdown",
   "metadata": {},
   "source": [
    "## 5. Representaciones BoW"
   ]
  },
  {
   "cell_type": "markdown",
   "metadata": {},
   "source": [
    "## 6. Bigramas"
   ]
  },
  {
   "cell_type": "markdown",
   "metadata": {},
   "source": [
    "## 7. Word2Vec y analogı́as"
   ]
  },
  {
   "cell_type": "markdown",
   "metadata": {},
   "source": [
    "## 8. Embeddings de documento y clusterización"
   ]
  },
  {
   "cell_type": "markdown",
   "id": "9bf7f1c7",
   "metadata": {},
   "source": [
    "## 9. Clasificación con partición 70/30"
   ]
  },
  {
   "cell_type": "markdown",
   "metadata": {},
   "source": [
    "## 10. LSA con 50 tópicos"
   ]
  }
 ],
 "metadata": {
  "kernelspec": {
   "display_name": ".nlpvenv",
   "language": "python",
   "name": "python3"
  },
  "language_info": {
   "codemirror_mode": {
    "name": "ipython",
    "version": 3
   },
   "file_extension": ".py",
   "mimetype": "text/x-python",
   "name": "python",
   "nbconvert_exporter": "python",
   "pygments_lexer": "ipython3",
   "version": "3.12.3"
  }
 },
 "nbformat": 4,
 "nbformat_minor": 5
}
